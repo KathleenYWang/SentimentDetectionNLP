{
 "cells": [
  {
   "cell_type": "markdown",
   "metadata": {},
   "source": [
    "The following codes  \n",
    "https://towardsdatascience.com/selenium-tweepy-to-scrap-tweets-from-tweeter-and-analysing-sentiments-1804db3478ac\n",
    "https://www.earthdatascience.org/courses/earth-analytics-python/using-apis-natural-language-processing-twitter/get-and-use-twitter-data-in-python/  \n",
    "https://medium.freecodecamp.org/how-to-make-your-own-sentiment-analyzer-using-python-and-googles-natural-language-api-9e91e1c493e  \n",
    "https://www.programcreek.com/python/example/76301/tweepy.Cursor\n"
   ]
  },
  {
   "cell_type": "code",
   "execution_count": 30,
   "metadata": {},
   "outputs": [],
   "source": [
    "# !pip3 install tweepy"
   ]
  },
  {
   "cell_type": "code",
   "execution_count": 16,
   "metadata": {},
   "outputs": [],
   "source": [
    "import os,sys,inspect\n",
    "current_dir = os.path.dirname(os.path.abspath(inspect.getfile(inspect.currentframe())))\n",
    "parent_dir = os.path.dirname(current_dir)\n",
    "sys.path.insert(0, parent_dir)\n",
    "import twitterkeys\n",
    "import tweepy\n",
    "from tweepy import OAuthHandler"
   ]
  },
  {
   "cell_type": "code",
   "execution_count": 8,
   "metadata": {},
   "outputs": [],
   "source": [
    "consumer_key = twitterkeys.CONSUMER_KEY\n",
    "consumer_secret   = twitterkeys.CONSUMER_SECRET\n",
    "access_token   = twitterkeys.ACCESS_TOKEN\n",
    "access_token_secret   = twitterkeys.ACCESS_TOKEN_SECRET"
   ]
  },
  {
   "cell_type": "code",
   "execution_count": 9,
   "metadata": {},
   "outputs": [],
   "source": [
    "def authentication(cons_key, cons_secret, acc_token, acc_secret):\n",
    "    auth = tweepy.OAuthHandler(cons_key, cons_secret)\n",
    "    auth.set_access_token(acc_token, acc_secret)\n",
    "    api = tweepy.API(auth)\n",
    "    return api"
   ]
  },
  {
   "cell_type": "code",
   "execution_count": 10,
   "metadata": {},
   "outputs": [],
   "source": [
    "from datetime import datetime, timedelta\n",
    "today_datetime = datetime.today().now()\n",
    "yesterday_datetime = today_datetime - timedelta(days=1)\n",
    "today_date = today_datetime.strftime('%Y-%m-%d')\n",
    "yesterday_date = yesterday_datetime.strftime('%Y-%m-%d')"
   ]
  },
  {
   "cell_type": "code",
   "execution_count": 55,
   "metadata": {},
   "outputs": [],
   "source": [
    "def search_tweets(keyword, total_tweets):\n",
    "    today_datetime = datetime.today().now()\n",
    "    yesterday_datetime = today_datetime - timedelta(days=1)\n",
    "    today_date = today_datetime.strftime('%Y-%m-%d')\n",
    "    yesterday_date = yesterday_datetime.strftime('%Y-%m-%d')\n",
    "    api = authentication(consumer_key,consumer_secret,access_token,access_token_secret)\n",
    "    search_result = tweepy.Cursor(api.search, \n",
    "                                  q=keyword, \n",
    "                                  since=yesterday_date, \n",
    "                                  result_type='recent', \n",
    "                                  tweet_mode='extended',\n",
    "                                  lang='en').items(total_tweets)\n",
    "    \n",
    "    \n",
    "\n",
    "    return search_result\n"
   ]
  },
  {
   "cell_type": "code",
   "execution_count": 61,
   "metadata": {},
   "outputs": [
    {
     "name": "stdout",
     "output_type": "stream",
     "text": [
      "RT @eminus: Happy to report that testing out the @Oculus Quest in flight on a 737 works just fine.  Stationary guardian and playtested Spac…\n",
      " \n",
      "Status(metadata={'iso_language_code': 'en', 'result_type': 'recent'}, geo=None, retweeted_status=Status(metadata={'iso_language_code': 'en', 'result_type': 'recent'}, geo=None, place=None, id_str='1131589416219058176', source='Twitter for Android', lang='en', extended_entities={'media': [{'expanded_url': 'https://twitter.com/eminus/status/1131589416219058176/photo/1', 'media_url_https': 'https://pbs.twimg.com/media/D7Q2grBUYAAfnfC.jpg', 'type': 'photo', 'id': 1131589341308805120, 'sizes': {'large': {'w': 1280, 'resize': 'fit', 'h': 720}, 'medium': {'w': 1200, 'resize': 'fit', 'h': 675}, 'thumb': {'w': 150, 'resize': 'crop', 'h': 150}, 'small': {'w': 680, 'resize': 'fit', 'h': 383}}, 'id_str': '1131589341308805120', 'media_url': 'http://pbs.twimg.com/media/D7Q2grBUYAAfnfC.jpg', 'url': 'https://t.co/794isCCrxc', 'display_url': 'pic.twitter.com/794isCCrxc', 'indices': [279, 302]}]}, in_reply_to_user_id=None, source_url='http://twitter.com/download/android', truncated=False, entities={'urls': [], 'media': [{'expanded_url': 'https://twitter.com/eminus/status/1131589416219058176/photo/1', 'media_url_https': 'https://pbs.twimg.com/media/D7Q2grBUYAAfnfC.jpg', 'type': 'photo', 'id': 1131589341308805120, 'sizes': {'large': {'w': 1280, 'resize': 'fit', 'h': 720}, 'medium': {'w': 1200, 'resize': 'fit', 'h': 675}, 'thumb': {'w': 150, 'resize': 'crop', 'h': 150}, 'small': {'w': 680, 'resize': 'fit', 'h': 383}}, 'id_str': '1131589341308805120', 'media_url': 'http://pbs.twimg.com/media/D7Q2grBUYAAfnfC.jpg', 'url': 'https://t.co/794isCCrxc', 'display_url': 'pic.twitter.com/794isCCrxc', 'indices': [279, 302]}], 'hashtags': [], 'symbols': [], 'user_mentions': [{'id_str': '714758552', 'screen_name': 'oculus', 'id': 714758552, 'name': 'Oculus', 'indices': [37, 44]}]}, in_reply_to_screen_name=None, in_reply_to_status_id=None, possibly_sensitive=False, id=1131589416219058176, coordinates=None, retweeted=False, retweet_count=28, author=User(has_extended_profile=False, protected=False, lang='en', name='e-', utc_offset=None, favourites_count=598, time_zone=None, profile_text_color='333333', location='', profile_link_color='0084B4', profile_background_color='C0DEED', geo_enabled=True, verified=False, is_translator=False, _json={'description': 'I enjoy exploring many realities, alternate, augmented and virtual.', 'profile_use_background_image': False, 'translator_type': 'none', 'follow_request_sent': False, 'default_profile': False, 'has_extended_profile': False, 'default_profile_image': False, 'protected': False, 'friends_count': 564, 'lang': 'en', 'url': 'https://t.co/09UC90Z8Gp', 'name': 'e-', 'utc_offset': None, 'profile_image_url': 'http://pbs.twimg.com/profile_images/1108451796802953216/2RsUCRUB_normal.jpg', 'favourites_count': 598, 'notifications': False, 'time_zone': None, 'entities': {'description': {'urls': []}, 'url': {'urls': [{'expanded_url': 'http://youtube.com/ErikHartley', 'url': 'https://t.co/09UC90Z8Gp', 'display_url': 'youtube.com/ErikHartley', 'indices': [0, 23]}]}}, 'profile_sidebar_fill_color': 'DDEEF6', 'profile_sidebar_border_color': 'C0DEED', 'id': 14403821, 'profile_background_tile': False, 'location': '', 'profile_text_color': '333333', 'profile_link_color': '0084B4', 'statuses_count': 8335, 'profile_background_color': 'C0DEED', 'geo_enabled': True, 'verified': False, 'profile_image_url_https': 'https://pbs.twimg.com/profile_images/1108451796802953216/2RsUCRUB_normal.jpg', 'is_translator': False, 'following': False, 'profile_background_image_url': 'http://abs.twimg.com/images/themes/theme9/bg.gif', 'profile_banner_url': 'https://pbs.twimg.com/profile_banners/14403821/1556771655', 'screen_name': 'eminus', 'contributors_enabled': False, 'created_at': 'Wed Apr 16 02:37:51 +0000 2008', 'id_str': '14403821', 'followers_count': 611, 'profile_background_image_url_https': 'https://abs.twimg.com/images/themes/theme9/bg.gif', 'listed_count': 22, 'is_translation_enabled': False}, following=False, created_at=datetime.datetime(2008, 4, 16, 2, 37, 51), default_profile_image=False, profile_background_image_url_https='https://abs.twimg.com/images/themes/theme9/bg.gif', listed_count=22, is_translation_enabled=False, description='I enjoy exploring many realities, alternate, augmented and virtual.', translator_type='none', default_profile=False, screen_name='eminus', friends_count=564, url='https://t.co/09UC90Z8Gp', id_str='14403821', entities={'description': {'urls': []}, 'url': {'urls': [{'expanded_url': 'http://youtube.com/ErikHartley', 'url': 'https://t.co/09UC90Z8Gp', 'display_url': 'youtube.com/ErikHartley', 'indices': [0, 23]}]}}, profile_sidebar_fill_color='DDEEF6', profile_sidebar_border_color='C0DEED', id=14403821, profile_background_tile=False, statuses_count=8335, profile_image_url_https='https://pbs.twimg.com/profile_images/1108451796802953216/2RsUCRUB_normal.jpg', profile_use_background_image=False, follow_request_sent=False, profile_background_image_url='http://abs.twimg.com/images/themes/theme9/bg.gif', profile_banner_url='https://pbs.twimg.com/profile_banners/14403821/1556771655', contributors_enabled=False, notifications=False, profile_image_url='http://pbs.twimg.com/profile_images/1108451796802953216/2RsUCRUB_normal.jpg', followers_count=611, _api=<tweepy.api.API object at 0x7f47684fecc0>), favorite_count=105, user=User(has_extended_profile=False, protected=False, lang='en', name='e-', utc_offset=None, favourites_count=598, time_zone=None, profile_text_color='333333', location='', profile_link_color='0084B4', profile_background_color='C0DEED', geo_enabled=True, verified=False, is_translator=False, _json={'description': 'I enjoy exploring many realities, alternate, augmented and virtual.', 'profile_use_background_image': False, 'translator_type': 'none', 'follow_request_sent': False, 'default_profile': False, 'has_extended_profile': False, 'default_profile_image': False, 'protected': False, 'friends_count': 564, 'lang': 'en', 'url': 'https://t.co/09UC90Z8Gp', 'name': 'e-', 'utc_offset': None, 'profile_image_url': 'http://pbs.twimg.com/profile_images/1108451796802953216/2RsUCRUB_normal.jpg', 'favourites_count': 598, 'notifications': False, 'time_zone': None, 'entities': {'description': {'urls': []}, 'url': {'urls': [{'expanded_url': 'http://youtube.com/ErikHartley', 'url': 'https://t.co/09UC90Z8Gp', 'display_url': 'youtube.com/ErikHartley', 'indices': [0, 23]}]}}, 'profile_sidebar_fill_color': 'DDEEF6', 'profile_sidebar_border_color': 'C0DEED', 'id': 14403821, 'profile_background_tile': False, 'location': '', 'profile_text_color': '333333', 'profile_link_color': '0084B4', 'statuses_count': 8335, 'profile_background_color': 'C0DEED', 'geo_enabled': True, 'verified': False, 'profile_image_url_https': 'https://pbs.twimg.com/profile_images/1108451796802953216/2RsUCRUB_normal.jpg', 'is_translator': False, 'following': False, 'profile_background_image_url': 'http://abs.twimg.com/images/themes/theme9/bg.gif', 'profile_banner_url': 'https://pbs.twimg.com/profile_banners/14403821/1556771655', 'screen_name': 'eminus', 'contributors_enabled': False, 'created_at': 'Wed Apr 16 02:37:51 +0000 2008', 'id_str': '14403821', 'followers_count': 611, 'profile_background_image_url_https': 'https://abs.twimg.com/images/themes/theme9/bg.gif', 'listed_count': 22, 'is_translation_enabled': False}, following=False, created_at=datetime.datetime(2008, 4, 16, 2, 37, 51), default_profile_image=False, profile_background_image_url_https='https://abs.twimg.com/images/themes/theme9/bg.gif', listed_count=22, is_translation_enabled=False, description='I enjoy exploring many realities, alternate, augmented and virtual.', translator_type='none', default_profile=False, screen_name='eminus', friends_count=564, url='https://t.co/09UC90Z8Gp', id_str='14403821', entities={'description': {'urls': []}, 'url': {'urls': [{'expanded_url': 'http://youtube.com/ErikHartley', 'url': 'https://t.co/09UC90Z8Gp', 'display_url': 'youtube.com/ErikHartley', 'indices': [0, 23]}]}}, profile_sidebar_fill_color='DDEEF6', profile_sidebar_border_color='C0DEED', id=14403821, profile_background_tile=False, statuses_count=8335, profile_image_url_https='https://pbs.twimg.com/profile_images/1108451796802953216/2RsUCRUB_normal.jpg', profile_use_background_image=False, follow_request_sent=False, profile_background_image_url='http://abs.twimg.com/images/themes/theme9/bg.gif', profile_banner_url='https://pbs.twimg.com/profile_banners/14403821/1556771655', contributors_enabled=False, notifications=False, profile_image_url='http://pbs.twimg.com/profile_images/1108451796802953216/2RsUCRUB_normal.jpg', followers_count=611, _api=<tweepy.api.API object at 0x7f47684fecc0>), _json={'metadata': {'iso_language_code': 'en', 'result_type': 'recent'}, 'lang': 'en', 'truncated': False, 'favorite_count': 105, 'geo': None, 'extended_entities': {'media': [{'expanded_url': 'https://twitter.com/eminus/status/1131589416219058176/photo/1', 'media_url_https': 'https://pbs.twimg.com/media/D7Q2grBUYAAfnfC.jpg', 'type': 'photo', 'id': 1131589341308805120, 'sizes': {'large': {'w': 1280, 'resize': 'fit', 'h': 720}, 'medium': {'w': 1200, 'resize': 'fit', 'h': 675}, 'thumb': {'w': 150, 'resize': 'crop', 'h': 150}, 'small': {'w': 680, 'resize': 'fit', 'h': 383}}, 'id_str': '1131589341308805120', 'media_url': 'http://pbs.twimg.com/media/D7Q2grBUYAAfnfC.jpg', 'url': 'https://t.co/794isCCrxc', 'display_url': 'pic.twitter.com/794isCCrxc', 'indices': [279, 302]}]}, 'in_reply_to_user_id': None, 'favorited': False, 'place': None, 'entities': {'urls': [], 'media': [{'expanded_url': 'https://twitter.com/eminus/status/1131589416219058176/photo/1', 'media_url_https': 'https://pbs.twimg.com/media/D7Q2grBUYAAfnfC.jpg', 'type': 'photo', 'id': 1131589341308805120, 'sizes': {'large': {'w': 1280, 'resize': 'fit', 'h': 720}, 'medium': {'w': 1200, 'resize': 'fit', 'h': 675}, 'thumb': {'w': 150, 'resize': 'crop', 'h': 150}, 'small': {'w': 680, 'resize': 'fit', 'h': 383}}, 'id_str': '1131589341308805120', 'media_url': 'http://pbs.twimg.com/media/D7Q2grBUYAAfnfC.jpg', 'url': 'https://t.co/794isCCrxc', 'display_url': 'pic.twitter.com/794isCCrxc', 'indices': [279, 302]}], 'hashtags': [], 'symbols': [], 'user_mentions': [{'id_str': '714758552', 'screen_name': 'oculus', 'id': 714758552, 'name': 'Oculus', 'indices': [37, 44]}]}, 'in_reply_to_screen_name': None, 'possibly_sensitive': False, 'in_reply_to_status_id_str': None, 'coordinates': None, 'retweeted': False, 'retweet_count': 28, 'full_text': 'Happy to report that testing out the @Oculus Quest in flight on a 737 works just fine.  Stationary guardian and playtested Space Pirate Trainer, Fruit Ninja VR, Angry Birds VR and Beat Saber.  Yes the seat is a bit confining but the tracking and games work well, even in flight! https://t.co/794isCCrxc', 'in_reply_to_status_id': None, 'source': '<a href=\"http://twitter.com/download/android\" rel=\"nofollow\">Twitter for Android</a>', 'user': {'description': 'I enjoy exploring many realities, alternate, augmented and virtual.', 'profile_use_background_image': False, 'translator_type': 'none', 'follow_request_sent': False, 'default_profile': False, 'has_extended_profile': False, 'default_profile_image': False, 'protected': False, 'friends_count': 564, 'lang': 'en', 'url': 'https://t.co/09UC90Z8Gp', 'name': 'e-', 'utc_offset': None, 'profile_image_url': 'http://pbs.twimg.com/profile_images/1108451796802953216/2RsUCRUB_normal.jpg', 'favourites_count': 598, 'notifications': False, 'time_zone': None, 'entities': {'description': {'urls': []}, 'url': {'urls': [{'expanded_url': 'http://youtube.com/ErikHartley', 'url': 'https://t.co/09UC90Z8Gp', 'display_url': 'youtube.com/ErikHartley', 'indices': [0, 23]}]}}, 'profile_sidebar_fill_color': 'DDEEF6', 'profile_sidebar_border_color': 'C0DEED', 'id': 14403821, 'profile_background_tile': False, 'location': '', 'profile_text_color': '333333', 'profile_link_color': '0084B4', 'statuses_count': 8335, 'profile_background_color': 'C0DEED', 'geo_enabled': True, 'verified': False, 'profile_image_url_https': 'https://pbs.twimg.com/profile_images/1108451796802953216/2RsUCRUB_normal.jpg', 'is_translator': False, 'following': False, 'profile_background_image_url': 'http://abs.twimg.com/images/themes/theme9/bg.gif', 'profile_banner_url': 'https://pbs.twimg.com/profile_banners/14403821/1556771655', 'screen_name': 'eminus', 'contributors_enabled': False, 'created_at': 'Wed Apr 16 02:37:51 +0000 2008', 'id_str': '14403821', 'followers_count': 611, 'profile_background_image_url_https': 'https://abs.twimg.com/images/themes/theme9/bg.gif', 'listed_count': 22, 'is_translation_enabled': False}, 'in_reply_to_user_id_str': None, 'display_text_range': [0, 278], 'is_quote_status': False, 'id': 1131589416219058176, 'created_at': 'Thu May 23 15:55:15 +0000 2019', 'id_str': '1131589416219058176', 'contributors': None}, in_reply_to_user_id_str=None, full_text='Happy to report that testing out the @Oculus Quest in flight on a 737 works just fine.  Stationary guardian and playtested Space Pirate Trainer, Fruit Ninja VR, Angry Birds VR and Beat Saber.  Yes the seat is a bit confining but the tracking and games work well, even in flight! https://t.co/794isCCrxc', is_quote_status=False, in_reply_to_status_id_str=None, created_at=datetime.datetime(2019, 5, 23, 15, 55, 15), favorited=False, contributors=None, display_text_range=[0, 278], _api=<tweepy.api.API object at 0x7f47684fecc0>), place=None, id_str='1131890398404710401', source='Twitter for iPhone', lang='en', in_reply_to_user_id=None, source_url='http://twitter.com/download/iphone', truncated=False, entities={'urls': [], 'hashtags': [], 'symbols': [], 'user_mentions': [{'id_str': '14403821', 'screen_name': 'eminus', 'id': 14403821, 'name': 'e-', 'indices': [3, 10]}, {'id_str': '714758552', 'screen_name': 'oculus', 'id': 714758552, 'name': 'Oculus', 'indices': [49, 56]}]}, in_reply_to_screen_name=None, in_reply_to_status_id=None, id=1131890398404710401, coordinates=None, retweeted=False, retweet_count=28, author=User(has_extended_profile=False, protected=False, lang='en', name='The Stubborn Ninja', utc_offset=None, favourites_count=10547, time_zone=None, profile_text_color='000000', location='In a galaxy far far away', profile_link_color='ABB8C2', profile_background_color='000000', geo_enabled=True, verified=False, is_translator=False, _json={'description': 'Just your average geeky teenager. Lover of video games, movies, comics, and God! Active Defender Employee', 'profile_use_background_image': False, 'translator_type': 'none', 'follow_request_sent': False, 'default_profile': False, 'has_extended_profile': False, 'default_profile_image': False, 'protected': False, 'friends_count': 312, 'lang': 'en', 'url': None, 'name': 'The Stubborn Ninja', 'utc_offset': None, 'profile_image_url': 'http://pbs.twimg.com/profile_images/937366186697904128/RVVr714Q_normal.jpg', 'favourites_count': 10547, 'notifications': False, 'time_zone': None, 'entities': {'description': {'urls': []}}, 'profile_sidebar_fill_color': '000000', 'profile_sidebar_border_color': '000000', 'id': 1196995734, 'profile_background_tile': False, 'location': 'In a galaxy far far away', 'profile_text_color': '000000', 'profile_link_color': 'ABB8C2', 'statuses_count': 8208, 'profile_background_color': '000000', 'geo_enabled': True, 'verified': False, 'profile_image_url_https': 'https://pbs.twimg.com/profile_images/937366186697904128/RVVr714Q_normal.jpg', 'is_translator': False, 'following': False, 'profile_background_image_url': 'http://abs.twimg.com/images/themes/theme1/bg.png', 'screen_name': 'TJBoyte', 'contributors_enabled': False, 'created_at': 'Tue Feb 19 12:50:01 +0000 2013', 'id_str': '1196995734', 'followers_count': 279, 'profile_background_image_url_https': 'https://abs.twimg.com/images/themes/theme1/bg.png', 'listed_count': 9, 'is_translation_enabled': True}, following=False, created_at=datetime.datetime(2013, 2, 19, 12, 50, 1), default_profile_image=False, profile_background_image_url_https='https://abs.twimg.com/images/themes/theme1/bg.png', listed_count=9, is_translation_enabled=True, description='Just your average geeky teenager. Lover of video games, movies, comics, and God! Active Defender Employee', translator_type='none', default_profile=False, screen_name='TJBoyte', friends_count=312, url=None, id_str='1196995734', entities={'description': {'urls': []}}, profile_sidebar_fill_color='000000', profile_sidebar_border_color='000000', id=1196995734, profile_background_tile=False, statuses_count=8208, profile_image_url_https='https://pbs.twimg.com/profile_images/937366186697904128/RVVr714Q_normal.jpg', profile_use_background_image=False, follow_request_sent=False, profile_background_image_url='http://abs.twimg.com/images/themes/theme1/bg.png', contributors_enabled=False, notifications=False, profile_image_url='http://pbs.twimg.com/profile_images/937366186697904128/RVVr714Q_normal.jpg', followers_count=279, _api=<tweepy.api.API object at 0x7f47684fecc0>), favorite_count=0, user=User(has_extended_profile=False, protected=False, lang='en', name='The Stubborn Ninja', utc_offset=None, favourites_count=10547, time_zone=None, profile_text_color='000000', location='In a galaxy far far away', profile_link_color='ABB8C2', profile_background_color='000000', geo_enabled=True, verified=False, is_translator=False, _json={'description': 'Just your average geeky teenager. Lover of video games, movies, comics, and God! Active Defender Employee', 'profile_use_background_image': False, 'translator_type': 'none', 'follow_request_sent': False, 'default_profile': False, 'has_extended_profile': False, 'default_profile_image': False, 'protected': False, 'friends_count': 312, 'lang': 'en', 'url': None, 'name': 'The Stubborn Ninja', 'utc_offset': None, 'profile_image_url': 'http://pbs.twimg.com/profile_images/937366186697904128/RVVr714Q_normal.jpg', 'favourites_count': 10547, 'notifications': False, 'time_zone': None, 'entities': {'description': {'urls': []}}, 'profile_sidebar_fill_color': '000000', 'profile_sidebar_border_color': '000000', 'id': 1196995734, 'profile_background_tile': False, 'location': 'In a galaxy far far away', 'profile_text_color': '000000', 'profile_link_color': 'ABB8C2', 'statuses_count': 8208, 'profile_background_color': '000000', 'geo_enabled': True, 'verified': False, 'profile_image_url_https': 'https://pbs.twimg.com/profile_images/937366186697904128/RVVr714Q_normal.jpg', 'is_translator': False, 'following': False, 'profile_background_image_url': 'http://abs.twimg.com/images/themes/theme1/bg.png', 'screen_name': 'TJBoyte', 'contributors_enabled': False, 'created_at': 'Tue Feb 19 12:50:01 +0000 2013', 'id_str': '1196995734', 'followers_count': 279, 'profile_background_image_url_https': 'https://abs.twimg.com/images/themes/theme1/bg.png', 'listed_count': 9, 'is_translation_enabled': True}, following=False, created_at=datetime.datetime(2013, 2, 19, 12, 50, 1), default_profile_image=False, profile_background_image_url_https='https://abs.twimg.com/images/themes/theme1/bg.png', listed_count=9, is_translation_enabled=True, description='Just your average geeky teenager. Lover of video games, movies, comics, and God! Active Defender Employee', translator_type='none', default_profile=False, screen_name='TJBoyte', friends_count=312, url=None, id_str='1196995734', entities={'description': {'urls': []}}, profile_sidebar_fill_color='000000', profile_sidebar_border_color='000000', id=1196995734, profile_background_tile=False, statuses_count=8208, profile_image_url_https='https://pbs.twimg.com/profile_images/937366186697904128/RVVr714Q_normal.jpg', profile_use_background_image=False, follow_request_sent=False, profile_background_image_url='http://abs.twimg.com/images/themes/theme1/bg.png', contributors_enabled=False, notifications=False, profile_image_url='http://pbs.twimg.com/profile_images/937366186697904128/RVVr714Q_normal.jpg', followers_count=279, _api=<tweepy.api.API object at 0x7f47684fecc0>), _json={'metadata': {'iso_language_code': 'en', 'result_type': 'recent'}, 'lang': 'en', 'retweeted_status': {'metadata': {'iso_language_code': 'en', 'result_type': 'recent'}, 'lang': 'en', 'truncated': False, 'favorite_count': 105, 'geo': None, 'extended_entities': {'media': [{'expanded_url': 'https://twitter.com/eminus/status/1131589416219058176/photo/1', 'media_url_https': 'https://pbs.twimg.com/media/D7Q2grBUYAAfnfC.jpg', 'type': 'photo', 'id': 1131589341308805120, 'sizes': {'large': {'w': 1280, 'resize': 'fit', 'h': 720}, 'medium': {'w': 1200, 'resize': 'fit', 'h': 675}, 'thumb': {'w': 150, 'resize': 'crop', 'h': 150}, 'small': {'w': 680, 'resize': 'fit', 'h': 383}}, 'id_str': '1131589341308805120', 'media_url': 'http://pbs.twimg.com/media/D7Q2grBUYAAfnfC.jpg', 'url': 'https://t.co/794isCCrxc', 'display_url': 'pic.twitter.com/794isCCrxc', 'indices': [279, 302]}]}, 'in_reply_to_user_id': None, 'favorited': False, 'place': None, 'entities': {'urls': [], 'media': [{'expanded_url': 'https://twitter.com/eminus/status/1131589416219058176/photo/1', 'media_url_https': 'https://pbs.twimg.com/media/D7Q2grBUYAAfnfC.jpg', 'type': 'photo', 'id': 1131589341308805120, 'sizes': {'large': {'w': 1280, 'resize': 'fit', 'h': 720}, 'medium': {'w': 1200, 'resize': 'fit', 'h': 675}, 'thumb': {'w': 150, 'resize': 'crop', 'h': 150}, 'small': {'w': 680, 'resize': 'fit', 'h': 383}}, 'id_str': '1131589341308805120', 'media_url': 'http://pbs.twimg.com/media/D7Q2grBUYAAfnfC.jpg', 'url': 'https://t.co/794isCCrxc', 'display_url': 'pic.twitter.com/794isCCrxc', 'indices': [279, 302]}], 'hashtags': [], 'symbols': [], 'user_mentions': [{'id_str': '714758552', 'screen_name': 'oculus', 'id': 714758552, 'name': 'Oculus', 'indices': [37, 44]}]}, 'in_reply_to_screen_name': None, 'possibly_sensitive': False, 'in_reply_to_status_id_str': None, 'coordinates': None, 'retweeted': False, 'retweet_count': 28, 'full_text': 'Happy to report that testing out the @Oculus Quest in flight on a 737 works just fine.  Stationary guardian and playtested Space Pirate Trainer, Fruit Ninja VR, Angry Birds VR and Beat Saber.  Yes the seat is a bit confining but the tracking and games work well, even in flight! https://t.co/794isCCrxc', 'in_reply_to_status_id': None, 'source': '<a href=\"http://twitter.com/download/android\" rel=\"nofollow\">Twitter for Android</a>', 'user': {'description': 'I enjoy exploring many realities, alternate, augmented and virtual.', 'profile_use_background_image': False, 'translator_type': 'none', 'follow_request_sent': False, 'default_profile': False, 'has_extended_profile': False, 'default_profile_image': False, 'protected': False, 'friends_count': 564, 'lang': 'en', 'url': 'https://t.co/09UC90Z8Gp', 'name': 'e-', 'utc_offset': None, 'profile_image_url': 'http://pbs.twimg.com/profile_images/1108451796802953216/2RsUCRUB_normal.jpg', 'favourites_count': 598, 'notifications': False, 'time_zone': None, 'entities': {'description': {'urls': []}, 'url': {'urls': [{'expanded_url': 'http://youtube.com/ErikHartley', 'url': 'https://t.co/09UC90Z8Gp', 'display_url': 'youtube.com/ErikHartley', 'indices': [0, 23]}]}}, 'profile_sidebar_fill_color': 'DDEEF6', 'profile_sidebar_border_color': 'C0DEED', 'id': 14403821, 'profile_background_tile': False, 'location': '', 'profile_text_color': '333333', 'profile_link_color': '0084B4', 'statuses_count': 8335, 'profile_background_color': 'C0DEED', 'geo_enabled': True, 'verified': False, 'profile_image_url_https': 'https://pbs.twimg.com/profile_images/1108451796802953216/2RsUCRUB_normal.jpg', 'is_translator': False, 'following': False, 'profile_background_image_url': 'http://abs.twimg.com/images/themes/theme9/bg.gif', 'profile_banner_url': 'https://pbs.twimg.com/profile_banners/14403821/1556771655', 'screen_name': 'eminus', 'contributors_enabled': False, 'created_at': 'Wed Apr 16 02:37:51 +0000 2008', 'id_str': '14403821', 'followers_count': 611, 'profile_background_image_url_https': 'https://abs.twimg.com/images/themes/theme9/bg.gif', 'listed_count': 22, 'is_translation_enabled': False}, 'in_reply_to_user_id_str': None, 'display_text_range': [0, 278], 'is_quote_status': False, 'id': 1131589416219058176, 'created_at': 'Thu May 23 15:55:15 +0000 2019', 'id_str': '1131589416219058176', 'contributors': None}, 'truncated': False, 'favorite_count': 0, 'geo': None, 'in_reply_to_user_id': None, 'favorited': False, 'place': None, 'entities': {'urls': [], 'hashtags': [], 'symbols': [], 'user_mentions': [{'id_str': '14403821', 'screen_name': 'eminus', 'id': 14403821, 'name': 'e-', 'indices': [3, 10]}, {'id_str': '714758552', 'screen_name': 'oculus', 'id': 714758552, 'name': 'Oculus', 'indices': [49, 56]}]}, 'in_reply_to_screen_name': None, 'id': 1131890398404710401, 'coordinates': None, 'retweeted': False, 'retweet_count': 28, 'full_text': 'RT @eminus: Happy to report that testing out the @Oculus Quest in flight on a 737 works just fine.  Stationary guardian and playtested Spac…', 'in_reply_to_status_id': None, 'source': '<a href=\"http://twitter.com/download/iphone\" rel=\"nofollow\">Twitter for iPhone</a>', 'user': {'description': 'Just your average geeky teenager. Lover of video games, movies, comics, and God! Active Defender Employee', 'profile_use_background_image': False, 'translator_type': 'none', 'follow_request_sent': False, 'default_profile': False, 'has_extended_profile': False, 'default_profile_image': False, 'protected': False, 'friends_count': 312, 'lang': 'en', 'url': None, 'name': 'The Stubborn Ninja', 'utc_offset': None, 'profile_image_url': 'http://pbs.twimg.com/profile_images/937366186697904128/RVVr714Q_normal.jpg', 'favourites_count': 10547, 'notifications': False, 'time_zone': None, 'entities': {'description': {'urls': []}}, 'profile_sidebar_fill_color': '000000', 'profile_sidebar_border_color': '000000', 'id': 1196995734, 'profile_background_tile': False, 'location': 'In a galaxy far far away', 'profile_text_color': '000000', 'profile_link_color': 'ABB8C2', 'statuses_count': 8208, 'profile_background_color': '000000', 'geo_enabled': True, 'verified': False, 'profile_image_url_https': 'https://pbs.twimg.com/profile_images/937366186697904128/RVVr714Q_normal.jpg', 'is_translator': False, 'following': False, 'profile_background_image_url': 'http://abs.twimg.com/images/themes/theme1/bg.png', 'screen_name': 'TJBoyte', 'contributors_enabled': False, 'created_at': 'Tue Feb 19 12:50:01 +0000 2013', 'id_str': '1196995734', 'followers_count': 279, 'profile_background_image_url_https': 'https://abs.twimg.com/images/themes/theme1/bg.png', 'listed_count': 9, 'is_translation_enabled': True}, 'in_reply_to_user_id_str': None, 'display_text_range': [0, 140], 'is_quote_status': False, 'in_reply_to_status_id_str': None, 'created_at': 'Fri May 24 11:51:15 +0000 2019', 'id_str': '1131890398404710401', 'contributors': None}, in_reply_to_user_id_str=None, full_text='RT @eminus: Happy to report that testing out the @Oculus Quest in flight on a 737 works just fine.  Stationary guardian and playtested Spac…', is_quote_status=False, in_reply_to_status_id_str=None, created_at=datetime.datetime(2019, 5, 24, 11, 51, 15), favorited=False, contributors=None, display_text_range=[0, 140], _api=<tweepy.api.API object at 0x7f47684fecc0>)\n"
     ]
    }
   ],
   "source": [
    "test = search_tweets(\"'angry' and 'happy'\",1)\n",
    "for i in test:\n",
    "    print(i.full_text)\n",
    "    print(\" \")\n",
    "    print(i)\n"
   ]
  },
  {
   "cell_type": "code",
   "execution_count": 52,
   "metadata": {},
   "outputs": [
    {
     "name": "stdout",
     "output_type": "stream",
     "text": [
      "RT @sftwqian: I’m so in love with Kun, and it’s not that “oh let me marry him” type shit like, I just really care about him, I always want…\n"
     ]
    }
   ],
   "source": []
  },
  {
   "cell_type": "code",
   "execution_count": 38,
   "metadata": {},
   "outputs": [],
   "source": [
    "def search_tweets(keyword, total_tweets):\n",
    "    today_datetime = datetime.today().now()\n",
    "    yesterday_datetime = today_datetime - timedelta(days=1)\n",
    "    today_date = today_datetime.strftime('%Y-%m-%d')\n",
    "    yesterday_date = yesterday_datetime.strftime('%Y-%m-%d')\n",
    "    api = authentication(consumer_key,consumer_secret,access_token,access_token_secret)\n",
    "    search_result = tweepy.Cursor(api.search, \n",
    "                                  q=keyword, \n",
    "                                  since=yesterday_date, \n",
    "                                  result_type='recent', \n",
    "                                  lang='en').items(total_tweets)\n",
    "    \n",
    "    listOfTweets = []\n",
    "    \n",
    "    for tweet in search_result:\n",
    "        # Add tweets in this format\n",
    "        dict_ = {'Screen Name': tweet.user.screen_name,\n",
    "                'User Name': tweet.user.name,\n",
    "                'Tweet Created At': tweet.created_at,\n",
    "                'Tweet Text': tweet.text,\n",
    "                'User Location': tweet.user.location,\n",
    "                'Tweet Coordinates': tweet.coordinates,\n",
    "                'Retweet Count':tweet.retweet_count,\n",
    "                'Retweeted': tweet.retweeted,\n",
    "                'Phone Type': tweet.source,\n",
    "                'Favorite Count': tweet.favorite_count,\n",
    "                'Favorited': tweet.favorited,\n",
    "                'Replied': tweet.in_reply_to_status_id_str\n",
    "                }\n",
    "        listOfTweets.append(dict_)   \n",
    "    return listOfTweets\n"
   ]
  },
  {
   "cell_type": "code",
   "execution_count": 39,
   "metadata": {},
   "outputs": [],
   "source": [
    "test = search_tweets(('angry','happy'),1)"
   ]
  },
  {
   "cell_type": "code",
   "execution_count": 40,
   "metadata": {},
   "outputs": [
    {
     "data": {
      "text/plain": [
       "[{'Favorite Count': 0,\n",
       "  'Favorited': False,\n",
       "  'Phone Type': 'Twitter Web Client',\n",
       "  'Replied': '1131825548110360576',\n",
       "  'Retweet Count': 0,\n",
       "  'Retweeted': False,\n",
       "  'Screen Name': 'SylDLucas',\n",
       "  'Tweet Coordinates': None,\n",
       "  'Tweet Created At': datetime.datetime(2019, 5, 24, 11, 41, 40),\n",
       "  'Tweet Text': '@ChildfreeTanya Would there be a backlash, though? Would people actually be angry if Penny and Leonard just ended u… https://t.co/H9QX8eW9iO',\n",
       "  'User Location': 'Connecticut',\n",
       "  'User Name': 'Sylvia D. Lucas'}]"
      ]
     },
     "execution_count": 40,
     "metadata": {},
     "output_type": "execute_result"
    }
   ],
   "source": [
    "test"
   ]
  },
  {
   "cell_type": "code",
   "execution_count": 33,
   "metadata": {},
   "outputs": [
    {
     "name": "stdout",
     "output_type": "stream",
     "text": [
      "Status(metadata={'iso_language_code': 'en', 'result_type': 'recent'}, geo=None, retweeted_status=Status(metadata={'iso_language_code': 'en', 'result_type': 'recent'}, geo=None, place=None, id_str='1131880486685560832', source='Twitter Web Client', lang='en', in_reply_to_user_id=None, text=\"Happy with @JustinTrudeau's government: \\nOmar Khadr\\nAngry with Justin Trudeau's government: \\nMark Norman, Jody Wils… https://t.co/1tnCdYd6uk\", source_url='http://twitter.com', truncated=True, entities={'urls': [{'expanded_url': 'https://twitter.com/i/web/status/1131880486685560832', 'url': 'https://t.co/1tnCdYd6uk', 'display_url': 'twitter.com/i/web/status/1…', 'indices': [117, 140]}], 'hashtags': [], 'symbols': [], 'user_mentions': [{'id_str': '14260960', 'screen_name': 'JustinTrudeau', 'id': 14260960, 'name': 'Justin Trudeau', 'indices': [11, 25]}]}, in_reply_to_screen_name=None, in_reply_to_status_id=None, id=1131880486685560832, coordinates=None, retweeted=False, retweet_count=4, author=User(has_extended_profile=False, protected=False, lang='en', name='Lorrie Goldstein', utc_offset=None, favourites_count=66773, time_zone=None, profile_text_color='333333', location='website:', profile_link_color='1DA1F2', profile_background_color='C0DEED', geo_enabled=True, verified=True, is_translator=False, _json={'description': 'Editor Emeritus, Columnist, Toronto Sun/Sun Media; Commentator, Newstalk1010, National Post radio. email: lgoldstein@postmedia.com', 'profile_use_background_image': True, 'translator_type': 'none', 'follow_request_sent': False, 'default_profile': True, 'has_extended_profile': False, 'default_profile_image': False, 'protected': False, 'friends_count': 1336, 'lang': 'en', 'url': 'http://t.co/lADjtqkQj2', 'name': 'Lorrie Goldstein', 'utc_offset': None, 'profile_image_url': 'http://pbs.twimg.com/profile_images/1251779388/lorrie_goldstein248_normal.jpg', 'favourites_count': 66773, 'notifications': False, 'time_zone': None, 'entities': {'description': {'urls': []}, 'url': {'urls': [{'expanded_url': 'http://www.torontosun.com', 'url': 'http://t.co/lADjtqkQj2', 'display_url': 'torontosun.com', 'indices': [0, 22]}]}}, 'profile_sidebar_fill_color': 'DDEEF6', 'profile_sidebar_border_color': 'C0DEED', 'id': 255340030, 'profile_background_tile': False, 'location': 'website:', 'profile_text_color': '333333', 'profile_link_color': '1DA1F2', 'statuses_count': 161289, 'profile_background_color': 'C0DEED', 'geo_enabled': True, 'verified': True, 'profile_image_url_https': 'https://pbs.twimg.com/profile_images/1251779388/lorrie_goldstein248_normal.jpg', 'is_translator': False, 'following': False, 'profile_background_image_url': 'http://abs.twimg.com/images/themes/theme1/bg.png', 'screen_name': 'sunlorrie', 'contributors_enabled': False, 'created_at': 'Mon Feb 21 04:36:12 +0000 2011', 'id_str': '255340030', 'followers_count': 36497, 'profile_background_image_url_https': 'https://abs.twimg.com/images/themes/theme1/bg.png', 'listed_count': 492, 'is_translation_enabled': False}, following=False, created_at=datetime.datetime(2011, 2, 21, 4, 36, 12), default_profile_image=False, profile_background_image_url_https='https://abs.twimg.com/images/themes/theme1/bg.png', listed_count=492, is_translation_enabled=False, description='Editor Emeritus, Columnist, Toronto Sun/Sun Media; Commentator, Newstalk1010, National Post radio. email: lgoldstein@postmedia.com', translator_type='none', default_profile=True, screen_name='sunlorrie', friends_count=1336, url='http://t.co/lADjtqkQj2', id_str='255340030', entities={'description': {'urls': []}, 'url': {'urls': [{'expanded_url': 'http://www.torontosun.com', 'url': 'http://t.co/lADjtqkQj2', 'display_url': 'torontosun.com', 'indices': [0, 22]}]}}, profile_sidebar_fill_color='DDEEF6', profile_sidebar_border_color='C0DEED', id=255340030, profile_background_tile=False, statuses_count=161289, profile_image_url_https='https://pbs.twimg.com/profile_images/1251779388/lorrie_goldstein248_normal.jpg', profile_use_background_image=True, follow_request_sent=False, profile_background_image_url='http://abs.twimg.com/images/themes/theme1/bg.png', contributors_enabled=False, notifications=False, profile_image_url='http://pbs.twimg.com/profile_images/1251779388/lorrie_goldstein248_normal.jpg', followers_count=36497, _api=<tweepy.api.API object at 0x7f476a3fbd68>), favorite_count=13, user=User(has_extended_profile=False, protected=False, lang='en', name='Lorrie Goldstein', utc_offset=None, favourites_count=66773, time_zone=None, profile_text_color='333333', location='website:', profile_link_color='1DA1F2', profile_background_color='C0DEED', geo_enabled=True, verified=True, is_translator=False, _json={'description': 'Editor Emeritus, Columnist, Toronto Sun/Sun Media; Commentator, Newstalk1010, National Post radio. email: lgoldstein@postmedia.com', 'profile_use_background_image': True, 'translator_type': 'none', 'follow_request_sent': False, 'default_profile': True, 'has_extended_profile': False, 'default_profile_image': False, 'protected': False, 'friends_count': 1336, 'lang': 'en', 'url': 'http://t.co/lADjtqkQj2', 'name': 'Lorrie Goldstein', 'utc_offset': None, 'profile_image_url': 'http://pbs.twimg.com/profile_images/1251779388/lorrie_goldstein248_normal.jpg', 'favourites_count': 66773, 'notifications': False, 'time_zone': None, 'entities': {'description': {'urls': []}, 'url': {'urls': [{'expanded_url': 'http://www.torontosun.com', 'url': 'http://t.co/lADjtqkQj2', 'display_url': 'torontosun.com', 'indices': [0, 22]}]}}, 'profile_sidebar_fill_color': 'DDEEF6', 'profile_sidebar_border_color': 'C0DEED', 'id': 255340030, 'profile_background_tile': False, 'location': 'website:', 'profile_text_color': '333333', 'profile_link_color': '1DA1F2', 'statuses_count': 161289, 'profile_background_color': 'C0DEED', 'geo_enabled': True, 'verified': True, 'profile_image_url_https': 'https://pbs.twimg.com/profile_images/1251779388/lorrie_goldstein248_normal.jpg', 'is_translator': False, 'following': False, 'profile_background_image_url': 'http://abs.twimg.com/images/themes/theme1/bg.png', 'screen_name': 'sunlorrie', 'contributors_enabled': False, 'created_at': 'Mon Feb 21 04:36:12 +0000 2011', 'id_str': '255340030', 'followers_count': 36497, 'profile_background_image_url_https': 'https://abs.twimg.com/images/themes/theme1/bg.png', 'listed_count': 492, 'is_translation_enabled': False}, following=False, created_at=datetime.datetime(2011, 2, 21, 4, 36, 12), default_profile_image=False, profile_background_image_url_https='https://abs.twimg.com/images/themes/theme1/bg.png', listed_count=492, is_translation_enabled=False, description='Editor Emeritus, Columnist, Toronto Sun/Sun Media; Commentator, Newstalk1010, National Post radio. email: lgoldstein@postmedia.com', translator_type='none', default_profile=True, screen_name='sunlorrie', friends_count=1336, url='http://t.co/lADjtqkQj2', id_str='255340030', entities={'description': {'urls': []}, 'url': {'urls': [{'expanded_url': 'http://www.torontosun.com', 'url': 'http://t.co/lADjtqkQj2', 'display_url': 'torontosun.com', 'indices': [0, 22]}]}}, profile_sidebar_fill_color='DDEEF6', profile_sidebar_border_color='C0DEED', id=255340030, profile_background_tile=False, statuses_count=161289, profile_image_url_https='https://pbs.twimg.com/profile_images/1251779388/lorrie_goldstein248_normal.jpg', profile_use_background_image=True, follow_request_sent=False, profile_background_image_url='http://abs.twimg.com/images/themes/theme1/bg.png', contributors_enabled=False, notifications=False, profile_image_url='http://pbs.twimg.com/profile_images/1251779388/lorrie_goldstein248_normal.jpg', followers_count=36497, _api=<tweepy.api.API object at 0x7f476a3fbd68>), _json={'metadata': {'iso_language_code': 'en', 'result_type': 'recent'}, 'lang': 'en', 'truncated': True, 'source': '<a href=\"http://twitter.com\" rel=\"nofollow\">Twitter Web Client</a>', 'geo': None, 'in_reply_to_user_id': None, 'favorited': False, 'place': None, 'entities': {'urls': [{'expanded_url': 'https://twitter.com/i/web/status/1131880486685560832', 'url': 'https://t.co/1tnCdYd6uk', 'display_url': 'twitter.com/i/web/status/1…', 'indices': [117, 140]}], 'hashtags': [], 'symbols': [], 'user_mentions': [{'id_str': '14260960', 'screen_name': 'JustinTrudeau', 'id': 14260960, 'name': 'Justin Trudeau', 'indices': [11, 25]}]}, 'in_reply_to_screen_name': None, 'id': 1131880486685560832, 'coordinates': None, 'retweeted': False, 'retweet_count': 4, 'in_reply_to_status_id': None, 'favorite_count': 13, 'user': {'description': 'Editor Emeritus, Columnist, Toronto Sun/Sun Media; Commentator, Newstalk1010, National Post radio. email: lgoldstein@postmedia.com', 'profile_use_background_image': True, 'translator_type': 'none', 'follow_request_sent': False, 'default_profile': True, 'has_extended_profile': False, 'default_profile_image': False, 'protected': False, 'friends_count': 1336, 'lang': 'en', 'url': 'http://t.co/lADjtqkQj2', 'name': 'Lorrie Goldstein', 'utc_offset': None, 'profile_image_url': 'http://pbs.twimg.com/profile_images/1251779388/lorrie_goldstein248_normal.jpg', 'favourites_count': 66773, 'notifications': False, 'time_zone': None, 'entities': {'description': {'urls': []}, 'url': {'urls': [{'expanded_url': 'http://www.torontosun.com', 'url': 'http://t.co/lADjtqkQj2', 'display_url': 'torontosun.com', 'indices': [0, 22]}]}}, 'profile_sidebar_fill_color': 'DDEEF6', 'profile_sidebar_border_color': 'C0DEED', 'id': 255340030, 'profile_background_tile': False, 'location': 'website:', 'profile_text_color': '333333', 'profile_link_color': '1DA1F2', 'statuses_count': 161289, 'profile_background_color': 'C0DEED', 'geo_enabled': True, 'verified': True, 'profile_image_url_https': 'https://pbs.twimg.com/profile_images/1251779388/lorrie_goldstein248_normal.jpg', 'is_translator': False, 'following': False, 'profile_background_image_url': 'http://abs.twimg.com/images/themes/theme1/bg.png', 'screen_name': 'sunlorrie', 'contributors_enabled': False, 'created_at': 'Mon Feb 21 04:36:12 +0000 2011', 'id_str': '255340030', 'followers_count': 36497, 'profile_background_image_url_https': 'https://abs.twimg.com/images/themes/theme1/bg.png', 'listed_count': 492, 'is_translation_enabled': False}, 'text': \"Happy with @JustinTrudeau's government: \\nOmar Khadr\\nAngry with Justin Trudeau's government: \\nMark Norman, Jody Wils… https://t.co/1tnCdYd6uk\", 'in_reply_to_user_id_str': None, 'is_quote_status': False, 'in_reply_to_status_id_str': None, 'created_at': 'Fri May 24 11:11:52 +0000 2019', 'id_str': '1131880486685560832', 'contributors': None}, in_reply_to_user_id_str=None, is_quote_status=False, in_reply_to_status_id_str=None, created_at=datetime.datetime(2019, 5, 24, 11, 11, 52), favorited=False, contributors=None, _api=<tweepy.api.API object at 0x7f476a3fbd68>), place=None, id_str='1131881924132139008', source='Twitter for iPad', lang='en', in_reply_to_user_id=None, text=\"RT @sunlorrie: Happy with @JustinTrudeau's government: \\nOmar Khadr\\nAngry with Justin Trudeau's government: \\nMark Norman, Jody Wilson-Raybou…\", source_url='http://twitter.com/#!/download/ipad', truncated=False, entities={'urls': [], 'hashtags': [], 'symbols': [], 'user_mentions': [{'id_str': '255340030', 'screen_name': 'sunlorrie', 'id': 255340030, 'name': 'Lorrie Goldstein', 'indices': [3, 13]}, {'id_str': '14260960', 'screen_name': 'JustinTrudeau', 'id': 14260960, 'name': 'Justin Trudeau', 'indices': [26, 40]}]}, in_reply_to_screen_name=None, in_reply_to_status_id=None, id=1131881924132139008, coordinates=None, retweeted=False, retweet_count=4, author=User(has_extended_profile=False, protected=False, lang='en', name='Jim Publow', utc_offset=None, favourites_count=14719, time_zone=None, profile_text_color='333333', location='', profile_link_color='1DA1F2', profile_background_color='C0DEED', geo_enabled=True, verified=False, is_translator=False, _json={'description': '', 'profile_use_background_image': True, 'translator_type': 'none', 'follow_request_sent': False, 'default_profile': True, 'has_extended_profile': False, 'default_profile_image': True, 'protected': False, 'friends_count': 415, 'lang': 'en', 'url': None, 'name': 'Jim Publow', 'utc_offset': None, 'profile_image_url': 'http://abs.twimg.com/sticky/default_profile_images/default_profile_normal.png', 'favourites_count': 14719, 'notifications': False, 'time_zone': None, 'entities': {'description': {'urls': []}}, 'profile_sidebar_fill_color': 'DDEEF6', 'profile_sidebar_border_color': 'C0DEED', 'id': 44046570, 'profile_background_tile': False, 'location': '', 'profile_text_color': '333333', 'profile_link_color': '1DA1F2', 'statuses_count': 15498, 'profile_background_color': 'C0DEED', 'geo_enabled': True, 'verified': False, 'profile_image_url_https': 'https://abs.twimg.com/sticky/default_profile_images/default_profile_normal.png', 'is_translator': False, 'following': False, 'profile_background_image_url': 'http://abs.twimg.com/images/themes/theme1/bg.png', 'screen_name': 'cubes2013', 'contributors_enabled': False, 'created_at': 'Tue Jun 02 03:16:43 +0000 2009', 'id_str': '44046570', 'followers_count': 120, 'profile_background_image_url_https': 'https://abs.twimg.com/images/themes/theme1/bg.png', 'listed_count': 2, 'is_translation_enabled': False}, following=False, created_at=datetime.datetime(2009, 6, 2, 3, 16, 43), default_profile_image=True, profile_background_image_url_https='https://abs.twimg.com/images/themes/theme1/bg.png', listed_count=2, is_translation_enabled=False, description='', translator_type='none', default_profile=True, screen_name='cubes2013', friends_count=415, url=None, id_str='44046570', entities={'description': {'urls': []}}, profile_sidebar_fill_color='DDEEF6', profile_sidebar_border_color='C0DEED', id=44046570, profile_background_tile=False, statuses_count=15498, profile_image_url_https='https://abs.twimg.com/sticky/default_profile_images/default_profile_normal.png', profile_use_background_image=True, follow_request_sent=False, profile_background_image_url='http://abs.twimg.com/images/themes/theme1/bg.png', contributors_enabled=False, notifications=False, profile_image_url='http://abs.twimg.com/sticky/default_profile_images/default_profile_normal.png', followers_count=120, _api=<tweepy.api.API object at 0x7f476a3fbd68>), favorite_count=0, user=User(has_extended_profile=False, protected=False, lang='en', name='Jim Publow', utc_offset=None, favourites_count=14719, time_zone=None, profile_text_color='333333', location='', profile_link_color='1DA1F2', profile_background_color='C0DEED', geo_enabled=True, verified=False, is_translator=False, _json={'description': '', 'profile_use_background_image': True, 'translator_type': 'none', 'follow_request_sent': False, 'default_profile': True, 'has_extended_profile': False, 'default_profile_image': True, 'protected': False, 'friends_count': 415, 'lang': 'en', 'url': None, 'name': 'Jim Publow', 'utc_offset': None, 'profile_image_url': 'http://abs.twimg.com/sticky/default_profile_images/default_profile_normal.png', 'favourites_count': 14719, 'notifications': False, 'time_zone': None, 'entities': {'description': {'urls': []}}, 'profile_sidebar_fill_color': 'DDEEF6', 'profile_sidebar_border_color': 'C0DEED', 'id': 44046570, 'profile_background_tile': False, 'location': '', 'profile_text_color': '333333', 'profile_link_color': '1DA1F2', 'statuses_count': 15498, 'profile_background_color': 'C0DEED', 'geo_enabled': True, 'verified': False, 'profile_image_url_https': 'https://abs.twimg.com/sticky/default_profile_images/default_profile_normal.png', 'is_translator': False, 'following': False, 'profile_background_image_url': 'http://abs.twimg.com/images/themes/theme1/bg.png', 'screen_name': 'cubes2013', 'contributors_enabled': False, 'created_at': 'Tue Jun 02 03:16:43 +0000 2009', 'id_str': '44046570', 'followers_count': 120, 'profile_background_image_url_https': 'https://abs.twimg.com/images/themes/theme1/bg.png', 'listed_count': 2, 'is_translation_enabled': False}, following=False, created_at=datetime.datetime(2009, 6, 2, 3, 16, 43), default_profile_image=True, profile_background_image_url_https='https://abs.twimg.com/images/themes/theme1/bg.png', listed_count=2, is_translation_enabled=False, description='', translator_type='none', default_profile=True, screen_name='cubes2013', friends_count=415, url=None, id_str='44046570', entities={'description': {'urls': []}}, profile_sidebar_fill_color='DDEEF6', profile_sidebar_border_color='C0DEED', id=44046570, profile_background_tile=False, statuses_count=15498, profile_image_url_https='https://abs.twimg.com/sticky/default_profile_images/default_profile_normal.png', profile_use_background_image=True, follow_request_sent=False, profile_background_image_url='http://abs.twimg.com/images/themes/theme1/bg.png', contributors_enabled=False, notifications=False, profile_image_url='http://abs.twimg.com/sticky/default_profile_images/default_profile_normal.png', followers_count=120, _api=<tweepy.api.API object at 0x7f476a3fbd68>), _json={'metadata': {'iso_language_code': 'en', 'result_type': 'recent'}, 'lang': 'en', 'retweeted_status': {'metadata': {'iso_language_code': 'en', 'result_type': 'recent'}, 'lang': 'en', 'truncated': True, 'source': '<a href=\"http://twitter.com\" rel=\"nofollow\">Twitter Web Client</a>', 'geo': None, 'in_reply_to_user_id': None, 'favorited': False, 'place': None, 'entities': {'urls': [{'expanded_url': 'https://twitter.com/i/web/status/1131880486685560832', 'url': 'https://t.co/1tnCdYd6uk', 'display_url': 'twitter.com/i/web/status/1…', 'indices': [117, 140]}], 'hashtags': [], 'symbols': [], 'user_mentions': [{'id_str': '14260960', 'screen_name': 'JustinTrudeau', 'id': 14260960, 'name': 'Justin Trudeau', 'indices': [11, 25]}]}, 'in_reply_to_screen_name': None, 'id': 1131880486685560832, 'coordinates': None, 'retweeted': False, 'retweet_count': 4, 'in_reply_to_status_id': None, 'favorite_count': 13, 'user': {'description': 'Editor Emeritus, Columnist, Toronto Sun/Sun Media; Commentator, Newstalk1010, National Post radio. email: lgoldstein@postmedia.com', 'profile_use_background_image': True, 'translator_type': 'none', 'follow_request_sent': False, 'default_profile': True, 'has_extended_profile': False, 'default_profile_image': False, 'protected': False, 'friends_count': 1336, 'lang': 'en', 'url': 'http://t.co/lADjtqkQj2', 'name': 'Lorrie Goldstein', 'utc_offset': None, 'profile_image_url': 'http://pbs.twimg.com/profile_images/1251779388/lorrie_goldstein248_normal.jpg', 'favourites_count': 66773, 'notifications': False, 'time_zone': None, 'entities': {'description': {'urls': []}, 'url': {'urls': [{'expanded_url': 'http://www.torontosun.com', 'url': 'http://t.co/lADjtqkQj2', 'display_url': 'torontosun.com', 'indices': [0, 22]}]}}, 'profile_sidebar_fill_color': 'DDEEF6', 'profile_sidebar_border_color': 'C0DEED', 'id': 255340030, 'profile_background_tile': False, 'location': 'website:', 'profile_text_color': '333333', 'profile_link_color': '1DA1F2', 'statuses_count': 161289, 'profile_background_color': 'C0DEED', 'geo_enabled': True, 'verified': True, 'profile_image_url_https': 'https://pbs.twimg.com/profile_images/1251779388/lorrie_goldstein248_normal.jpg', 'is_translator': False, 'following': False, 'profile_background_image_url': 'http://abs.twimg.com/images/themes/theme1/bg.png', 'screen_name': 'sunlorrie', 'contributors_enabled': False, 'created_at': 'Mon Feb 21 04:36:12 +0000 2011', 'id_str': '255340030', 'followers_count': 36497, 'profile_background_image_url_https': 'https://abs.twimg.com/images/themes/theme1/bg.png', 'listed_count': 492, 'is_translation_enabled': False}, 'text': \"Happy with @JustinTrudeau's government: \\nOmar Khadr\\nAngry with Justin Trudeau's government: \\nMark Norman, Jody Wils… https://t.co/1tnCdYd6uk\", 'in_reply_to_user_id_str': None, 'is_quote_status': False, 'in_reply_to_status_id_str': None, 'created_at': 'Fri May 24 11:11:52 +0000 2019', 'id_str': '1131880486685560832', 'contributors': None}, 'truncated': False, 'favorite_count': 0, 'geo': None, 'in_reply_to_user_id': None, 'favorited': False, 'place': None, 'entities': {'urls': [], 'hashtags': [], 'symbols': [], 'user_mentions': [{'id_str': '255340030', 'screen_name': 'sunlorrie', 'id': 255340030, 'name': 'Lorrie Goldstein', 'indices': [3, 13]}, {'id_str': '14260960', 'screen_name': 'JustinTrudeau', 'id': 14260960, 'name': 'Justin Trudeau', 'indices': [26, 40]}]}, 'in_reply_to_screen_name': None, 'id': 1131881924132139008, 'coordinates': None, 'retweeted': False, 'retweet_count': 4, 'in_reply_to_status_id': None, 'source': '<a href=\"http://twitter.com/#!/download/ipad\" rel=\"nofollow\">Twitter for iPad</a>', 'user': {'description': '', 'profile_use_background_image': True, 'translator_type': 'none', 'follow_request_sent': False, 'default_profile': True, 'has_extended_profile': False, 'default_profile_image': True, 'protected': False, 'friends_count': 415, 'lang': 'en', 'url': None, 'name': 'Jim Publow', 'utc_offset': None, 'profile_image_url': 'http://abs.twimg.com/sticky/default_profile_images/default_profile_normal.png', 'favourites_count': 14719, 'notifications': False, 'time_zone': None, 'entities': {'description': {'urls': []}}, 'profile_sidebar_fill_color': 'DDEEF6', 'profile_sidebar_border_color': 'C0DEED', 'id': 44046570, 'profile_background_tile': False, 'location': '', 'profile_text_color': '333333', 'profile_link_color': '1DA1F2', 'statuses_count': 15498, 'profile_background_color': 'C0DEED', 'geo_enabled': True, 'verified': False, 'profile_image_url_https': 'https://abs.twimg.com/sticky/default_profile_images/default_profile_normal.png', 'is_translator': False, 'following': False, 'profile_background_image_url': 'http://abs.twimg.com/images/themes/theme1/bg.png', 'screen_name': 'cubes2013', 'contributors_enabled': False, 'created_at': 'Tue Jun 02 03:16:43 +0000 2009', 'id_str': '44046570', 'followers_count': 120, 'profile_background_image_url_https': 'https://abs.twimg.com/images/themes/theme1/bg.png', 'listed_count': 2, 'is_translation_enabled': False}, 'text': \"RT @sunlorrie: Happy with @JustinTrudeau's government: \\nOmar Khadr\\nAngry with Justin Trudeau's government: \\nMark Norman, Jody Wilson-Raybou…\", 'in_reply_to_user_id_str': None, 'is_quote_status': False, 'in_reply_to_status_id_str': None, 'created_at': 'Fri May 24 11:17:34 +0000 2019', 'id_str': '1131881924132139008', 'contributors': None}, in_reply_to_user_id_str=None, is_quote_status=False, in_reply_to_status_id_str=None, created_at=datetime.datetime(2019, 5, 24, 11, 17, 34), favorited=False, contributors=None, _api=<tweepy.api.API object at 0x7f476a3fbd68>)\n"
     ]
    }
   ],
   "source": [
    "def get_tweets(listOfTweets, keyword, numOfTweets):\n",
    "    # Iterate through all tweets containing the given word, api search mode\n",
    "    for tweet in tweepy.Cursor(api.search, q=keyword).items(numOfTweets):\n",
    "        # Add tweets in this format\n",
    "        dict_ = {'Screen Name': tweet.user.screen_name,\n",
    "                'User Name': tweet.user.name,\n",
    "                'Tweet Created At': unicode(tweet.created_at),\n",
    "                'Tweet Text': tweet.text,\n",
    "                'User Location': unicode(tweet.user.location),\n",
    "                'Tweet Coordinates': unicode(tweet.coordinates),\n",
    "                'Retweet Count': unicode(tweet.retweet_count),\n",
    "                'Retweeted': unicode(tweet.retweeted),\n",
    "                'Phone Type': unicode(tweet.source),\n",
    "                'Favorite Count': unicode(tweet.favorite_count),\n",
    "                'Favorited': unicode(tweet.favorited),\n",
    "                'Replied': unicode(tweet.in_reply_to_status_id_str)\n",
    "                }\n",
    "        listOfTweets.append(dict_)   \n",
    "    return listOfTweets\n",
    "\n",
    "# Connect to DB "
   ]
  },
  {
   "cell_type": "code",
   "execution_count": null,
   "metadata": {},
   "outputs": [],
   "source": [
    "\n",
    "class TwitterClient(object): \n",
    "    def __init__(self):\n",
    "        try: \n",
    "            # OAuthHandler object \n",
    "            auth = OAuthHandler(consumer_key, consumer_secret) \n",
    "            # set access token and secret \n",
    "            auth.set_access_token(access_token, access_token_secret) \n",
    "            # create tweepy API object to fetch tweets \n",
    "            self.api = tweepy.API(auth, wait_on_rate_limit=True, wait_on_rate_limit_notify=True)\n",
    "            \n",
    "        except tweepy.TweepError as e:\n",
    "            print(f\"Error: Twitter Authentication Failed - \\n{str(e)}\") \n",
    "\n",
    "    # Function to fetch tweets\n",
    "    def get_tweets(self, query, maxTweets = 1000): \n",
    "        # empty list to store parsed tweets \n",
    "        tweets = [] \n",
    "        sinceId = None\n",
    "        max_id = -1\n",
    "        tweetCount = 0\n",
    "        tweetsPerQry = 100\n",
    "        \n",
    "        while tweetCount < maxTweets:\n",
    "            try:\n",
    "                if (max_id <= 0):\n",
    "                    if (not sinceId):\n",
    "                        new_tweets = self.api.search(q=query, count=tweetsPerQry)\n",
    "                    else:\n",
    "                        new_tweets = self.api.search(q=query, count=tweetsPerQry,\n",
    "                                                since_id=sinceId)\n",
    "                else:\n",
    "                    if (not sinceId):\n",
    "                        new_tweets = self.api.search(q=query, count=tweetsPerQry,\n",
    "                                                max_id=str(max_id - 1))\n",
    "                    else:\n",
    "                        new_tweets = self.api.search(q=query, count=tweetsPerQry,\n",
    "                                                max_id=str(max_id - 1),\n",
    "                                                since_id=sinceId)\n",
    "                if not new_tweets:\n",
    "                    print(\"No more tweets found\")\n",
    "                    break\n",
    "                    \n",
    "                for tweet in new_tweets:\n",
    "                    parsed_tweet = {} \n",
    "                    parsed_tweet['tweets'] = tweet.text \n",
    "\n",
    "                    # appending parsed tweet to tweets list \n",
    "                    if tweet.retweet_count > 0: \n",
    "                        # if tweet has retweets, ensure that it is appended only once \n",
    "                        if parsed_tweet not in tweets: \n",
    "                            tweets.append(parsed_tweet) \n",
    "                    else: \n",
    "                        tweets.append(parsed_tweet) \n",
    "                        \n",
    "                tweetCount += len(new_tweets)\n",
    "                print(\"Downloaded {0} tweets\".format(tweetCount))\n",
    "                max_id = new_tweets[-1].id\n",
    "\n",
    "            except tweepy.TweepError as e:\n",
    "                print(\"Tweepy error : \" + str(e))\n",
    "                break\n",
    "        \n",
    "        return pd.DataFrame(tweets)"
   ]
  },
  {
   "cell_type": "code",
   "execution_count": null,
   "metadata": {},
   "outputs": [],
   "source": []
  }
 ],
 "metadata": {
  "kernelspec": {
   "display_name": "Python 3",
   "language": "python",
   "name": "python3"
  },
  "language_info": {
   "codemirror_mode": {
    "name": "ipython",
    "version": 3
   },
   "file_extension": ".py",
   "mimetype": "text/x-python",
   "name": "python",
   "nbconvert_exporter": "python",
   "pygments_lexer": "ipython3",
   "version": "3.5.2"
  }
 },
 "nbformat": 4,
 "nbformat_minor": 2
}
