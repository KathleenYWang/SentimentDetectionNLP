{
 "cells": [
  {
   "cell_type": "markdown",
   "metadata": {},
   "source": [
    "The following codes  \n",
    "https://towardsdatascience.com/selenium-tweepy-to-scrap-tweets-from-tweeter-and-analysing-sentiments-1804db3478ac\n",
    "https://www.earthdatascience.org/courses/earth-analytics-python/using-apis-natural-language-processing-twitter/get-and-use-twitter-data-in-python/  \n",
    "https://medium.freecodecamp.org/how-to-make-your-own-sentiment-analyzer-using-python-and-googles-natural-language-api-9e91e1c493e  \n",
    "https://www.programcreek.com/python/example/76301/tweepy.Cursor\n"
   ]
  },
  {
   "cell_type": "code",
   "execution_count": 15,
   "metadata": {},
   "outputs": [
    {
     "name": "stdout",
     "output_type": "stream",
     "text": [
      "Collecting tweepy\n",
      "  Downloading https://files.pythonhosted.org/packages/d5/5f/daac4b4e9b30d7d2a6fdd16a880ff79f27918fe388e4dfc1983dec3a9876/tweepy-3.7.0-py2.py3-none-any.whl\n",
      "Collecting PySocks>=1.5.7 (from tweepy)\n",
      "  Downloading https://files.pythonhosted.org/packages/cd/18/102cc70347486e75235a29a6543f002cf758042189cb063ec25334993e36/PySocks-1.7.0-py3-none-any.whl\n",
      "Requirement already satisfied (use --upgrade to upgrade): six>=1.10.0 in /usr/local/lib/python3.5/dist-packages (from tweepy)\n",
      "Collecting requests>=2.11.1 (from tweepy)\n",
      "  Downloading https://files.pythonhosted.org/packages/51/bd/23c926cd341ea6b7dd0b2a00aba99ae0f828be89d72b2190f27c11d4b7fb/requests-2.22.0-py2.py3-none-any.whl (57kB)\n",
      "\u001b[K    100% |████████████████████████████████| 61kB 10.6MB/s \n",
      "\u001b[?25hCollecting requests-oauthlib>=0.7.0 (from tweepy)\n",
      "  Downloading https://files.pythonhosted.org/packages/c2/e2/9fd03d55ffb70fe51f587f20bcf407a6927eb121de86928b34d162f0b1ac/requests_oauthlib-1.2.0-py2.py3-none-any.whl\n",
      "Requirement already satisfied (use --upgrade to upgrade): urllib3!=1.25.0,!=1.25.1,<1.26,>=1.21.1 in /usr/local/lib/python3.5/dist-packages (from requests>=2.11.1->tweepy)\n",
      "Collecting chardet<3.1.0,>=3.0.2 (from requests>=2.11.1->tweepy)\n",
      "  Downloading https://files.pythonhosted.org/packages/bc/a9/01ffebfb562e4274b6487b4bb1ddec7ca55ec7510b22e4c51f14098443b8/chardet-3.0.4-py2.py3-none-any.whl (133kB)\n",
      "\u001b[K    100% |████████████████████████████████| 143kB 8.2MB/s \n",
      "\u001b[?25hCollecting idna<2.9,>=2.5 (from requests>=2.11.1->tweepy)\n",
      "  Downloading https://files.pythonhosted.org/packages/14/2c/cd551d81dbe15200be1cf41cd03869a46fe7226e7450af7a6545bfc474c9/idna-2.8-py2.py3-none-any.whl (58kB)\n",
      "\u001b[K    100% |████████████████████████████████| 61kB 11.7MB/s \n",
      "\u001b[?25hRequirement already satisfied (use --upgrade to upgrade): certifi>=2017.4.17 in /usr/local/lib/python3.5/dist-packages (from requests>=2.11.1->tweepy)\n",
      "Collecting oauthlib>=3.0.0 (from requests-oauthlib>=0.7.0->tweepy)\n",
      "  Downloading https://files.pythonhosted.org/packages/16/95/699466b05b72b94a41f662dc9edf87fda4289e3602ecd42d27fcaddf7b56/oauthlib-3.0.1-py2.py3-none-any.whl (142kB)\n",
      "\u001b[K    100% |████████████████████████████████| 143kB 8.6MB/s \n",
      "\u001b[?25hInstalling collected packages: PySocks, chardet, idna, requests, oauthlib, requests-oauthlib, tweepy\n",
      "  Found existing installation: chardet 2.3.0\n",
      "    Not uninstalling chardet at /usr/lib/python3/dist-packages, outside environment /usr\n",
      "  Found existing installation: idna 2.0\n",
      "    Not uninstalling idna at /usr/lib/python3/dist-packages, outside environment /usr\n",
      "  Found existing installation: requests 2.9.1\n",
      "    Not uninstalling requests at /usr/lib/python3/dist-packages, outside environment /usr\n",
      "  Found existing installation: oauthlib 1.0.3\n",
      "    Not uninstalling oauthlib at /usr/lib/python3/dist-packages, outside environment /usr\n",
      "Successfully installed PySocks-1.7.0 chardet-3.0.4 idna-2.8 oauthlib-3.0.1 requests-2.22.0 requests-oauthlib-1.2.0 tweepy-3.7.0\n",
      "\u001b[33mYou are using pip version 8.1.1, however version 19.1.1 is available.\n",
      "You should consider upgrading via the 'pip install --upgrade pip' command.\u001b[0m\n"
     ]
    }
   ],
   "source": [
    "# !pip3 install tweepy"
   ]
  },
  {
   "cell_type": "code",
   "execution_count": 16,
   "metadata": {},
   "outputs": [],
   "source": [
    "import os,sys,inspect\n",
    "current_dir = os.path.dirname(os.path.abspath(inspect.getfile(inspect.currentframe())))\n",
    "parent_dir = os.path.dirname(current_dir)\n",
    "sys.path.insert(0, parent_dir)\n",
    "import twitterkeys\n",
    "import tweepy\n",
    "from tweepy import OAuthHandler"
   ]
  },
  {
   "cell_type": "code",
   "execution_count": 8,
   "metadata": {},
   "outputs": [],
   "source": [
    "consumer_key = twitterkeys.CONSUMER_KEY\n",
    "consumer_secret   = twitterkeys.CONSUMER_SECRET\n",
    "access_token   = twitterkeys.ACCESS_TOKEN\n",
    "access_token_secret   = twitterkeys.ACCESS_TOKEN_SECRET"
   ]
  },
  {
   "cell_type": "code",
   "execution_count": 9,
   "metadata": {},
   "outputs": [],
   "source": [
    "def authentication(cons_key, cons_secret, acc_token, acc_secret):\n",
    "    auth = tweepy.OAuthHandler(cons_key, cons_secret)\n",
    "    auth.set_access_token(acc_token, acc_secret)\n",
    "    api = tweepy.API(auth)\n",
    "    return api"
   ]
  },
  {
   "cell_type": "code",
   "execution_count": 10,
   "metadata": {},
   "outputs": [],
   "source": [
    "from datetime import datetime, timedelta\n",
    "today_datetime = datetime.today().now()\n",
    "yesterday_datetime = today_datetime - timedelta(days=1)\n",
    "today_date = today_datetime.strftime('%Y-%m-%d')\n",
    "yesterday_date = yesterday_datetime.strftime('%Y-%m-%d')"
   ]
  },
  {
   "cell_type": "code",
   "execution_count": 20,
   "metadata": {},
   "outputs": [],
   "source": [
    "def search_tweets(keyword, total_tweets):\n",
    "    today_datetime = datetime.today().now()\n",
    "    yesterday_datetime = today_datetime - timedelta(days=1)\n",
    "    today_date = today_datetime.strftime('%Y-%m-%d')\n",
    "    yesterday_date = yesterday_datetime.strftime('%Y-%m-%d')\n",
    "    api = authentication(consumer_key,consumer_secret,access_token,access_token_secret)\n",
    "    search_result = tweepy.Cursor(api.search, \n",
    "                                  q=keyword, \n",
    "                                  since=yesterday_date, \n",
    "                                  result_type='recent', \n",
    "                                  lang='en').items(total_tweets)\n",
    "    return search_result"
   ]
  },
  {
   "cell_type": "code",
   "execution_count": 23,
   "metadata": {},
   "outputs": [],
   "source": [
    "test = search_tweets('angry',20)"
   ]
  },
  {
   "cell_type": "code",
   "execution_count": null,
   "metadata": {},
   "outputs": [],
   "source": [
    "for i in test:\n",
    "    print(i)"
   ]
  },
  {
   "cell_type": "code",
   "execution_count": null,
   "metadata": {},
   "outputs": [],
   "source": [
    "\n",
    "class TwitterClient(object): \n",
    "    def __init__(self):\n",
    "        try: \n",
    "            # OAuthHandler object \n",
    "            auth = OAuthHandler(consumer_key, consumer_secret) \n",
    "            # set access token and secret \n",
    "            auth.set_access_token(access_token, access_token_secret) \n",
    "            # create tweepy API object to fetch tweets \n",
    "            self.api = tweepy.API(auth, wait_on_rate_limit=True, wait_on_rate_limit_notify=True)\n",
    "            \n",
    "        except tweepy.TweepError as e:\n",
    "            print(f\"Error: Twitter Authentication Failed - \\n{str(e)}\") \n",
    "\n",
    "    # Function to fetch tweets\n",
    "    def get_tweets(self, query, maxTweets = 1000): \n",
    "        # empty list to store parsed tweets \n",
    "        tweets = [] \n",
    "        sinceId = None\n",
    "        max_id = -1\n",
    "        tweetCount = 0\n",
    "        tweetsPerQry = 100\n",
    "        \n",
    "        while tweetCount < maxTweets:\n",
    "            try:\n",
    "                if (max_id <= 0):\n",
    "                    if (not sinceId):\n",
    "                        new_tweets = self.api.search(q=query, count=tweetsPerQry)\n",
    "                    else:\n",
    "                        new_tweets = self.api.search(q=query, count=tweetsPerQry,\n",
    "                                                since_id=sinceId)\n",
    "                else:\n",
    "                    if (not sinceId):\n",
    "                        new_tweets = self.api.search(q=query, count=tweetsPerQry,\n",
    "                                                max_id=str(max_id - 1))\n",
    "                    else:\n",
    "                        new_tweets = self.api.search(q=query, count=tweetsPerQry,\n",
    "                                                max_id=str(max_id - 1),\n",
    "                                                since_id=sinceId)\n",
    "                if not new_tweets:\n",
    "                    print(\"No more tweets found\")\n",
    "                    break\n",
    "                    \n",
    "                for tweet in new_tweets:\n",
    "                    parsed_tweet = {} \n",
    "                    parsed_tweet['tweets'] = tweet.text \n",
    "\n",
    "                    # appending parsed tweet to tweets list \n",
    "                    if tweet.retweet_count > 0: \n",
    "                        # if tweet has retweets, ensure that it is appended only once \n",
    "                        if parsed_tweet not in tweets: \n",
    "                            tweets.append(parsed_tweet) \n",
    "                    else: \n",
    "                        tweets.append(parsed_tweet) \n",
    "                        \n",
    "                tweetCount += len(new_tweets)\n",
    "                print(\"Downloaded {0} tweets\".format(tweetCount))\n",
    "                max_id = new_tweets[-1].id\n",
    "\n",
    "            except tweepy.TweepError as e:\n",
    "                print(\"Tweepy error : \" + str(e))\n",
    "                break\n",
    "        \n",
    "        return pd.DataFrame(tweets)"
   ]
  },
  {
   "cell_type": "code",
   "execution_count": null,
   "metadata": {},
   "outputs": [],
   "source": []
  }
 ],
 "metadata": {
  "kernelspec": {
   "display_name": "Python 3",
   "language": "python",
   "name": "python3"
  },
  "language_info": {
   "codemirror_mode": {
    "name": "ipython",
    "version": 3
   },
   "file_extension": ".py",
   "mimetype": "text/x-python",
   "name": "python",
   "nbconvert_exporter": "python",
   "pygments_lexer": "ipython3",
   "version": "3.5.2"
  }
 },
 "nbformat": 4,
 "nbformat_minor": 2
}
