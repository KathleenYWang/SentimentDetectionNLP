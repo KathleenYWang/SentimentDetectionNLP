{
 "cells": [
  {
   "cell_type": "markdown",
   "metadata": {},
   "source": [
    "The following codes  \n",
    "https://towardsdatascience.com/selenium-tweepy-to-scrap-tweets-from-tweeter-and-analysing-sentiments-1804db3478ac\n",
    "https://www.earthdatascience.org/courses/earth-analytics-python/using-apis-natural-language-processing-twitter/get-and-use-twitter-data-in-python/  \n",
    "https://medium.freecodecamp.org/how-to-make-your-own-sentiment-analyzer-using-python-and-googles-natural-language-api-9e91e1c493e  \n",
    "https://www.programcreek.com/python/example/76301/tweepy.Cursor\n"
   ]
  },
  {
   "cell_type": "code",
   "execution_count": 30,
   "metadata": {},
   "outputs": [],
   "source": [
    "# !pip3 install tweepy"
   ]
  },
  {
   "cell_type": "code",
   "execution_count": 16,
   "metadata": {},
   "outputs": [],
   "source": [
    "import os,sys,inspect\n",
    "current_dir = os.path.dirname(os.path.abspath(inspect.getfile(inspect.currentframe())))\n",
    "parent_dir = os.path.dirname(current_dir)\n",
    "sys.path.insert(0, parent_dir)\n",
    "import twitterkeys\n",
    "import tweepy\n",
    "from tweepy import OAuthHandler"
   ]
  },
  {
   "cell_type": "code",
   "execution_count": 8,
   "metadata": {},
   "outputs": [],
   "source": [
    "consumer_key = twitterkeys.CONSUMER_KEY\n",
    "consumer_secret   = twitterkeys.CONSUMER_SECRET\n",
    "access_token   = twitterkeys.ACCESS_TOKEN\n",
    "access_token_secret   = twitterkeys.ACCESS_TOKEN_SECRET"
   ]
  },
  {
   "cell_type": "code",
   "execution_count": 9,
   "metadata": {},
   "outputs": [],
   "source": [
    "def authentication(cons_key, cons_secret, acc_token, acc_secret):\n",
    "    auth = tweepy.OAuthHandler(cons_key, cons_secret)\n",
    "    auth.set_access_token(acc_token, acc_secret)\n",
    "    api = tweepy.API(auth)\n",
    "    return api"
   ]
  },
  {
   "cell_type": "code",
   "execution_count": 10,
   "metadata": {},
   "outputs": [],
   "source": [
    "from datetime import datetime, timedelta\n",
    "today_datetime = datetime.today().now()\n",
    "yesterday_datetime = today_datetime - timedelta(days=1)\n",
    "today_date = today_datetime.strftime('%Y-%m-%d')\n",
    "yesterday_date = yesterday_datetime.strftime('%Y-%m-%d')"
   ]
  },
  {
   "cell_type": "code",
   "execution_count": 147,
   "metadata": {},
   "outputs": [],
   "source": [
    "def search_tweets(keyword, total_tweets):\n",
    "    today_datetime = datetime.today().now()\n",
    "    yesterday_datetime = today_datetime - timedelta(days=1)\n",
    "    today_date = today_datetime.strftime('%Y-%m-%d')\n",
    "    yesterday_date = yesterday_datetime.strftime('%Y-%m-%d')\n",
    "    api = authentication(consumer_key,consumer_secret,access_token,access_token_secret)\n",
    "    search_result = tweepy.Cursor(api.search, \n",
    "                                  q=keyword, \n",
    "                                  since=yesterday_date, \n",
    "                                  result_type='recent', \n",
    "                                  tweet_mode='extended',\n",
    "                                  lang='en').items(total_tweets)\n",
    "    \n",
    "    # Add tweets in this format\n",
    "    listOfTweets = []\n",
    "    \n",
    "    for tweet in search_result:\n",
    "        # Add tweets in this format\n",
    "        dict_ = {'Screen Name': tweet.user.screen_name,\n",
    "                'User Name': tweet.user.name,\n",
    "                'Tweet Created At': tweet.created_at,\n",
    "                'Tweet Text': tweet.full_text,\n",
    "                'User Location': tweet.user.location,\n",
    "                'Tweet Coordinates': tweet.coordinates,\n",
    "                'Retweet Count':tweet.retweet_count,\n",
    "                'Retweeted': tweet.retweeted,\n",
    "                'Phone Type': tweet.source,\n",
    "                'Favorite Count': tweet.favorite_count,\n",
    "                'Favorited': tweet.favorited,\n",
    "                'Replied': tweet.in_reply_to_status_id_str,\n",
    "                'id': tweet.id_str\n",
    "                }\n",
    "        print(tweet)\n",
    "        listOfTweets.append(dict_)   \n",
    "    return listOfTweets"
   ]
  },
  {
   "cell_type": "code",
   "execution_count": 81,
   "metadata": {},
   "outputs": [],
   "source": [
    "def search_tweets_short(keyword, total_tweets):\n",
    "    today_datetime = datetime.today().now()\n",
    "    yesterday_datetime = today_datetime - timedelta(days=1)\n",
    "    today_date = today_datetime.strftime('%Y-%m-%d')\n",
    "    yesterday_date = yesterday_datetime.strftime('%Y-%m-%d')\n",
    "    api = authentication(consumer_key,consumer_secret,access_token,access_token_secret)\n",
    "    search_result = tweepy.Cursor(api.search, \n",
    "                                  q=keyword, \n",
    "                                  since=yesterday_date, \n",
    "                                  result_type='recent', \n",
    "                                  lang='en').items(total_tweets)\n",
    "    \n",
    "    # Add tweets in this format\n",
    "    listOfTweets = []\n",
    "    \n",
    "    for tweet in search_result:\n",
    "        # Add tweets in this format\n",
    "        dict_ = {'Screen Name': tweet.user.screen_name,\n",
    "                'User Name': tweet.user.name,\n",
    "                'Tweet Created At': tweet.created_at,\n",
    "                'Tweet Text': tweet.text,\n",
    "                'User Location': tweet.user.location,\n",
    "                'Tweet Coordinates': tweet.coordinates,\n",
    "                'Retweet Count':tweet.retweet_count,\n",
    "                'Retweeted': tweet.retweeted,\n",
    "                'Phone Type': tweet.source,\n",
    "                'Favorite Count': tweet.favorite_count,\n",
    "                'Favorited': tweet.favorited,\n",
    "                'Replied': tweet.in_reply_to_status_id_str\n",
    "                }\n",
    "        listOfTweets.append(dict_)   \n",
    "    return listOfTweets"
   ]
  },
  {
   "cell_type": "code",
   "execution_count": 84,
   "metadata": {},
   "outputs": [
    {
     "data": {
      "text/plain": [
       "[{'Favorite Count': 1,\n",
       "  'Favorited': False,\n",
       "  'Phone Type': 'Twitter for iPhone',\n",
       "  'Replied': None,\n",
       "  'Retweet Count': 0,\n",
       "  'Retweeted': False,\n",
       "  'Screen Name': 'bbev_',\n",
       "  'Tweet Coordinates': None,\n",
       "  'Tweet Created At': datetime.datetime(2019, 5, 26, 3, 5, 52),\n",
       "  'Tweet Text': 'Aye I know im drunk rn but ima day this. Let’s stop this black on brown violence. We so powerful together. They can’t stop us. No reason to look crazy fighting at clubs. Let’s look lit and happy. Make these angry racists mad. Let’s turn up and get this money! Be safe. Love y’all',\n",
       "  'User Location': '',\n",
       "  'User Name': 'brandon beverly'}]"
      ]
     },
     "execution_count": 84,
     "metadata": {},
     "output_type": "execute_result"
    }
   ],
   "source": [
    "test = search_tweets(['angry', 'happy', ],1)\n",
    "test"
   ]
  },
  {
   "cell_type": "code",
   "execution_count": 85,
   "metadata": {},
   "outputs": [
    {
     "data": {
      "text/plain": [
       "[{'Favorite Count': 1,\n",
       "  'Favorited': False,\n",
       "  'Phone Type': 'Twitter for iPhone',\n",
       "  'Replied': None,\n",
       "  'Retweet Count': 0,\n",
       "  'Retweeted': False,\n",
       "  'Screen Name': 'bbev_',\n",
       "  'Tweet Coordinates': None,\n",
       "  'Tweet Created At': datetime.datetime(2019, 5, 26, 3, 5, 52),\n",
       "  'Tweet Text': 'Aye I know im drunk rn but ima day this. Let’s stop this black on brown violence. We so powerful together. They can… https://t.co/Y1a2CoF1qf',\n",
       "  'User Location': '',\n",
       "  'User Name': 'brandon beverly'}]"
      ]
     },
     "execution_count": 85,
     "metadata": {},
     "output_type": "execute_result"
    }
   ],
   "source": [
    "test_short = search_tweets_short(\"'angry' and 'happy'\",1)\n",
    "test_short\n",
    "#     print(\" \")\n",
    "#     print(i)\n"
   ]
  },
  {
   "cell_type": "code",
   "execution_count": 52,
   "metadata": {},
   "outputs": [
    {
     "name": "stdout",
     "output_type": "stream",
     "text": [
      "RT @sftwqian: I’m so in love with Kun, and it’s not that “oh let me marry him” type shit like, I just really care about him, I always want…\n"
     ]
    }
   ],
   "source": []
  },
  {
   "cell_type": "code",
   "execution_count": 142,
   "metadata": {},
   "outputs": [],
   "source": [
    "# def search_tweets(keyword, total_tweets):\n",
    "#     today_datetime = datetime.today().now()\n",
    "#     yesterday_datetime = today_datetime - timedelta(days=1)\n",
    "#     today_date = today_datetime.strftime('%Y-%m-%d')\n",
    "#     yesterday_date = yesterday_datetime.strftime('%Y-%m-%d')\n",
    "#     api = authentication(consumer_key,consumer_secret,access_token,access_token_secret)\n",
    "#     search_result = tweepy.Cursor(api.search, \n",
    "#                                   q=keyword, \n",
    "#                                   since=yesterday_date, \n",
    "#                                   result_type='recent', \n",
    "#                                   lang='en').items(total_tweets)\n",
    "    \n",
    "#     listOfTweets = []\n",
    "    \n",
    "#     for tweet in search_result:\n",
    "#         # Add tweets in this format\n",
    "#         dict_ = {'Screen Name': tweet.user.screen_name,\n",
    "#                 'User Name': tweet.user.name,\n",
    "#                 'Tweet Created At': tweet.created_at,\n",
    "#                 'Tweet Text': tweet.text,\n",
    "#                 'User Location': tweet.user.location,\n",
    "#                 'Tweet Coordinates': tweet.coordinates,\n",
    "#                 'Retweet Count':tweet.retweet_count,\n",
    "#                 'Retweeted': tweet.retweeted,\n",
    "#                 'Phone Type': tweet.source,\n",
    "#                 'Favorite Count': tweet.favorite_count,\n",
    "#                 'Favorited': tweet.favorited,\n",
    "#                 'Replied': tweet.in_reply_to_status_id_str,\n",
    "#                 'id': tweet.id_str\n",
    "#                 }\n",
    "#         listOfTweets.append(dict_)  \n",
    "#         print(tweet)\n",
    "#     return listOfTweets\n"
   ]
  },
  {
   "cell_type": "code",
   "execution_count": 145,
   "metadata": {},
   "outputs": [
    {
     "name": "stdout",
     "output_type": "stream",
     "text": [
      "Status(metadata={'iso_language_code': 'en', 'result_type': 'recent'}, geo=None, retweeted_status=Status(metadata={'iso_language_code': 'en', 'result_type': 'recent'}, geo=None, place=None, id_str='1132385584062685186', source='Twitter for iPhone', lang='en', extended_entities={'media': [{'source_user_id': 3661695677, 'media_url_https': 'https://pbs.twimg.com/tweet_video_thumb/D7b3iGCWkAIybTE.jpg', 'display_url': 'pic.twitter.com/CM7D1fkzLI', 'source_status_id_str': '1132364555307376640', 'video_info': {'aspect_ratio': [16, 9], 'variants': [{'content_type': 'video/mp4', 'bitrate': 0, 'url': 'https://video.twimg.com/tweet_video/D7b3iGCWkAIybTE.mp4'}]}, 'expanded_url': 'https://twitter.com/TheTwittaumat/status/1132364555307376640/photo/1', 'url': 'https://t.co/CM7D1fkzLI', 'type': 'animated_gif', 'indices': [164, 187], 'sizes': {'large': {'w': 640, 'resize': 'fit', 'h': 360}, 'medium': {'w': 640, 'resize': 'fit', 'h': 360}, 'thumb': {'w': 150, 'resize': 'crop', 'h': 150}, 'small': {'w': 640, 'resize': 'fit', 'h': 360}}, 'id_str': '1132364521438351362', 'source_user_id_str': '3661695677', 'source_status_id': 1132364555307376640, 'media_url': 'http://pbs.twimg.com/tweet_video_thumb/D7b3iGCWkAIybTE.jpg', 'id': 1132364521438351362}]}, in_reply_to_user_id=None, source_url='http://twitter.com/download/iphone', truncated=False, entities={'urls': [], 'media': [{'source_user_id': 3661695677, 'media_url_https': 'https://pbs.twimg.com/tweet_video_thumb/D7b3iGCWkAIybTE.jpg', 'display_url': 'pic.twitter.com/CM7D1fkzLI', 'source_status_id_str': '1132364555307376640', 'expanded_url': 'https://twitter.com/TheTwittaumat/status/1132364555307376640/photo/1', 'url': 'https://t.co/CM7D1fkzLI', 'type': 'photo', 'indices': [164, 187], 'sizes': {'large': {'w': 640, 'resize': 'fit', 'h': 360}, 'medium': {'w': 640, 'resize': 'fit', 'h': 360}, 'thumb': {'w': 150, 'resize': 'crop', 'h': 150}, 'small': {'w': 640, 'resize': 'fit', 'h': 360}}, 'id_str': '1132364521438351362', 'source_user_id_str': '3661695677', 'source_status_id': 1132364555307376640, 'media_url': 'http://pbs.twimg.com/tweet_video_thumb/D7b3iGCWkAIybTE.jpg', 'id': 1132364521438351362}], 'hashtags': [], 'symbols': [], 'user_mentions': [{'id_str': '390670328', 'screen_name': 'TheVoice_TF1', 'id': 390670328, 'name': 'The Voice Officiel', 'indices': [147, 160]}]}, in_reply_to_screen_name=None, in_reply_to_status_id=None, possibly_sensitive=False, id=1132385584062685186, coordinates=None, retweeted=False, retweet_count=84, author=User(has_extended_profile=False, protected=False, lang='en', name='Taylor Swift News', utc_offset=None, favourites_count=59174, time_zone=None, profile_text_color='333333', location='WORLDWIDE', profile_link_color='3B94D9', profile_background_color='FFFFFF', geo_enabled=True, verified=False, is_translator=False, _json={'description': 'Your best source for the latest and most reliable news, photos & more on Taylor Swift. 7+ years 📲 Turn notifications on | taylorswiftnz@hotmail.com', 'profile_use_background_image': True, 'translator_type': 'none', 'follow_request_sent': False, 'default_profile': False, 'has_extended_profile': False, 'default_profile_image': False, 'protected': False, 'friends_count': 399, 'lang': 'en', 'url': 'https://t.co/xiEv4lMyD8', 'name': 'Taylor Swift News', 'utc_offset': None, 'profile_image_url': 'http://pbs.twimg.com/profile_images/1121750835564699649/xCXqY1Eh_normal.png', 'favourites_count': 59174, 'notifications': False, 'time_zone': None, 'entities': {'description': {'urls': []}, 'url': {'urls': [{'expanded_url': 'http://tswiftnz.com', 'url': 'https://t.co/xiEv4lMyD8', 'display_url': 'tswiftnz.com', 'indices': [0, 23]}]}}, 'profile_sidebar_fill_color': 'DDEEF6', 'profile_sidebar_border_color': 'FFFFFF', 'id': 549788597, 'profile_background_tile': False, 'location': 'WORLDWIDE', 'profile_text_color': '333333', 'profile_link_color': '3B94D9', 'statuses_count': 48015, 'profile_background_color': 'FFFFFF', 'geo_enabled': True, 'verified': False, 'profile_image_url_https': 'https://pbs.twimg.com/profile_images/1121750835564699649/xCXqY1Eh_normal.png', 'is_translator': False, 'following': False, 'profile_background_image_url': 'http://abs.twimg.com/images/themes/theme1/bg.png', 'profile_banner_url': 'https://pbs.twimg.com/profile_banners/549788597/1556281063', 'screen_name': 'TSwiftNZ', 'contributors_enabled': False, 'created_at': 'Tue Apr 10 03:56:32 +0000 2012', 'id_str': '549788597', 'followers_count': 137530, 'profile_background_image_url_https': 'https://abs.twimg.com/images/themes/theme1/bg.png', 'listed_count': 754, 'is_translation_enabled': False}, following=False, created_at=datetime.datetime(2012, 4, 10, 3, 56, 32), default_profile_image=False, profile_background_image_url_https='https://abs.twimg.com/images/themes/theme1/bg.png', listed_count=754, is_translation_enabled=False, description='Your best source for the latest and most reliable news, photos & more on Taylor Swift. 7+ years 📲 Turn notifications on | taylorswiftnz@hotmail.com', translator_type='none', default_profile=False, screen_name='TSwiftNZ', friends_count=399, url='https://t.co/xiEv4lMyD8', id_str='549788597', entities={'description': {'urls': []}, 'url': {'urls': [{'expanded_url': 'http://tswiftnz.com', 'url': 'https://t.co/xiEv4lMyD8', 'display_url': 'tswiftnz.com', 'indices': [0, 23]}]}}, profile_sidebar_fill_color='DDEEF6', profile_sidebar_border_color='FFFFFF', id=549788597, profile_background_tile=False, statuses_count=48015, profile_image_url_https='https://pbs.twimg.com/profile_images/1121750835564699649/xCXqY1Eh_normal.png', profile_use_background_image=True, follow_request_sent=False, profile_background_image_url='http://abs.twimg.com/images/themes/theme1/bg.png', profile_banner_url='https://pbs.twimg.com/profile_banners/549788597/1556281063', contributors_enabled=False, notifications=False, profile_image_url='http://pbs.twimg.com/profile_images/1121750835564699649/xCXqY1Eh_normal.png', followers_count=137530, _api=<tweepy.api.API object at 0x7f476842f198>), favorite_count=441, user=User(has_extended_profile=False, protected=False, lang='en', name='Taylor Swift News', utc_offset=None, favourites_count=59174, time_zone=None, profile_text_color='333333', location='WORLDWIDE', profile_link_color='3B94D9', profile_background_color='FFFFFF', geo_enabled=True, verified=False, is_translator=False, _json={'description': 'Your best source for the latest and most reliable news, photos & more on Taylor Swift. 7+ years 📲 Turn notifications on | taylorswiftnz@hotmail.com', 'profile_use_background_image': True, 'translator_type': 'none', 'follow_request_sent': False, 'default_profile': False, 'has_extended_profile': False, 'default_profile_image': False, 'protected': False, 'friends_count': 399, 'lang': 'en', 'url': 'https://t.co/xiEv4lMyD8', 'name': 'Taylor Swift News', 'utc_offset': None, 'profile_image_url': 'http://pbs.twimg.com/profile_images/1121750835564699649/xCXqY1Eh_normal.png', 'favourites_count': 59174, 'notifications': False, 'time_zone': None, 'entities': {'description': {'urls': []}, 'url': {'urls': [{'expanded_url': 'http://tswiftnz.com', 'url': 'https://t.co/xiEv4lMyD8', 'display_url': 'tswiftnz.com', 'indices': [0, 23]}]}}, 'profile_sidebar_fill_color': 'DDEEF6', 'profile_sidebar_border_color': 'FFFFFF', 'id': 549788597, 'profile_background_tile': False, 'location': 'WORLDWIDE', 'profile_text_color': '333333', 'profile_link_color': '3B94D9', 'statuses_count': 48015, 'profile_background_color': 'FFFFFF', 'geo_enabled': True, 'verified': False, 'profile_image_url_https': 'https://pbs.twimg.com/profile_images/1121750835564699649/xCXqY1Eh_normal.png', 'is_translator': False, 'following': False, 'profile_background_image_url': 'http://abs.twimg.com/images/themes/theme1/bg.png', 'profile_banner_url': 'https://pbs.twimg.com/profile_banners/549788597/1556281063', 'screen_name': 'TSwiftNZ', 'contributors_enabled': False, 'created_at': 'Tue Apr 10 03:56:32 +0000 2012', 'id_str': '549788597', 'followers_count': 137530, 'profile_background_image_url_https': 'https://abs.twimg.com/images/themes/theme1/bg.png', 'listed_count': 754, 'is_translation_enabled': False}, following=False, created_at=datetime.datetime(2012, 4, 10, 3, 56, 32), default_profile_image=False, profile_background_image_url_https='https://abs.twimg.com/images/themes/theme1/bg.png', listed_count=754, is_translation_enabled=False, description='Your best source for the latest and most reliable news, photos & more on Taylor Swift. 7+ years 📲 Turn notifications on | taylorswiftnz@hotmail.com', translator_type='none', default_profile=False, screen_name='TSwiftNZ', friends_count=399, url='https://t.co/xiEv4lMyD8', id_str='549788597', entities={'description': {'urls': []}, 'url': {'urls': [{'expanded_url': 'http://tswiftnz.com', 'url': 'https://t.co/xiEv4lMyD8', 'display_url': 'tswiftnz.com', 'indices': [0, 23]}]}}, profile_sidebar_fill_color='DDEEF6', profile_sidebar_border_color='FFFFFF', id=549788597, profile_background_tile=False, statuses_count=48015, profile_image_url_https='https://pbs.twimg.com/profile_images/1121750835564699649/xCXqY1Eh_normal.png', profile_use_background_image=True, follow_request_sent=False, profile_background_image_url='http://abs.twimg.com/images/themes/theme1/bg.png', profile_banner_url='https://pbs.twimg.com/profile_banners/549788597/1556281063', contributors_enabled=False, notifications=False, profile_image_url='http://pbs.twimg.com/profile_images/1121750835564699649/xCXqY1Eh_normal.png', followers_count=137530, _api=<tweepy.api.API object at 0x7f476842f198>), _json={'metadata': {'iso_language_code': 'en', 'result_type': 'recent'}, 'lang': 'en', 'truncated': False, 'favorite_count': 441, 'geo': None, 'extended_entities': {'media': [{'source_user_id': 3661695677, 'media_url_https': 'https://pbs.twimg.com/tweet_video_thumb/D7b3iGCWkAIybTE.jpg', 'display_url': 'pic.twitter.com/CM7D1fkzLI', 'source_status_id_str': '1132364555307376640', 'video_info': {'aspect_ratio': [16, 9], 'variants': [{'content_type': 'video/mp4', 'bitrate': 0, 'url': 'https://video.twimg.com/tweet_video/D7b3iGCWkAIybTE.mp4'}]}, 'expanded_url': 'https://twitter.com/TheTwittaumat/status/1132364555307376640/photo/1', 'url': 'https://t.co/CM7D1fkzLI', 'type': 'animated_gif', 'indices': [164, 187], 'sizes': {'large': {'w': 640, 'resize': 'fit', 'h': 360}, 'medium': {'w': 640, 'resize': 'fit', 'h': 360}, 'thumb': {'w': 150, 'resize': 'crop', 'h': 150}, 'small': {'w': 640, 'resize': 'fit', 'h': 360}}, 'id_str': '1132364521438351362', 'source_user_id_str': '3661695677', 'source_status_id': 1132364555307376640, 'media_url': 'http://pbs.twimg.com/tweet_video_thumb/D7b3iGCWkAIybTE.jpg', 'id': 1132364521438351362}]}, 'in_reply_to_user_id': None, 'favorited': False, 'place': None, 'entities': {'urls': [], 'media': [{'source_user_id': 3661695677, 'media_url_https': 'https://pbs.twimg.com/tweet_video_thumb/D7b3iGCWkAIybTE.jpg', 'display_url': 'pic.twitter.com/CM7D1fkzLI', 'source_status_id_str': '1132364555307376640', 'expanded_url': 'https://twitter.com/TheTwittaumat/status/1132364555307376640/photo/1', 'url': 'https://t.co/CM7D1fkzLI', 'type': 'photo', 'indices': [164, 187], 'sizes': {'large': {'w': 640, 'resize': 'fit', 'h': 360}, 'medium': {'w': 640, 'resize': 'fit', 'h': 360}, 'thumb': {'w': 150, 'resize': 'crop', 'h': 150}, 'small': {'w': 640, 'resize': 'fit', 'h': 360}}, 'id_str': '1132364521438351362', 'source_user_id_str': '3661695677', 'source_status_id': 1132364555307376640, 'media_url': 'http://pbs.twimg.com/tweet_video_thumb/D7b3iGCWkAIybTE.jpg', 'id': 1132364521438351362}], 'hashtags': [], 'symbols': [], 'user_mentions': [{'id_str': '390670328', 'screen_name': 'TheVoice_TF1', 'id': 390670328, 'name': 'The Voice Officiel', 'indices': [147, 160]}]}, 'in_reply_to_screen_name': None, 'possibly_sensitive': False, 'in_reply_to_status_id_str': None, 'coordinates': None, 'retweeted': False, 'retweet_count': 84, 'full_text': '📹 | “I just love you so much, thank you for having me! It’s so good to be back in France and it’s so nice to see you again. Thank you!\"- Taylor on @TheVoice_TF1 🇫🇷 https://t.co/CM7D1fkzLI', 'in_reply_to_status_id': None, 'source': '<a href=\"http://twitter.com/download/iphone\" rel=\"nofollow\">Twitter for iPhone</a>', 'user': {'description': 'Your best source for the latest and most reliable news, photos & more on Taylor Swift. 7+ years 📲 Turn notifications on | taylorswiftnz@hotmail.com', 'profile_use_background_image': True, 'translator_type': 'none', 'follow_request_sent': False, 'default_profile': False, 'has_extended_profile': False, 'default_profile_image': False, 'protected': False, 'friends_count': 399, 'lang': 'en', 'url': 'https://t.co/xiEv4lMyD8', 'name': 'Taylor Swift News', 'utc_offset': None, 'profile_image_url': 'http://pbs.twimg.com/profile_images/1121750835564699649/xCXqY1Eh_normal.png', 'favourites_count': 59174, 'notifications': False, 'time_zone': None, 'entities': {'description': {'urls': []}, 'url': {'urls': [{'expanded_url': 'http://tswiftnz.com', 'url': 'https://t.co/xiEv4lMyD8', 'display_url': 'tswiftnz.com', 'indices': [0, 23]}]}}, 'profile_sidebar_fill_color': 'DDEEF6', 'profile_sidebar_border_color': 'FFFFFF', 'id': 549788597, 'profile_background_tile': False, 'location': 'WORLDWIDE', 'profile_text_color': '333333', 'profile_link_color': '3B94D9', 'statuses_count': 48015, 'profile_background_color': 'FFFFFF', 'geo_enabled': True, 'verified': False, 'profile_image_url_https': 'https://pbs.twimg.com/profile_images/1121750835564699649/xCXqY1Eh_normal.png', 'is_translator': False, 'following': False, 'profile_background_image_url': 'http://abs.twimg.com/images/themes/theme1/bg.png', 'profile_banner_url': 'https://pbs.twimg.com/profile_banners/549788597/1556281063', 'screen_name': 'TSwiftNZ', 'contributors_enabled': False, 'created_at': 'Tue Apr 10 03:56:32 +0000 2012', 'id_str': '549788597', 'followers_count': 137530, 'profile_background_image_url_https': 'https://abs.twimg.com/images/themes/theme1/bg.png', 'listed_count': 754, 'is_translation_enabled': False}, 'in_reply_to_user_id_str': None, 'display_text_range': [0, 187], 'is_quote_status': False, 'id': 1132385584062685186, 'created_at': 'Sat May 25 20:38:56 +0000 2019', 'id_str': '1132385584062685186', 'contributors': None}, in_reply_to_user_id_str=None, full_text='📹 | “I just love you so much, thank you for having me! It’s so good to be back in France and it’s so nice to see you again. Thank you!\"- Taylor on @TheVoice_TF1 🇫🇷 https://t.co/CM7D1fkzLI', is_quote_status=False, in_reply_to_status_id_str=None, created_at=datetime.datetime(2019, 5, 25, 20, 38, 56), favorited=False, contributors=None, display_text_range=[0, 187], _api=<tweepy.api.API object at 0x7f476842f198>), place=None, id_str='1132479395635974144', source='Twitter for Android', lang='en', in_reply_to_user_id=None, source_url='http://twitter.com/download/android', truncated=False, entities={'urls': [], 'hashtags': [], 'symbols': [], 'user_mentions': [{'id_str': '549788597', 'screen_name': 'TSwiftNZ', 'id': 549788597, 'name': 'Taylor Swift News', 'indices': [3, 12]}]}, in_reply_to_screen_name=None, in_reply_to_status_id=None, id=1132479395635974144, coordinates=None, retweeted=False, retweet_count=84, author=User(has_extended_profile=False, protected=False, lang='en', name='mere', utc_offset=None, favourites_count=27836, time_zone=None, profile_text_color='333333', location='if u hate taylor gtfo', profile_link_color='1DA1F2', profile_background_color='F5F8FA', geo_enabled=False, verified=False, is_translator=False, _json={'description': 'i speak red 🇵🇭', 'profile_use_background_image': True, 'translator_type': 'none', 'follow_request_sent': False, 'default_profile': True, 'has_extended_profile': False, 'default_profile_image': False, 'protected': False, 'friends_count': 1015, 'lang': 'en', 'url': None, 'name': 'mere', 'utc_offset': None, 'profile_image_url': 'http://pbs.twimg.com/profile_images/1131622216129437696/FiiyQFVg_normal.jpg', 'favourites_count': 27836, 'notifications': False, 'time_zone': None, 'entities': {'description': {'urls': []}}, 'profile_sidebar_fill_color': 'DDEEF6', 'profile_sidebar_border_color': 'C0DEED', 'id': 925696128460374016, 'profile_background_tile': False, 'location': 'if u hate taylor gtfo', 'profile_text_color': '333333', 'profile_link_color': '1DA1F2', 'statuses_count': 20531, 'profile_background_color': 'F5F8FA', 'geo_enabled': False, 'verified': False, 'profile_image_url_https': 'https://pbs.twimg.com/profile_images/1131622216129437696/FiiyQFVg_normal.jpg', 'is_translator': False, 'following': False, 'profile_background_image_url': None, 'profile_banner_url': 'https://pbs.twimg.com/profile_banners/925696128460374016/1557371733', 'screen_name': 'taymerevia', 'contributors_enabled': False, 'created_at': 'Wed Nov 01 12:08:50 +0000 2017', 'id_str': '925696128460374016', 'followers_count': 995, 'profile_background_image_url_https': None, 'listed_count': 2, 'is_translation_enabled': False}, following=False, created_at=datetime.datetime(2017, 11, 1, 12, 8, 50), default_profile_image=False, profile_background_image_url_https=None, listed_count=2, is_translation_enabled=False, description='i speak red 🇵🇭', translator_type='none', default_profile=True, screen_name='taymerevia', friends_count=1015, url=None, id_str='925696128460374016', entities={'description': {'urls': []}}, profile_sidebar_fill_color='DDEEF6', profile_sidebar_border_color='C0DEED', id=925696128460374016, profile_background_tile=False, statuses_count=20531, profile_image_url_https='https://pbs.twimg.com/profile_images/1131622216129437696/FiiyQFVg_normal.jpg', profile_use_background_image=True, follow_request_sent=False, profile_background_image_url=None, profile_banner_url='https://pbs.twimg.com/profile_banners/925696128460374016/1557371733', contributors_enabled=False, notifications=False, profile_image_url='http://pbs.twimg.com/profile_images/1131622216129437696/FiiyQFVg_normal.jpg', followers_count=995, _api=<tweepy.api.API object at 0x7f476842f198>), favorite_count=0, user=User(has_extended_profile=False, protected=False, lang='en', name='mere', utc_offset=None, favourites_count=27836, time_zone=None, profile_text_color='333333', location='if u hate taylor gtfo', profile_link_color='1DA1F2', profile_background_color='F5F8FA', geo_enabled=False, verified=False, is_translator=False, _json={'description': 'i speak red 🇵🇭', 'profile_use_background_image': True, 'translator_type': 'none', 'follow_request_sent': False, 'default_profile': True, 'has_extended_profile': False, 'default_profile_image': False, 'protected': False, 'friends_count': 1015, 'lang': 'en', 'url': None, 'name': 'mere', 'utc_offset': None, 'profile_image_url': 'http://pbs.twimg.com/profile_images/1131622216129437696/FiiyQFVg_normal.jpg', 'favourites_count': 27836, 'notifications': False, 'time_zone': None, 'entities': {'description': {'urls': []}}, 'profile_sidebar_fill_color': 'DDEEF6', 'profile_sidebar_border_color': 'C0DEED', 'id': 925696128460374016, 'profile_background_tile': False, 'location': 'if u hate taylor gtfo', 'profile_text_color': '333333', 'profile_link_color': '1DA1F2', 'statuses_count': 20531, 'profile_background_color': 'F5F8FA', 'geo_enabled': False, 'verified': False, 'profile_image_url_https': 'https://pbs.twimg.com/profile_images/1131622216129437696/FiiyQFVg_normal.jpg', 'is_translator': False, 'following': False, 'profile_background_image_url': None, 'profile_banner_url': 'https://pbs.twimg.com/profile_banners/925696128460374016/1557371733', 'screen_name': 'taymerevia', 'contributors_enabled': False, 'created_at': 'Wed Nov 01 12:08:50 +0000 2017', 'id_str': '925696128460374016', 'followers_count': 995, 'profile_background_image_url_https': None, 'listed_count': 2, 'is_translation_enabled': False}, following=False, created_at=datetime.datetime(2017, 11, 1, 12, 8, 50), default_profile_image=False, profile_background_image_url_https=None, listed_count=2, is_translation_enabled=False, description='i speak red 🇵🇭', translator_type='none', default_profile=True, screen_name='taymerevia', friends_count=1015, url=None, id_str='925696128460374016', entities={'description': {'urls': []}}, profile_sidebar_fill_color='DDEEF6', profile_sidebar_border_color='C0DEED', id=925696128460374016, profile_background_tile=False, statuses_count=20531, profile_image_url_https='https://pbs.twimg.com/profile_images/1131622216129437696/FiiyQFVg_normal.jpg', profile_use_background_image=True, follow_request_sent=False, profile_background_image_url=None, profile_banner_url='https://pbs.twimg.com/profile_banners/925696128460374016/1557371733', contributors_enabled=False, notifications=False, profile_image_url='http://pbs.twimg.com/profile_images/1131622216129437696/FiiyQFVg_normal.jpg', followers_count=995, _api=<tweepy.api.API object at 0x7f476842f198>), _json={'metadata': {'iso_language_code': 'en', 'result_type': 'recent'}, 'lang': 'en', 'retweeted_status': {'metadata': {'iso_language_code': 'en', 'result_type': 'recent'}, 'lang': 'en', 'truncated': False, 'favorite_count': 441, 'geo': None, 'extended_entities': {'media': [{'source_user_id': 3661695677, 'media_url_https': 'https://pbs.twimg.com/tweet_video_thumb/D7b3iGCWkAIybTE.jpg', 'display_url': 'pic.twitter.com/CM7D1fkzLI', 'source_status_id_str': '1132364555307376640', 'video_info': {'aspect_ratio': [16, 9], 'variants': [{'content_type': 'video/mp4', 'bitrate': 0, 'url': 'https://video.twimg.com/tweet_video/D7b3iGCWkAIybTE.mp4'}]}, 'expanded_url': 'https://twitter.com/TheTwittaumat/status/1132364555307376640/photo/1', 'url': 'https://t.co/CM7D1fkzLI', 'type': 'animated_gif', 'indices': [164, 187], 'sizes': {'large': {'w': 640, 'resize': 'fit', 'h': 360}, 'medium': {'w': 640, 'resize': 'fit', 'h': 360}, 'thumb': {'w': 150, 'resize': 'crop', 'h': 150}, 'small': {'w': 640, 'resize': 'fit', 'h': 360}}, 'id_str': '1132364521438351362', 'source_user_id_str': '3661695677', 'source_status_id': 1132364555307376640, 'media_url': 'http://pbs.twimg.com/tweet_video_thumb/D7b3iGCWkAIybTE.jpg', 'id': 1132364521438351362}]}, 'in_reply_to_user_id': None, 'favorited': False, 'place': None, 'entities': {'urls': [], 'media': [{'source_user_id': 3661695677, 'media_url_https': 'https://pbs.twimg.com/tweet_video_thumb/D7b3iGCWkAIybTE.jpg', 'display_url': 'pic.twitter.com/CM7D1fkzLI', 'source_status_id_str': '1132364555307376640', 'expanded_url': 'https://twitter.com/TheTwittaumat/status/1132364555307376640/photo/1', 'url': 'https://t.co/CM7D1fkzLI', 'type': 'photo', 'indices': [164, 187], 'sizes': {'large': {'w': 640, 'resize': 'fit', 'h': 360}, 'medium': {'w': 640, 'resize': 'fit', 'h': 360}, 'thumb': {'w': 150, 'resize': 'crop', 'h': 150}, 'small': {'w': 640, 'resize': 'fit', 'h': 360}}, 'id_str': '1132364521438351362', 'source_user_id_str': '3661695677', 'source_status_id': 1132364555307376640, 'media_url': 'http://pbs.twimg.com/tweet_video_thumb/D7b3iGCWkAIybTE.jpg', 'id': 1132364521438351362}], 'hashtags': [], 'symbols': [], 'user_mentions': [{'id_str': '390670328', 'screen_name': 'TheVoice_TF1', 'id': 390670328, 'name': 'The Voice Officiel', 'indices': [147, 160]}]}, 'in_reply_to_screen_name': None, 'possibly_sensitive': False, 'in_reply_to_status_id_str': None, 'coordinates': None, 'retweeted': False, 'retweet_count': 84, 'full_text': '📹 | “I just love you so much, thank you for having me! It’s so good to be back in France and it’s so nice to see you again. Thank you!\"- Taylor on @TheVoice_TF1 🇫🇷 https://t.co/CM7D1fkzLI', 'in_reply_to_status_id': None, 'source': '<a href=\"http://twitter.com/download/iphone\" rel=\"nofollow\">Twitter for iPhone</a>', 'user': {'description': 'Your best source for the latest and most reliable news, photos & more on Taylor Swift. 7+ years 📲 Turn notifications on | taylorswiftnz@hotmail.com', 'profile_use_background_image': True, 'translator_type': 'none', 'follow_request_sent': False, 'default_profile': False, 'has_extended_profile': False, 'default_profile_image': False, 'protected': False, 'friends_count': 399, 'lang': 'en', 'url': 'https://t.co/xiEv4lMyD8', 'name': 'Taylor Swift News', 'utc_offset': None, 'profile_image_url': 'http://pbs.twimg.com/profile_images/1121750835564699649/xCXqY1Eh_normal.png', 'favourites_count': 59174, 'notifications': False, 'time_zone': None, 'entities': {'description': {'urls': []}, 'url': {'urls': [{'expanded_url': 'http://tswiftnz.com', 'url': 'https://t.co/xiEv4lMyD8', 'display_url': 'tswiftnz.com', 'indices': [0, 23]}]}}, 'profile_sidebar_fill_color': 'DDEEF6', 'profile_sidebar_border_color': 'FFFFFF', 'id': 549788597, 'profile_background_tile': False, 'location': 'WORLDWIDE', 'profile_text_color': '333333', 'profile_link_color': '3B94D9', 'statuses_count': 48015, 'profile_background_color': 'FFFFFF', 'geo_enabled': True, 'verified': False, 'profile_image_url_https': 'https://pbs.twimg.com/profile_images/1121750835564699649/xCXqY1Eh_normal.png', 'is_translator': False, 'following': False, 'profile_background_image_url': 'http://abs.twimg.com/images/themes/theme1/bg.png', 'profile_banner_url': 'https://pbs.twimg.com/profile_banners/549788597/1556281063', 'screen_name': 'TSwiftNZ', 'contributors_enabled': False, 'created_at': 'Tue Apr 10 03:56:32 +0000 2012', 'id_str': '549788597', 'followers_count': 137530, 'profile_background_image_url_https': 'https://abs.twimg.com/images/themes/theme1/bg.png', 'listed_count': 754, 'is_translation_enabled': False}, 'in_reply_to_user_id_str': None, 'display_text_range': [0, 187], 'is_quote_status': False, 'id': 1132385584062685186, 'created_at': 'Sat May 25 20:38:56 +0000 2019', 'id_str': '1132385584062685186', 'contributors': None}, 'truncated': False, 'favorite_count': 0, 'geo': None, 'in_reply_to_user_id': None, 'favorited': False, 'place': None, 'entities': {'urls': [], 'hashtags': [], 'symbols': [], 'user_mentions': [{'id_str': '549788597', 'screen_name': 'TSwiftNZ', 'id': 549788597, 'name': 'Taylor Swift News', 'indices': [3, 12]}]}, 'in_reply_to_screen_name': None, 'id': 1132479395635974144, 'coordinates': None, 'retweeted': False, 'retweet_count': 84, 'full_text': 'RT @TSwiftNZ: 📹 | “I just love you so much, thank you for having me! It’s so good to be back in France and it’s so nice to see you again. T…', 'in_reply_to_status_id': None, 'source': '<a href=\"http://twitter.com/download/android\" rel=\"nofollow\">Twitter for Android</a>', 'user': {'description': 'i speak red 🇵🇭', 'profile_use_background_image': True, 'translator_type': 'none', 'follow_request_sent': False, 'default_profile': True, 'has_extended_profile': False, 'default_profile_image': False, 'protected': False, 'friends_count': 1015, 'lang': 'en', 'url': None, 'name': 'mere', 'utc_offset': None, 'profile_image_url': 'http://pbs.twimg.com/profile_images/1131622216129437696/FiiyQFVg_normal.jpg', 'favourites_count': 27836, 'notifications': False, 'time_zone': None, 'entities': {'description': {'urls': []}}, 'profile_sidebar_fill_color': 'DDEEF6', 'profile_sidebar_border_color': 'C0DEED', 'id': 925696128460374016, 'profile_background_tile': False, 'location': 'if u hate taylor gtfo', 'profile_text_color': '333333', 'profile_link_color': '1DA1F2', 'statuses_count': 20531, 'profile_background_color': 'F5F8FA', 'geo_enabled': False, 'verified': False, 'profile_image_url_https': 'https://pbs.twimg.com/profile_images/1131622216129437696/FiiyQFVg_normal.jpg', 'is_translator': False, 'following': False, 'profile_background_image_url': None, 'profile_banner_url': 'https://pbs.twimg.com/profile_banners/925696128460374016/1557371733', 'screen_name': 'taymerevia', 'contributors_enabled': False, 'created_at': 'Wed Nov 01 12:08:50 +0000 2017', 'id_str': '925696128460374016', 'followers_count': 995, 'profile_background_image_url_https': None, 'listed_count': 2, 'is_translation_enabled': False}, 'in_reply_to_user_id_str': None, 'display_text_range': [0, 140], 'is_quote_status': False, 'in_reply_to_status_id_str': None, 'created_at': 'Sun May 26 02:51:43 +0000 2019', 'id_str': '1132479395635974144', 'contributors': None}, in_reply_to_user_id_str=None, full_text='RT @TSwiftNZ: 📹 | “I just love you so much, thank you for having me! It’s so good to be back in France and it’s so nice to see you again. T…', is_quote_status=False, in_reply_to_status_id_str=None, created_at=datetime.datetime(2019, 5, 26, 2, 51, 43), favorited=False, contributors=None, display_text_range=[0, 140], _api=<tweepy.api.API object at 0x7f476842f198>)\n"
     ]
    }
   ],
   "source": [
    "test = search_tweets(\"'france' and 'nice'\",1)"
   ]
  },
  {
   "cell_type": "code",
   "execution_count": 146,
   "metadata": {},
   "outputs": [
    {
     "name": "stdout",
     "output_type": "stream",
     "text": [
      "[{'Tweet Created At': datetime.datetime(2019, 5, 26, 2, 51, 43), 'Favorite Count': 0, 'User Location': 'if u hate taylor gtfo', 'Tweet Text': 'RT @TSwiftNZ: 📹 | “I just love you so much, thank you for having me! It’s so good to be back in France and it’s so nice to see you again. T…', 'User Name': 'mere', 'Favorited': False, 'Tweet Coordinates': None, 'Retweeted': False, 'Replied': None, 'Phone Type': 'Twitter for Android', 'Retweet Count': 84, 'Screen Name': 'taymerevia', 'id': '1132479395635974144'}]\n"
     ]
    }
   ],
   "source": [
    "print(test)"
   ]
  },
  {
   "cell_type": "code",
   "execution_count": 129,
   "metadata": {},
   "outputs": [],
   "source": [
    "for i in result:\n",
    "    print(i)"
   ]
  },
  {
   "cell_type": "code",
   "execution_count": 33,
   "metadata": {},
   "outputs": [
    {
     "name": "stdout",
     "output_type": "stream",
     "text": [
      "Status(metadata={'iso_language_code': 'en', 'result_type': 'recent'}, geo=None, retweeted_status=Status(metadata={'iso_language_code': 'en', 'result_type': 'recent'}, geo=None, place=None, id_str='1131880486685560832', source='Twitter Web Client', lang='en', in_reply_to_user_id=None, text=\"Happy with @JustinTrudeau's government: \\nOmar Khadr\\nAngry with Justin Trudeau's government: \\nMark Norman, Jody Wils… https://t.co/1tnCdYd6uk\", source_url='http://twitter.com', truncated=True, entities={'urls': [{'expanded_url': 'https://twitter.com/i/web/status/1131880486685560832', 'url': 'https://t.co/1tnCdYd6uk', 'display_url': 'twitter.com/i/web/status/1…', 'indices': [117, 140]}], 'hashtags': [], 'symbols': [], 'user_mentions': [{'id_str': '14260960', 'screen_name': 'JustinTrudeau', 'id': 14260960, 'name': 'Justin Trudeau', 'indices': [11, 25]}]}, in_reply_to_screen_name=None, in_reply_to_status_id=None, id=1131880486685560832, coordinates=None, retweeted=False, retweet_count=4, author=User(has_extended_profile=False, protected=False, lang='en', name='Lorrie Goldstein', utc_offset=None, favourites_count=66773, time_zone=None, profile_text_color='333333', location='website:', profile_link_color='1DA1F2', profile_background_color='C0DEED', geo_enabled=True, verified=True, is_translator=False, _json={'description': 'Editor Emeritus, Columnist, Toronto Sun/Sun Media; Commentator, Newstalk1010, National Post radio. email: lgoldstein@postmedia.com', 'profile_use_background_image': True, 'translator_type': 'none', 'follow_request_sent': False, 'default_profile': True, 'has_extended_profile': False, 'default_profile_image': False, 'protected': False, 'friends_count': 1336, 'lang': 'en', 'url': 'http://t.co/lADjtqkQj2', 'name': 'Lorrie Goldstein', 'utc_offset': None, 'profile_image_url': 'http://pbs.twimg.com/profile_images/1251779388/lorrie_goldstein248_normal.jpg', 'favourites_count': 66773, 'notifications': False, 'time_zone': None, 'entities': {'description': {'urls': []}, 'url': {'urls': [{'expanded_url': 'http://www.torontosun.com', 'url': 'http://t.co/lADjtqkQj2', 'display_url': 'torontosun.com', 'indices': [0, 22]}]}}, 'profile_sidebar_fill_color': 'DDEEF6', 'profile_sidebar_border_color': 'C0DEED', 'id': 255340030, 'profile_background_tile': False, 'location': 'website:', 'profile_text_color': '333333', 'profile_link_color': '1DA1F2', 'statuses_count': 161289, 'profile_background_color': 'C0DEED', 'geo_enabled': True, 'verified': True, 'profile_image_url_https': 'https://pbs.twimg.com/profile_images/1251779388/lorrie_goldstein248_normal.jpg', 'is_translator': False, 'following': False, 'profile_background_image_url': 'http://abs.twimg.com/images/themes/theme1/bg.png', 'screen_name': 'sunlorrie', 'contributors_enabled': False, 'created_at': 'Mon Feb 21 04:36:12 +0000 2011', 'id_str': '255340030', 'followers_count': 36497, 'profile_background_image_url_https': 'https://abs.twimg.com/images/themes/theme1/bg.png', 'listed_count': 492, 'is_translation_enabled': False}, following=False, created_at=datetime.datetime(2011, 2, 21, 4, 36, 12), default_profile_image=False, profile_background_image_url_https='https://abs.twimg.com/images/themes/theme1/bg.png', listed_count=492, is_translation_enabled=False, description='Editor Emeritus, Columnist, Toronto Sun/Sun Media; Commentator, Newstalk1010, National Post radio. email: lgoldstein@postmedia.com', translator_type='none', default_profile=True, screen_name='sunlorrie', friends_count=1336, url='http://t.co/lADjtqkQj2', id_str='255340030', entities={'description': {'urls': []}, 'url': {'urls': [{'expanded_url': 'http://www.torontosun.com', 'url': 'http://t.co/lADjtqkQj2', 'display_url': 'torontosun.com', 'indices': [0, 22]}]}}, profile_sidebar_fill_color='DDEEF6', profile_sidebar_border_color='C0DEED', id=255340030, profile_background_tile=False, statuses_count=161289, profile_image_url_https='https://pbs.twimg.com/profile_images/1251779388/lorrie_goldstein248_normal.jpg', profile_use_background_image=True, follow_request_sent=False, profile_background_image_url='http://abs.twimg.com/images/themes/theme1/bg.png', contributors_enabled=False, notifications=False, profile_image_url='http://pbs.twimg.com/profile_images/1251779388/lorrie_goldstein248_normal.jpg', followers_count=36497, _api=<tweepy.api.API object at 0x7f476a3fbd68>), favorite_count=13, user=User(has_extended_profile=False, protected=False, lang='en', name='Lorrie Goldstein', utc_offset=None, favourites_count=66773, time_zone=None, profile_text_color='333333', location='website:', profile_link_color='1DA1F2', profile_background_color='C0DEED', geo_enabled=True, verified=True, is_translator=False, _json={'description': 'Editor Emeritus, Columnist, Toronto Sun/Sun Media; Commentator, Newstalk1010, National Post radio. email: lgoldstein@postmedia.com', 'profile_use_background_image': True, 'translator_type': 'none', 'follow_request_sent': False, 'default_profile': True, 'has_extended_profile': False, 'default_profile_image': False, 'protected': False, 'friends_count': 1336, 'lang': 'en', 'url': 'http://t.co/lADjtqkQj2', 'name': 'Lorrie Goldstein', 'utc_offset': None, 'profile_image_url': 'http://pbs.twimg.com/profile_images/1251779388/lorrie_goldstein248_normal.jpg', 'favourites_count': 66773, 'notifications': False, 'time_zone': None, 'entities': {'description': {'urls': []}, 'url': {'urls': [{'expanded_url': 'http://www.torontosun.com', 'url': 'http://t.co/lADjtqkQj2', 'display_url': 'torontosun.com', 'indices': [0, 22]}]}}, 'profile_sidebar_fill_color': 'DDEEF6', 'profile_sidebar_border_color': 'C0DEED', 'id': 255340030, 'profile_background_tile': False, 'location': 'website:', 'profile_text_color': '333333', 'profile_link_color': '1DA1F2', 'statuses_count': 161289, 'profile_background_color': 'C0DEED', 'geo_enabled': True, 'verified': True, 'profile_image_url_https': 'https://pbs.twimg.com/profile_images/1251779388/lorrie_goldstein248_normal.jpg', 'is_translator': False, 'following': False, 'profile_background_image_url': 'http://abs.twimg.com/images/themes/theme1/bg.png', 'screen_name': 'sunlorrie', 'contributors_enabled': False, 'created_at': 'Mon Feb 21 04:36:12 +0000 2011', 'id_str': '255340030', 'followers_count': 36497, 'profile_background_image_url_https': 'https://abs.twimg.com/images/themes/theme1/bg.png', 'listed_count': 492, 'is_translation_enabled': False}, following=False, created_at=datetime.datetime(2011, 2, 21, 4, 36, 12), default_profile_image=False, profile_background_image_url_https='https://abs.twimg.com/images/themes/theme1/bg.png', listed_count=492, is_translation_enabled=False, description='Editor Emeritus, Columnist, Toronto Sun/Sun Media; Commentator, Newstalk1010, National Post radio. email: lgoldstein@postmedia.com', translator_type='none', default_profile=True, screen_name='sunlorrie', friends_count=1336, url='http://t.co/lADjtqkQj2', id_str='255340030', entities={'description': {'urls': []}, 'url': {'urls': [{'expanded_url': 'http://www.torontosun.com', 'url': 'http://t.co/lADjtqkQj2', 'display_url': 'torontosun.com', 'indices': [0, 22]}]}}, profile_sidebar_fill_color='DDEEF6', profile_sidebar_border_color='C0DEED', id=255340030, profile_background_tile=False, statuses_count=161289, profile_image_url_https='https://pbs.twimg.com/profile_images/1251779388/lorrie_goldstein248_normal.jpg', profile_use_background_image=True, follow_request_sent=False, profile_background_image_url='http://abs.twimg.com/images/themes/theme1/bg.png', contributors_enabled=False, notifications=False, profile_image_url='http://pbs.twimg.com/profile_images/1251779388/lorrie_goldstein248_normal.jpg', followers_count=36497, _api=<tweepy.api.API object at 0x7f476a3fbd68>), _json={'metadata': {'iso_language_code': 'en', 'result_type': 'recent'}, 'lang': 'en', 'truncated': True, 'source': '<a href=\"http://twitter.com\" rel=\"nofollow\">Twitter Web Client</a>', 'geo': None, 'in_reply_to_user_id': None, 'favorited': False, 'place': None, 'entities': {'urls': [{'expanded_url': 'https://twitter.com/i/web/status/1131880486685560832', 'url': 'https://t.co/1tnCdYd6uk', 'display_url': 'twitter.com/i/web/status/1…', 'indices': [117, 140]}], 'hashtags': [], 'symbols': [], 'user_mentions': [{'id_str': '14260960', 'screen_name': 'JustinTrudeau', 'id': 14260960, 'name': 'Justin Trudeau', 'indices': [11, 25]}]}, 'in_reply_to_screen_name': None, 'id': 1131880486685560832, 'coordinates': None, 'retweeted': False, 'retweet_count': 4, 'in_reply_to_status_id': None, 'favorite_count': 13, 'user': {'description': 'Editor Emeritus, Columnist, Toronto Sun/Sun Media; Commentator, Newstalk1010, National Post radio. email: lgoldstein@postmedia.com', 'profile_use_background_image': True, 'translator_type': 'none', 'follow_request_sent': False, 'default_profile': True, 'has_extended_profile': False, 'default_profile_image': False, 'protected': False, 'friends_count': 1336, 'lang': 'en', 'url': 'http://t.co/lADjtqkQj2', 'name': 'Lorrie Goldstein', 'utc_offset': None, 'profile_image_url': 'http://pbs.twimg.com/profile_images/1251779388/lorrie_goldstein248_normal.jpg', 'favourites_count': 66773, 'notifications': False, 'time_zone': None, 'entities': {'description': {'urls': []}, 'url': {'urls': [{'expanded_url': 'http://www.torontosun.com', 'url': 'http://t.co/lADjtqkQj2', 'display_url': 'torontosun.com', 'indices': [0, 22]}]}}, 'profile_sidebar_fill_color': 'DDEEF6', 'profile_sidebar_border_color': 'C0DEED', 'id': 255340030, 'profile_background_tile': False, 'location': 'website:', 'profile_text_color': '333333', 'profile_link_color': '1DA1F2', 'statuses_count': 161289, 'profile_background_color': 'C0DEED', 'geo_enabled': True, 'verified': True, 'profile_image_url_https': 'https://pbs.twimg.com/profile_images/1251779388/lorrie_goldstein248_normal.jpg', 'is_translator': False, 'following': False, 'profile_background_image_url': 'http://abs.twimg.com/images/themes/theme1/bg.png', 'screen_name': 'sunlorrie', 'contributors_enabled': False, 'created_at': 'Mon Feb 21 04:36:12 +0000 2011', 'id_str': '255340030', 'followers_count': 36497, 'profile_background_image_url_https': 'https://abs.twimg.com/images/themes/theme1/bg.png', 'listed_count': 492, 'is_translation_enabled': False}, 'text': \"Happy with @JustinTrudeau's government: \\nOmar Khadr\\nAngry with Justin Trudeau's government: \\nMark Norman, Jody Wils… https://t.co/1tnCdYd6uk\", 'in_reply_to_user_id_str': None, 'is_quote_status': False, 'in_reply_to_status_id_str': None, 'created_at': 'Fri May 24 11:11:52 +0000 2019', 'id_str': '1131880486685560832', 'contributors': None}, in_reply_to_user_id_str=None, is_quote_status=False, in_reply_to_status_id_str=None, created_at=datetime.datetime(2019, 5, 24, 11, 11, 52), favorited=False, contributors=None, _api=<tweepy.api.API object at 0x7f476a3fbd68>), place=None, id_str='1131881924132139008', source='Twitter for iPad', lang='en', in_reply_to_user_id=None, text=\"RT @sunlorrie: Happy with @JustinTrudeau's government: \\nOmar Khadr\\nAngry with Justin Trudeau's government: \\nMark Norman, Jody Wilson-Raybou…\", source_url='http://twitter.com/#!/download/ipad', truncated=False, entities={'urls': [], 'hashtags': [], 'symbols': [], 'user_mentions': [{'id_str': '255340030', 'screen_name': 'sunlorrie', 'id': 255340030, 'name': 'Lorrie Goldstein', 'indices': [3, 13]}, {'id_str': '14260960', 'screen_name': 'JustinTrudeau', 'id': 14260960, 'name': 'Justin Trudeau', 'indices': [26, 40]}]}, in_reply_to_screen_name=None, in_reply_to_status_id=None, id=1131881924132139008, coordinates=None, retweeted=False, retweet_count=4, author=User(has_extended_profile=False, protected=False, lang='en', name='Jim Publow', utc_offset=None, favourites_count=14719, time_zone=None, profile_text_color='333333', location='', profile_link_color='1DA1F2', profile_background_color='C0DEED', geo_enabled=True, verified=False, is_translator=False, _json={'description': '', 'profile_use_background_image': True, 'translator_type': 'none', 'follow_request_sent': False, 'default_profile': True, 'has_extended_profile': False, 'default_profile_image': True, 'protected': False, 'friends_count': 415, 'lang': 'en', 'url': None, 'name': 'Jim Publow', 'utc_offset': None, 'profile_image_url': 'http://abs.twimg.com/sticky/default_profile_images/default_profile_normal.png', 'favourites_count': 14719, 'notifications': False, 'time_zone': None, 'entities': {'description': {'urls': []}}, 'profile_sidebar_fill_color': 'DDEEF6', 'profile_sidebar_border_color': 'C0DEED', 'id': 44046570, 'profile_background_tile': False, 'location': '', 'profile_text_color': '333333', 'profile_link_color': '1DA1F2', 'statuses_count': 15498, 'profile_background_color': 'C0DEED', 'geo_enabled': True, 'verified': False, 'profile_image_url_https': 'https://abs.twimg.com/sticky/default_profile_images/default_profile_normal.png', 'is_translator': False, 'following': False, 'profile_background_image_url': 'http://abs.twimg.com/images/themes/theme1/bg.png', 'screen_name': 'cubes2013', 'contributors_enabled': False, 'created_at': 'Tue Jun 02 03:16:43 +0000 2009', 'id_str': '44046570', 'followers_count': 120, 'profile_background_image_url_https': 'https://abs.twimg.com/images/themes/theme1/bg.png', 'listed_count': 2, 'is_translation_enabled': False}, following=False, created_at=datetime.datetime(2009, 6, 2, 3, 16, 43), default_profile_image=True, profile_background_image_url_https='https://abs.twimg.com/images/themes/theme1/bg.png', listed_count=2, is_translation_enabled=False, description='', translator_type='none', default_profile=True, screen_name='cubes2013', friends_count=415, url=None, id_str='44046570', entities={'description': {'urls': []}}, profile_sidebar_fill_color='DDEEF6', profile_sidebar_border_color='C0DEED', id=44046570, profile_background_tile=False, statuses_count=15498, profile_image_url_https='https://abs.twimg.com/sticky/default_profile_images/default_profile_normal.png', profile_use_background_image=True, follow_request_sent=False, profile_background_image_url='http://abs.twimg.com/images/themes/theme1/bg.png', contributors_enabled=False, notifications=False, profile_image_url='http://abs.twimg.com/sticky/default_profile_images/default_profile_normal.png', followers_count=120, _api=<tweepy.api.API object at 0x7f476a3fbd68>), favorite_count=0, user=User(has_extended_profile=False, protected=False, lang='en', name='Jim Publow', utc_offset=None, favourites_count=14719, time_zone=None, profile_text_color='333333', location='', profile_link_color='1DA1F2', profile_background_color='C0DEED', geo_enabled=True, verified=False, is_translator=False, _json={'description': '', 'profile_use_background_image': True, 'translator_type': 'none', 'follow_request_sent': False, 'default_profile': True, 'has_extended_profile': False, 'default_profile_image': True, 'protected': False, 'friends_count': 415, 'lang': 'en', 'url': None, 'name': 'Jim Publow', 'utc_offset': None, 'profile_image_url': 'http://abs.twimg.com/sticky/default_profile_images/default_profile_normal.png', 'favourites_count': 14719, 'notifications': False, 'time_zone': None, 'entities': {'description': {'urls': []}}, 'profile_sidebar_fill_color': 'DDEEF6', 'profile_sidebar_border_color': 'C0DEED', 'id': 44046570, 'profile_background_tile': False, 'location': '', 'profile_text_color': '333333', 'profile_link_color': '1DA1F2', 'statuses_count': 15498, 'profile_background_color': 'C0DEED', 'geo_enabled': True, 'verified': False, 'profile_image_url_https': 'https://abs.twimg.com/sticky/default_profile_images/default_profile_normal.png', 'is_translator': False, 'following': False, 'profile_background_image_url': 'http://abs.twimg.com/images/themes/theme1/bg.png', 'screen_name': 'cubes2013', 'contributors_enabled': False, 'created_at': 'Tue Jun 02 03:16:43 +0000 2009', 'id_str': '44046570', 'followers_count': 120, 'profile_background_image_url_https': 'https://abs.twimg.com/images/themes/theme1/bg.png', 'listed_count': 2, 'is_translation_enabled': False}, following=False, created_at=datetime.datetime(2009, 6, 2, 3, 16, 43), default_profile_image=True, profile_background_image_url_https='https://abs.twimg.com/images/themes/theme1/bg.png', listed_count=2, is_translation_enabled=False, description='', translator_type='none', default_profile=True, screen_name='cubes2013', friends_count=415, url=None, id_str='44046570', entities={'description': {'urls': []}}, profile_sidebar_fill_color='DDEEF6', profile_sidebar_border_color='C0DEED', id=44046570, profile_background_tile=False, statuses_count=15498, profile_image_url_https='https://abs.twimg.com/sticky/default_profile_images/default_profile_normal.png', profile_use_background_image=True, follow_request_sent=False, profile_background_image_url='http://abs.twimg.com/images/themes/theme1/bg.png', contributors_enabled=False, notifications=False, profile_image_url='http://abs.twimg.com/sticky/default_profile_images/default_profile_normal.png', followers_count=120, _api=<tweepy.api.API object at 0x7f476a3fbd68>), _json={'metadata': {'iso_language_code': 'en', 'result_type': 'recent'}, 'lang': 'en', 'retweeted_status': {'metadata': {'iso_language_code': 'en', 'result_type': 'recent'}, 'lang': 'en', 'truncated': True, 'source': '<a href=\"http://twitter.com\" rel=\"nofollow\">Twitter Web Client</a>', 'geo': None, 'in_reply_to_user_id': None, 'favorited': False, 'place': None, 'entities': {'urls': [{'expanded_url': 'https://twitter.com/i/web/status/1131880486685560832', 'url': 'https://t.co/1tnCdYd6uk', 'display_url': 'twitter.com/i/web/status/1…', 'indices': [117, 140]}], 'hashtags': [], 'symbols': [], 'user_mentions': [{'id_str': '14260960', 'screen_name': 'JustinTrudeau', 'id': 14260960, 'name': 'Justin Trudeau', 'indices': [11, 25]}]}, 'in_reply_to_screen_name': None, 'id': 1131880486685560832, 'coordinates': None, 'retweeted': False, 'retweet_count': 4, 'in_reply_to_status_id': None, 'favorite_count': 13, 'user': {'description': 'Editor Emeritus, Columnist, Toronto Sun/Sun Media; Commentator, Newstalk1010, National Post radio. email: lgoldstein@postmedia.com', 'profile_use_background_image': True, 'translator_type': 'none', 'follow_request_sent': False, 'default_profile': True, 'has_extended_profile': False, 'default_profile_image': False, 'protected': False, 'friends_count': 1336, 'lang': 'en', 'url': 'http://t.co/lADjtqkQj2', 'name': 'Lorrie Goldstein', 'utc_offset': None, 'profile_image_url': 'http://pbs.twimg.com/profile_images/1251779388/lorrie_goldstein248_normal.jpg', 'favourites_count': 66773, 'notifications': False, 'time_zone': None, 'entities': {'description': {'urls': []}, 'url': {'urls': [{'expanded_url': 'http://www.torontosun.com', 'url': 'http://t.co/lADjtqkQj2', 'display_url': 'torontosun.com', 'indices': [0, 22]}]}}, 'profile_sidebar_fill_color': 'DDEEF6', 'profile_sidebar_border_color': 'C0DEED', 'id': 255340030, 'profile_background_tile': False, 'location': 'website:', 'profile_text_color': '333333', 'profile_link_color': '1DA1F2', 'statuses_count': 161289, 'profile_background_color': 'C0DEED', 'geo_enabled': True, 'verified': True, 'profile_image_url_https': 'https://pbs.twimg.com/profile_images/1251779388/lorrie_goldstein248_normal.jpg', 'is_translator': False, 'following': False, 'profile_background_image_url': 'http://abs.twimg.com/images/themes/theme1/bg.png', 'screen_name': 'sunlorrie', 'contributors_enabled': False, 'created_at': 'Mon Feb 21 04:36:12 +0000 2011', 'id_str': '255340030', 'followers_count': 36497, 'profile_background_image_url_https': 'https://abs.twimg.com/images/themes/theme1/bg.png', 'listed_count': 492, 'is_translation_enabled': False}, 'text': \"Happy with @JustinTrudeau's government: \\nOmar Khadr\\nAngry with Justin Trudeau's government: \\nMark Norman, Jody Wils… https://t.co/1tnCdYd6uk\", 'in_reply_to_user_id_str': None, 'is_quote_status': False, 'in_reply_to_status_id_str': None, 'created_at': 'Fri May 24 11:11:52 +0000 2019', 'id_str': '1131880486685560832', 'contributors': None}, 'truncated': False, 'favorite_count': 0, 'geo': None, 'in_reply_to_user_id': None, 'favorited': False, 'place': None, 'entities': {'urls': [], 'hashtags': [], 'symbols': [], 'user_mentions': [{'id_str': '255340030', 'screen_name': 'sunlorrie', 'id': 255340030, 'name': 'Lorrie Goldstein', 'indices': [3, 13]}, {'id_str': '14260960', 'screen_name': 'JustinTrudeau', 'id': 14260960, 'name': 'Justin Trudeau', 'indices': [26, 40]}]}, 'in_reply_to_screen_name': None, 'id': 1131881924132139008, 'coordinates': None, 'retweeted': False, 'retweet_count': 4, 'in_reply_to_status_id': None, 'source': '<a href=\"http://twitter.com/#!/download/ipad\" rel=\"nofollow\">Twitter for iPad</a>', 'user': {'description': '', 'profile_use_background_image': True, 'translator_type': 'none', 'follow_request_sent': False, 'default_profile': True, 'has_extended_profile': False, 'default_profile_image': True, 'protected': False, 'friends_count': 415, 'lang': 'en', 'url': None, 'name': 'Jim Publow', 'utc_offset': None, 'profile_image_url': 'http://abs.twimg.com/sticky/default_profile_images/default_profile_normal.png', 'favourites_count': 14719, 'notifications': False, 'time_zone': None, 'entities': {'description': {'urls': []}}, 'profile_sidebar_fill_color': 'DDEEF6', 'profile_sidebar_border_color': 'C0DEED', 'id': 44046570, 'profile_background_tile': False, 'location': '', 'profile_text_color': '333333', 'profile_link_color': '1DA1F2', 'statuses_count': 15498, 'profile_background_color': 'C0DEED', 'geo_enabled': True, 'verified': False, 'profile_image_url_https': 'https://abs.twimg.com/sticky/default_profile_images/default_profile_normal.png', 'is_translator': False, 'following': False, 'profile_background_image_url': 'http://abs.twimg.com/images/themes/theme1/bg.png', 'screen_name': 'cubes2013', 'contributors_enabled': False, 'created_at': 'Tue Jun 02 03:16:43 +0000 2009', 'id_str': '44046570', 'followers_count': 120, 'profile_background_image_url_https': 'https://abs.twimg.com/images/themes/theme1/bg.png', 'listed_count': 2, 'is_translation_enabled': False}, 'text': \"RT @sunlorrie: Happy with @JustinTrudeau's government: \\nOmar Khadr\\nAngry with Justin Trudeau's government: \\nMark Norman, Jody Wilson-Raybou…\", 'in_reply_to_user_id_str': None, 'is_quote_status': False, 'in_reply_to_status_id_str': None, 'created_at': 'Fri May 24 11:17:34 +0000 2019', 'id_str': '1131881924132139008', 'contributors': None}, in_reply_to_user_id_str=None, is_quote_status=False, in_reply_to_status_id_str=None, created_at=datetime.datetime(2019, 5, 24, 11, 17, 34), favorited=False, contributors=None, _api=<tweepy.api.API object at 0x7f476a3fbd68>)\n"
     ]
    }
   ],
   "source": [
    "def get_tweets(listOfTweets, keyword, numOfTweets):\n",
    "    # Iterate through all tweets containing the given word, api search mode\n",
    "    for tweet in tweepy.Cursor(api.search, q=keyword).items(numOfTweets):\n",
    "        # Add tweets in this format\n",
    "        dict_ = {'Screen Name': tweet.user.screen_name,\n",
    "                'User Name': tweet.user.name,\n",
    "                'Tweet Created At': unicode(tweet.created_at),\n",
    "                'Tweet Text': tweet.text,\n",
    "                'User Location': unicode(tweet.user.location),\n",
    "                'Tweet Coordinates': unicode(tweet.coordinates),\n",
    "                'Retweet Count': unicode(tweet.retweet_count),\n",
    "                'Retweeted': unicode(tweet.retweeted),\n",
    "                'Phone Type': unicode(tweet.source),\n",
    "                'Favorite Count': unicode(tweet.favorite_count),\n",
    "                'Favorited': unicode(tweet.favorited),\n",
    "                'Replied': unicode(tweet.in_reply_to_status_id_str)\n",
    "                }\n",
    "        listOfTweets.append(dict_)   \n",
    "    return listOfTweets\n",
    "\n",
    "# Connect to DB "
   ]
  },
  {
   "cell_type": "code",
   "execution_count": null,
   "metadata": {},
   "outputs": [],
   "source": [
    "\n",
    "class TwitterClient(object): \n",
    "    def __init__(self):\n",
    "        try: \n",
    "            # OAuthHandler object \n",
    "            auth = OAuthHandler(consumer_key, consumer_secret) \n",
    "            # set access token and secret \n",
    "            auth.set_access_token(access_token, access_token_secret) \n",
    "            # create tweepy API object to fetch tweets \n",
    "            self.api = tweepy.API(auth, wait_on_rate_limit=True, wait_on_rate_limit_notify=True)\n",
    "            \n",
    "        except tweepy.TweepError as e:\n",
    "            print(f\"Error: Twitter Authentication Failed - \\n{str(e)}\") \n",
    "\n",
    "    # Function to fetch tweets\n",
    "    def get_tweets(self, query, maxTweets = 1000): \n",
    "        # empty list to store parsed tweets \n",
    "        tweets = [] \n",
    "        sinceId = None\n",
    "        max_id = -1\n",
    "        tweetCount = 0\n",
    "        tweetsPerQry = 100\n",
    "        \n",
    "        while tweetCount < maxTweets:\n",
    "            try:\n",
    "                if (max_id <= 0):\n",
    "                    if (not sinceId):\n",
    "                        new_tweets = self.api.search(q=query, count=tweetsPerQry)\n",
    "                    else:\n",
    "                        new_tweets = self.api.search(q=query, count=tweetsPerQry,\n",
    "                                                since_id=sinceId)\n",
    "                else:\n",
    "                    if (not sinceId):\n",
    "                        new_tweets = self.api.search(q=query, count=tweetsPerQry,\n",
    "                                                max_id=str(max_id - 1))\n",
    "                    else:\n",
    "                        new_tweets = self.api.search(q=query, count=tweetsPerQry,\n",
    "                                                max_id=str(max_id - 1),\n",
    "                                                since_id=sinceId)\n",
    "                if not new_tweets:\n",
    "                    print(\"No more tweets found\")\n",
    "                    break\n",
    "                    \n",
    "                for tweet in new_tweets:\n",
    "                    parsed_tweet = {} \n",
    "                    parsed_tweet['tweets'] = tweet.text \n",
    "\n",
    "                    # appending parsed tweet to tweets list \n",
    "                    if tweet.retweet_count > 0: \n",
    "                        # if tweet has retweets, ensure that it is appended only once \n",
    "                        if parsed_tweet not in tweets: \n",
    "                            tweets.append(parsed_tweet) \n",
    "                    else: \n",
    "                        tweets.append(parsed_tweet) \n",
    "                        \n",
    "                tweetCount += len(new_tweets)\n",
    "                print(\"Downloaded {0} tweets\".format(tweetCount))\n",
    "                max_id = new_tweets[-1].id\n",
    "\n",
    "            except tweepy.TweepError as e:\n",
    "                print(\"Tweepy error : \" + str(e))\n",
    "                break\n",
    "        \n",
    "        return pd.DataFrame(tweets)"
   ]
  },
  {
   "cell_type": "code",
   "execution_count": null,
   "metadata": {},
   "outputs": [],
   "source": []
  }
 ],
 "metadata": {
  "kernelspec": {
   "display_name": "Python 3",
   "language": "python",
   "name": "python3"
  },
  "language_info": {
   "codemirror_mode": {
    "name": "ipython",
    "version": 3
   },
   "file_extension": ".py",
   "mimetype": "text/x-python",
   "name": "python",
   "nbconvert_exporter": "python",
   "pygments_lexer": "ipython3",
   "version": "3.5.2"
  }
 },
 "nbformat": 4,
 "nbformat_minor": 2
}
