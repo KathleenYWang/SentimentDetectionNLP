{
 "cells": [
  {
   "cell_type": "markdown",
   "metadata": {},
   "source": [
    "# Review results from different models\n",
    "### Both Bert and HApy"
   ]
  },
  {
   "cell_type": "code",
   "execution_count": 1,
   "metadata": {},
   "outputs": [],
   "source": [
    "from module.evaluate import load_dev_labels, get_metrics\n",
    "import pandas as pd\n",
    "import numpy as np\n",
    "import pickle as pkl"
   ]
  },
  {
   "cell_type": "markdown",
   "metadata": {},
   "source": [
    "## get result for final test by model:\n",
    "infer_result_ft_m0.pkl  #inferred results of model 0 on final test  \n",
    "infer_result_wiki_m0.pkl #inferred results of model 0 on wiki  \n",
    "infer_result_enr_m0.pkl #inferred results of model 0 on enron  \n",
    "infer_result_imdb_m0.pkl #inferred results of model 0 on IMDB  \n",
    "infer_result_ft_m1.pkl  #inferred results of model 1 on final test    \n",
    "\n",
    "##### model 0: trained on wiki toxicity comments\n",
    "##### model 1: continue training model 0 on labeled enron email\n",
    "##### model 2: continue training model 1 on IMDB review - interim\n",
    "##### model 3: continue training model 1 on IMDB review - final"
   ]
  },
  {
   "cell_type": "code",
   "execution_count": 55,
   "metadata": {},
   "outputs": [],
   "source": [
    "final_test = pd.read_csv(\"/data/SuperMod/final_test.csv\")\n",
    "enron_test = pd.read_csv(\"/data/SuperMod/data_supermod_test.csv\")\n",
    "imdb_test = pd.read_csv(\"/data/SuperMod/imdb_test.csv\")\n",
    "wiki_test = pd.read_csv(\"/data/ToxicityDataOld/test_with_labels.csv\")"
   ]
  },
  {
   "cell_type": "code",
   "execution_count": 56,
   "metadata": {},
   "outputs": [],
   "source": [
    "final_test_actual = final_test.toxicity\n",
    "enron_test_actual = enron_test.toxicity\n",
    "imdb_test_actual = imdb_test.toxicity\n",
    "wiki_test_actual = wiki_test.toxic\n"
   ]
  },
  {
   "cell_type": "code",
   "execution_count": 18,
   "metadata": {},
   "outputs": [
    {
     "data": {
      "text/html": [
       "<div>\n",
       "<style scoped>\n",
       "    .dataframe tbody tr th:only-of-type {\n",
       "        vertical-align: middle;\n",
       "    }\n",
       "\n",
       "    .dataframe tbody tr th {\n",
       "        vertical-align: top;\n",
       "    }\n",
       "\n",
       "    .dataframe thead th {\n",
       "        text-align: right;\n",
       "    }\n",
       "</style>\n",
       "<table border=\"1\" class=\"dataframe\">\n",
       "  <thead>\n",
       "    <tr style=\"text-align: right;\">\n",
       "      <th></th>\n",
       "      <th>comment_text</th>\n",
       "      <th>toxicity</th>\n",
       "      <th>degree</th>\n",
       "    </tr>\n",
       "  </thead>\n",
       "  <tbody>\n",
       "    <tr>\n",
       "      <th>0</th>\n",
       "      <td>Jane:\\n \\nI went through your presentation.  A...</td>\n",
       "      <td>1</td>\n",
       "      <td>mild</td>\n",
       "    </tr>\n",
       "    <tr>\n",
       "      <th>1</th>\n",
       "      <td>Jane:\\n \\nI went through your presentation.  A...</td>\n",
       "      <td>0</td>\n",
       "      <td>none</td>\n",
       "    </tr>\n",
       "    <tr>\n",
       "      <th>2</th>\n",
       "      <td>All,\\n\\nThis was my idea. I have been suggesti...</td>\n",
       "      <td>1</td>\n",
       "      <td>moderate</td>\n",
       "    </tr>\n",
       "    <tr>\n",
       "      <th>3</th>\n",
       "      <td>All,\\n\\nI understand we are deciding on an ide...</td>\n",
       "      <td>0</td>\n",
       "      <td>none</td>\n",
       "    </tr>\n",
       "    <tr>\n",
       "      <th>4</th>\n",
       "      <td>Mark:\\n\\nWe had four months to prepare for thi...</td>\n",
       "      <td>1</td>\n",
       "      <td>moderate</td>\n",
       "    </tr>\n",
       "  </tbody>\n",
       "</table>\n",
       "</div>"
      ],
      "text/plain": [
       "                                        comment_text  toxicity    degree\n",
       "0  Jane:\\n \\nI went through your presentation.  A...         1      mild\n",
       "1  Jane:\\n \\nI went through your presentation.  A...         0      none\n",
       "2  All,\\n\\nThis was my idea. I have been suggesti...         1  moderate\n",
       "3  All,\\n\\nI understand we are deciding on an ide...         0      none\n",
       "4  Mark:\\n\\nWe had four months to prepare for thi...         1  moderate"
      ]
     },
     "execution_count": 18,
     "metadata": {},
     "output_type": "execute_result"
    }
   ],
   "source": [
    "final_test.head()"
   ]
  },
  {
   "cell_type": "code",
   "execution_count": 54,
   "metadata": {},
   "outputs": [
    {
     "data": {
      "text/plain": [
       "50"
      ]
     },
     "execution_count": 54,
     "metadata": {},
     "output_type": "execute_result"
    }
   ],
   "source": [
    "len(final_test)"
   ]
  },
  {
   "cell_type": "code",
   "execution_count": 19,
   "metadata": {},
   "outputs": [
    {
     "data": {
      "text/html": [
       "<div>\n",
       "<style scoped>\n",
       "    .dataframe tbody tr th:only-of-type {\n",
       "        vertical-align: middle;\n",
       "    }\n",
       "\n",
       "    .dataframe tbody tr th {\n",
       "        vertical-align: top;\n",
       "    }\n",
       "\n",
       "    .dataframe thead th {\n",
       "        text-align: right;\n",
       "    }\n",
       "</style>\n",
       "<table border=\"1\" class=\"dataframe\">\n",
       "  <thead>\n",
       "    <tr style=\"text-align: right;\">\n",
       "      <th></th>\n",
       "      <th>Unnamed: 0</th>\n",
       "      <th>comment_text</th>\n",
       "      <th>toxicity</th>\n",
       "    </tr>\n",
       "  </thead>\n",
       "  <tbody>\n",
       "    <tr>\n",
       "      <th>0</th>\n",
       "      <td>1455</td>\n",
       "      <td>MEN.....Stop Being Ashamed Of Your Penis Size!...</td>\n",
       "      <td>1</td>\n",
       "    </tr>\n",
       "    <tr>\n",
       "      <th>1</th>\n",
       "      <td>2971</td>\n",
       "      <td>all yoursteresa bosienatenron02/21/2001 04:07 ...</td>\n",
       "      <td>0</td>\n",
       "    </tr>\n",
       "    <tr>\n",
       "      <th>2</th>\n",
       "      <td>4255</td>\n",
       "      <td>This type of shit always happens to Crowell.\\r...</td>\n",
       "      <td>1</td>\n",
       "    </tr>\n",
       "    <tr>\n",
       "      <th>3</th>\n",
       "      <td>5504</td>\n",
       "      <td>thanks doc  sounds like fun  see you saturday!</td>\n",
       "      <td>0</td>\n",
       "    </tr>\n",
       "    <tr>\n",
       "      <th>4</th>\n",
       "      <td>3867</td>\n",
       "      <td>a psych student could write a dissertation abo...</td>\n",
       "      <td>0</td>\n",
       "    </tr>\n",
       "  </tbody>\n",
       "</table>\n",
       "</div>"
      ],
      "text/plain": [
       "   Unnamed: 0                                       comment_text  toxicity\n",
       "0        1455  MEN.....Stop Being Ashamed Of Your Penis Size!...         1\n",
       "1        2971  all yoursteresa bosienatenron02/21/2001 04:07 ...         0\n",
       "2        4255  This type of shit always happens to Crowell.\\r...         1\n",
       "3        5504     thanks doc  sounds like fun  see you saturday!         0\n",
       "4        3867  a psych student could write a dissertation abo...         0"
      ]
     },
     "execution_count": 19,
     "metadata": {},
     "output_type": "execute_result"
    }
   ],
   "source": [
    "enron_test.head()"
   ]
  },
  {
   "cell_type": "code",
   "execution_count": 20,
   "metadata": {},
   "outputs": [
    {
     "data": {
      "text/html": [
       "<div>\n",
       "<style scoped>\n",
       "    .dataframe tbody tr th:only-of-type {\n",
       "        vertical-align: middle;\n",
       "    }\n",
       "\n",
       "    .dataframe tbody tr th {\n",
       "        vertical-align: top;\n",
       "    }\n",
       "\n",
       "    .dataframe thead th {\n",
       "        text-align: right;\n",
       "    }\n",
       "</style>\n",
       "<table border=\"1\" class=\"dataframe\">\n",
       "  <thead>\n",
       "    <tr style=\"text-align: right;\">\n",
       "      <th></th>\n",
       "      <th>Unnamed: 0</th>\n",
       "      <th>comment_text</th>\n",
       "      <th>toxicity</th>\n",
       "    </tr>\n",
       "  </thead>\n",
       "  <tbody>\n",
       "    <tr>\n",
       "      <th>0</th>\n",
       "      <td>40552</td>\n",
       "      <td>I gave this film my rare 10 stars.&lt;br /&gt;&lt;br /&gt;...</td>\n",
       "      <td>0</td>\n",
       "    </tr>\n",
       "    <tr>\n",
       "      <th>1</th>\n",
       "      <td>6106</td>\n",
       "      <td>This is one of the best films I have seen in y...</td>\n",
       "      <td>0</td>\n",
       "    </tr>\n",
       "    <tr>\n",
       "      <th>2</th>\n",
       "      <td>27831</td>\n",
       "      <td>About halfway through, I realized I didn't car...</td>\n",
       "      <td>1</td>\n",
       "    </tr>\n",
       "    <tr>\n",
       "      <th>3</th>\n",
       "      <td>28253</td>\n",
       "      <td>The only good part of this movie was the endin...</td>\n",
       "      <td>1</td>\n",
       "    </tr>\n",
       "    <tr>\n",
       "      <th>4</th>\n",
       "      <td>37221</td>\n",
       "      <td>After reading several comments, I felt I had t...</td>\n",
       "      <td>0</td>\n",
       "    </tr>\n",
       "  </tbody>\n",
       "</table>\n",
       "</div>"
      ],
      "text/plain": [
       "   Unnamed: 0                                       comment_text  toxicity\n",
       "0       40552  I gave this film my rare 10 stars.<br /><br />...         0\n",
       "1        6106  This is one of the best films I have seen in y...         0\n",
       "2       27831  About halfway through, I realized I didn't car...         1\n",
       "3       28253  The only good part of this movie was the endin...         1\n",
       "4       37221  After reading several comments, I felt I had t...         0"
      ]
     },
     "execution_count": 20,
     "metadata": {},
     "output_type": "execute_result"
    }
   ],
   "source": [
    "imdb_test.head()"
   ]
  },
  {
   "cell_type": "code",
   "execution_count": 21,
   "metadata": {},
   "outputs": [
    {
     "data": {
      "text/html": [
       "<div>\n",
       "<style scoped>\n",
       "    .dataframe tbody tr th:only-of-type {\n",
       "        vertical-align: middle;\n",
       "    }\n",
       "\n",
       "    .dataframe tbody tr th {\n",
       "        vertical-align: top;\n",
       "    }\n",
       "\n",
       "    .dataframe thead th {\n",
       "        text-align: right;\n",
       "    }\n",
       "</style>\n",
       "<table border=\"1\" class=\"dataframe\">\n",
       "  <thead>\n",
       "    <tr style=\"text-align: right;\">\n",
       "      <th></th>\n",
       "      <th>Unnamed: 0</th>\n",
       "      <th>id</th>\n",
       "      <th>comment_text</th>\n",
       "      <th>id.1</th>\n",
       "      <th>toxic</th>\n",
       "      <th>severe_toxic</th>\n",
       "      <th>obscene</th>\n",
       "      <th>threat</th>\n",
       "      <th>insult</th>\n",
       "      <th>identity_hate</th>\n",
       "    </tr>\n",
       "  </thead>\n",
       "  <tbody>\n",
       "    <tr>\n",
       "      <th>0</th>\n",
       "      <td>5</td>\n",
       "      <td>0001ea8717f6de06</td>\n",
       "      <td>Thank you for understanding. I think very high...</td>\n",
       "      <td>0001ea8717f6de06</td>\n",
       "      <td>0</td>\n",
       "      <td>0</td>\n",
       "      <td>0</td>\n",
       "      <td>0</td>\n",
       "      <td>0</td>\n",
       "      <td>0</td>\n",
       "    </tr>\n",
       "    <tr>\n",
       "      <th>1</th>\n",
       "      <td>7</td>\n",
       "      <td>000247e83dcc1211</td>\n",
       "      <td>:Dear god this site is horrible.</td>\n",
       "      <td>000247e83dcc1211</td>\n",
       "      <td>0</td>\n",
       "      <td>0</td>\n",
       "      <td>0</td>\n",
       "      <td>0</td>\n",
       "      <td>0</td>\n",
       "      <td>0</td>\n",
       "    </tr>\n",
       "    <tr>\n",
       "      <th>2</th>\n",
       "      <td>11</td>\n",
       "      <td>0002f87b16116a7f</td>\n",
       "      <td>\"::: Somebody will invariably try to add Relig...</td>\n",
       "      <td>0002f87b16116a7f</td>\n",
       "      <td>0</td>\n",
       "      <td>0</td>\n",
       "      <td>0</td>\n",
       "      <td>0</td>\n",
       "      <td>0</td>\n",
       "      <td>0</td>\n",
       "    </tr>\n",
       "    <tr>\n",
       "      <th>3</th>\n",
       "      <td>13</td>\n",
       "      <td>0003e1cccfd5a40a</td>\n",
       "      <td>\" \\n\\n It says it right there that it IS a typ...</td>\n",
       "      <td>0003e1cccfd5a40a</td>\n",
       "      <td>0</td>\n",
       "      <td>0</td>\n",
       "      <td>0</td>\n",
       "      <td>0</td>\n",
       "      <td>0</td>\n",
       "      <td>0</td>\n",
       "    </tr>\n",
       "    <tr>\n",
       "      <th>4</th>\n",
       "      <td>14</td>\n",
       "      <td>00059ace3e3e9a53</td>\n",
       "      <td>\" \\n\\n == Before adding a new product to the l...</td>\n",
       "      <td>00059ace3e3e9a53</td>\n",
       "      <td>0</td>\n",
       "      <td>0</td>\n",
       "      <td>0</td>\n",
       "      <td>0</td>\n",
       "      <td>0</td>\n",
       "      <td>0</td>\n",
       "    </tr>\n",
       "  </tbody>\n",
       "</table>\n",
       "</div>"
      ],
      "text/plain": [
       "   Unnamed: 0                id  \\\n",
       "0           5  0001ea8717f6de06   \n",
       "1           7  000247e83dcc1211   \n",
       "2          11  0002f87b16116a7f   \n",
       "3          13  0003e1cccfd5a40a   \n",
       "4          14  00059ace3e3e9a53   \n",
       "\n",
       "                                        comment_text              id.1  toxic  \\\n",
       "0  Thank you for understanding. I think very high...  0001ea8717f6de06      0   \n",
       "1                   :Dear god this site is horrible.  000247e83dcc1211      0   \n",
       "2  \"::: Somebody will invariably try to add Relig...  0002f87b16116a7f      0   \n",
       "3  \" \\n\\n It says it right there that it IS a typ...  0003e1cccfd5a40a      0   \n",
       "4  \" \\n\\n == Before adding a new product to the l...  00059ace3e3e9a53      0   \n",
       "\n",
       "   severe_toxic  obscene  threat  insult  identity_hate  \n",
       "0             0        0       0       0              0  \n",
       "1             0        0       0       0              0  \n",
       "2             0        0       0       0              0  \n",
       "3             0        0       0       0              0  \n",
       "4             0        0       0       0              0  "
      ]
     },
     "execution_count": 21,
     "metadata": {},
     "output_type": "execute_result"
    }
   ],
   "source": [
    "wiki_test.head()"
   ]
  },
  {
   "cell_type": "code",
   "execution_count": 22,
   "metadata": {},
   "outputs": [],
   "source": [
    "with open(\"/data/SuperMod/infer_result_ft_m0.pkl\", 'rb') as w:\n",
    "    final_test_result_m0 = pkl.load(w)\n",
    "with open(\"/data/SuperMod/infer_result_ft_m1.pkl\", 'rb') as w:\n",
    "    final_test_result_m1 = pkl.load(w)\n",
    "with open(\"/data/SuperMod/infer_result_ft_m2.pkl\", 'rb') as w:\n",
    "    final_test_result_m2 = pkl.load(w)\n",
    "with open(\"/data/SuperMod/infer_result_ft_m3.pkl\", 'rb') as w:\n",
    "    final_test_result_m3 = pkl.load(w)"
   ]
  },
  {
   "cell_type": "code",
   "execution_count": 23,
   "metadata": {},
   "outputs": [
    {
     "name": "stdout",
     "output_type": "stream",
     "text": [
      "(50,)\n",
      "(50,)\n",
      "True Positives per class :  12\n",
      "False Positives per class :  0\n",
      "False Negatives per class :  20\n",
      "Accuracy : 0.6000, Precision : 1.000, Recall : 0.375, F1 : 0.545\n"
     ]
    },
    {
     "data": {
      "text/plain": [
       "(0.6, 1.0, 0.375, 0.5454545454545454)"
      ]
     },
     "execution_count": 23,
     "metadata": {},
     "output_type": "execute_result"
    }
   ],
   "source": [
    "get_metrics(np.asarray(final_test_actual), np.asarray(final_test_result_m0))"
   ]
  },
  {
   "cell_type": "code",
   "execution_count": 24,
   "metadata": {},
   "outputs": [
    {
     "name": "stdout",
     "output_type": "stream",
     "text": [
      "(50,)\n",
      "(50,)\n",
      "True Positives per class :  20\n",
      "False Positives per class :  2\n",
      "False Negatives per class :  12\n",
      "Accuracy : 0.7200, Precision : 0.909, Recall : 0.625, F1 : 0.741\n"
     ]
    },
    {
     "data": {
      "text/plain": [
       "(0.72, 0.9090909090909091, 0.625, 0.7407407407407406)"
      ]
     },
     "execution_count": 24,
     "metadata": {},
     "output_type": "execute_result"
    }
   ],
   "source": [
    "get_metrics(np.asarray(final_test_actual), np.asarray(final_test_result_m1))"
   ]
  },
  {
   "cell_type": "code",
   "execution_count": 25,
   "metadata": {},
   "outputs": [
    {
     "name": "stdout",
     "output_type": "stream",
     "text": [
      "(50,)\n",
      "(50,)\n",
      "True Positives per class :  21\n",
      "False Positives per class :  2\n",
      "False Negatives per class :  11\n",
      "Accuracy : 0.7400, Precision : 0.913, Recall : 0.656, F1 : 0.764\n"
     ]
    },
    {
     "data": {
      "text/plain": [
       "(0.74, 0.9130434782608695, 0.65625, 0.7636363636363634)"
      ]
     },
     "execution_count": 25,
     "metadata": {},
     "output_type": "execute_result"
    }
   ],
   "source": [
    "get_metrics(np.asarray(final_test_actual), np.asarray(final_test_result_m2))"
   ]
  },
  {
   "cell_type": "code",
   "execution_count": 26,
   "metadata": {},
   "outputs": [
    {
     "name": "stdout",
     "output_type": "stream",
     "text": [
      "(50,)\n",
      "(50,)\n",
      "True Positives per class :  21\n",
      "False Positives per class :  2\n",
      "False Negatives per class :  11\n",
      "Accuracy : 0.7400, Precision : 0.913, Recall : 0.656, F1 : 0.764\n"
     ]
    },
    {
     "data": {
      "text/plain": [
       "(0.74, 0.9130434782608695, 0.65625, 0.7636363636363634)"
      ]
     },
     "execution_count": 26,
     "metadata": {},
     "output_type": "execute_result"
    }
   ],
   "source": [
    "get_metrics(np.asarray(final_test_actual), np.asarray(final_test_result_m3))"
   ]
  },
  {
   "cell_type": "markdown",
   "metadata": {},
   "source": [
    "## Curriculum training definitely made it better suited for our goal"
   ]
  },
  {
   "cell_type": "markdown",
   "metadata": {},
   "source": [
    "## Next, run the final model on all datasets"
   ]
  },
  {
   "cell_type": "code",
   "execution_count": 27,
   "metadata": {},
   "outputs": [],
   "source": [
    "with open(\"/data/SuperMod/infer_result_wiki_m3.pkl\", 'rb') as w:\n",
    "    wiki_result_m3 = pkl.load(w)\n",
    "with open(\"/data/SuperMod/infer_result_enr_m3.pkl\", 'rb') as w:\n",
    "    enron_result_m3 = pkl.load(w)\n",
    "with open(\"/data/SuperMod/infer_result_imdb_m3.pkl\", 'rb') as w:\n",
    "    imdb_result_m3 = pkl.load(w)\n"
   ]
  },
  {
   "cell_type": "code",
   "execution_count": 28,
   "metadata": {},
   "outputs": [
    {
     "name": "stdout",
     "output_type": "stream",
     "text": [
      "(820,)\n",
      "(820,)\n",
      "True Positives per class :  122\n",
      "False Positives per class :  39\n",
      "False Negatives per class :  35\n",
      "Accuracy : 0.9098, Precision : 0.758, Recall : 0.777, F1 : 0.767\n"
     ]
    },
    {
     "data": {
      "text/plain": [
       "(0.9097560975609756,\n",
       " 0.7577639751552795,\n",
       " 0.7770700636942676,\n",
       " 0.7672955974842768)"
      ]
     },
     "execution_count": 28,
     "metadata": {},
     "output_type": "execute_result"
    }
   ],
   "source": [
    "get_metrics(np.asarray(enron_test_actual), np.asarray(enron_result_m3))"
   ]
  },
  {
   "cell_type": "code",
   "execution_count": 29,
   "metadata": {},
   "outputs": [
    {
     "name": "stdout",
     "output_type": "stream",
     "text": [
      "(63978,)\n",
      "(63978,)\n",
      "True Positives per class :  5662\n",
      "False Positives per class :  20304\n",
      "False Negatives per class :  428\n",
      "Accuracy : 0.6760, Precision : 0.218, Recall : 0.930, F1 : 0.353\n"
     ]
    },
    {
     "data": {
      "text/plain": [
       "(0.6759511081934415,\n",
       " 0.21805437880305015,\n",
       " 0.9297208538587849,\n",
       " 0.3532568005989518)"
      ]
     },
     "execution_count": 29,
     "metadata": {},
     "output_type": "execute_result"
    }
   ],
   "source": [
    "get_metrics(np.asarray(wiki_test_actual), np.asarray(wiki_result_m3))"
   ]
  },
  {
   "cell_type": "code",
   "execution_count": 30,
   "metadata": {},
   "outputs": [
    {
     "name": "stdout",
     "output_type": "stream",
     "text": [
      "(5000,)\n",
      "(5000,)\n",
      "True Positives per class :  1987\n",
      "False Positives per class :  405\n",
      "False Negatives per class :  526\n",
      "Accuracy : 0.8138, Precision : 0.831, Recall : 0.791, F1 : 0.810\n"
     ]
    },
    {
     "data": {
      "text/plain": [
       "(0.8138, 0.830685618729097, 0.7906884202148826, 0.8101936799184506)"
      ]
     },
     "execution_count": 30,
     "metadata": {},
     "output_type": "execute_result"
    }
   ],
   "source": [
    "get_metrics(np.asarray(imdb_test_actual), np.asarray(imdb_result_m3))"
   ]
  },
  {
   "cell_type": "code",
   "execution_count": 63,
   "metadata": {},
   "outputs": [
    {
     "data": {
      "text/html": [
       "<div>\n",
       "<style scoped>\n",
       "    .dataframe tbody tr th:only-of-type {\n",
       "        vertical-align: middle;\n",
       "    }\n",
       "\n",
       "    .dataframe tbody tr th {\n",
       "        vertical-align: top;\n",
       "    }\n",
       "\n",
       "    .dataframe thead th {\n",
       "        text-align: right;\n",
       "    }\n",
       "</style>\n",
       "<table border=\"1\" class=\"dataframe\">\n",
       "  <thead>\n",
       "    <tr style=\"text-align: right;\">\n",
       "      <th></th>\n",
       "      <th>comment_text</th>\n",
       "      <th>toxicity</th>\n",
       "      <th>degree</th>\n",
       "      <th>pred_bert</th>\n",
       "      <th>pred_hapy</th>\n",
       "    </tr>\n",
       "  </thead>\n",
       "  <tbody>\n",
       "    <tr>\n",
       "      <th>0</th>\n",
       "      <td>Jane:\\n \\nI went through your presentation.  A...</td>\n",
       "      <td>1</td>\n",
       "      <td>mild</td>\n",
       "      <td>0.243680</td>\n",
       "      <td>0.623182</td>\n",
       "    </tr>\n",
       "    <tr>\n",
       "      <th>1</th>\n",
       "      <td>Jane:\\n \\nI went through your presentation.  A...</td>\n",
       "      <td>0</td>\n",
       "      <td>none</td>\n",
       "      <td>0.013712</td>\n",
       "      <td>0.087065</td>\n",
       "    </tr>\n",
       "    <tr>\n",
       "      <th>2</th>\n",
       "      <td>All,\\n\\nThis was my idea. I have been suggesti...</td>\n",
       "      <td>1</td>\n",
       "      <td>moderate</td>\n",
       "      <td>0.988307</td>\n",
       "      <td>0.907939</td>\n",
       "    </tr>\n",
       "    <tr>\n",
       "      <th>3</th>\n",
       "      <td>All,\\n\\nI understand we are deciding on an ide...</td>\n",
       "      <td>0</td>\n",
       "      <td>none</td>\n",
       "      <td>0.006379</td>\n",
       "      <td>0.024306</td>\n",
       "    </tr>\n",
       "    <tr>\n",
       "      <th>4</th>\n",
       "      <td>Mark:\\n\\nWe had four months to prepare for thi...</td>\n",
       "      <td>1</td>\n",
       "      <td>moderate</td>\n",
       "      <td>0.114225</td>\n",
       "      <td>0.915089</td>\n",
       "    </tr>\n",
       "  </tbody>\n",
       "</table>\n",
       "</div>"
      ],
      "text/plain": [
       "                                        comment_text  toxicity    degree  \\\n",
       "0  Jane:\\n \\nI went through your presentation.  A...         1      mild   \n",
       "1  Jane:\\n \\nI went through your presentation.  A...         0      none   \n",
       "2  All,\\n\\nThis was my idea. I have been suggesti...         1  moderate   \n",
       "3  All,\\n\\nI understand we are deciding on an ide...         0      none   \n",
       "4  Mark:\\n\\nWe had four months to prepare for thi...         1  moderate   \n",
       "\n",
       "   pred_bert  pred_hapy  \n",
       "0   0.243680   0.623182  \n",
       "1   0.013712   0.087065  \n",
       "2   0.988307   0.907939  \n",
       "3   0.006379   0.024306  \n",
       "4   0.114225   0.915089  "
      ]
     },
     "execution_count": 63,
     "metadata": {},
     "output_type": "execute_result"
    }
   ],
   "source": [
    "final_test['pred_hapy'] = final_test_result_m3\n",
    "final_test.head()"
   ]
  },
  {
   "cell_type": "code",
   "execution_count": 35,
   "metadata": {},
   "outputs": [
    {
     "data": {
      "text/plain": [
       "23"
      ]
     },
     "execution_count": 35,
     "metadata": {},
     "output_type": "execute_result"
    }
   ],
   "source": [
    "sum(final_test['pred_hapy'] > 0.5"
   ]
  },
  {
   "cell_type": "markdown",
   "metadata": {},
   "source": [
    "## Next, run the interim model for the data it just read"
   ]
  },
  {
   "cell_type": "code",
   "execution_count": 38,
   "metadata": {},
   "outputs": [],
   "source": [
    "with open(\"/data/SuperMod/infer_result_enr_m1.pkl\", 'rb') as w:\n",
    "    enron_result_m1 = pkl.load(w)\n",
    "with open(\"/data/SuperMod/infer_result_wiki_m0.pkl\", 'rb') as w:\n",
    "    wiki_result_m0 = pkl.load(w)\n"
   ]
  },
  {
   "cell_type": "markdown",
   "metadata": {},
   "source": [
    "### This is running the m1 on enron:\n",
    "i.e model built on enron_train + wiki_train and test on enron_test"
   ]
  },
  {
   "cell_type": "code",
   "execution_count": 39,
   "metadata": {},
   "outputs": [
    {
     "name": "stdout",
     "output_type": "stream",
     "text": [
      "(820,)\n",
      "(820,)\n",
      "True Positives per class :  135\n",
      "False Positives per class :  15\n",
      "False Negatives per class :  22\n",
      "Accuracy : 0.9549, Precision : 0.900, Recall : 0.860, F1 : 0.879\n"
     ]
    },
    {
     "data": {
      "text/plain": [
       "(0.9548780487804878, 0.9, 0.8598726114649682, 0.8794788273615636)"
      ]
     },
     "execution_count": 39,
     "metadata": {},
     "output_type": "execute_result"
    }
   ],
   "source": [
    "get_metrics(np.asarray(enron_test_actual), np.asarray(enron_result_m1))"
   ]
  },
  {
   "cell_type": "markdown",
   "metadata": {},
   "source": [
    "### This is running the m0 on wiki:\n",
    "i.e model built on wiki_train and test on wiki_train"
   ]
  },
  {
   "cell_type": "code",
   "execution_count": 40,
   "metadata": {},
   "outputs": [
    {
     "name": "stdout",
     "output_type": "stream",
     "text": [
      "(63978,)\n",
      "(63978,)\n",
      "True Positives per class :  5409\n",
      "False Positives per class :  7472\n",
      "False Negatives per class :  681\n",
      "Accuracy : 0.8726, Precision : 0.420, Recall : 0.888, F1 : 0.570\n"
     ]
    },
    {
     "data": {
      "text/plain": [
       "(0.8725655694144863,\n",
       " 0.41992081360142847,\n",
       " 0.8881773399014778,\n",
       " 0.5702387855147331)"
      ]
     },
     "execution_count": 40,
     "metadata": {},
     "output_type": "execute_result"
    }
   ],
   "source": [
    "get_metrics(np.asarray(wiki_test_actual), np.asarray(wiki_result_m0))"
   ]
  },
  {
   "cell_type": "markdown",
   "metadata": {},
   "source": [
    "## Now reading results from Bert results"
   ]
  },
  {
   "cell_type": "code",
   "execution_count": 42,
   "metadata": {},
   "outputs": [],
   "source": [
    "enron_final_bert = pd.read_csv(\"/data/SuperMod/Bert_result/csv_files_from_pybert_for_analysis/enron_test_with_wiki_enron_imdb_trained_pybert.csv\")\n",
    "enron_interim_bert = pd.read_csv(\"/data/SuperMod/Bert_result/csv_files_from_pybert_for_analysis/enron_test_with_wiki_enron_trained_pybert.csv\")"
   ]
  },
  {
   "cell_type": "code",
   "execution_count": 44,
   "metadata": {},
   "outputs": [],
   "source": [
    "enron_final_bert_val= enron_final_bert.supermod_inferred_results\n",
    "enron_interim_bert_val= enron_interim_bert.supermod_inferred_results"
   ]
  },
  {
   "cell_type": "markdown",
   "metadata": {},
   "source": [
    "### This is running the bert interim on enron:\n",
    "i.e Bert built on enron_train + wiki_train and test on enron_test"
   ]
  },
  {
   "cell_type": "code",
   "execution_count": 60,
   "metadata": {},
   "outputs": [
    {
     "name": "stdout",
     "output_type": "stream",
     "text": [
      "(820,)\n",
      "(820,)\n",
      "True Positives per class :  148\n",
      "False Positives per class :  3\n",
      "False Negatives per class :  9\n",
      "Accuracy : 0.9854, Precision : 0.980, Recall : 0.943, F1 : 0.961\n"
     ]
    },
    {
     "data": {
      "text/plain": [
       "(0.9853658536585366,\n",
       " 0.9801324503311258,\n",
       " 0.9426751592356688,\n",
       " 0.9610389610389611)"
      ]
     },
     "execution_count": 60,
     "metadata": {},
     "output_type": "execute_result"
    }
   ],
   "source": [
    "get_metrics(np.asarray(enron_test_actual), np.asarray(enron_interim_bert_val))"
   ]
  },
  {
   "cell_type": "markdown",
   "metadata": {},
   "source": [
    "### This is running the bert interim on wiki and final on final test and imdb\n",
    "i.e Bert built on wiki_train and test on wiki_test"
   ]
  },
  {
   "cell_type": "code",
   "execution_count": 48,
   "metadata": {},
   "outputs": [],
   "source": [
    "wiki_interim_bert = pd.read_csv(\"/data/SuperMod/Bert_result/csv_files_from_pybert_for_analysis/wiki_test_with_only_wiki_trained.csv\")\n",
    "final_final_bert = pd.read_csv(\"/data/SuperMod/Bert_result/csv_files_from_pybert_for_analysis/final_test_with_wiki_enron_imdb_trained_pybert.csv\")\n",
    "imdb_final_bert = pd.read_csv(\"/data/SuperMod/Bert_result/csv_files_from_pybert_for_analysis/imdb_test_with_wiki_enron_imdb_trained_pybert.csv\")"
   ]
  },
  {
   "cell_type": "code",
   "execution_count": 49,
   "metadata": {},
   "outputs": [],
   "source": [
    "wiki_interim_bert_val= wiki_interim_bert.supermod_inferred_results\n",
    "final_final_bert_val= final_final_bert.supermod_inferred_results\n",
    "imdb_final_bert_val= imdb_final_bert.supermod_inferred_results"
   ]
  },
  {
   "cell_type": "code",
   "execution_count": null,
   "metadata": {},
   "outputs": [],
   "source": []
  },
  {
   "cell_type": "code",
   "execution_count": 53,
   "metadata": {},
   "outputs": [
    {
     "name": "stdout",
     "output_type": "stream",
     "text": [
      "(63978,)\n",
      "(63978,)\n",
      "True Positives per class :  5343\n",
      "False Positives per class :  3812\n",
      "False Negatives per class :  747\n",
      "Accuracy : 0.9287, Precision : 0.584, Recall : 0.877, F1 : 0.701\n"
     ]
    },
    {
     "data": {
      "text/plain": [
       "(0.9287411297633561,\n",
       " 0.5836155106499181,\n",
       " 0.8773399014778325,\n",
       " 0.7009511315185306)"
      ]
     },
     "execution_count": 53,
     "metadata": {},
     "output_type": "execute_result"
    }
   ],
   "source": [
    "get_metrics(np.asarray(wiki_test_actual), np.asarray(wiki_interim_bert_val))"
   ]
  },
  {
   "cell_type": "code",
   "execution_count": 51,
   "metadata": {},
   "outputs": [
    {
     "name": "stdout",
     "output_type": "stream",
     "text": [
      "(5000,)\n",
      "(5000,)\n",
      "True Positives per class :  2251\n",
      "False Positives per class :  121\n",
      "False Negatives per class :  262\n",
      "Accuracy : 0.9234, Precision : 0.949, Recall : 0.896, F1 : 0.922\n"
     ]
    },
    {
     "data": {
      "text/plain": [
       "(0.9234, 0.9489881956155143, 0.895742140867489, 0.921596724667349)"
      ]
     },
     "execution_count": 51,
     "metadata": {},
     "output_type": "execute_result"
    }
   ],
   "source": [
    "get_metrics(np.asarray(imdb_test_actual), np.asarray(imdb_final_bert_val))"
   ]
  },
  {
   "cell_type": "code",
   "execution_count": 57,
   "metadata": {},
   "outputs": [
    {
     "name": "stdout",
     "output_type": "stream",
     "text": [
      "(50,)\n",
      "(50,)\n",
      "True Positives per class :  19\n",
      "False Positives per class :  4\n",
      "False Negatives per class :  13\n",
      "Accuracy : 0.6600, Precision : 0.826, Recall : 0.594, F1 : 0.691\n"
     ]
    },
    {
     "data": {
      "text/plain": [
       "(0.66, 0.8260869565217391, 0.59375, 0.6909090909090908)"
      ]
     },
     "execution_count": 57,
     "metadata": {},
     "output_type": "execute_result"
    }
   ],
   "source": [
    "get_metrics(np.asarray(final_test_actual), np.asarray(final_final_bert_val)[:50])"
   ]
  },
  {
   "cell_type": "markdown",
   "metadata": {},
   "source": [
    "### This is running the bert final on enron:\n",
    "i.e Bert built on enron_train + wiki_train + IMDB train and test on enron_test"
   ]
  },
  {
   "cell_type": "code",
   "execution_count": 61,
   "metadata": {},
   "outputs": [
    {
     "name": "stdout",
     "output_type": "stream",
     "text": [
      "(820,)\n",
      "(820,)\n",
      "True Positives per class :  130\n",
      "False Positives per class :  19\n",
      "False Negatives per class :  27\n",
      "Accuracy : 0.9439, Precision : 0.872, Recall : 0.828, F1 : 0.850\n"
     ]
    },
    {
     "data": {
      "text/plain": [
       "(0.9439024390243902, 0.87248322147651, 0.8280254777070064, 0.8496732026143791)"
      ]
     },
     "execution_count": 61,
     "metadata": {},
     "output_type": "execute_result"
    }
   ],
   "source": [
    "get_metrics(np.asarray(enron_test_actual), np.asarray(enron_final_bert_val))"
   ]
  },
  {
   "cell_type": "code",
   "execution_count": 64,
   "metadata": {},
   "outputs": [
    {
     "data": {
      "text/html": [
       "<div>\n",
       "<style scoped>\n",
       "    .dataframe tbody tr th:only-of-type {\n",
       "        vertical-align: middle;\n",
       "    }\n",
       "\n",
       "    .dataframe tbody tr th {\n",
       "        vertical-align: top;\n",
       "    }\n",
       "\n",
       "    .dataframe thead th {\n",
       "        text-align: right;\n",
       "    }\n",
       "</style>\n",
       "<table border=\"1\" class=\"dataframe\">\n",
       "  <thead>\n",
       "    <tr style=\"text-align: right;\">\n",
       "      <th></th>\n",
       "      <th>comment_text</th>\n",
       "      <th>toxicity</th>\n",
       "      <th>degree</th>\n",
       "      <th>pred_bert</th>\n",
       "      <th>pred_hapy</th>\n",
       "    </tr>\n",
       "  </thead>\n",
       "  <tbody>\n",
       "    <tr>\n",
       "      <th>0</th>\n",
       "      <td>Jane:\\n \\nI went through your presentation.  A...</td>\n",
       "      <td>1</td>\n",
       "      <td>mild</td>\n",
       "      <td>0.243680</td>\n",
       "      <td>0.623182</td>\n",
       "    </tr>\n",
       "    <tr>\n",
       "      <th>1</th>\n",
       "      <td>Jane:\\n \\nI went through your presentation.  A...</td>\n",
       "      <td>0</td>\n",
       "      <td>none</td>\n",
       "      <td>0.013712</td>\n",
       "      <td>0.087065</td>\n",
       "    </tr>\n",
       "    <tr>\n",
       "      <th>2</th>\n",
       "      <td>All,\\n\\nThis was my idea. I have been suggesti...</td>\n",
       "      <td>1</td>\n",
       "      <td>moderate</td>\n",
       "      <td>0.988307</td>\n",
       "      <td>0.907939</td>\n",
       "    </tr>\n",
       "    <tr>\n",
       "      <th>3</th>\n",
       "      <td>All,\\n\\nI understand we are deciding on an ide...</td>\n",
       "      <td>0</td>\n",
       "      <td>none</td>\n",
       "      <td>0.006379</td>\n",
       "      <td>0.024306</td>\n",
       "    </tr>\n",
       "    <tr>\n",
       "      <th>4</th>\n",
       "      <td>Mark:\\n\\nWe had four months to prepare for thi...</td>\n",
       "      <td>1</td>\n",
       "      <td>moderate</td>\n",
       "      <td>0.114225</td>\n",
       "      <td>0.915089</td>\n",
       "    </tr>\n",
       "  </tbody>\n",
       "</table>\n",
       "</div>"
      ],
      "text/plain": [
       "                                        comment_text  toxicity    degree  \\\n",
       "0  Jane:\\n \\nI went through your presentation.  A...         1      mild   \n",
       "1  Jane:\\n \\nI went through your presentation.  A...         0      none   \n",
       "2  All,\\n\\nThis was my idea. I have been suggesti...         1  moderate   \n",
       "3  All,\\n\\nI understand we are deciding on an ide...         0      none   \n",
       "4  Mark:\\n\\nWe had four months to prepare for thi...         1  moderate   \n",
       "\n",
       "   pred_bert  pred_hapy  \n",
       "0   0.243680   0.623182  \n",
       "1   0.013712   0.087065  \n",
       "2   0.988307   0.907939  \n",
       "3   0.006379   0.024306  \n",
       "4   0.114225   0.915089  "
      ]
     },
     "execution_count": 64,
     "metadata": {},
     "output_type": "execute_result"
    }
   ],
   "source": [
    "final_test['pred_bert'] = final_final_bert_val[:50]\n",
    "final_test.head()"
   ]
  },
  {
   "cell_type": "markdown",
   "metadata": {},
   "source": [
    "## To be aggressive, we can combine both Bert and HApy,\n",
    "whenever a model detects possible toxicity, we call it toxic"
   ]
  },
  {
   "cell_type": "code",
   "execution_count": 77,
   "metadata": {},
   "outputs": [],
   "source": [
    "final_test['pred_comb'] = [1 if (x >= 0.5 or y >= 0.5) else 0 for (x,y) in zip(final_test.pred_bert, final_test.pred_hapy)]"
   ]
  },
  {
   "cell_type": "code",
   "execution_count": 78,
   "metadata": {},
   "outputs": [
    {
     "name": "stdout",
     "output_type": "stream",
     "text": [
      "(50,)\n",
      "(50,)\n",
      "True Positives per class :  23\n",
      "False Positives per class :  4\n",
      "False Negatives per class :  9\n",
      "Accuracy : 0.7400, Precision : 0.852, Recall : 0.719, F1 : 0.780\n"
     ]
    },
    {
     "data": {
      "text/plain": [
       "(0.74, 0.8518518518518519, 0.71875, 0.7796610169491525)"
      ]
     },
     "execution_count": 78,
     "metadata": {},
     "output_type": "execute_result"
    }
   ],
   "source": [
    "get_metrics(np.asarray(final_test_actual), np.asarray(final_test['pred_comb'] ))"
   ]
  },
  {
   "cell_type": "code",
   "execution_count": null,
   "metadata": {},
   "outputs": [],
   "source": []
  }
 ],
 "metadata": {
  "kernelspec": {
   "display_name": "Python 3",
   "language": "python",
   "name": "python3"
  },
  "language_info": {
   "codemirror_mode": {
    "name": "ipython",
    "version": 3
   },
   "file_extension": ".py",
   "mimetype": "text/x-python",
   "name": "python",
   "nbconvert_exporter": "python",
   "pygments_lexer": "ipython3",
   "version": "3.6.8"
  }
 },
 "nbformat": 4,
 "nbformat_minor": 2
}
