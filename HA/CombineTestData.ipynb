{
 "cells": [
  {
   "cell_type": "markdown",
   "metadata": {},
   "source": [
    "# Combine Data Set"
   ]
  },
  {
   "cell_type": "code",
   "execution_count": 1,
   "metadata": {},
   "outputs": [],
   "source": [
    "import torch\n",
    "import pandas as pd\n",
    "import pickle as pkl\n",
    "from module.evaluate import load_dev_labels, get_metrics\n",
    "import numpy as np\n",
    "\n",
    "# import torch\n",
    "# from model.highlight_ha import HierarchicalAttPredictorHL\n",
    "# from config.basic_config import configs as config\n",
    "# from torchmoji.global_variables import PRETRAINED_PATH, VOCAB_PATH\n",
    "# import random\n",
    "# from module.preprocessor import EnglishPreProcessor\n",
    "# from pytorch_pretrained_bert.tokenization import BertTokenizer\n",
    "# import json\n",
    "# from torchmoji.sentence_tokenizer import SentenceTokenizer\n",
    "# from torch.utils.data import Dataset, DataLoader\n",
    "# from module import create_data"
   ]
  },
  {
   "cell_type": "markdown",
   "metadata": {},
   "source": [
    "## read in raw test files to review"
   ]
  },
  {
   "cell_type": "code",
   "execution_count": 3,
   "metadata": {},
   "outputs": [],
   "source": [
    "Wiki_test_file = pd.read_csv('/data/ToxicityDataOld/test_with_labels.csv')\n",
    "IMDB_test_file = pd.read_csv('/data/SuperMod/imdb_test.csv')\n",
    "Enron_test_file = pd.read_csv('/data/SuperMod/data_supermod_test.csv')\n"
   ]
  },
  {
   "cell_type": "code",
   "execution_count": 10,
   "metadata": {},
   "outputs": [
    {
     "data": {
      "text/plain": [
       "Index(['Unnamed: 0', 'id', 'comment_text', 'id.1', 'toxic', 'severe_toxic',\n",
       "       'obscene', 'threat', 'insult', 'identity_hate'],\n",
       "      dtype='object')"
      ]
     },
     "execution_count": 10,
     "metadata": {},
     "output_type": "execute_result"
    }
   ],
   "source": [
    "Wiki_test_file.columns = ['Unnamed: 0','comment_text' , 'toxic']"
   ]
  },
  {
   "cell_type": "code",
   "execution_count": 12,
   "metadata": {},
   "outputs": [
    {
     "name": "stdout",
     "output_type": "stream",
     "text": [
      "size wiki test 63978\n"
     ]
    },
    {
     "data": {
      "text/html": [
       "<div>\n",
       "<style scoped>\n",
       "    .dataframe tbody tr th:only-of-type {\n",
       "        vertical-align: middle;\n",
       "    }\n",
       "\n",
       "    .dataframe tbody tr th {\n",
       "        vertical-align: top;\n",
       "    }\n",
       "\n",
       "    .dataframe thead th {\n",
       "        text-align: right;\n",
       "    }\n",
       "</style>\n",
       "<table border=\"1\" class=\"dataframe\">\n",
       "  <thead>\n",
       "    <tr style=\"text-align: right;\">\n",
       "      <th></th>\n",
       "      <th>Unnamed: 0</th>\n",
       "      <th>comment_text</th>\n",
       "      <th>toxicity</th>\n",
       "    </tr>\n",
       "  </thead>\n",
       "  <tbody>\n",
       "    <tr>\n",
       "      <th>0</th>\n",
       "      <td>5</td>\n",
       "      <td>Thank you for understanding. I think very high...</td>\n",
       "      <td>0</td>\n",
       "    </tr>\n",
       "    <tr>\n",
       "      <th>1</th>\n",
       "      <td>7</td>\n",
       "      <td>:Dear god this site is horrible.</td>\n",
       "      <td>0</td>\n",
       "    </tr>\n",
       "    <tr>\n",
       "      <th>2</th>\n",
       "      <td>11</td>\n",
       "      <td>\"::: Somebody will invariably try to add Relig...</td>\n",
       "      <td>0</td>\n",
       "    </tr>\n",
       "    <tr>\n",
       "      <th>3</th>\n",
       "      <td>13</td>\n",
       "      <td>\" \\n\\n It says it right there that it IS a typ...</td>\n",
       "      <td>0</td>\n",
       "    </tr>\n",
       "    <tr>\n",
       "      <th>4</th>\n",
       "      <td>14</td>\n",
       "      <td>\" \\n\\n == Before adding a new product to the l...</td>\n",
       "      <td>0</td>\n",
       "    </tr>\n",
       "  </tbody>\n",
       "</table>\n",
       "</div>"
      ],
      "text/plain": [
       "   Unnamed: 0                                       comment_text  toxicity\n",
       "0           5  Thank you for understanding. I think very high...         0\n",
       "1           7                   :Dear god this site is horrible.         0\n",
       "2          11  \"::: Somebody will invariably try to add Relig...         0\n",
       "3          13  \" \\n\\n It says it right there that it IS a typ...         0\n",
       "4          14  \" \\n\\n == Before adding a new product to the l...         0"
      ]
     },
     "execution_count": 12,
     "metadata": {},
     "output_type": "execute_result"
    }
   ],
   "source": [
    "Wiki_test_file = Wiki_test_file[['Unnamed: 0','comment_text' , 'toxic']]\n",
    "Wiki_test_file.columns =['Unnamed: 0','comment_text' , 'toxicity']\n",
    "print(\"size wiki test\", len(Wiki_test_file))\n",
    "Wiki_test_file.head()"
   ]
  },
  {
   "cell_type": "code",
   "execution_count": 7,
   "metadata": {},
   "outputs": [
    {
     "name": "stdout",
     "output_type": "stream",
     "text": [
      "size wiki test 5000\n"
     ]
    },
    {
     "data": {
      "text/html": [
       "<div>\n",
       "<style scoped>\n",
       "    .dataframe tbody tr th:only-of-type {\n",
       "        vertical-align: middle;\n",
       "    }\n",
       "\n",
       "    .dataframe tbody tr th {\n",
       "        vertical-align: top;\n",
       "    }\n",
       "\n",
       "    .dataframe thead th {\n",
       "        text-align: right;\n",
       "    }\n",
       "</style>\n",
       "<table border=\"1\" class=\"dataframe\">\n",
       "  <thead>\n",
       "    <tr style=\"text-align: right;\">\n",
       "      <th></th>\n",
       "      <th>Unnamed: 0</th>\n",
       "      <th>comment_text</th>\n",
       "      <th>toxicity</th>\n",
       "    </tr>\n",
       "  </thead>\n",
       "  <tbody>\n",
       "    <tr>\n",
       "      <th>0</th>\n",
       "      <td>40552</td>\n",
       "      <td>I gave this film my rare 10 stars.&lt;br /&gt;&lt;br /&gt;...</td>\n",
       "      <td>0</td>\n",
       "    </tr>\n",
       "    <tr>\n",
       "      <th>1</th>\n",
       "      <td>6106</td>\n",
       "      <td>This is one of the best films I have seen in y...</td>\n",
       "      <td>0</td>\n",
       "    </tr>\n",
       "    <tr>\n",
       "      <th>2</th>\n",
       "      <td>27831</td>\n",
       "      <td>About halfway through, I realized I didn't car...</td>\n",
       "      <td>1</td>\n",
       "    </tr>\n",
       "    <tr>\n",
       "      <th>3</th>\n",
       "      <td>28253</td>\n",
       "      <td>The only good part of this movie was the endin...</td>\n",
       "      <td>1</td>\n",
       "    </tr>\n",
       "    <tr>\n",
       "      <th>4</th>\n",
       "      <td>37221</td>\n",
       "      <td>After reading several comments, I felt I had t...</td>\n",
       "      <td>0</td>\n",
       "    </tr>\n",
       "  </tbody>\n",
       "</table>\n",
       "</div>"
      ],
      "text/plain": [
       "   Unnamed: 0                                       comment_text  toxicity\n",
       "0       40552  I gave this film my rare 10 stars.<br /><br />...         0\n",
       "1        6106  This is one of the best films I have seen in y...         0\n",
       "2       27831  About halfway through, I realized I didn't car...         1\n",
       "3       28253  The only good part of this movie was the endin...         1\n",
       "4       37221  After reading several comments, I felt I had t...         0"
      ]
     },
     "execution_count": 7,
     "metadata": {},
     "output_type": "execute_result"
    }
   ],
   "source": [
    "print(\"size wiki test\", len(IMDB_test_file))\n",
    "IMDB_test_file.head()"
   ]
  },
  {
   "cell_type": "code",
   "execution_count": 8,
   "metadata": {},
   "outputs": [
    {
     "name": "stdout",
     "output_type": "stream",
     "text": [
      "size wiki test 820\n"
     ]
    },
    {
     "data": {
      "text/html": [
       "<div>\n",
       "<style scoped>\n",
       "    .dataframe tbody tr th:only-of-type {\n",
       "        vertical-align: middle;\n",
       "    }\n",
       "\n",
       "    .dataframe tbody tr th {\n",
       "        vertical-align: top;\n",
       "    }\n",
       "\n",
       "    .dataframe thead th {\n",
       "        text-align: right;\n",
       "    }\n",
       "</style>\n",
       "<table border=\"1\" class=\"dataframe\">\n",
       "  <thead>\n",
       "    <tr style=\"text-align: right;\">\n",
       "      <th></th>\n",
       "      <th>Unnamed: 0</th>\n",
       "      <th>comment_text</th>\n",
       "      <th>toxicity</th>\n",
       "    </tr>\n",
       "  </thead>\n",
       "  <tbody>\n",
       "    <tr>\n",
       "      <th>0</th>\n",
       "      <td>1455</td>\n",
       "      <td>MEN.....Stop Being Ashamed Of Your Penis Size!...</td>\n",
       "      <td>1</td>\n",
       "    </tr>\n",
       "    <tr>\n",
       "      <th>1</th>\n",
       "      <td>2971</td>\n",
       "      <td>all yoursteresa bosienatenron02/21/2001 04:07 ...</td>\n",
       "      <td>0</td>\n",
       "    </tr>\n",
       "    <tr>\n",
       "      <th>2</th>\n",
       "      <td>4255</td>\n",
       "      <td>This type of shit always happens to Crowell.\\r...</td>\n",
       "      <td>1</td>\n",
       "    </tr>\n",
       "    <tr>\n",
       "      <th>3</th>\n",
       "      <td>5504</td>\n",
       "      <td>thanks doc  sounds like fun  see you saturday!</td>\n",
       "      <td>0</td>\n",
       "    </tr>\n",
       "    <tr>\n",
       "      <th>4</th>\n",
       "      <td>3867</td>\n",
       "      <td>a psych student could write a dissertation abo...</td>\n",
       "      <td>0</td>\n",
       "    </tr>\n",
       "  </tbody>\n",
       "</table>\n",
       "</div>"
      ],
      "text/plain": [
       "   Unnamed: 0                                       comment_text  toxicity\n",
       "0        1455  MEN.....Stop Being Ashamed Of Your Penis Size!...         1\n",
       "1        2971  all yoursteresa bosienatenron02/21/2001 04:07 ...         0\n",
       "2        4255  This type of shit always happens to Crowell.\\r...         1\n",
       "3        5504     thanks doc  sounds like fun  see you saturday!         0\n",
       "4        3867  a psych student could write a dissertation abo...         0"
      ]
     },
     "execution_count": 8,
     "metadata": {},
     "output_type": "execute_result"
    }
   ],
   "source": [
    "print(\"size wiki test\", len(Enron_test_file))\n",
    "Enron_test_file.head()"
   ]
  },
  {
   "cell_type": "code",
   "execution_count": 14,
   "metadata": {},
   "outputs": [],
   "source": [
    "Enron_test_file_1 = Enron_test_file.sample(n=500, replace=True, random_state=1)"
   ]
  },
  {
   "cell_type": "code",
   "execution_count": 16,
   "metadata": {},
   "outputs": [
    {
     "name": "stdout",
     "output_type": "stream",
     "text": [
      "test len 500\n"
     ]
    },
    {
     "data": {
      "text/html": [
       "<div>\n",
       "<style scoped>\n",
       "    .dataframe tbody tr th:only-of-type {\n",
       "        vertical-align: middle;\n",
       "    }\n",
       "\n",
       "    .dataframe tbody tr th {\n",
       "        vertical-align: top;\n",
       "    }\n",
       "\n",
       "    .dataframe thead th {\n",
       "        text-align: right;\n",
       "    }\n",
       "</style>\n",
       "<table border=\"1\" class=\"dataframe\">\n",
       "  <thead>\n",
       "    <tr style=\"text-align: right;\">\n",
       "      <th></th>\n",
       "      <th>Unnamed: 0</th>\n",
       "      <th>comment_text</th>\n",
       "      <th>toxicity</th>\n",
       "    </tr>\n",
       "  </thead>\n",
       "  <tbody>\n",
       "    <tr>\n",
       "      <th>37</th>\n",
       "      <td>7938</td>\n",
       "      <td>barkerdeatnmenergy.com writes to the nyiso_tec...</td>\n",
       "      <td>0</td>\n",
       "    </tr>\n",
       "    <tr>\n",
       "      <th>235</th>\n",
       "      <td>3273</td>\n",
       "      <td>mick/richard,can you advise me on the current ...</td>\n",
       "      <td>0</td>\n",
       "    </tr>\n",
       "    <tr>\n",
       "      <th>72</th>\n",
       "      <td>2223</td>\n",
       "      <td>ken, attached are my credentials.  i look forw...</td>\n",
       "      <td>0</td>\n",
       "    </tr>\n",
       "    <tr>\n",
       "      <th>767</th>\n",
       "      <td>1002</td>\n",
       "      <td>What are you talking about?  You sent me some ...</td>\n",
       "      <td>1</td>\n",
       "    </tr>\n",
       "    <tr>\n",
       "      <th>715</th>\n",
       "      <td>7302</td>\n",
       "      <td>are you going to join us for lunch?sent from m...</td>\n",
       "      <td>0</td>\n",
       "    </tr>\n",
       "  </tbody>\n",
       "</table>\n",
       "</div>"
      ],
      "text/plain": [
       "     Unnamed: 0                                       comment_text  toxicity\n",
       "37         7938  barkerdeatnmenergy.com writes to the nyiso_tec...         0\n",
       "235        3273  mick/richard,can you advise me on the current ...         0\n",
       "72         2223  ken, attached are my credentials.  i look forw...         0\n",
       "767        1002  What are you talking about?  You sent me some ...         1\n",
       "715        7302  are you going to join us for lunch?sent from m...         0"
      ]
     },
     "execution_count": 16,
     "metadata": {},
     "output_type": "execute_result"
    }
   ],
   "source": [
    "print(\"test len\", len(Enron_test_file_1))\n",
    "Enron_test_file_1.head()"
   ]
  },
  {
   "cell_type": "markdown",
   "metadata": {},
   "source": [
    "## function to create one fold"
   ]
  },
  {
   "cell_type": "code",
   "execution_count": 23,
   "metadata": {},
   "outputs": [],
   "source": [
    "def create_one_fold (size_each_data, seed):\n",
    "    \"\"\"create a test data with n = size_each_data \n",
    "    from each of the 3 test datasets\"\"\"\n",
    "    w = Wiki_test_file.sample(n=500, replace=True, random_state=seed)\n",
    "    e = Enron_test_file.sample(n=500, replace=True, random_state=seed)\n",
    "    i = IMDB_test_file.sample(n=500, replace=True, random_state=seed)\n",
    "    return pd.concat([w, e, i], axis=0)\n",
    "    "
   ]
  },
  {
   "cell_type": "code",
   "execution_count": 24,
   "metadata": {},
   "outputs": [
    {
     "name": "stdout",
     "output_type": "stream",
     "text": [
      "test1 len 1500\n"
     ]
    },
    {
     "data": {
      "text/html": [
       "<div>\n",
       "<style scoped>\n",
       "    .dataframe tbody tr th:only-of-type {\n",
       "        vertical-align: middle;\n",
       "    }\n",
       "\n",
       "    .dataframe tbody tr th {\n",
       "        vertical-align: top;\n",
       "    }\n",
       "\n",
       "    .dataframe thead th {\n",
       "        text-align: right;\n",
       "    }\n",
       "</style>\n",
       "<table border=\"1\" class=\"dataframe\">\n",
       "  <thead>\n",
       "    <tr style=\"text-align: right;\">\n",
       "      <th></th>\n",
       "      <th>Unnamed: 0</th>\n",
       "      <th>comment_text</th>\n",
       "      <th>toxicity</th>\n",
       "    </tr>\n",
       "  </thead>\n",
       "  <tbody>\n",
       "    <tr>\n",
       "      <th>2732</th>\n",
       "      <td>6590</td>\n",
       "      <td>== Your (re)appointment == \\n\\n You have both ...</td>\n",
       "      <td>0</td>\n",
       "    </tr>\n",
       "    <tr>\n",
       "      <th>43567</th>\n",
       "      <td>104026</td>\n",
       "      <td>:Thank you for pointing those issues out. They...</td>\n",
       "      <td>0</td>\n",
       "    </tr>\n",
       "    <tr>\n",
       "      <th>42613</th>\n",
       "      <td>101810</td>\n",
       "      <td>== Trackers Task Force ==</td>\n",
       "      <td>0</td>\n",
       "    </tr>\n",
       "    <tr>\n",
       "      <th>52416</th>\n",
       "      <td>125175</td>\n",
       "      <td>== isotope discrimination, atmospheric values,...</td>\n",
       "      <td>0</td>\n",
       "    </tr>\n",
       "    <tr>\n",
       "      <th>45891</th>\n",
       "      <td>109648</td>\n",
       "      <td>, because they're gay</td>\n",
       "      <td>0</td>\n",
       "    </tr>\n",
       "  </tbody>\n",
       "</table>\n",
       "</div>"
      ],
      "text/plain": [
       "       Unnamed: 0                                       comment_text  toxicity\n",
       "2732         6590  == Your (re)appointment == \\n\\n You have both ...         0\n",
       "43567      104026  :Thank you for pointing those issues out. They...         0\n",
       "42613      101810                          == Trackers Task Force ==         0\n",
       "52416      125175  == isotope discrimination, atmospheric values,...         0\n",
       "45891      109648                              , because they're gay         0"
      ]
     },
     "execution_count": 24,
     "metadata": {},
     "output_type": "execute_result"
    }
   ],
   "source": [
    "test1 = create_one_fold(500,0)\n",
    "print(\"test1 len\", len(test1))\n",
    "test1.head()"
   ]
  },
  {
   "cell_type": "code",
   "execution_count": 26,
   "metadata": {},
   "outputs": [
    {
     "name": "stdout",
     "output_type": "stream",
     "text": [
      "test2 len 1500\n"
     ]
    },
    {
     "data": {
      "text/html": [
       "<div>\n",
       "<style scoped>\n",
       "    .dataframe tbody tr th:only-of-type {\n",
       "        vertical-align: middle;\n",
       "    }\n",
       "\n",
       "    .dataframe tbody tr th {\n",
       "        vertical-align: top;\n",
       "    }\n",
       "\n",
       "    .dataframe thead th {\n",
       "        text-align: right;\n",
       "    }\n",
       "</style>\n",
       "<table border=\"1\" class=\"dataframe\">\n",
       "  <thead>\n",
       "    <tr style=\"text-align: right;\">\n",
       "      <th></th>\n",
       "      <th>Unnamed: 0</th>\n",
       "      <th>comment_text</th>\n",
       "      <th>toxicity</th>\n",
       "    </tr>\n",
       "  </thead>\n",
       "  <tbody>\n",
       "    <tr>\n",
       "      <th>23720</th>\n",
       "      <td>56856</td>\n",
       "      <td>This is bloody ridiculous.</td>\n",
       "      <td>0</td>\n",
       "    </tr>\n",
       "    <tr>\n",
       "      <th>35343</th>\n",
       "      <td>84648</td>\n",
       "      <td>[[ Macmusmackie                      While rea...</td>\n",
       "      <td>0</td>\n",
       "    </tr>\n",
       "    <tr>\n",
       "      <th>6637</th>\n",
       "      <td>15969</td>\n",
       "      <td>This entire silly section should be removed. I...</td>\n",
       "      <td>0</td>\n",
       "    </tr>\n",
       "    <tr>\n",
       "      <th>30280</th>\n",
       "      <td>72522</td>\n",
       "      <td>== Your article == \\n\\n I've deleted it becaus...</td>\n",
       "      <td>0</td>\n",
       "    </tr>\n",
       "    <tr>\n",
       "      <th>44566</th>\n",
       "      <td>106382</td>\n",
       "      <td>== Thanks == \\n\\n I am still trying to work th...</td>\n",
       "      <td>0</td>\n",
       "    </tr>\n",
       "  </tbody>\n",
       "</table>\n",
       "</div>"
      ],
      "text/plain": [
       "       Unnamed: 0                                       comment_text  toxicity\n",
       "23720       56856                         This is bloody ridiculous.         0\n",
       "35343       84648  [[ Macmusmackie                      While rea...         0\n",
       "6637        15969  This entire silly section should be removed. I...         0\n",
       "30280       72522  == Your article == \\n\\n I've deleted it becaus...         0\n",
       "44566      106382  == Thanks == \\n\\n I am still trying to work th...         0"
      ]
     },
     "execution_count": 26,
     "metadata": {},
     "output_type": "execute_result"
    }
   ],
   "source": [
    "test2 = create_one_fold(500,2)\n",
    "print(\"test2 len\", len(test2))\n",
    "test2.head()"
   ]
  },
  {
   "cell_type": "markdown",
   "metadata": {},
   "source": [
    "## loop to create 50 folds"
   ]
  },
  {
   "cell_type": "code",
   "execution_count": 30,
   "metadata": {},
   "outputs": [
    {
     "name": "stdout",
     "output_type": "stream",
     "text": [
      "/data/SuperMod/testfolds/fold0.csv\n",
      "/data/SuperMod/testfolds/fold1.csv\n",
      "/data/SuperMod/testfolds/fold2.csv\n",
      "/data/SuperMod/testfolds/fold3.csv\n",
      "/data/SuperMod/testfolds/fold4.csv\n",
      "/data/SuperMod/testfolds/fold5.csv\n",
      "/data/SuperMod/testfolds/fold6.csv\n",
      "/data/SuperMod/testfolds/fold7.csv\n",
      "/data/SuperMod/testfolds/fold8.csv\n",
      "/data/SuperMod/testfolds/fold9.csv\n",
      "/data/SuperMod/testfolds/fold10.csv\n",
      "/data/SuperMod/testfolds/fold11.csv\n",
      "/data/SuperMod/testfolds/fold12.csv\n",
      "/data/SuperMod/testfolds/fold13.csv\n",
      "/data/SuperMod/testfolds/fold14.csv\n",
      "/data/SuperMod/testfolds/fold15.csv\n",
      "/data/SuperMod/testfolds/fold16.csv\n",
      "/data/SuperMod/testfolds/fold17.csv\n",
      "/data/SuperMod/testfolds/fold18.csv\n",
      "/data/SuperMod/testfolds/fold19.csv\n",
      "/data/SuperMod/testfolds/fold20.csv\n",
      "/data/SuperMod/testfolds/fold21.csv\n",
      "/data/SuperMod/testfolds/fold22.csv\n",
      "/data/SuperMod/testfolds/fold23.csv\n",
      "/data/SuperMod/testfolds/fold24.csv\n",
      "/data/SuperMod/testfolds/fold25.csv\n",
      "/data/SuperMod/testfolds/fold26.csv\n",
      "/data/SuperMod/testfolds/fold27.csv\n",
      "/data/SuperMod/testfolds/fold28.csv\n",
      "/data/SuperMod/testfolds/fold29.csv\n",
      "/data/SuperMod/testfolds/fold30.csv\n",
      "/data/SuperMod/testfolds/fold31.csv\n",
      "/data/SuperMod/testfolds/fold32.csv\n",
      "/data/SuperMod/testfolds/fold33.csv\n",
      "/data/SuperMod/testfolds/fold34.csv\n",
      "/data/SuperMod/testfolds/fold35.csv\n",
      "/data/SuperMod/testfolds/fold36.csv\n",
      "/data/SuperMod/testfolds/fold37.csv\n",
      "/data/SuperMod/testfolds/fold38.csv\n",
      "/data/SuperMod/testfolds/fold39.csv\n",
      "/data/SuperMod/testfolds/fold40.csv\n",
      "/data/SuperMod/testfolds/fold41.csv\n",
      "/data/SuperMod/testfolds/fold42.csv\n",
      "/data/SuperMod/testfolds/fold43.csv\n",
      "/data/SuperMod/testfolds/fold44.csv\n",
      "/data/SuperMod/testfolds/fold45.csv\n",
      "/data/SuperMod/testfolds/fold46.csv\n",
      "/data/SuperMod/testfolds/fold47.csv\n",
      "/data/SuperMod/testfolds/fold48.csv\n",
      "/data/SuperMod/testfolds/fold49.csv\n"
     ]
    }
   ],
   "source": [
    "for i in range(50):\n",
    "    # use i as seed\n",
    "    outfile = create_one_fold(500,i)\n",
    "    outfile_name = \"/data/SuperMod/testfolds/fold\" + str(i) +\".csv\"\n",
    "    print(outfile_name)\n",
    "    outfile.to_csv(outfile_name)"
   ]
  },
  {
   "cell_type": "code",
   "execution_count": 33,
   "metadata": {},
   "outputs": [
    {
     "name": "stdout",
     "output_type": "stream",
     "text": [
      "len load_test 1500\n",
      "Unnamed: 0                                                   2713\n",
      "Unnamed: 0.1                                                  586\n",
      "comment_text    I really liked this movie. I have seen several...\n",
      "toxicity                                                        0\n",
      "Name: 1200, dtype: object\n"
     ]
    },
    {
     "data": {
      "text/html": [
       "<div>\n",
       "<style scoped>\n",
       "    .dataframe tbody tr th:only-of-type {\n",
       "        vertical-align: middle;\n",
       "    }\n",
       "\n",
       "    .dataframe tbody tr th {\n",
       "        vertical-align: top;\n",
       "    }\n",
       "\n",
       "    .dataframe thead th {\n",
       "        text-align: right;\n",
       "    }\n",
       "</style>\n",
       "<table border=\"1\" class=\"dataframe\">\n",
       "  <thead>\n",
       "    <tr style=\"text-align: right;\">\n",
       "      <th></th>\n",
       "      <th>Unnamed: 0</th>\n",
       "      <th>Unnamed: 0.1</th>\n",
       "      <th>comment_text</th>\n",
       "      <th>toxicity</th>\n",
       "    </tr>\n",
       "  </thead>\n",
       "  <tbody>\n",
       "    <tr>\n",
       "      <th>0</th>\n",
       "      <td>426</td>\n",
       "      <td>991</td>\n",
       "      <td>\" \\n ::::::Are you kidding: \"\"I looked in the ...</td>\n",
       "      <td>0</td>\n",
       "    </tr>\n",
       "    <tr>\n",
       "      <th>1</th>\n",
       "      <td>54957</td>\n",
       "      <td>131263</td>\n",
       "      <td>:The image seems to be find. We improved the c...</td>\n",
       "      <td>0</td>\n",
       "    </tr>\n",
       "    <tr>\n",
       "      <th>2</th>\n",
       "      <td>29096</td>\n",
       "      <td>69658</td>\n",
       "      <td>==Thanks== \\n Hello Patchy1, \\n I want briefly...</td>\n",
       "      <td>0</td>\n",
       "    </tr>\n",
       "    <tr>\n",
       "      <th>3</th>\n",
       "      <td>15861</td>\n",
       "      <td>38033</td>\n",
       "      <td>==Study: Germany 1954 World Cup winners 'were ...</td>\n",
       "      <td>0</td>\n",
       "    </tr>\n",
       "    <tr>\n",
       "      <th>4</th>\n",
       "      <td>19638</td>\n",
       "      <td>47056</td>\n",
       "      <td>\" \\n\\n It only became a pejorative nickname fo...</td>\n",
       "      <td>0</td>\n",
       "    </tr>\n",
       "  </tbody>\n",
       "</table>\n",
       "</div>"
      ],
      "text/plain": [
       "   Unnamed: 0  Unnamed: 0.1  \\\n",
       "0         426           991   \n",
       "1       54957        131263   \n",
       "2       29096         69658   \n",
       "3       15861         38033   \n",
       "4       19638         47056   \n",
       "\n",
       "                                        comment_text  toxicity  \n",
       "0  \" \\n ::::::Are you kidding: \"\"I looked in the ...         0  \n",
       "1  :The image seems to be find. We improved the c...         0  \n",
       "2  ==Thanks== \\n Hello Patchy1, \\n I want briefly...         0  \n",
       "3  ==Study: Germany 1954 World Cup winners 'were ...         0  \n",
       "4  \" \\n\\n It only became a pejorative nickname fo...         0  "
      ]
     },
     "execution_count": 33,
     "metadata": {},
     "output_type": "execute_result"
    }
   ],
   "source": [
    "load_test = pd.read_csv(\"/data/SuperMod/testfolds/fold49.csv\")\n",
    "print(\"len load_test\", len(load_test))\n",
    "print(load_test.iloc[1200])\n",
    "load_test.head()"
   ]
  },
  {
   "cell_type": "code",
   "execution_count": 34,
   "metadata": {},
   "outputs": [
    {
     "name": "stdout",
     "output_type": "stream",
     "text": [
      "len load_test 1500\n",
      "Unnamed: 0                                                   1216\n",
      "Unnamed: 0.1                                                48626\n",
      "comment_text    i two came home from school fast as i could to...\n",
      "toxicity                                                        0\n",
      "Name: 1200, dtype: object\n"
     ]
    },
    {
     "data": {
      "text/html": [
       "<div>\n",
       "<style scoped>\n",
       "    .dataframe tbody tr th:only-of-type {\n",
       "        vertical-align: middle;\n",
       "    }\n",
       "\n",
       "    .dataframe tbody tr th {\n",
       "        vertical-align: top;\n",
       "    }\n",
       "\n",
       "    .dataframe thead th {\n",
       "        text-align: right;\n",
       "    }\n",
       "</style>\n",
       "<table border=\"1\" class=\"dataframe\">\n",
       "  <thead>\n",
       "    <tr style=\"text-align: right;\">\n",
       "      <th></th>\n",
       "      <th>Unnamed: 0</th>\n",
       "      <th>Unnamed: 0.1</th>\n",
       "      <th>comment_text</th>\n",
       "      <th>toxicity</th>\n",
       "    </tr>\n",
       "  </thead>\n",
       "  <tbody>\n",
       "    <tr>\n",
       "      <th>0</th>\n",
       "      <td>48483</td>\n",
       "      <td>115709</td>\n",
       "      <td>Hello nodutschke you better stop this war agai...</td>\n",
       "      <td>0</td>\n",
       "    </tr>\n",
       "    <tr>\n",
       "      <th>1</th>\n",
       "      <td>27098</td>\n",
       "      <td>64862</td>\n",
       "      <td>\"== VP70 in Popular Culture == \\n **I'm pullin...</td>\n",
       "      <td>0</td>\n",
       "    </tr>\n",
       "    <tr>\n",
       "      <th>2</th>\n",
       "      <td>37135</td>\n",
       "      <td>88877</td>\n",
       "      <td>What the hell are you sending me vandalism war...</td>\n",
       "      <td>0</td>\n",
       "    </tr>\n",
       "    <tr>\n",
       "      <th>3</th>\n",
       "      <td>23775</td>\n",
       "      <td>56975</td>\n",
       "      <td>=== Listing note ===</td>\n",
       "      <td>0</td>\n",
       "    </tr>\n",
       "    <tr>\n",
       "      <th>4</th>\n",
       "      <td>23452</td>\n",
       "      <td>56170</td>\n",
       "      <td>== Shut up == \\n\\n See above.</td>\n",
       "      <td>1</td>\n",
       "    </tr>\n",
       "  </tbody>\n",
       "</table>\n",
       "</div>"
      ],
      "text/plain": [
       "   Unnamed: 0  Unnamed: 0.1  \\\n",
       "0       48483        115709   \n",
       "1       27098         64862   \n",
       "2       37135         88877   \n",
       "3       23775         56975   \n",
       "4       23452         56170   \n",
       "\n",
       "                                        comment_text  toxicity  \n",
       "0  Hello nodutschke you better stop this war agai...         0  \n",
       "1  \"== VP70 in Popular Culture == \\n **I'm pullin...         0  \n",
       "2  What the hell are you sending me vandalism war...         0  \n",
       "3                               === Listing note ===         0  \n",
       "4                      == Shut up == \\n\\n See above.         1  "
      ]
     },
     "execution_count": 34,
     "metadata": {},
     "output_type": "execute_result"
    }
   ],
   "source": [
    "load_test = pd.read_csv(\"/data/SuperMod/testfolds/fold20.csv\")\n",
    "print(\"len load_test\", len(load_test))\n",
    "print(load_test.iloc[1200])\n",
    "load_test.head()"
   ]
  },
  {
   "cell_type": "code",
   "execution_count": null,
   "metadata": {},
   "outputs": [],
   "source": []
  }
 ],
 "metadata": {
  "kernelspec": {
   "display_name": "Python 3",
   "language": "python",
   "name": "python3"
  },
  "language_info": {
   "codemirror_mode": {
    "name": "ipython",
    "version": 3
   },
   "file_extension": ".py",
   "mimetype": "text/x-python",
   "name": "python",
   "nbconvert_exporter": "python",
   "pygments_lexer": "ipython3",
   "version": "3.6.8"
  }
 },
 "nbformat": 4,
 "nbformat_minor": 2
}
