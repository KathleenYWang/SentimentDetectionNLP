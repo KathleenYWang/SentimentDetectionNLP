{
 "cells": [
  {
   "cell_type": "code",
   "execution_count": 10,
   "metadata": {},
   "outputs": [],
   "source": [
    "from module.evaluate import load_dev_labels, get_metrics\n",
    "import pandas as pd\n",
    "import numpy as np\n",
    "import pickle as pkl"
   ]
  },
  {
   "cell_type": "code",
   "execution_count": 30,
   "metadata": {},
   "outputs": [
    {
     "name": "stdout",
     "output_type": "stream",
     "text": [
      "Reading twitter - 1grams ...\n",
      "Reading twitter - 2grams ...\n",
      "Reading twitter - 1grams ...\n",
      "Tokenizing using dictionary from /data/torchMoji/model/vocabulary.json\n",
      "loading pkl file\n",
      "loading finished\n",
      "loading glove\n",
      "100%|█████████████████████████████████| 20003/20003 [00:00<00:00, 373580.30it/s]\n",
      "15614 of 20003 found coverage 0.7805829125631155\n",
      "8it [10:13, 76.35s/it]                                                          \n",
      "\u001b[0m"
     ]
    }
   ],
   "source": [
    "!python inference_ha.py -test_path \"/data/SuperMod/testfolds/fold0.csv\"  -out_path '/data/SuperMod/hapy_state_wiki_enr_imdb_4.pth' \\\n",
    "-infer_result '/data/SuperMod/infer_result_fold0.pkl'"
   ]
  },
  {
   "cell_type": "code",
   "execution_count": 31,
   "metadata": {},
   "outputs": [
    {
     "name": "stdout",
     "output_type": "stream",
     "text": [
      "(1500,)\n",
      "(1500,)\n",
      "True Positives per class :  331\n",
      "False Positives per class :  199\n",
      "False Negatives per class :  78\n",
      "Accuracy : 0.8153, Precision : 0.625, Recall : 0.809, F1 : 0.705\n"
     ]
    },
    {
     "data": {
      "text/plain": [
       "(0.8153333333333334,\n",
       " 0.6245283018867924,\n",
       " 0.8092909535452323,\n",
       " 0.7050053248136317)"
      ]
     },
     "execution_count": 31,
     "metadata": {},
     "output_type": "execute_result"
    }
   ],
   "source": [
    "test0 = pd.read_csv(\"/data/SuperMod/testfolds/fold0.csv\")\n",
    "with open('/data/SuperMod/infer_result_fold0.pkl', 'rb') as w:\n",
    "    result0 = pkl.load(w)\n",
    "get_metrics(np.asarray(test0.toxicity), np.asarray(result0))"
   ]
  },
  {
   "cell_type": "code",
   "execution_count": 6,
   "metadata": {},
   "outputs": [
    {
     "name": "stdout",
     "output_type": "stream",
     "text": [
      "Reading twitter - 1grams ...\n",
      "Reading twitter - 2grams ...\n",
      "Reading twitter - 1grams ...\n",
      "Tokenizing using dictionary from /data/torchMoji/model/vocabulary.json\n",
      "loading pkl file\n",
      "loading finished\n",
      "loading glove\n",
      "100%|█████████████████████████████████| 20003/20003 [00:00<00:00, 370034.50it/s]\n",
      "15614 of 20003 found coverage 0.7805829125631155\n",
      "8it [10:13, 76.12s/it]                                                          \n",
      "\u001b[0m"
     ]
    }
   ],
   "source": [
    "!python inference_ha.py -test_path \"/data/SuperMod/testfolds/fold1.csv\"  -out_path '/data/SuperMod/hapy_state_wiki_enr_imdb_4.pth' \\\n",
    "-infer_result '/data/SuperMod/infer_result_fold1.pkl'"
   ]
  },
  {
   "cell_type": "code",
   "execution_count": 28,
   "metadata": {},
   "outputs": [
    {
     "name": "stdout",
     "output_type": "stream",
     "text": [
      "(1500,)\n",
      "(1500,)\n",
      "True Positives per class :  356\n",
      "False Positives per class :  225\n",
      "False Negatives per class :  66\n",
      "Accuracy : 0.8060, Precision : 0.613, Recall : 0.844, F1 : 0.710\n"
     ]
    },
    {
     "data": {
      "text/plain": [
       "(0.806, 0.612736660929432, 0.8436018957345972, 0.7098703888334996)"
      ]
     },
     "execution_count": 28,
     "metadata": {},
     "output_type": "execute_result"
    }
   ],
   "source": [
    "test1 = pd.read_csv(\"/data/SuperMod/testfolds/fold1.csv\")\n",
    "with open('/data/SuperMod/infer_result_fold1.pkl', 'rb') as w:\n",
    "    result1 = pkl.load(w)\n",
    "get_metrics(np.asarray(test1.toxicity), np.asarray(result1))"
   ]
  },
  {
   "cell_type": "code",
   "execution_count": 25,
   "metadata": {},
   "outputs": [
    {
     "name": "stdout",
     "output_type": "stream",
     "text": [
      "Reading twitter - 1grams ...\n",
      "Reading twitter - 2grams ...\n",
      "Reading twitter - 1grams ...\n",
      "Tokenizing using dictionary from /data/torchMoji/model/vocabulary.json\n",
      "loading pkl file\n",
      "loading finished\n",
      "loading glove\n",
      "100%|█████████████████████████████████| 20003/20003 [00:00<00:00, 368757.78it/s]\n",
      "15614 of 20003 found coverage 0.7805829125631155\n",
      "8it [10:10, 75.82s/it]                                                          \n",
      "\u001b[0m"
     ]
    }
   ],
   "source": [
    "!python inference_ha.py -test_path \"/data/SuperMod/testfolds/fold2.csv\"  -out_path '/data/SuperMod/hapy_state_wiki_enr_imdb_4.pth' \\\n",
    "-infer_result '/data/SuperMod/infer_result_fold2.pkl'"
   ]
  },
  {
   "cell_type": "code",
   "execution_count": 32,
   "metadata": {},
   "outputs": [
    {
     "name": "stdout",
     "output_type": "stream",
     "text": [
      "(1500,)\n",
      "(1500,)\n",
      "True Positives per class :  328\n",
      "False Positives per class :  221\n",
      "False Negatives per class :  81\n",
      "Accuracy : 0.7987, Precision : 0.597, Recall : 0.802, F1 : 0.685\n"
     ]
    },
    {
     "data": {
      "text/plain": [
       "(0.7986666666666666,\n",
       " 0.5974499089253188,\n",
       " 0.8019559902200489,\n",
       " 0.6847599164926931)"
      ]
     },
     "execution_count": 32,
     "metadata": {},
     "output_type": "execute_result"
    }
   ],
   "source": [
    "test2 = pd.read_csv(\"/data/SuperMod/testfolds/fold2.csv\")\n",
    "with open('/data/SuperMod/infer_result_fold2.pkl', 'rb') as w:\n",
    "    result2 = pkl.load(w)\n",
    "get_metrics(np.asarray(test2.toxicity), np.asarray(result2))"
   ]
  },
  {
   "cell_type": "code",
   "execution_count": 33,
   "metadata": {},
   "outputs": [
    {
     "name": "stdout",
     "output_type": "stream",
     "text": [
      "Reading twitter - 1grams ...\n",
      "Reading twitter - 2grams ...\n",
      "Reading twitter - 1grams ...\n",
      "Tokenizing using dictionary from /data/torchMoji/model/vocabulary.json\n",
      "loading pkl file\n",
      "loading finished\n",
      "loading glove\n",
      "100%|█████████████████████████████████| 20003/20003 [00:00<00:00, 374268.57it/s]\n",
      "15614 of 20003 found coverage 0.7805829125631155\n",
      "8it [10:07, 75.51s/it]                                                          \n",
      "\u001b[0m"
     ]
    }
   ],
   "source": [
    "!python inference_ha.py -test_path \"/data/SuperMod/testfolds/fold3.csv\"  -out_path '/data/SuperMod/hapy_state_wiki_enr_imdb_4.pth' \\\n",
    "-infer_result '/data/SuperMod/infer_result_fold3.pkl'"
   ]
  },
  {
   "cell_type": "code",
   "execution_count": 34,
   "metadata": {},
   "outputs": [
    {
     "name": "stdout",
     "output_type": "stream",
     "text": [
      "Reading twitter - 1grams ...\n",
      "Reading twitter - 2grams ...\n",
      "Reading twitter - 1grams ...\n",
      "Tokenizing using dictionary from /data/torchMoji/model/vocabulary.json\n",
      "loading pkl file\n",
      "loading finished\n",
      "loading glove\n",
      "100%|█████████████████████████████████| 20003/20003 [00:00<00:00, 374668.03it/s]\n",
      "15614 of 20003 found coverage 0.7805829125631155\n",
      "8it [10:08, 75.75s/it]                                                          \n",
      "\u001b[0m"
     ]
    }
   ],
   "source": [
    "!python inference_ha.py -test_path \"/data/SuperMod/testfolds/fold4.csv\"  -out_path '/data/SuperMod/hapy_state_wiki_enr_imdb_4.pth' \\\n",
    "-infer_result '/data/SuperMod/infer_result_fold4.pkl'"
   ]
  },
  {
   "cell_type": "code",
   "execution_count": 35,
   "metadata": {},
   "outputs": [
    {
     "name": "stdout",
     "output_type": "stream",
     "text": [
      "Reading twitter - 1grams ...\n",
      "Reading twitter - 2grams ...\n",
      "Reading twitter - 1grams ...\n",
      "Tokenizing using dictionary from /data/torchMoji/model/vocabulary.json\n",
      "loading pkl file\n",
      "loading finished\n",
      "loading glove\n",
      "100%|█████████████████████████████████| 20003/20003 [00:00<00:00, 375580.45it/s]\n",
      "15614 of 20003 found coverage 0.7805829125631155\n",
      "8it [10:13, 76.39s/it]                                                          \n",
      "\u001b[0m"
     ]
    }
   ],
   "source": [
    "!python inference_ha.py -test_path \"/data/SuperMod/testfolds/fold5.csv\"  -out_path '/data/SuperMod/hapy_state_wiki_enr_imdb_4.pth' \\\n",
    "-infer_result '/data/SuperMod/infer_result_fold5.pkl'"
   ]
  },
  {
   "cell_type": "code",
   "execution_count": 36,
   "metadata": {},
   "outputs": [
    {
     "name": "stdout",
     "output_type": "stream",
     "text": [
      "Reading twitter - 1grams ...\n",
      "Reading twitter - 2grams ...\n",
      "Reading twitter - 1grams ...\n",
      "Tokenizing using dictionary from /data/torchMoji/model/vocabulary.json\n",
      "loading pkl file\n",
      "loading finished\n",
      "loading glove\n",
      "100%|█████████████████████████████████| 20003/20003 [00:00<00:00, 374873.94it/s]\n",
      "15614 of 20003 found coverage 0.7805829125631155\n",
      "8it [10:07, 75.56s/it]                                                          \n",
      "\u001b[0m"
     ]
    }
   ],
   "source": [
    "!python inference_ha.py -test_path \"/data/SuperMod/testfolds/fold6.csv\"  -out_path '/data/SuperMod/hapy_state_wiki_enr_imdb_4.pth' \\\n",
    "-infer_result '/data/SuperMod/infer_result_fold6.pkl'"
   ]
  },
  {
   "cell_type": "code",
   "execution_count": 37,
   "metadata": {},
   "outputs": [
    {
     "name": "stdout",
     "output_type": "stream",
     "text": [
      "Reading twitter - 1grams ...\n",
      "Reading twitter - 2grams ...\n",
      "Reading twitter - 1grams ...\n",
      "Tokenizing using dictionary from /data/torchMoji/model/vocabulary.json\n",
      "loading pkl file\n",
      "loading finished\n",
      "loading glove\n",
      "100%|█████████████████████████████████| 20003/20003 [00:00<00:00, 371721.52it/s]\n",
      "15614 of 20003 found coverage 0.7805829125631155\n",
      "8it [10:15, 76.52s/it]                                                          \n",
      "\u001b[0m"
     ]
    }
   ],
   "source": [
    "!python inference_ha.py -test_path \"/data/SuperMod/testfolds/fold7.csv\"  -out_path '/data/SuperMod/hapy_state_wiki_enr_imdb_4.pth' \\\n",
    "-infer_result '/data/SuperMod/infer_result_fold7.pkl'"
   ]
  },
  {
   "cell_type": "code",
   "execution_count": 38,
   "metadata": {},
   "outputs": [
    {
     "name": "stdout",
     "output_type": "stream",
     "text": [
      "Reading twitter - 1grams ...\n",
      "Reading twitter - 2grams ...\n",
      "Reading twitter - 1grams ...\n",
      "Tokenizing using dictionary from /data/torchMoji/model/vocabulary.json\n",
      "loading pkl file\n",
      "loading finished\n",
      "loading glove\n",
      "100%|█████████████████████████████████| 20003/20003 [00:00<00:00, 373390.76it/s]\n",
      "15614 of 20003 found coverage 0.7805829125631155\n",
      "8it [10:07, 75.90s/it]                                                          \n",
      "\u001b[0m"
     ]
    }
   ],
   "source": [
    "!python inference_ha.py -test_path \"/data/SuperMod/testfolds/fold8.csv\"  -out_path '/data/SuperMod/hapy_state_wiki_enr_imdb_4.pth' \\\n",
    "-infer_result '/data/SuperMod/infer_result_fold8.pkl'"
   ]
  },
  {
   "cell_type": "code",
   "execution_count": 39,
   "metadata": {},
   "outputs": [
    {
     "name": "stdout",
     "output_type": "stream",
     "text": [
      "Reading twitter - 1grams ...\n",
      "Reading twitter - 2grams ...\n",
      "Reading twitter - 1grams ...\n",
      "Tokenizing using dictionary from /data/torchMoji/model/vocabulary.json\n",
      "loading pkl file\n",
      "loading finished\n",
      "loading glove\n",
      "100%|█████████████████████████████████| 20003/20003 [00:00<00:00, 373958.28it/s]\n",
      "15614 of 20003 found coverage 0.7805829125631155\n",
      "8it [10:09, 75.83s/it]                                                          \n",
      "\u001b[0m"
     ]
    }
   ],
   "source": [
    "!python inference_ha.py -test_path \"/data/SuperMod/testfolds/fold9.csv\"  -out_path '/data/SuperMod/hapy_state_wiki_enr_imdb_4.pth' \\\n",
    "-infer_result '/data/SuperMod/infer_result_fold9.pkl'"
   ]
  },
  {
   "cell_type": "code",
   "execution_count": 40,
   "metadata": {},
   "outputs": [
    {
     "name": "stdout",
     "output_type": "stream",
     "text": [
      "Reading twitter - 1grams ...\n",
      "Reading twitter - 2grams ...\n",
      "Reading twitter - 1grams ...\n",
      "Tokenizing using dictionary from /data/torchMoji/model/vocabulary.json\n",
      "loading pkl file\n",
      "loading finished\n",
      "loading glove\n",
      "100%|█████████████████████████████████| 20003/20003 [00:00<00:00, 373848.31it/s]\n",
      "15614 of 20003 found coverage 0.7805829125631155\n",
      "8it [10:07, 75.67s/it]                                                          \n",
      "\u001b[0m"
     ]
    }
   ],
   "source": [
    "!python inference_ha.py -test_path \"/data/SuperMod/testfolds/fold10.csv\"  -out_path '/data/SuperMod/hapy_state_wiki_enr_imdb_4.pth' \\\n",
    "-infer_result '/data/SuperMod/infer_result_fold10.pkl'"
   ]
  },
  {
   "cell_type": "code",
   "execution_count": 41,
   "metadata": {},
   "outputs": [
    {
     "name": "stdout",
     "output_type": "stream",
     "text": [
      "Reading twitter - 1grams ...\n",
      "Reading twitter - 2grams ...\n",
      "Reading twitter - 1grams ...\n",
      "Tokenizing using dictionary from /data/torchMoji/model/vocabulary.json\n",
      "loading pkl file\n",
      "loading finished\n",
      "loading glove\n",
      "100%|█████████████████████████████████| 20003/20003 [00:00<00:00, 373086.90it/s]\n",
      "15614 of 20003 found coverage 0.7805829125631155\n",
      "8it [10:10, 75.97s/it]                                                          \n",
      "\u001b[0m"
     ]
    }
   ],
   "source": [
    "!python inference_ha.py -test_path \"/data/SuperMod/testfolds/fold11.csv\"  -out_path '/data/SuperMod/hapy_state_wiki_enr_imdb_4.pth' \\\n",
    "-infer_result '/data/SuperMod/infer_result_fold11.pkl'"
   ]
  },
  {
   "cell_type": "code",
   "execution_count": 42,
   "metadata": {},
   "outputs": [
    {
     "name": "stdout",
     "output_type": "stream",
     "text": [
      "Reading twitter - 1grams ...\n",
      "Reading twitter - 2grams ...\n",
      "Reading twitter - 1grams ...\n",
      "Tokenizing using dictionary from /data/torchMoji/model/vocabulary.json\n",
      "loading pkl file\n",
      "loading finished\n",
      "loading glove\n",
      "100%|█████████████████████████████████| 20003/20003 [00:00<00:00, 371752.82it/s]\n",
      "15614 of 20003 found coverage 0.7805829125631155\n",
      "8it [10:07, 75.68s/it]                                                          \n",
      "\u001b[0m"
     ]
    }
   ],
   "source": [
    "!python inference_ha.py -test_path \"/data/SuperMod/testfolds/fold12.csv\"  -out_path '/data/SuperMod/hapy_state_wiki_enr_imdb_4.pth' \\\n",
    "-infer_result '/data/SuperMod/infer_result_fold12.pkl'"
   ]
  },
  {
   "cell_type": "code",
   "execution_count": 43,
   "metadata": {},
   "outputs": [
    {
     "name": "stdout",
     "output_type": "stream",
     "text": [
      "Reading twitter - 1grams ...\n",
      "Reading twitter - 2grams ...\n",
      "Reading twitter - 1grams ...\n",
      "Tokenizing using dictionary from /data/torchMoji/model/vocabulary.json\n",
      "loading pkl file\n",
      "loading finished\n",
      "loading glove\n",
      "100%|█████████████████████████████████| 20003/20003 [00:00<00:00, 370927.74it/s]\n",
      "15614 of 20003 found coverage 0.7805829125631155\n",
      "8it [10:09, 75.70s/it]                                                          \n",
      "\u001b[0m"
     ]
    }
   ],
   "source": [
    "!python inference_ha.py -test_path \"/data/SuperMod/testfolds/fold13.csv\"  -out_path '/data/SuperMod/hapy_state_wiki_enr_imdb_4.pth' \\\n",
    "-infer_result '/data/SuperMod/infer_result_fold13.pkl'"
   ]
  },
  {
   "cell_type": "code",
   "execution_count": 44,
   "metadata": {},
   "outputs": [
    {
     "name": "stdout",
     "output_type": "stream",
     "text": [
      "Reading twitter - 1grams ...\n",
      "Reading twitter - 2grams ...\n",
      "Reading twitter - 1grams ...\n",
      "Tokenizing using dictionary from /data/torchMoji/model/vocabulary.json\n",
      "loading pkl file\n",
      "loading finished\n",
      "loading glove\n",
      "100%|█████████████████████████████████| 20003/20003 [00:00<00:00, 377758.55it/s]\n",
      "15614 of 20003 found coverage 0.7805829125631155\n",
      "8it [10:10, 75.97s/it]                                                          \n",
      "\u001b[0m"
     ]
    }
   ],
   "source": [
    "!python inference_ha.py -test_path \"/data/SuperMod/testfolds/fold14.csv\"  -out_path '/data/SuperMod/hapy_state_wiki_enr_imdb_4.pth' \\\n",
    "-infer_result '/data/SuperMod/infer_result_fold14.pkl'"
   ]
  },
  {
   "cell_type": "code",
   "execution_count": 45,
   "metadata": {},
   "outputs": [
    {
     "name": "stdout",
     "output_type": "stream",
     "text": [
      "Reading twitter - 1grams ...\n",
      "Reading twitter - 2grams ...\n",
      "Reading twitter - 1grams ...\n",
      "Tokenizing using dictionary from /data/torchMoji/model/vocabulary.json\n",
      "loading pkl file\n",
      "loading finished\n",
      "loading glove\n",
      "100%|█████████████████████████████████| 20003/20003 [00:00<00:00, 379413.92it/s]\n",
      "15614 of 20003 found coverage 0.7805829125631155\n",
      "8it [10:10, 75.88s/it]                                                          \n",
      "\u001b[0m"
     ]
    }
   ],
   "source": [
    "!python inference_ha.py -test_path \"/data/SuperMod/testfolds/fold15.csv\"  -out_path '/data/SuperMod/hapy_state_wiki_enr_imdb_4.pth' \\\n",
    "-infer_result '/data/SuperMod/infer_result_fold15.pkl'"
   ]
  },
  {
   "cell_type": "code",
   "execution_count": 46,
   "metadata": {},
   "outputs": [
    {
     "name": "stdout",
     "output_type": "stream",
     "text": [
      "Reading twitter - 1grams ...\n",
      "Reading twitter - 2grams ...\n",
      "Reading twitter - 1grams ...\n",
      "Tokenizing using dictionary from /data/torchMoji/model/vocabulary.json\n",
      "loading pkl file\n",
      "loading finished\n",
      "loading glove\n",
      "100%|█████████████████████████████████| 20003/20003 [00:00<00:00, 366598.63it/s]\n",
      "15614 of 20003 found coverage 0.7805829125631155\n",
      "8it [10:10, 75.38s/it]                                                          \n",
      "\u001b[0m"
     ]
    }
   ],
   "source": [
    "!python inference_ha.py -test_path \"/data/SuperMod/testfolds/fold16.csv\"  -out_path '/data/SuperMod/hapy_state_wiki_enr_imdb_4.pth' \\\n",
    "-infer_result '/data/SuperMod/infer_result_fold16.pkl'"
   ]
  },
  {
   "cell_type": "code",
   "execution_count": 47,
   "metadata": {},
   "outputs": [
    {
     "name": "stdout",
     "output_type": "stream",
     "text": [
      "Reading twitter - 1grams ...\n",
      "Reading twitter - 2grams ...\n",
      "Reading twitter - 1grams ...\n",
      "Tokenizing using dictionary from /data/torchMoji/model/vocabulary.json\n",
      "loading pkl file\n",
      "loading finished\n",
      "loading glove\n",
      "100%|█████████████████████████████████| 20003/20003 [00:00<00:00, 376524.36it/s]\n",
      "15614 of 20003 found coverage 0.7805829125631155\n",
      "8it [10:10, 75.99s/it]                                                          \n",
      "\u001b[0m"
     ]
    }
   ],
   "source": [
    "!python inference_ha.py -test_path \"/data/SuperMod/testfolds/fold17.csv\"  -out_path '/data/SuperMod/hapy_state_wiki_enr_imdb_4.pth' \\\n",
    "-infer_result '/data/SuperMod/infer_result_fold17.pkl'"
   ]
  },
  {
   "cell_type": "code",
   "execution_count": 48,
   "metadata": {},
   "outputs": [
    {
     "name": "stdout",
     "output_type": "stream",
     "text": [
      "Reading twitter - 1grams ...\n",
      "Reading twitter - 2grams ...\n",
      "Reading twitter - 1grams ...\n",
      "Tokenizing using dictionary from /data/torchMoji/model/vocabulary.json\n",
      "loading pkl file\n",
      "loading finished\n",
      "loading glove\n",
      "100%|█████████████████████████████████| 20003/20003 [00:00<00:00, 372599.77it/s]\n",
      "15614 of 20003 found coverage 0.7805829125631155\n",
      "8it [10:09, 75.81s/it]                                                          \n",
      "\u001b[0m"
     ]
    }
   ],
   "source": [
    "!python inference_ha.py -test_path \"/data/SuperMod/testfolds/fold18.csv\"  -out_path '/data/SuperMod/hapy_state_wiki_enr_imdb_4.pth' \\\n",
    "-infer_result '/data/SuperMod/infer_result_fold18.pkl'"
   ]
  },
  {
   "cell_type": "code",
   "execution_count": 49,
   "metadata": {},
   "outputs": [
    {
     "name": "stdout",
     "output_type": "stream",
     "text": [
      "Reading twitter - 1grams ...\n",
      "Reading twitter - 2grams ...\n",
      "Reading twitter - 1grams ...\n",
      "Tokenizing using dictionary from /data/torchMoji/model/vocabulary.json\n",
      "loading pkl file\n",
      "loading finished\n",
      "loading glove\n",
      "100%|█████████████████████████████████| 20003/20003 [00:00<00:00, 371934.10it/s]\n",
      "15614 of 20003 found coverage 0.7805829125631155\n",
      "8it [10:08, 75.65s/it]                                                          \n",
      "\u001b[0m"
     ]
    }
   ],
   "source": [
    "!python inference_ha.py -test_path \"/data/SuperMod/testfolds/fold19.csv\"  -out_path '/data/SuperMod/hapy_state_wiki_enr_imdb_4.pth' \\\n",
    "-infer_result '/data/SuperMod/infer_result_fold19.pkl'"
   ]
  },
  {
   "cell_type": "code",
   "execution_count": 50,
   "metadata": {},
   "outputs": [
    {
     "name": "stdout",
     "output_type": "stream",
     "text": [
      "Reading twitter - 1grams ...\n",
      "Reading twitter - 2grams ...\n",
      "Reading twitter - 1grams ...\n",
      "Tokenizing using dictionary from /data/torchMoji/model/vocabulary.json\n",
      "loading pkl file\n",
      "loading finished\n",
      "loading glove\n",
      "100%|█████████████████████████████████| 20003/20003 [00:00<00:00, 370613.15it/s]\n",
      "15614 of 20003 found coverage 0.7805829125631155\n",
      "8it [10:10, 76.04s/it]                                                          \n",
      "\u001b[0m"
     ]
    }
   ],
   "source": [
    "!python inference_ha.py -test_path \"/data/SuperMod/testfolds/fold20.csv\"  -out_path '/data/SuperMod/hapy_state_wiki_enr_imdb_4.pth' \\\n",
    "-infer_result '/data/SuperMod/infer_result_fold20.pkl'"
   ]
  },
  {
   "cell_type": "code",
   "execution_count": 51,
   "metadata": {},
   "outputs": [
    {
     "name": "stdout",
     "output_type": "stream",
     "text": [
      "Reading twitter - 1grams ...\n",
      "Reading twitter - 2grams ...\n",
      "Reading twitter - 1grams ...\n",
      "Tokenizing using dictionary from /data/torchMoji/model/vocabulary.json\n",
      "loading pkl file\n",
      "loading finished\n",
      "loading glove\n",
      "100%|█████████████████████████████████| 20003/20003 [00:00<00:00, 363635.30it/s]\n",
      "15614 of 20003 found coverage 0.7805829125631155\n",
      "8it [10:07, 75.59s/it]                                                          \n",
      "\u001b[0m"
     ]
    }
   ],
   "source": [
    "!python inference_ha.py -test_path \"/data/SuperMod/testfolds/fold21.csv\"  -out_path '/data/SuperMod/hapy_state_wiki_enr_imdb_4.pth' \\\n",
    "-infer_result '/data/SuperMod/infer_result_fold21.pkl'"
   ]
  },
  {
   "cell_type": "code",
   "execution_count": 52,
   "metadata": {},
   "outputs": [
    {
     "name": "stdout",
     "output_type": "stream",
     "text": [
      "Reading twitter - 1grams ...\n",
      "Reading twitter - 2grams ...\n",
      "Reading twitter - 1grams ...\n",
      "Tokenizing using dictionary from /data/torchMoji/model/vocabulary.json\n",
      "loading pkl file\n",
      "loading finished\n",
      "loading glove\n",
      "100%|█████████████████████████████████| 20003/20003 [00:00<00:00, 376610.55it/s]\n",
      "15614 of 20003 found coverage 0.7805829125631155\n",
      "8it [10:07, 75.51s/it]                                                          \n",
      "\u001b[0m"
     ]
    }
   ],
   "source": [
    "!python inference_ha.py -test_path \"/data/SuperMod/testfolds/fold22.csv\"  -out_path '/data/SuperMod/hapy_state_wiki_enr_imdb_4.pth' \\\n",
    "-infer_result '/data/SuperMod/infer_result_fold22.pkl'"
   ]
  },
  {
   "cell_type": "code",
   "execution_count": 53,
   "metadata": {},
   "outputs": [
    {
     "name": "stdout",
     "output_type": "stream",
     "text": [
      "Reading twitter - 1grams ...\n",
      "Reading twitter - 2grams ...\n",
      "Reading twitter - 1grams ...\n",
      "Tokenizing using dictionary from /data/torchMoji/model/vocabulary.json\n",
      "loading pkl file\n",
      "loading finished\n",
      "loading glove\n",
      "100%|█████████████████████████████████| 20003/20003 [00:00<00:00, 378462.32it/s]\n",
      "15614 of 20003 found coverage 0.7805829125631155\n",
      "8it [10:09, 76.13s/it]                                                          \n",
      "\u001b[0m"
     ]
    }
   ],
   "source": [
    "!python inference_ha.py -test_path \"/data/SuperMod/testfolds/fold23.csv\"  -out_path '/data/SuperMod/hapy_state_wiki_enr_imdb_4.pth' \\\n",
    "-infer_result '/data/SuperMod/infer_result_fold23.pkl'"
   ]
  },
  {
   "cell_type": "code",
   "execution_count": 54,
   "metadata": {},
   "outputs": [
    {
     "name": "stdout",
     "output_type": "stream",
     "text": [
      "Reading twitter - 1grams ...\n",
      "Reading twitter - 2grams ...\n",
      "Reading twitter - 1grams ...\n",
      "Tokenizing using dictionary from /data/torchMoji/model/vocabulary.json\n",
      "loading pkl file\n",
      "loading finished\n",
      "loading glove\n",
      "100%|█████████████████████████████████| 20003/20003 [00:00<00:00, 379300.71it/s]\n",
      "15614 of 20003 found coverage 0.7805829125631155\n",
      "8it [10:08, 75.76s/it]                                                          \n",
      "\u001b[0m"
     ]
    }
   ],
   "source": [
    "!python inference_ha.py -test_path \"/data/SuperMod/testfolds/fold24.csv\"  -out_path '/data/SuperMod/hapy_state_wiki_enr_imdb_4.pth' \\\n",
    "-infer_result '/data/SuperMod/infer_result_fold24.pkl'"
   ]
  },
  {
   "cell_type": "code",
   "execution_count": 55,
   "metadata": {},
   "outputs": [
    {
     "name": "stdout",
     "output_type": "stream",
     "text": [
      "Reading twitter - 1grams ...\n",
      "Reading twitter - 2grams ...\n",
      "Reading twitter - 1grams ...\n",
      "Tokenizing using dictionary from /data/torchMoji/model/vocabulary.json\n",
      "loading pkl file\n",
      "loading finished\n",
      "loading glove\n",
      "100%|█████████████████████████████████| 20003/20003 [00:00<00:00, 371329.96it/s]\n",
      "15614 of 20003 found coverage 0.7805829125631155\n",
      "8it [10:07, 75.73s/it]                                                          \n",
      "\u001b[0m"
     ]
    }
   ],
   "source": [
    "!python inference_ha.py -test_path \"/data/SuperMod/testfolds/fold25.csv\"  -out_path '/data/SuperMod/hapy_state_wiki_enr_imdb_4.pth' \\\n",
    "-infer_result '/data/SuperMod/infer_result_fold25.pkl'"
   ]
  },
  {
   "cell_type": "code",
   "execution_count": 56,
   "metadata": {},
   "outputs": [
    {
     "name": "stdout",
     "output_type": "stream",
     "text": [
      "Reading twitter - 1grams ...\n",
      "Reading twitter - 2grams ...\n",
      "Reading twitter - 1grams ...\n",
      "Tokenizing using dictionary from /data/torchMoji/model/vocabulary.json\n",
      "loading pkl file\n",
      "loading finished\n",
      "loading glove\n",
      "100%|█████████████████████████████████| 20003/20003 [00:00<00:00, 372955.88it/s]\n",
      "15614 of 20003 found coverage 0.7805829125631155\n",
      "8it [10:14, 76.56s/it]                                                          \n",
      "\u001b[0m"
     ]
    }
   ],
   "source": [
    "!python inference_ha.py -test_path \"/data/SuperMod/testfolds/fold26.csv\"  -out_path '/data/SuperMod/hapy_state_wiki_enr_imdb_4.pth' \\\n",
    "-infer_result '/data/SuperMod/infer_result_fold26.pkl'"
   ]
  },
  {
   "cell_type": "code",
   "execution_count": 57,
   "metadata": {},
   "outputs": [
    {
     "name": "stdout",
     "output_type": "stream",
     "text": [
      "Reading twitter - 1grams ...\n",
      "Reading twitter - 2grams ...\n",
      "Reading twitter - 1grams ...\n",
      "Tokenizing using dictionary from /data/torchMoji/model/vocabulary.json\n",
      "loading pkl file\n",
      "loading finished\n",
      "loading glove\n",
      "100%|█████████████████████████████████| 20003/20003 [00:00<00:00, 367404.54it/s]\n",
      "15614 of 20003 found coverage 0.7805829125631155\n",
      "8it [10:12, 76.10s/it]                                                          \n",
      "\u001b[0m"
     ]
    }
   ],
   "source": [
    "!python inference_ha.py -test_path \"/data/SuperMod/testfolds/fold27.csv\"  -out_path '/data/SuperMod/hapy_state_wiki_enr_imdb_4.pth' \\\n",
    "-infer_result '/data/SuperMod/infer_result_fold27.pkl'"
   ]
  },
  {
   "cell_type": "code",
   "execution_count": 58,
   "metadata": {},
   "outputs": [
    {
     "name": "stdout",
     "output_type": "stream",
     "text": [
      "Reading twitter - 1grams ...\n",
      "Reading twitter - 2grams ...\n",
      "Reading twitter - 1grams ...\n",
      "Tokenizing using dictionary from /data/torchMoji/model/vocabulary.json\n",
      "loading pkl file\n",
      "loading finished\n",
      "loading glove\n",
      "100%|█████████████████████████████████| 20003/20003 [00:00<00:00, 347913.58it/s]\n",
      "15614 of 20003 found coverage 0.7805829125631155\n",
      "8it [10:12, 76.17s/it]                                                          \n",
      "\u001b[0m"
     ]
    }
   ],
   "source": [
    "!python inference_ha.py -test_path \"/data/SuperMod/testfolds/fold28.csv\"  -out_path '/data/SuperMod/hapy_state_wiki_enr_imdb_4.pth' \\\n",
    "-infer_result '/data/SuperMod/infer_result_fold28.pkl'"
   ]
  },
  {
   "cell_type": "code",
   "execution_count": 60,
   "metadata": {},
   "outputs": [
    {
     "name": "stdout",
     "output_type": "stream",
     "text": [
      "Reading twitter - 1grams ...\n",
      "Reading twitter - 2grams ...\n",
      "Reading twitter - 1grams ...\n",
      "Tokenizing using dictionary from /data/torchMoji/model/vocabulary.json\n",
      "loading pkl file\n",
      "loading finished\n",
      "loading glove\n",
      "100%|█████████████████████████████████| 20003/20003 [00:00<00:00, 379508.32it/s]\n",
      "15614 of 20003 found coverage 0.7805829125631155\n",
      "8it [10:10, 75.90s/it]                                                          \n",
      "\u001b[0m"
     ]
    }
   ],
   "source": [
    "!python inference_ha.py -test_path \"/data/SuperMod/testfolds/fold29.csv\"  -out_path '/data/SuperMod/hapy_state_wiki_enr_imdb_4.pth' \\\n",
    "-infer_result '/data/SuperMod/infer_result_fold29.pkl'"
   ]
  },
  {
   "cell_type": "code",
   "execution_count": 59,
   "metadata": {},
   "outputs": [
    {
     "name": "stdout",
     "output_type": "stream",
     "text": [
      "Reading twitter - 1grams ...\n",
      "Reading twitter - 2grams ...\n",
      "Reading twitter - 1grams ...\n",
      "Tokenizing using dictionary from /data/torchMoji/model/vocabulary.json\n",
      "loading pkl file\n",
      "loading finished\n",
      "loading glove\n",
      "100%|█████████████████████████████████| 20003/20003 [00:00<00:00, 373883.29it/s]\n",
      "15614 of 20003 found coverage 0.7805829125631155\n",
      "8it [10:10, 75.97s/it]                                                          \n",
      "\u001b[0m"
     ]
    }
   ],
   "source": [
    "!python inference_ha.py -test_path \"/data/SuperMod/testfolds/fold30.csv\"  -out_path '/data/SuperMod/hapy_state_wiki_enr_imdb_4.pth' \\\n",
    "-infer_result '/data/SuperMod/infer_result_fold30.pkl'"
   ]
  },
  {
   "cell_type": "code",
   "execution_count": 61,
   "metadata": {},
   "outputs": [
    {
     "name": "stdout",
     "output_type": "stream",
     "text": [
      "Reading twitter - 1grams ...\n",
      "Reading twitter - 2grams ...\n",
      "Reading twitter - 1grams ...\n",
      "Tokenizing using dictionary from /data/torchMoji/model/vocabulary.json\n",
      "loading pkl file\n",
      "loading finished\n",
      "loading glove\n",
      "100%|█████████████████████████████████| 20003/20003 [00:00<00:00, 379451.68it/s]\n",
      "15614 of 20003 found coverage 0.7805829125631155\n",
      "8it [10:11, 76.21s/it]                                                          \n",
      "\u001b[0m"
     ]
    }
   ],
   "source": [
    "!python inference_ha.py -test_path \"/data/SuperMod/testfolds/fold31.csv\"  -out_path '/data/SuperMod/hapy_state_wiki_enr_imdb_4.pth' \\\n",
    "-infer_result '/data/SuperMod/infer_result_fold31.pkl'"
   ]
  },
  {
   "cell_type": "code",
   "execution_count": 62,
   "metadata": {},
   "outputs": [
    {
     "name": "stdout",
     "output_type": "stream",
     "text": [
      "Reading twitter - 1grams ...\n",
      "Reading twitter - 2grams ...\n",
      "Reading twitter - 1grams ...\n",
      "Tokenizing using dictionary from /data/torchMoji/model/vocabulary.json\n",
      "loading pkl file\n",
      "loading finished\n",
      "loading glove\n",
      "100%|█████████████████████████████████| 20003/20003 [00:00<00:00, 378692.94it/s]\n",
      "15614 of 20003 found coverage 0.7805829125631155\n",
      "8it [10:12, 75.79s/it]                                                          \n",
      "\u001b[0m"
     ]
    }
   ],
   "source": [
    "!python inference_ha.py -test_path \"/data/SuperMod/testfolds/fold32.csv\"  -out_path '/data/SuperMod/hapy_state_wiki_enr_imdb_4.pth' \\\n",
    "-infer_result '/data/SuperMod/infer_result_fold32.pkl'"
   ]
  },
  {
   "cell_type": "code",
   "execution_count": 63,
   "metadata": {},
   "outputs": [
    {
     "name": "stdout",
     "output_type": "stream",
     "text": [
      "Reading twitter - 1grams ...\n",
      "Reading twitter - 2grams ...\n",
      "Reading twitter - 1grams ...\n",
      "Tokenizing using dictionary from /data/torchMoji/model/vocabulary.json\n",
      "loading pkl file\n",
      "loading finished\n",
      "loading glove\n",
      "100%|█████████████████████████████████| 20003/20003 [00:00<00:00, 373485.50it/s]\n",
      "15614 of 20003 found coverage 0.7805829125631155\n",
      "8it [10:10, 75.83s/it]                                                          \n",
      "\u001b[0m"
     ]
    }
   ],
   "source": [
    "!python inference_ha.py -test_path \"/data/SuperMod/testfolds/fold33.csv\"  -out_path '/data/SuperMod/hapy_state_wiki_enr_imdb_4.pth' \\\n",
    "-infer_result '/data/SuperMod/infer_result_fold33.pkl'"
   ]
  },
  {
   "cell_type": "code",
   "execution_count": 72,
   "metadata": {},
   "outputs": [
    {
     "name": "stdout",
     "output_type": "stream",
     "text": [
      "Reading twitter - 1grams ...\n",
      "Reading twitter - 2grams ...\n",
      "Reading twitter - 1grams ...\n",
      "Tokenizing using dictionary from /data/torchMoji/model/vocabulary.json\n",
      "loading pkl file\n",
      "loading finished\n",
      "loading glove\n",
      "100%|█████████████████████████████████| 20003/20003 [00:00<00:00, 369067.61it/s]\n",
      "15614 of 20003 found coverage 0.7805829125631155\n",
      "8it [10:08, 75.78s/it]                                                          \n",
      "\u001b[0m"
     ]
    }
   ],
   "source": [
    "!python inference_ha.py -test_path \"/data/SuperMod/testfolds/fold34.csv\"  -out_path '/data/SuperMod/hapy_state_wiki_enr_imdb_4.pth' \\\n",
    "-infer_result '/data/SuperMod/infer_result_fold34.pkl'"
   ]
  },
  {
   "cell_type": "code",
   "execution_count": 73,
   "metadata": {},
   "outputs": [
    {
     "name": "stdout",
     "output_type": "stream",
     "text": [
      "Reading twitter - 1grams ...\n",
      "Reading twitter - 2grams ...\n",
      "Reading twitter - 1grams ...\n",
      "Tokenizing using dictionary from /data/torchMoji/model/vocabulary.json\n",
      "loading pkl file\n",
      "loading finished\n",
      "loading glove\n",
      "100%|█████████████████████████████████| 20003/20003 [00:00<00:00, 372288.94it/s]\n",
      "15614 of 20003 found coverage 0.7805829125631155\n",
      "8it [10:15, 76.05s/it]                                                          \n",
      "\u001b[0m"
     ]
    }
   ],
   "source": [
    "!python inference_ha.py -test_path \"/data/SuperMod/testfolds/fold35.csv\"  -out_path '/data/SuperMod/hapy_state_wiki_enr_imdb_4.pth' \\\n",
    "-infer_result '/data/SuperMod/infer_result_fold35.pkl'"
   ]
  },
  {
   "cell_type": "code",
   "execution_count": 74,
   "metadata": {},
   "outputs": [
    {
     "name": "stdout",
     "output_type": "stream",
     "text": [
      "Reading twitter - 1grams ...\n",
      "Reading twitter - 2grams ...\n",
      "Reading twitter - 1grams ...\n",
      "Tokenizing using dictionary from /data/torchMoji/model/vocabulary.json\n",
      "loading pkl file\n",
      "loading finished\n",
      "loading glove\n",
      "100%|█████████████████████████████████| 20003/20003 [00:00<00:00, 375435.91it/s]\n",
      "15614 of 20003 found coverage 0.7805829125631155\n",
      "8it [10:09, 75.79s/it]                                                          \n",
      "\u001b[0m"
     ]
    }
   ],
   "source": [
    "!python inference_ha.py -test_path \"/data/SuperMod/testfolds/fold36.csv\"  -out_path '/data/SuperMod/hapy_state_wiki_enr_imdb_4.pth' \\\n",
    "-infer_result '/data/SuperMod/infer_result_fold36.pkl'"
   ]
  },
  {
   "cell_type": "code",
   "execution_count": 75,
   "metadata": {},
   "outputs": [
    {
     "name": "stdout",
     "output_type": "stream",
     "text": [
      "Reading twitter - 1grams ...\n",
      "Reading twitter - 2grams ...\n",
      "Reading twitter - 1grams ...\n",
      "Tokenizing using dictionary from /data/torchMoji/model/vocabulary.json\n",
      "loading pkl file\n",
      "loading finished\n",
      "loading glove\n",
      "100%|█████████████████████████████████| 20003/20003 [00:00<00:00, 372414.53it/s]\n",
      "15614 of 20003 found coverage 0.7805829125631155\n",
      "8it [10:12, 75.98s/it]                                                          \n",
      "\u001b[0m"
     ]
    }
   ],
   "source": [
    "!python inference_ha.py -test_path \"/data/SuperMod/testfolds/fold37.csv\"  -out_path '/data/SuperMod/hapy_state_wiki_enr_imdb_4.pth' \\\n",
    "-infer_result '/data/SuperMod/infer_result_fold37.pkl'"
   ]
  },
  {
   "cell_type": "code",
   "execution_count": 76,
   "metadata": {},
   "outputs": [
    {
     "name": "stdout",
     "output_type": "stream",
     "text": [
      "Reading twitter - 1grams ...\n",
      "Reading twitter - 2grams ...\n",
      "Reading twitter - 1grams ...\n",
      "Tokenizing using dictionary from /data/torchMoji/model/vocabulary.json\n",
      "loading pkl file\n",
      "loading finished\n",
      "loading glove\n",
      "100%|█████████████████████████████████| 20003/20003 [00:00<00:00, 373387.43it/s]\n",
      "15614 of 20003 found coverage 0.7805829125631155\n",
      "8it [10:10, 75.76s/it]                                                          \n",
      "\u001b[0m"
     ]
    }
   ],
   "source": [
    "!python inference_ha.py -test_path \"/data/SuperMod/testfolds/fold38.csv\"  -out_path '/data/SuperMod/hapy_state_wiki_enr_imdb_4.pth' \\\n",
    "-infer_result '/data/SuperMod/infer_result_fold38.pkl'"
   ]
  },
  {
   "cell_type": "code",
   "execution_count": 77,
   "metadata": {},
   "outputs": [
    {
     "name": "stdout",
     "output_type": "stream",
     "text": [
      "Reading twitter - 1grams ...\n",
      "Reading twitter - 2grams ...\n",
      "Reading twitter - 1grams ...\n",
      "Tokenizing using dictionary from /data/torchMoji/model/vocabulary.json\n",
      "loading pkl file\n",
      "loading finished\n",
      "loading glove\n",
      "100%|█████████████████████████████████| 20003/20003 [00:00<00:00, 371182.11it/s]\n",
      "15614 of 20003 found coverage 0.7805829125631155\n",
      "8it [10:12, 76.15s/it]                                                          \n",
      "\u001b[0m"
     ]
    }
   ],
   "source": [
    "!python inference_ha.py -test_path \"/data/SuperMod/testfolds/fold39.csv\"  -out_path '/data/SuperMod/hapy_state_wiki_enr_imdb_4.pth' \\\n",
    "-infer_result '/data/SuperMod/infer_result_fold39.pkl'"
   ]
  },
  {
   "cell_type": "code",
   "execution_count": 78,
   "metadata": {},
   "outputs": [
    {
     "name": "stdout",
     "output_type": "stream",
     "text": [
      "Reading twitter - 1grams ...\n",
      "Reading twitter - 2grams ...\n",
      "Reading twitter - 1grams ...\n",
      "Tokenizing using dictionary from /data/torchMoji/model/vocabulary.json\n",
      "loading pkl file\n",
      "loading finished\n",
      "loading glove\n",
      "100%|█████████████████████████████████| 20003/20003 [00:00<00:00, 377540.96it/s]\n",
      "15614 of 20003 found coverage 0.7805829125631155\n",
      "8it [10:08, 75.71s/it]                                                          \n",
      "\u001b[0m"
     ]
    }
   ],
   "source": [
    "!python inference_ha.py -test_path \"/data/SuperMod/testfolds/fold40.csv\"  -out_path '/data/SuperMod/hapy_state_wiki_enr_imdb_4.pth' \\\n",
    "-infer_result '/data/SuperMod/infer_result_fold40.pkl'"
   ]
  },
  {
   "cell_type": "code",
   "execution_count": 84,
   "metadata": {},
   "outputs": [
    {
     "name": "stdout",
     "output_type": "stream",
     "text": [
      "Reading twitter - 1grams ...\n",
      "Reading twitter - 2grams ...\n",
      "Reading twitter - 1grams ...\n",
      "Tokenizing using dictionary from /data/torchMoji/model/vocabulary.json\n",
      "loading pkl file\n",
      "loading finished\n",
      "loading glove\n",
      "100%|█████████████████████████████████| 20003/20003 [00:00<00:00, 374397.17it/s]\n",
      "15614 of 20003 found coverage 0.7805829125631155\n",
      "8it [10:08, 75.68s/it]                                                          \n",
      "\u001b[0m"
     ]
    }
   ],
   "source": [
    "!python inference_ha.py -test_path \"/data/SuperMod/testfolds/fold41.csv\"  -out_path '/data/SuperMod/hapy_state_wiki_enr_imdb_4.pth' \\\n",
    "-infer_result '/data/SuperMod/infer_result_fold41.pkl'"
   ]
  },
  {
   "cell_type": "code",
   "execution_count": 1,
   "metadata": {},
   "outputs": [
    {
     "name": "stdout",
     "output_type": "stream",
     "text": [
      "Reading twitter - 1grams ...\n",
      "Reading twitter - 2grams ...\n",
      "Reading twitter - 1grams ...\n",
      "Tokenizing using dictionary from /data/torchMoji/model/vocabulary.json\n",
      "loading pkl file\n",
      "loading finished\n",
      "loading glove\n",
      "100%|█████████████████████████████████| 20003/20003 [00:00<00:00, 377843.61it/s]\n",
      "15614 of 20003 found coverage 0.7805829125631155\n",
      "8it [10:13, 76.38s/it]                                                          \n",
      "\u001b[0m"
     ]
    }
   ],
   "source": [
    "!python inference_ha.py -test_path \"/data/SuperMod/testfolds/fold42.csv\"  -out_path '/data/SuperMod/hapy_state_wiki_enr_imdb_4.pth' \\\n",
    "-infer_result '/data/SuperMod/infer_result_fold42.pkl'"
   ]
  },
  {
   "cell_type": "code",
   "execution_count": 2,
   "metadata": {},
   "outputs": [
    {
     "name": "stdout",
     "output_type": "stream",
     "text": [
      "Reading twitter - 1grams ...\n",
      "Reading twitter - 2grams ...\n",
      "Reading twitter - 1grams ...\n",
      "Tokenizing using dictionary from /data/torchMoji/model/vocabulary.json\n",
      "loading pkl file\n",
      "loading finished\n",
      "loading glove\n",
      "100%|█████████████████████████████████| 20003/20003 [00:00<00:00, 374143.39it/s]\n",
      "15614 of 20003 found coverage 0.7805829125631155\n",
      "8it [10:09, 75.65s/it]                                                          \n",
      "\u001b[0m"
     ]
    }
   ],
   "source": [
    "!python inference_ha.py -test_path \"/data/SuperMod/testfolds/fold43.csv\"  -out_path '/data/SuperMod/hapy_state_wiki_enr_imdb_4.pth' \\\n",
    "-infer_result '/data/SuperMod/infer_result_fold43.pkl'"
   ]
  },
  {
   "cell_type": "code",
   "execution_count": 3,
   "metadata": {},
   "outputs": [
    {
     "name": "stdout",
     "output_type": "stream",
     "text": [
      "Reading twitter - 1grams ...\n",
      "Reading twitter - 2grams ...\n",
      "Reading twitter - 1grams ...\n",
      "Tokenizing using dictionary from /data/torchMoji/model/vocabulary.json\n",
      "loading pkl file\n",
      "loading finished\n",
      "loading glove\n",
      "100%|█████████████████████████████████| 20003/20003 [00:00<00:00, 364459.87it/s]\n",
      "15614 of 20003 found coverage 0.7805829125631155\n",
      "8it [10:13, 76.59s/it]                                                          \n",
      "\u001b[0m"
     ]
    }
   ],
   "source": [
    "!python inference_ha.py -test_path \"/data/SuperMod/testfolds/fold44.csv\"  -out_path '/data/SuperMod/hapy_state_wiki_enr_imdb_4.pth' \\\n",
    "-infer_result '/data/SuperMod/infer_result_fold44.pkl'"
   ]
  },
  {
   "cell_type": "code",
   "execution_count": 4,
   "metadata": {},
   "outputs": [
    {
     "name": "stdout",
     "output_type": "stream",
     "text": [
      "Reading twitter - 1grams ...\n",
      "Reading twitter - 2grams ...\n",
      "Reading twitter - 1grams ...\n",
      "Tokenizing using dictionary from /data/torchMoji/model/vocabulary.json\n",
      "loading pkl file\n",
      "loading finished\n",
      "loading glove\n",
      "100%|█████████████████████████████████| 20003/20003 [00:00<00:00, 377389.82it/s]\n",
      "15614 of 20003 found coverage 0.7805829125631155\n",
      "8it [10:10, 75.55s/it]                                                          \n",
      "\u001b[0m"
     ]
    }
   ],
   "source": [
    "!python inference_ha.py -test_path \"/data/SuperMod/testfolds/fold45.csv\"  -out_path '/data/SuperMod/hapy_state_wiki_enr_imdb_4.pth' \\\n",
    "-infer_result '/data/SuperMod/infer_result_fold45.pkl'"
   ]
  },
  {
   "cell_type": "code",
   "execution_count": 5,
   "metadata": {},
   "outputs": [
    {
     "name": "stdout",
     "output_type": "stream",
     "text": [
      "Reading twitter - 1grams ...\n",
      "Reading twitter - 2grams ...\n",
      "Reading twitter - 1grams ...\n",
      "Tokenizing using dictionary from /data/torchMoji/model/vocabulary.json\n",
      "loading pkl file\n",
      "loading finished\n",
      "loading glove\n",
      "100%|█████████████████████████████████| 20003/20003 [00:00<00:00, 375789.05it/s]\n",
      "15614 of 20003 found coverage 0.7805829125631155\n",
      "8it [10:12, 76.05s/it]                                                          \n",
      "\u001b[0m"
     ]
    }
   ],
   "source": [
    "!python inference_ha.py -test_path \"/data/SuperMod/testfolds/fold46.csv\"  -out_path '/data/SuperMod/hapy_state_wiki_enr_imdb_4.pth' \\\n",
    "-infer_result '/data/SuperMod/infer_result_fold46.pkl'"
   ]
  },
  {
   "cell_type": "code",
   "execution_count": 6,
   "metadata": {},
   "outputs": [
    {
     "name": "stdout",
     "output_type": "stream",
     "text": [
      "Reading twitter - 1grams ...\n",
      "Reading twitter - 2grams ...\n",
      "Reading twitter - 1grams ...\n",
      "Tokenizing using dictionary from /data/torchMoji/model/vocabulary.json\n",
      "loading pkl file\n",
      "loading finished\n",
      "loading glove\n",
      "100%|█████████████████████████████████| 20003/20003 [00:00<00:00, 374666.36it/s]\n",
      "15614 of 20003 found coverage 0.7805829125631155\n",
      "8it [10:09, 75.72s/it]                                                          \n",
      "\u001b[0m"
     ]
    }
   ],
   "source": [
    "!python inference_ha.py -test_path \"/data/SuperMod/testfolds/fold47.csv\"  -out_path '/data/SuperMod/hapy_state_wiki_enr_imdb_4.pth' \\\n",
    "-infer_result '/data/SuperMod/infer_result_fold47.pkl'"
   ]
  },
  {
   "cell_type": "code",
   "execution_count": 7,
   "metadata": {},
   "outputs": [
    {
     "name": "stdout",
     "output_type": "stream",
     "text": [
      "Reading twitter - 1grams ...\n",
      "Reading twitter - 2grams ...\n",
      "Reading twitter - 1grams ...\n",
      "Tokenizing using dictionary from /data/torchMoji/model/vocabulary.json\n",
      "loading pkl file\n",
      "loading finished\n",
      "loading glove\n",
      "100%|█████████████████████████████████| 20003/20003 [00:00<00:00, 374464.02it/s]\n",
      "15614 of 20003 found coverage 0.7805829125631155\n",
      "8it [10:10, 75.84s/it]                                                          \n",
      "\u001b[0m"
     ]
    }
   ],
   "source": [
    "!python inference_ha.py -test_path \"/data/SuperMod/testfolds/fold48.csv\"  -out_path '/data/SuperMod/hapy_state_wiki_enr_imdb_4.pth' \\\n",
    "-infer_result '/data/SuperMod/infer_result_fold48.pkl'"
   ]
  },
  {
   "cell_type": "code",
   "execution_count": 8,
   "metadata": {},
   "outputs": [
    {
     "name": "stdout",
     "output_type": "stream",
     "text": [
      "Reading twitter - 1grams ...\n",
      "Reading twitter - 2grams ...\n",
      "Reading twitter - 1grams ...\n",
      "Tokenizing using dictionary from /data/torchMoji/model/vocabulary.json\n",
      "loading pkl file\n",
      "loading finished\n",
      "loading glove\n",
      "100%|█████████████████████████████████| 20003/20003 [00:00<00:00, 374188.45it/s]\n",
      "15614 of 20003 found coverage 0.7805829125631155\n",
      "8it [10:12, 76.01s/it]                                                          \n",
      "\u001b[0m"
     ]
    }
   ],
   "source": [
    "!python inference_ha.py -test_path \"/data/SuperMod/testfolds/fold49.csv\"  -out_path '/data/SuperMod/hapy_state_wiki_enr_imdb_4.pth' \\\n",
    "-infer_result '/data/SuperMod/infer_result_fold49.pkl'"
   ]
  },
  {
   "cell_type": "code",
   "execution_count": 40,
   "metadata": {},
   "outputs": [
    {
     "name": "stdout",
     "output_type": "stream",
     "text": [
      "getting results for fold 0\n",
      "bert result\n",
      "(1500,)\n",
      "(1500,)\n",
      "True Positives per class :  364\n",
      "False Positives per class :  174\n",
      "False Negatives per class :  45\n",
      "Accuracy : 0.8540, Precision : 0.677, Recall : 0.890, F1 : 0.769\n",
      "hapy result\n",
      "(1500,)\n",
      "(1500,)\n",
      "True Positives per class :  331\n",
      "False Positives per class :  199\n",
      "False Negatives per class :  78\n",
      "Accuracy : 0.8153, Precision : 0.625, Recall : 0.809, F1 : 0.705\n",
      "max result\n",
      "(1500,)\n",
      "(1500,)\n",
      "True Positives per class :  381\n",
      "False Positives per class :  271\n",
      "False Negatives per class :  28\n",
      "Accuracy : 0.8007, Precision : 0.584, Recall : 0.932, F1 : 0.718\n",
      "\n",
      "getting results for fold 1\n",
      "bert result\n",
      "(1500,)\n",
      "(1500,)\n",
      "True Positives per class :  377\n",
      "False Positives per class :  172\n",
      "False Negatives per class :  45\n",
      "Accuracy : 0.8553, Precision : 0.687, Recall : 0.893, F1 : 0.777\n",
      "hapy result\n",
      "(1500,)\n",
      "(1500,)\n",
      "True Positives per class :  356\n",
      "False Positives per class :  225\n",
      "False Negatives per class :  66\n",
      "Accuracy : 0.8060, Precision : 0.613, Recall : 0.844, F1 : 0.710\n",
      "max result\n",
      "(1500,)\n",
      "(1500,)\n",
      "True Positives per class :  396\n",
      "False Positives per class :  281\n",
      "False Negatives per class :  26\n",
      "Accuracy : 0.7953, Precision : 0.585, Recall : 0.938, F1 : 0.721\n",
      "\n",
      "getting results for fold 2\n",
      "bert result\n",
      "(1500,)\n",
      "(1500,)\n",
      "True Positives per class :  360\n",
      "False Positives per class :  173\n",
      "False Negatives per class :  49\n",
      "Accuracy : 0.8520, Precision : 0.675, Recall : 0.880, F1 : 0.764\n",
      "hapy result\n",
      "(1500,)\n",
      "(1500,)\n",
      "True Positives per class :  328\n",
      "False Positives per class :  221\n",
      "False Negatives per class :  81\n",
      "Accuracy : 0.7987, Precision : 0.597, Recall : 0.802, F1 : 0.685\n",
      "max result\n",
      "(1500,)\n",
      "(1500,)\n",
      "True Positives per class :  388\n",
      "False Positives per class :  280\n",
      "False Negatives per class :  21\n",
      "Accuracy : 0.7993, Precision : 0.581, Recall : 0.949, F1 : 0.721\n",
      "\n",
      "getting results for fold 3\n",
      "bert result\n",
      "(1500,)\n",
      "(1500,)\n",
      "True Positives per class :  349\n",
      "False Positives per class :  184\n",
      "False Negatives per class :  50\n",
      "Accuracy : 0.8440, Precision : 0.655, Recall : 0.875, F1 : 0.749\n",
      "hapy result\n",
      "(1500,)\n",
      "(1500,)\n",
      "True Positives per class :  310\n",
      "False Positives per class :  211\n",
      "False Negatives per class :  89\n",
      "Accuracy : 0.8000, Precision : 0.595, Recall : 0.777, F1 : 0.674\n",
      "max result\n",
      "(1500,)\n",
      "(1500,)\n",
      "True Positives per class :  375\n",
      "False Positives per class :  288\n",
      "False Negatives per class :  24\n",
      "Accuracy : 0.7920, Precision : 0.566, Recall : 0.940, F1 : 0.706\n",
      "\n",
      "getting results for fold 4\n",
      "bert result\n",
      "(1500,)\n",
      "(1500,)\n",
      "True Positives per class :  382\n",
      "False Positives per class :  164\n",
      "False Negatives per class :  43\n",
      "Accuracy : 0.8620, Precision : 0.700, Recall : 0.899, F1 : 0.787\n",
      "hapy result\n",
      "(1500,)\n",
      "(1500,)\n",
      "True Positives per class :  344\n",
      "False Positives per class :  214\n",
      "False Negatives per class :  81\n",
      "Accuracy : 0.8033, Precision : 0.616, Recall : 0.809, F1 : 0.700\n",
      "max result\n",
      "(1500,)\n",
      "(1500,)\n",
      "True Positives per class :  401\n",
      "False Positives per class :  281\n",
      "False Negatives per class :  24\n",
      "Accuracy : 0.7967, Precision : 0.588, Recall : 0.944, F1 : 0.724\n",
      "\n",
      "getting results for fold 5\n",
      "bert result\n",
      "(1500,)\n",
      "(1500,)\n",
      "True Positives per class :  355\n",
      "False Positives per class :  158\n",
      "False Negatives per class :  45\n",
      "Accuracy : 0.8647, Precision : 0.692, Recall : 0.887, F1 : 0.778\n",
      "hapy result\n",
      "(1500,)\n",
      "(1500,)\n",
      "True Positives per class :  327\n",
      "False Positives per class :  220\n",
      "False Negatives per class :  73\n",
      "Accuracy : 0.8047, Precision : 0.598, Recall : 0.818, F1 : 0.691\n",
      "max result\n",
      "(1500,)\n",
      "(1500,)\n",
      "True Positives per class :  379\n",
      "False Positives per class :  276\n",
      "False Negatives per class :  21\n",
      "Accuracy : 0.8020, Precision : 0.579, Recall : 0.948, F1 : 0.718\n",
      "\n",
      "getting results for fold 6\n",
      "bert result\n",
      "(1500,)\n",
      "(1500,)\n",
      "True Positives per class :  351\n",
      "False Positives per class :  165\n",
      "False Negatives per class :  44\n",
      "Accuracy : 0.8607, Precision : 0.680, Recall : 0.889, F1 : 0.771\n",
      "hapy result\n",
      "(1500,)\n",
      "(1500,)\n",
      "True Positives per class :  312\n",
      "False Positives per class :  217\n",
      "False Negatives per class :  83\n",
      "Accuracy : 0.8000, Precision : 0.590, Recall : 0.790, F1 : 0.675\n",
      "max result\n",
      "(1500,)\n",
      "(1500,)\n",
      "True Positives per class :  369\n",
      "False Positives per class :  269\n",
      "False Negatives per class :  26\n",
      "Accuracy : 0.8033, Precision : 0.578, Recall : 0.934, F1 : 0.714\n",
      "\n",
      "getting results for fold 7\n",
      "bert result\n",
      "(1500,)\n",
      "(1500,)\n",
      "True Positives per class :  339\n",
      "False Positives per class :  158\n",
      "False Negatives per class :  40\n",
      "Accuracy : 0.8680, Precision : 0.682, Recall : 0.894, F1 : 0.774\n",
      "hapy result\n",
      "(1500,)\n",
      "(1500,)\n",
      "True Positives per class :  304\n",
      "False Positives per class :  195\n",
      "False Negatives per class :  75\n",
      "Accuracy : 0.8200, Precision : 0.609, Recall : 0.802, F1 : 0.692\n",
      "max result\n",
      "(1500,)\n",
      "(1500,)\n",
      "True Positives per class :  357\n",
      "False Positives per class :  252\n",
      "False Negatives per class :  22\n",
      "Accuracy : 0.8173, Precision : 0.586, Recall : 0.942, F1 : 0.723\n",
      "\n",
      "getting results for fold 8\n",
      "bert result\n",
      "(1500,)\n",
      "(1500,)\n",
      "True Positives per class :  345\n",
      "False Positives per class :  148\n",
      "False Negatives per class :  46\n",
      "Accuracy : 0.8707, Precision : 0.700, Recall : 0.882, F1 : 0.781\n",
      "hapy result\n",
      "(1500,)\n",
      "(1500,)\n",
      "True Positives per class :  311\n",
      "False Positives per class :  193\n",
      "False Negatives per class :  80\n",
      "Accuracy : 0.8180, Precision : 0.617, Recall : 0.795, F1 : 0.695\n",
      "max result\n",
      "(1500,)\n",
      "(1500,)\n",
      "True Positives per class :  368\n",
      "False Positives per class :  250\n",
      "False Negatives per class :  23\n",
      "Accuracy : 0.8180, Precision : 0.595, Recall : 0.941, F1 : 0.729\n",
      "\n",
      "getting results for fold 9\n",
      "bert result\n",
      "(1500,)\n",
      "(1500,)\n",
      "True Positives per class :  351\n",
      "False Positives per class :  132\n",
      "False Negatives per class :  52\n",
      "Accuracy : 0.8773, Precision : 0.727, Recall : 0.871, F1 : 0.792\n",
      "hapy result\n",
      "(1500,)\n",
      "(1500,)\n",
      "True Positives per class :  320\n",
      "False Positives per class :  202\n",
      "False Negatives per class :  83\n",
      "Accuracy : 0.8100, Precision : 0.613, Recall : 0.794, F1 : 0.692\n",
      "max result\n",
      "(1500,)\n",
      "(1500,)\n",
      "True Positives per class :  372\n",
      "False Positives per class :  250\n",
      "False Negatives per class :  31\n",
      "Accuracy : 0.8127, Precision : 0.598, Recall : 0.923, F1 : 0.726\n",
      "\n",
      "getting results for fold 10\n",
      "bert result\n",
      "(1500,)\n",
      "(1500,)\n",
      "True Positives per class :  355\n",
      "False Positives per class :  154\n",
      "False Negatives per class :  41\n",
      "Accuracy : 0.8700, Precision : 0.697, Recall : 0.896, F1 : 0.785\n",
      "hapy result\n",
      "(1500,)\n",
      "(1500,)\n",
      "True Positives per class :  315\n",
      "False Positives per class :  218\n",
      "False Negatives per class :  81\n",
      "Accuracy : 0.8007, Precision : 0.591, Recall : 0.795, F1 : 0.678\n",
      "max result\n",
      "(1500,)\n",
      "(1500,)\n",
      "True Positives per class :  376\n",
      "False Positives per class :  281\n",
      "False Negatives per class :  20\n",
      "Accuracy : 0.7993, Precision : 0.572, Recall : 0.949, F1 : 0.714\n",
      "\n",
      "getting results for fold 11\n",
      "bert result\n",
      "(1500,)\n",
      "(1500,)\n",
      "True Positives per class :  361\n",
      "False Positives per class :  187\n",
      "False Negatives per class :  40\n",
      "Accuracy : 0.8487, Precision : 0.659, Recall : 0.900, F1 : 0.761\n",
      "hapy result\n",
      "(1500,)\n",
      "(1500,)\n",
      "True Positives per class :  322\n",
      "False Positives per class :  230\n",
      "False Negatives per class :  79\n",
      "Accuracy : 0.7940, Precision : 0.583, Recall : 0.803, F1 : 0.676\n",
      "max result\n",
      "(1500,)\n",
      "(1500,)\n",
      "True Positives per class :  376\n",
      "False Positives per class :  295\n",
      "False Negatives per class :  25\n",
      "Accuracy : 0.7867, Precision : 0.560, Recall : 0.938, F1 : 0.701\n",
      "\n",
      "getting results for fold 12\n",
      "bert result\n",
      "(1500,)\n",
      "(1500,)\n",
      "True Positives per class :  354\n",
      "False Positives per class :  160\n",
      "False Negatives per class :  45\n",
      "Accuracy : 0.8633, Precision : 0.689, Recall : 0.887, F1 : 0.775\n",
      "hapy result\n",
      "(1500,)\n",
      "(1500,)\n",
      "True Positives per class :  313\n",
      "False Positives per class :  231\n",
      "False Negatives per class :  86\n",
      "Accuracy : 0.7887, Precision : 0.575, Recall : 0.784, F1 : 0.664\n",
      "max result\n",
      "(1500,)\n",
      "(1500,)\n",
      "True Positives per class :  374\n",
      "False Positives per class :  279\n",
      "False Negatives per class :  25\n",
      "Accuracy : 0.7973, Precision : 0.573, Recall : 0.937, F1 : 0.711\n",
      "\n",
      "getting results for fold 13\n",
      "bert result\n",
      "(1500,)\n",
      "(1500,)\n",
      "True Positives per class :  374\n",
      "False Positives per class :  166\n",
      "False Negatives per class :  50\n",
      "Accuracy : 0.8560, Precision : 0.693, Recall : 0.882, F1 : 0.776\n",
      "hapy result\n",
      "(1500,)\n",
      "(1500,)\n",
      "True Positives per class :  350\n",
      "False Positives per class :  208\n",
      "False Negatives per class :  74\n",
      "Accuracy : 0.8120, Precision : 0.627, Recall : 0.825, F1 : 0.713\n",
      "max result\n",
      "(1500,)\n",
      "(1500,)\n",
      "True Positives per class :  402\n",
      "False Positives per class :  268\n",
      "False Negatives per class :  22\n",
      "Accuracy : 0.8067, Precision : 0.600, Recall : 0.948, F1 : 0.735\n",
      "\n",
      "getting results for fold 14\n",
      "bert result\n",
      "(1500,)\n",
      "(1500,)\n",
      "True Positives per class :  348\n",
      "False Positives per class :  158\n",
      "False Negatives per class :  40\n",
      "Accuracy : 0.8680, Precision : 0.688, Recall : 0.897, F1 : 0.779\n",
      "hapy result\n",
      "(1500,)\n",
      "(1500,)\n",
      "True Positives per class :  317\n",
      "False Positives per class :  226\n",
      "False Negatives per class :  71\n",
      "Accuracy : 0.8020, Precision : 0.584, Recall : 0.817, F1 : 0.681\n",
      "max result\n",
      "(1500,)\n",
      "(1500,)\n",
      "True Positives per class :  370\n",
      "False Positives per class :  278\n",
      "False Negatives per class :  18\n",
      "Accuracy : 0.8027, Precision : 0.571, Recall : 0.954, F1 : 0.714\n",
      "\n",
      "getting results for fold 15\n",
      "bert result\n",
      "(1500,)\n",
      "(1500,)\n",
      "True Positives per class :  357\n",
      "False Positives per class :  161\n",
      "False Negatives per class :  50\n",
      "Accuracy : 0.8593, Precision : 0.689, Recall : 0.877, F1 : 0.772\n",
      "hapy result\n",
      "(1500,)\n",
      "(1500,)\n",
      "True Positives per class :  343\n",
      "False Positives per class :  231\n",
      "False Negatives per class :  64\n",
      "Accuracy : 0.8033, Precision : 0.598, Recall : 0.843, F1 : 0.699\n",
      "max result\n",
      "(1500,)\n",
      "(1500,)\n",
      "True Positives per class :  382\n",
      "False Positives per class :  283\n",
      "False Negatives per class :  25\n",
      "Accuracy : 0.7947, Precision : 0.574, Recall : 0.939, F1 : 0.713\n",
      "\n",
      "getting results for fold 16\n",
      "bert result\n",
      "(1500,)\n",
      "(1500,)\n",
      "True Positives per class :  376\n",
      "False Positives per class :  161\n",
      "False Negatives per class :  44\n",
      "Accuracy : 0.8633, Precision : 0.700, Recall : 0.895, F1 : 0.786\n",
      "hapy result\n",
      "(1500,)\n",
      "(1500,)\n",
      "True Positives per class :  334\n",
      "False Positives per class :  218\n",
      "False Negatives per class :  86\n",
      "Accuracy : 0.7973, Precision : 0.605, Recall : 0.795, F1 : 0.687\n",
      "max result\n",
      "(1500,)\n",
      "(1500,)\n",
      "True Positives per class :  398\n",
      "False Positives per class :  272\n",
      "False Negatives per class :  22\n",
      "Accuracy : 0.8040, Precision : 0.594, Recall : 0.948, F1 : 0.730\n",
      "\n",
      "getting results for fold 17\n",
      "bert result\n",
      "(1500,)\n",
      "(1500,)\n",
      "True Positives per class :  346\n",
      "False Positives per class :  160\n",
      "False Negatives per class :  40\n",
      "Accuracy : 0.8667, Precision : 0.684, Recall : 0.896, F1 : 0.776\n",
      "hapy result\n",
      "(1500,)\n",
      "(1500,)\n",
      "True Positives per class :  296\n",
      "False Positives per class :  198\n",
      "False Negatives per class :  90\n",
      "Accuracy : 0.8080, Precision : 0.599, Recall : 0.767, F1 : 0.673\n",
      "max result\n",
      "(1500,)\n",
      "(1500,)\n",
      "True Positives per class :  359\n",
      "False Positives per class :  263\n",
      "False Negatives per class :  27\n",
      "Accuracy : 0.8067, Precision : 0.577, Recall : 0.930, F1 : 0.712\n",
      "\n",
      "getting results for fold 18\n",
      "bert result\n",
      "(1500,)\n",
      "(1500,)\n",
      "True Positives per class :  367\n",
      "False Positives per class :  158\n",
      "False Negatives per class :  53\n",
      "Accuracy : 0.8593, Precision : 0.699, Recall : 0.874, F1 : 0.777\n",
      "hapy result\n",
      "(1500,)\n",
      "(1500,)\n",
      "True Positives per class :  346\n",
      "False Positives per class :  215\n",
      "False Negatives per class :  74\n",
      "Accuracy : 0.8073, Precision : 0.617, Recall : 0.824, F1 : 0.705\n",
      "max result\n",
      "(1500,)\n",
      "(1500,)\n",
      "True Positives per class :  392\n",
      "False Positives per class :  268\n",
      "False Negatives per class :  28\n",
      "Accuracy : 0.8027, Precision : 0.594, Recall : 0.933, F1 : 0.726\n",
      "\n",
      "getting results for fold 19\n",
      "bert result\n",
      "(1500,)\n",
      "(1500,)\n",
      "True Positives per class :  353\n",
      "False Positives per class :  172\n",
      "False Negatives per class :  49\n",
      "Accuracy : 0.8527, Precision : 0.672, Recall : 0.878, F1 : 0.762\n",
      "hapy result\n",
      "(1500,)\n",
      "(1500,)\n",
      "True Positives per class :  345\n",
      "False Positives per class :  246\n",
      "False Negatives per class :  57\n",
      "Accuracy : 0.7980, Precision : 0.584, Recall : 0.858, F1 : 0.695\n",
      "max result\n",
      "(1500,)\n",
      "(1500,)\n",
      "True Positives per class :  381\n",
      "False Positives per class :  294\n",
      "False Negatives per class :  21\n",
      "Accuracy : 0.7900, Precision : 0.564, Recall : 0.948, F1 : 0.708\n",
      "\n",
      "getting results for fold 20\n",
      "bert result\n",
      "(1500,)\n",
      "(1500,)\n",
      "True Positives per class :  340\n",
      "False Positives per class :  163\n",
      "False Negatives per class :  49\n",
      "Accuracy : 0.8587, Precision : 0.676, Recall : 0.874, F1 : 0.762\n",
      "hapy result\n",
      "(1500,)\n",
      "(1500,)\n",
      "True Positives per class :  310\n",
      "False Positives per class :  233\n",
      "False Negatives per class :  79\n",
      "Accuracy : 0.7920, Precision : 0.571, Recall : 0.797, F1 : 0.665\n",
      "max result\n",
      "(1500,)\n",
      "(1500,)\n",
      "True Positives per class :  359\n",
      "False Positives per class :  290\n",
      "False Negatives per class :  30\n",
      "Accuracy : 0.7867, Precision : 0.553, Recall : 0.923, F1 : 0.692\n",
      "\n",
      "getting results for fold 21\n",
      "bert result\n",
      "(1500,)\n",
      "(1500,)\n",
      "True Positives per class :  344\n",
      "False Positives per class :  163\n",
      "False Negatives per class :  42\n",
      "Accuracy : 0.8633, Precision : 0.679, Recall : 0.891, F1 : 0.770\n",
      "hapy result\n",
      "(1500,)\n",
      "(1500,)\n",
      "True Positives per class :  312\n",
      "False Positives per class :  213\n",
      "False Negatives per class :  74\n",
      "Accuracy : 0.8087, Precision : 0.594, Recall : 0.808, F1 : 0.685\n",
      "max result\n",
      "(1500,)\n",
      "(1500,)\n",
      "True Positives per class :  362\n",
      "False Positives per class :  272\n",
      "False Negatives per class :  24\n",
      "Accuracy : 0.8027, Precision : 0.571, Recall : 0.938, F1 : 0.710\n",
      "\n",
      "getting results for fold 22\n",
      "bert result\n",
      "(1500,)\n",
      "(1500,)\n",
      "True Positives per class :  345\n",
      "False Positives per class :  176\n",
      "False Negatives per class :  49\n",
      "Accuracy : 0.8500, Precision : 0.662, Recall : 0.876, F1 : 0.754\n",
      "hapy result\n",
      "(1500,)\n",
      "(1500,)\n",
      "True Positives per class :  323\n",
      "False Positives per class :  223\n",
      "False Negatives per class :  71\n",
      "Accuracy : 0.8040, Precision : 0.592, Recall : 0.820, F1 : 0.687\n",
      "max result\n",
      "(1500,)\n",
      "(1500,)\n",
      "True Positives per class :  369\n",
      "False Positives per class :  284\n",
      "False Negatives per class :  25\n",
      "Accuracy : 0.7940, Precision : 0.565, Recall : 0.937, F1 : 0.705\n",
      "\n",
      "getting results for fold 23\n",
      "bert result\n",
      "(1500,)\n",
      "(1500,)\n",
      "True Positives per class :  366\n",
      "False Positives per class :  146\n",
      "False Negatives per class :  38\n",
      "Accuracy : 0.8773, Precision : 0.715, Recall : 0.906, F1 : 0.799\n",
      "hapy result\n",
      "(1500,)\n",
      "(1500,)\n",
      "True Positives per class :  327\n",
      "False Positives per class :  228\n",
      "False Negatives per class :  77\n",
      "Accuracy : 0.7967, Precision : 0.589, Recall : 0.809, F1 : 0.682\n",
      "max result\n",
      "(1500,)\n",
      "(1500,)\n",
      "True Positives per class :  376\n",
      "False Positives per class :  271\n",
      "False Negatives per class :  28\n",
      "Accuracy : 0.8007, Precision : 0.581, Recall : 0.931, F1 : 0.716\n",
      "\n",
      "getting results for fold 24\n",
      "bert result\n",
      "(1500,)\n",
      "(1500,)\n",
      "True Positives per class :  353\n",
      "False Positives per class :  165\n",
      "False Negatives per class :  40\n",
      "Accuracy : 0.8633, Precision : 0.681, Recall : 0.898, F1 : 0.775\n",
      "hapy result\n",
      "(1500,)\n",
      "(1500,)\n",
      "True Positives per class :  317\n",
      "False Positives per class :  222\n",
      "False Negatives per class :  76\n",
      "Accuracy : 0.8013, Precision : 0.588, Recall : 0.807, F1 : 0.680\n",
      "max result\n",
      "(1500,)\n",
      "(1500,)\n",
      "True Positives per class :  369\n",
      "False Positives per class :  282\n",
      "False Negatives per class :  24\n",
      "Accuracy : 0.7960, Precision : 0.567, Recall : 0.939, F1 : 0.707\n",
      "\n",
      "getting results for fold 25\n",
      "bert result\n",
      "(1500,)\n",
      "(1500,)\n",
      "True Positives per class :  334\n",
      "False Positives per class :  152\n",
      "False Negatives per class :  48\n",
      "Accuracy : 0.8667, Precision : 0.687, Recall : 0.874, F1 : 0.770\n",
      "hapy result\n",
      "(1500,)\n",
      "(1500,)\n",
      "True Positives per class :  310\n",
      "False Positives per class :  235\n",
      "False Negatives per class :  72\n",
      "Accuracy : 0.7953, Precision : 0.569, Recall : 0.812, F1 : 0.669\n",
      "max result\n",
      "(1500,)\n",
      "(1500,)\n",
      "True Positives per class :  356\n",
      "False Positives per class :  286\n",
      "False Negatives per class :  26\n",
      "Accuracy : 0.7920, Precision : 0.555, Recall : 0.932, F1 : 0.695\n",
      "\n",
      "getting results for fold 26\n",
      "bert result\n",
      "(1500,)\n",
      "(1500,)\n",
      "True Positives per class :  363\n",
      "False Positives per class :  150\n",
      "False Negatives per class :  49\n",
      "Accuracy : 0.8673, Precision : 0.708, Recall : 0.881, F1 : 0.785\n",
      "hapy result\n",
      "(1500,)\n",
      "(1500,)\n",
      "True Positives per class :  326\n",
      "False Positives per class :  224\n",
      "False Negatives per class :  86\n",
      "Accuracy : 0.7933, Precision : 0.593, Recall : 0.791, F1 : 0.678\n",
      "max result\n",
      "(1500,)\n",
      "(1500,)\n",
      "True Positives per class :  384\n",
      "False Positives per class :  273\n",
      "False Negatives per class :  28\n",
      "Accuracy : 0.7993, Precision : 0.584, Recall : 0.932, F1 : 0.718\n",
      "\n",
      "getting results for fold 27\n",
      "bert result\n",
      "(1500,)\n",
      "(1500,)\n",
      "True Positives per class :  342\n",
      "False Positives per class :  161\n",
      "False Negatives per class :  46\n",
      "Accuracy : 0.8620, Precision : 0.680, Recall : 0.881, F1 : 0.768\n",
      "hapy result\n",
      "(1500,)\n",
      "(1500,)\n",
      "True Positives per class :  309\n",
      "False Positives per class :  219\n",
      "False Negatives per class :  79\n",
      "Accuracy : 0.8013, Precision : 0.585, Recall : 0.796, F1 : 0.675\n",
      "max result\n",
      "(1500,)\n",
      "(1500,)\n",
      "True Positives per class :  360\n",
      "False Positives per class :  267\n",
      "False Negatives per class :  28\n",
      "Accuracy : 0.8033, Precision : 0.574, Recall : 0.928, F1 : 0.709\n",
      "\n",
      "getting results for fold 28\n",
      "bert result\n",
      "(1500,)\n",
      "(1500,)\n",
      "True Positives per class :  337\n",
      "False Positives per class :  171\n",
      "False Negatives per class :  45\n",
      "Accuracy : 0.8560, Precision : 0.663, Recall : 0.882, F1 : 0.757\n",
      "hapy result\n",
      "(1500,)\n",
      "(1500,)\n",
      "True Positives per class :  315\n",
      "False Positives per class :  248\n",
      "False Negatives per class :  67\n",
      "Accuracy : 0.7900, Precision : 0.560, Recall : 0.825, F1 : 0.667\n",
      "max result\n",
      "(1500,)\n",
      "(1500,)\n",
      "True Positives per class :  358\n",
      "False Positives per class :  305\n",
      "False Negatives per class :  24\n",
      "Accuracy : 0.7807, Precision : 0.540, Recall : 0.937, F1 : 0.685\n",
      "\n",
      "getting results for fold 29\n",
      "bert result\n",
      "(1500,)\n",
      "(1500,)\n",
      "True Positives per class :  328\n",
      "False Positives per class :  167\n",
      "False Negatives per class :  45\n",
      "Accuracy : 0.8587, Precision : 0.663, Recall : 0.879, F1 : 0.756\n",
      "hapy result\n",
      "(1500,)\n",
      "(1500,)\n",
      "True Positives per class :  295\n",
      "False Positives per class :  238\n",
      "False Negatives per class :  78\n",
      "Accuracy : 0.7893, Precision : 0.553, Recall : 0.791, F1 : 0.651\n",
      "max result\n",
      "(1500,)\n",
      "(1500,)\n",
      "True Positives per class :  348\n",
      "False Positives per class :  293\n",
      "False Negatives per class :  25\n",
      "Accuracy : 0.7880, Precision : 0.543, Recall : 0.933, F1 : 0.686\n",
      "\n",
      "getting results for fold 30\n",
      "bert result\n",
      "(1500,)\n",
      "(1500,)\n",
      "True Positives per class :  380\n",
      "False Positives per class :  163\n",
      "False Negatives per class :  40\n",
      "Accuracy : 0.8647, Precision : 0.700, Recall : 0.905, F1 : 0.789\n",
      "hapy result\n",
      "(1500,)\n",
      "(1500,)\n",
      "True Positives per class :  336\n",
      "False Positives per class :  214\n",
      "False Negatives per class :  84\n",
      "Accuracy : 0.8013, Precision : 0.611, Recall : 0.800, F1 : 0.693\n",
      "max result\n",
      "(1500,)\n",
      "(1500,)\n",
      "True Positives per class :  397\n",
      "False Positives per class :  271\n",
      "False Negatives per class :  23\n",
      "Accuracy : 0.8040, Precision : 0.594, Recall : 0.945, F1 : 0.730\n",
      "\n",
      "getting results for fold 31\n",
      "bert result\n",
      "(1500,)\n",
      "(1500,)\n",
      "True Positives per class :  368\n",
      "False Positives per class :  132\n",
      "False Negatives per class :  42\n",
      "Accuracy : 0.8840, Precision : 0.736, Recall : 0.898, F1 : 0.809\n",
      "hapy result\n",
      "(1500,)\n",
      "(1500,)\n",
      "True Positives per class :  333\n",
      "False Positives per class :  222\n",
      "False Negatives per class :  77\n",
      "Accuracy : 0.8007, Precision : 0.600, Recall : 0.812, F1 : 0.690\n",
      "max result\n",
      "(1500,)\n",
      "(1500,)\n",
      "True Positives per class :  384\n",
      "False Positives per class :  256\n",
      "False Negatives per class :  26\n",
      "Accuracy : 0.8120, Precision : 0.600, Recall : 0.937, F1 : 0.731\n",
      "\n",
      "getting results for fold 32\n",
      "bert result\n",
      "(1500,)\n",
      "(1500,)\n",
      "True Positives per class :  370\n",
      "False Positives per class :  166\n",
      "False Negatives per class :  48\n",
      "Accuracy : 0.8573, Precision : 0.690, Recall : 0.885, F1 : 0.776\n",
      "hapy result\n",
      "(1500,)\n",
      "(1500,)\n",
      "True Positives per class :  342\n",
      "False Positives per class :  201\n",
      "False Negatives per class :  76\n",
      "Accuracy : 0.8153, Precision : 0.630, Recall : 0.818, F1 : 0.712\n",
      "max result\n",
      "(1500,)\n",
      "(1500,)\n",
      "True Positives per class :  392\n",
      "False Positives per class :  278\n",
      "False Negatives per class :  26\n",
      "Accuracy : 0.7973, Precision : 0.585, Recall : 0.938, F1 : 0.721\n",
      "\n",
      "getting results for fold 33\n",
      "bert result\n",
      "(1500,)\n",
      "(1500,)\n",
      "True Positives per class :  358\n",
      "False Positives per class :  136\n",
      "False Negatives per class :  45\n",
      "Accuracy : 0.8793, Precision : 0.725, Recall : 0.888, F1 : 0.798\n",
      "hapy result\n",
      "(1500,)\n",
      "(1500,)\n",
      "True Positives per class :  325\n",
      "False Positives per class :  223\n",
      "False Negatives per class :  78\n",
      "Accuracy : 0.7993, Precision : 0.593, Recall : 0.806, F1 : 0.683\n",
      "max result\n",
      "(1500,)\n",
      "(1500,)\n",
      "True Positives per class :  379\n",
      "False Positives per class :  268\n",
      "False Negatives per class :  24\n",
      "Accuracy : 0.8053, Precision : 0.586, Recall : 0.940, F1 : 0.722\n",
      "\n",
      "getting results for fold 34\n",
      "bert result\n",
      "(1500,)\n",
      "(1500,)\n",
      "True Positives per class :  368\n",
      "False Positives per class :  155\n",
      "False Negatives per class :  48\n",
      "Accuracy : 0.8647, Precision : 0.704, Recall : 0.885, F1 : 0.784\n",
      "hapy result\n",
      "(1500,)\n",
      "(1500,)\n",
      "True Positives per class :  335\n",
      "False Positives per class :  220\n",
      "False Negatives per class :  81\n",
      "Accuracy : 0.7993, Precision : 0.604, Recall : 0.805, F1 : 0.690\n",
      "max result\n",
      "(1500,)\n",
      "(1500,)\n",
      "True Positives per class :  388\n",
      "False Positives per class :  268\n",
      "False Negatives per class :  28\n",
      "Accuracy : 0.8027, Precision : 0.591, Recall : 0.933, F1 : 0.724\n",
      "\n",
      "getting results for fold 35\n",
      "bert result\n",
      "(1500,)\n",
      "(1500,)\n",
      "True Positives per class :  354\n",
      "False Positives per class :  150\n",
      "False Negatives per class :  52\n",
      "Accuracy : 0.8653, Precision : 0.702, Recall : 0.872, F1 : 0.778\n",
      "hapy result\n",
      "(1500,)\n",
      "(1500,)\n",
      "True Positives per class :  316\n",
      "False Positives per class :  215\n",
      "False Negatives per class :  90\n",
      "Accuracy : 0.7967, Precision : 0.595, Recall : 0.778, F1 : 0.674\n",
      "max result\n",
      "(1500,)\n",
      "(1500,)\n",
      "True Positives per class :  376\n",
      "False Positives per class :  265\n",
      "False Negatives per class :  30\n",
      "Accuracy : 0.8033, Precision : 0.587, Recall : 0.926, F1 : 0.718\n",
      "\n",
      "getting results for fold 36\n",
      "bert result\n",
      "(1500,)\n",
      "(1500,)\n",
      "True Positives per class :  362\n",
      "False Positives per class :  184\n",
      "False Negatives per class :  45\n",
      "Accuracy : 0.8473, Precision : 0.663, Recall : 0.889, F1 : 0.760\n",
      "hapy result\n",
      "(1500,)\n",
      "(1500,)\n",
      "True Positives per class :  319\n",
      "False Positives per class :  250\n",
      "False Negatives per class :  88\n",
      "Accuracy : 0.7747, Precision : 0.561, Recall : 0.784, F1 : 0.654\n",
      "max result\n",
      "(1500,)\n",
      "(1500,)\n",
      "True Positives per class :  383\n",
      "False Positives per class :  308\n",
      "False Negatives per class :  24\n",
      "Accuracy : 0.7787, Precision : 0.554, Recall : 0.941, F1 : 0.698\n",
      "\n",
      "getting results for fold 37\n",
      "bert result\n",
      "(1500,)\n",
      "(1500,)\n",
      "True Positives per class :  359\n",
      "False Positives per class :  166\n",
      "False Negatives per class :  37\n",
      "Accuracy : 0.8647, Precision : 0.684, Recall : 0.907, F1 : 0.780\n",
      "hapy result\n",
      "(1500,)\n",
      "(1500,)\n",
      "True Positives per class :  308\n",
      "False Positives per class :  234\n",
      "False Negatives per class :  88\n",
      "Accuracy : 0.7853, Precision : 0.568, Recall : 0.778, F1 : 0.657\n",
      "max result\n",
      "(1500,)\n",
      "(1500,)\n",
      "True Positives per class :  379\n",
      "False Positives per class :  290\n",
      "False Negatives per class :  17\n",
      "Accuracy : 0.7953, Precision : 0.567, Recall : 0.957, F1 : 0.712\n",
      "\n",
      "getting results for fold 38\n",
      "bert result\n",
      "(1500,)\n",
      "(1500,)\n",
      "True Positives per class :  358\n",
      "False Positives per class :  165\n",
      "False Negatives per class :  39\n",
      "Accuracy : 0.8640, Precision : 0.685, Recall : 0.902, F1 : 0.778\n",
      "hapy result\n",
      "(1500,)\n",
      "(1500,)\n",
      "True Positives per class :  317\n",
      "False Positives per class :  232\n",
      "False Negatives per class :  80\n",
      "Accuracy : 0.7920, Precision : 0.577, Recall : 0.798, F1 : 0.670\n",
      "max result\n",
      "(1500,)\n",
      "(1500,)\n",
      "True Positives per class :  381\n",
      "False Positives per class :  284\n",
      "False Negatives per class :  16\n",
      "Accuracy : 0.8000, Precision : 0.573, Recall : 0.960, F1 : 0.718\n",
      "\n",
      "getting results for fold 39\n",
      "bert result\n",
      "(1500,)\n",
      "(1500,)\n",
      "True Positives per class :  357\n",
      "False Positives per class :  165\n",
      "False Negatives per class :  45\n",
      "Accuracy : 0.8600, Precision : 0.684, Recall : 0.888, F1 : 0.773\n",
      "hapy result\n",
      "(1500,)\n",
      "(1500,)\n",
      "True Positives per class :  316\n",
      "False Positives per class :  221\n",
      "False Negatives per class :  86\n",
      "Accuracy : 0.7953, Precision : 0.588, Recall : 0.786, F1 : 0.673\n",
      "max result\n",
      "(1500,)\n",
      "(1500,)\n",
      "True Positives per class :  373\n",
      "False Positives per class :  274\n",
      "False Negatives per class :  29\n",
      "Accuracy : 0.7980, Precision : 0.577, Recall : 0.928, F1 : 0.711\n",
      "\n",
      "getting results for fold 40\n",
      "bert result\n",
      "(1500,)\n",
      "(1500,)\n",
      "True Positives per class :  352\n",
      "False Positives per class :  167\n",
      "False Negatives per class :  47\n",
      "Accuracy : 0.8573, Precision : 0.678, Recall : 0.882, F1 : 0.767\n",
      "hapy result\n",
      "(1500,)\n",
      "(1500,)\n",
      "True Positives per class :  165\n",
      "False Positives per class :  385\n",
      "False Negatives per class :  234\n",
      "Accuracy : 0.5873, Precision : 0.300, Recall : 0.414, F1 : 0.348\n",
      "max result\n",
      "(1500,)\n",
      "(1500,)\n",
      "True Positives per class :  369\n",
      "False Positives per class :  494\n",
      "False Negatives per class :  30\n",
      "Accuracy : 0.6507, Precision : 0.428, Recall : 0.925, F1 : 0.585\n",
      "\n",
      "getting results for fold 41\n",
      "bert result\n",
      "(1500,)\n",
      "(1500,)\n",
      "True Positives per class :  348\n",
      "False Positives per class :  136\n",
      "False Negatives per class :  38\n",
      "Accuracy : 0.8840, Precision : 0.719, Recall : 0.902, F1 : 0.800\n",
      "hapy result\n",
      "(1500,)\n",
      "(1500,)\n",
      "True Positives per class :  307\n",
      "False Positives per class :  213\n",
      "False Negatives per class :  79\n",
      "Accuracy : 0.8053, Precision : 0.590, Recall : 0.795, F1 : 0.678\n",
      "max result\n",
      "(1500,)\n",
      "(1500,)\n",
      "True Positives per class :  360\n",
      "False Positives per class :  257\n",
      "False Negatives per class :  26\n",
      "Accuracy : 0.8113, Precision : 0.583, Recall : 0.933, F1 : 0.718\n",
      "\n",
      "getting results for fold 42\n",
      "bert result\n",
      "(1500,)\n",
      "(1500,)\n",
      "True Positives per class :  337\n",
      "False Positives per class :  163\n",
      "False Negatives per class :  44\n",
      "Accuracy : 0.8620, Precision : 0.674, Recall : 0.885, F1 : 0.765\n",
      "hapy result\n",
      "(1500,)\n",
      "(1500,)\n",
      "True Positives per class :  311\n",
      "False Positives per class :  239\n",
      "False Negatives per class :  70\n",
      "Accuracy : 0.7940, Precision : 0.565, Recall : 0.816, F1 : 0.668\n",
      "max result\n",
      "(1500,)\n",
      "(1500,)\n",
      "True Positives per class :  353\n",
      "False Positives per class :  288\n",
      "False Negatives per class :  28\n",
      "Accuracy : 0.7893, Precision : 0.551, Recall : 0.927, F1 : 0.691\n",
      "\n",
      "getting results for fold 43\n",
      "bert result\n",
      "(1500,)\n",
      "(1500,)\n",
      "True Positives per class :  373\n",
      "False Positives per class :  157\n",
      "False Negatives per class :  47\n",
      "Accuracy : 0.8640, Precision : 0.704, Recall : 0.888, F1 : 0.785\n",
      "hapy result\n",
      "(1500,)\n",
      "(1500,)\n",
      "True Positives per class :  349\n",
      "False Positives per class :  224\n",
      "False Negatives per class :  71\n",
      "Accuracy : 0.8033, Precision : 0.609, Recall : 0.831, F1 : 0.703\n",
      "max result\n",
      "(1500,)\n",
      "(1500,)\n",
      "True Positives per class :  396\n",
      "False Positives per class :  277\n",
      "False Negatives per class :  24\n",
      "Accuracy : 0.7993, Precision : 0.588, Recall : 0.943, F1 : 0.725\n",
      "\n",
      "getting results for fold 44\n",
      "bert result\n",
      "(1500,)\n",
      "(1500,)\n",
      "True Positives per class :  377\n",
      "False Positives per class :  185\n",
      "False Negatives per class :  39\n",
      "Accuracy : 0.8507, Precision : 0.671, Recall : 0.906, F1 : 0.771\n",
      "hapy result\n",
      "(1500,)\n",
      "(1500,)\n",
      "True Positives per class :  340\n",
      "False Positives per class :  219\n",
      "False Negatives per class :  76\n",
      "Accuracy : 0.8033, Precision : 0.608, Recall : 0.817, F1 : 0.697\n",
      "max result\n",
      "(1500,)\n",
      "(1500,)\n",
      "True Positives per class :  394\n",
      "False Positives per class :  279\n",
      "False Negatives per class :  22\n",
      "Accuracy : 0.7993, Precision : 0.585, Recall : 0.947, F1 : 0.724\n",
      "\n",
      "getting results for fold 45\n",
      "bert result\n",
      "(1500,)\n",
      "(1500,)\n",
      "True Positives per class :  358\n",
      "False Positives per class :  169\n",
      "False Negatives per class :  45\n",
      "Accuracy : 0.8573, Precision : 0.679, Recall : 0.888, F1 : 0.770\n",
      "hapy result\n",
      "(1500,)\n",
      "(1500,)\n",
      "True Positives per class :  332\n",
      "False Positives per class :  208\n",
      "False Negatives per class :  71\n",
      "Accuracy : 0.8140, Precision : 0.615, Recall : 0.824, F1 : 0.704\n",
      "max result\n",
      "(1500,)\n",
      "(1500,)\n",
      "True Positives per class :  386\n",
      "False Positives per class :  264\n",
      "False Negatives per class :  17\n",
      "Accuracy : 0.8127, Precision : 0.594, Recall : 0.958, F1 : 0.733\n",
      "\n",
      "getting results for fold 46\n",
      "bert result\n",
      "(1500,)\n",
      "(1500,)\n",
      "True Positives per class :  362\n",
      "False Positives per class :  157\n",
      "False Negatives per class :  49\n",
      "Accuracy : 0.8627, Precision : 0.697, Recall : 0.881, F1 : 0.778\n",
      "hapy result\n",
      "(1500,)\n",
      "(1500,)\n",
      "True Positives per class :  336\n",
      "False Positives per class :  221\n",
      "False Negatives per class :  75\n",
      "Accuracy : 0.8027, Precision : 0.603, Recall : 0.818, F1 : 0.694\n",
      "max result\n",
      "(1500,)\n",
      "(1500,)\n",
      "True Positives per class :  381\n",
      "False Positives per class :  265\n",
      "False Negatives per class :  30\n",
      "Accuracy : 0.8033, Precision : 0.590, Recall : 0.927, F1 : 0.721\n",
      "\n",
      "getting results for fold 47\n",
      "bert result\n",
      "(1500,)\n",
      "(1500,)\n",
      "True Positives per class :  324\n",
      "False Positives per class :  168\n",
      "False Negatives per class :  37\n",
      "Accuracy : 0.8633, Precision : 0.659, Recall : 0.898, F1 : 0.760\n",
      "hapy result\n",
      "(1500,)\n",
      "(1500,)\n",
      "True Positives per class :  298\n",
      "False Positives per class :  233\n",
      "False Negatives per class :  63\n",
      "Accuracy : 0.8027, Precision : 0.561, Recall : 0.825, F1 : 0.668\n",
      "max result\n",
      "(1500,)\n",
      "(1500,)\n",
      "True Positives per class :  345\n",
      "False Positives per class :  286\n",
      "False Negatives per class :  16\n",
      "Accuracy : 0.7987, Precision : 0.547, Recall : 0.956, F1 : 0.696\n",
      "\n",
      "getting results for fold 48\n",
      "bert result\n",
      "(1500,)\n",
      "(1500,)\n",
      "True Positives per class :  364\n",
      "False Positives per class :  165\n",
      "False Negatives per class :  49\n",
      "Accuracy : 0.8573, Precision : 0.688, Recall : 0.881, F1 : 0.773\n",
      "hapy result\n",
      "(1500,)\n",
      "(1500,)\n",
      "True Positives per class :  342\n",
      "False Positives per class :  201\n",
      "False Negatives per class :  71\n",
      "Accuracy : 0.8187, Precision : 0.630, Recall : 0.828, F1 : 0.715\n",
      "max result\n",
      "(1500,)\n",
      "(1500,)\n",
      "True Positives per class :  385\n",
      "False Positives per class :  261\n",
      "False Negatives per class :  28\n",
      "Accuracy : 0.8073, Precision : 0.596, Recall : 0.932, F1 : 0.727\n",
      "\n",
      "getting results for fold 49\n",
      "bert result\n",
      "(1500,)\n",
      "(1500,)\n",
      "True Positives per class :  363\n",
      "False Positives per class :  173\n",
      "False Negatives per class :  45\n",
      "Accuracy : 0.8547, Precision : 0.677, Recall : 0.890, F1 : 0.769\n",
      "hapy result\n",
      "(1500,)\n",
      "(1500,)\n",
      "True Positives per class :  327\n",
      "False Positives per class :  224\n",
      "False Negatives per class :  81\n",
      "Accuracy : 0.7967, Precision : 0.593, Recall : 0.801, F1 : 0.682\n",
      "max result\n",
      "(1500,)\n",
      "(1500,)\n",
      "True Positives per class :  387\n",
      "False Positives per class :  288\n",
      "False Negatives per class :  21\n",
      "Accuracy : 0.7940, Precision : 0.573, Recall : 0.949, F1 : 0.715\n",
      "\n"
     ]
    }
   ],
   "source": [
    "result_summary_bert = []\n",
    "result_summary_hapy = []\n",
    "result_summary_hapyORbert = []\n",
    "\n",
    "for i in range (50):\n",
    "    \n",
    "    print(\"getting results for fold\", i)\n",
    "    \n",
    "    input_path = \"/data/SuperMod/testfolds/fold\" + str(i) + \".csv\"\n",
    "    result_path_hapy = \"/data/SuperMod/infer_result_fold\" + str(i) + \".pkl\"\n",
    "    result_path_bert = \"/data/SuperMod/raw/fold\"  + str(i) + \".csv\"\n",
    "    \n",
    "    input_df = pd.read_csv(input_path)\n",
    "    \n",
    "    with open(result_path_hapy, 'rb') as w:\n",
    "        hapy_result = pkl.load(w)\n",
    "    bert_df = pd.read_csv(result_path_bert)\n",
    "    bert_result =  bert_df.supermod_inferred_results\n",
    "    max_bert_hapy = np.maximum(bert_result, hapy_result)\n",
    "    \n",
    "    actual = input_df.toxicity\n",
    "    \n",
    "#     print(\"bert\")\n",
    "#     print(bert_result[:5])\n",
    "#     print(\"hapy\")\n",
    "#     print(hapy_result[:5])\n",
    "#     print(\"max_bert_hapy\")\n",
    "#     print(max_bert_hapy[:5])\n",
    "    \n",
    "    input_df[\"bert_result\"] = bert_result\n",
    "    input_df[\"hapy_result\"] = hapy_result    \n",
    "    input_df[\"max_bert_hapy\"] = max_bert_hapy   \n",
    "    \n",
    "    print(\"bert result\")\n",
    "    ab, pb, rb, fb = get_metrics(np.asarray(actual), np.asarray(bert_result))  \n",
    "    print(\"hapy result\")    \n",
    "    ah, ph, rh, fh = get_metrics(np.asarray(actual), np.asarray(hapy_result))    \n",
    "    print(\"max result\")     \n",
    "    am, pm, rm, fm = get_metrics(np.asarray(actual), np.asarray(max_bert_hapy))\n",
    "    \n",
    "    result_summary_bert.append([ ab, pb, rb, fb])\n",
    "    result_summary_hapy.append([ ah, ph, rh, fh])\n",
    "    result_summary_hapyORbert.append([ am, pm, rm, fm])    \n",
    "    \n",
    "    save_path = \"/data/SuperMod/full_result_raw/fold\" + str(i) + \".csv\"\n",
    "    print()\n",
    "    \n",
    "    input_df = input_df.drop(['Unnamed: 0', 'Unnamed: 0.1'], axis=1)\n",
    "    input_df.to_csv(save_path, index=False)\n"
   ]
  },
  {
   "cell_type": "code",
   "execution_count": 32,
   "metadata": {},
   "outputs": [
    {
     "data": {
      "text/html": [
       "<div>\n",
       "<style scoped>\n",
       "    .dataframe tbody tr th:only-of-type {\n",
       "        vertical-align: middle;\n",
       "    }\n",
       "\n",
       "    .dataframe tbody tr th {\n",
       "        vertical-align: top;\n",
       "    }\n",
       "\n",
       "    .dataframe thead th {\n",
       "        text-align: right;\n",
       "    }\n",
       "</style>\n",
       "<table border=\"1\" class=\"dataframe\">\n",
       "  <thead>\n",
       "    <tr style=\"text-align: right;\">\n",
       "      <th></th>\n",
       "      <th>comment_text</th>\n",
       "      <th>toxicity</th>\n",
       "      <th>bert_result</th>\n",
       "      <th>hapy_result</th>\n",
       "      <th>max_bert_hapy</th>\n",
       "    </tr>\n",
       "  </thead>\n",
       "  <tbody>\n",
       "    <tr>\n",
       "      <th>0</th>\n",
       "      <td>\" \\n\\n == Homer's \"\"Official\"\" Age == \\n\\n Acc...</td>\n",
       "      <td>0</td>\n",
       "      <td>0.057445</td>\n",
       "      <td>0.033922</td>\n",
       "      <td>0.057445</td>\n",
       "    </tr>\n",
       "    <tr>\n",
       "      <th>1</th>\n",
       "      <td>== WP:RS == \\n\\n Someone has added a BLOG as a...</td>\n",
       "      <td>0</td>\n",
       "      <td>0.379510</td>\n",
       "      <td>0.110729</td>\n",
       "      <td>0.379510</td>\n",
       "    </tr>\n",
       "    <tr>\n",
       "      <th>2</th>\n",
       "      <td>Being a psychopath I would have to tell you al...</td>\n",
       "      <td>0</td>\n",
       "      <td>0.987681</td>\n",
       "      <td>0.976389</td>\n",
       "      <td>0.987681</td>\n",
       "    </tr>\n",
       "    <tr>\n",
       "      <th>3</th>\n",
       "      <td>DIS NIGGA IS GAY HE KILLED LOTS OF FUQIN PPL T...</td>\n",
       "      <td>1</td>\n",
       "      <td>0.998390</td>\n",
       "      <td>0.681788</td>\n",
       "      <td>0.998390</td>\n",
       "    </tr>\n",
       "    <tr>\n",
       "      <th>4</th>\n",
       "      <td>빨리 차단 해제하라! 그렇지 않으면 범칙금 10만 원이야. 병신아. 차단 빨리 해제하라.</td>\n",
       "      <td>0</td>\n",
       "      <td>0.081212</td>\n",
       "      <td>0.444230</td>\n",
       "      <td>0.444230</td>\n",
       "    </tr>\n",
       "  </tbody>\n",
       "</table>\n",
       "</div>"
      ],
      "text/plain": [
       "                                        comment_text  toxicity  bert_result  \\\n",
       "0  \" \\n\\n == Homer's \"\"Official\"\" Age == \\n\\n Acc...         0     0.057445   \n",
       "1  == WP:RS == \\n\\n Someone has added a BLOG as a...         0     0.379510   \n",
       "2  Being a psychopath I would have to tell you al...         0     0.987681   \n",
       "3  DIS NIGGA IS GAY HE KILLED LOTS OF FUQIN PPL T...         1     0.998390   \n",
       "4  빨리 차단 해제하라! 그렇지 않으면 범칙금 10만 원이야. 병신아. 차단 빨리 해제하라.         0     0.081212   \n",
       "\n",
       "   hapy_result  max_bert_hapy  \n",
       "0     0.033922       0.057445  \n",
       "1     0.110729       0.379510  \n",
       "2     0.976389       0.987681  \n",
       "3     0.681788       0.998390  \n",
       "4     0.444230       0.444230  "
      ]
     },
     "execution_count": 32,
     "metadata": {},
     "output_type": "execute_result"
    }
   ],
   "source": [
    "# test save:\n",
    "save_path = \"/data/SuperMod/full_result_raw/fold1.csv\"\n",
    "save_file = pd.read_csv(save_path)\n",
    "save_file.head()"
   ]
  },
  {
   "cell_type": "code",
   "execution_count": 37,
   "metadata": {},
   "outputs": [
    {
     "data": {
      "text/plain": [
       "[[0.854, 0.6765799256505576, 0.8899755501222494, 0.7687434002111933],\n",
       " [0.8553333333333333,\n",
       "  0.6867030965391621,\n",
       "  0.8933649289099526,\n",
       "  0.7765190525231719],\n",
       " [0.852, 0.6754221388367729, 0.8801955990220048, 0.7643312101910826],\n",
       " [0.844, 0.6547842401500938, 0.87468671679198, 0.7489270386266095],\n",
       " [0.862, 0.6996336996336996, 0.8988235294117647, 0.7868177136972193]]"
      ]
     },
     "execution_count": 37,
     "metadata": {},
     "output_type": "execute_result"
    }
   ],
   "source": [
    "result_summary_bert[:5]"
   ]
  },
  {
   "cell_type": "code",
   "execution_count": 41,
   "metadata": {},
   "outputs": [
    {
     "data": {
      "text/plain": [
       "[[0.8153333333333334,\n",
       "  0.6245283018867924,\n",
       "  0.8092909535452323,\n",
       "  0.7050053248136317],\n",
       " [0.806, 0.612736660929432, 0.8436018957345972, 0.7098703888334996],\n",
       " [0.7986666666666666,\n",
       "  0.5974499089253188,\n",
       "  0.8019559902200489,\n",
       "  0.6847599164926931],\n",
       " [0.8, 0.5950095969289827, 0.7769423558897243, 0.6739130434782609],\n",
       " [0.8033333333333333,\n",
       "  0.6164874551971327,\n",
       "  0.8094117647058824,\n",
       "  0.6998982706002035]]"
      ]
     },
     "execution_count": 41,
     "metadata": {},
     "output_type": "execute_result"
    }
   ],
   "source": [
    "result_summary_hapy[:5]"
   ]
  },
  {
   "cell_type": "code",
   "execution_count": 42,
   "metadata": {},
   "outputs": [
    {
     "data": {
      "text/plain": [
       "[[0.8006666666666666,\n",
       "  0.5843558282208589,\n",
       "  0.9315403422982885,\n",
       "  0.7181903864278981],\n",
       " [0.7953333333333333,\n",
       "  0.5849335302806499,\n",
       "  0.9383886255924171,\n",
       "  0.7206551410373065],\n",
       " [0.7993333333333333,\n",
       "  0.5808383233532934,\n",
       "  0.9486552567237164,\n",
       "  0.7205199628597957],\n",
       " [0.792, 0.5656108597285068, 0.9398496240601504, 0.7062146892655368],\n",
       " [0.7966666666666666,\n",
       "  0.5879765395894428,\n",
       "  0.9435294117647058,\n",
       "  0.7244805781391148]]"
      ]
     },
     "execution_count": 42,
     "metadata": {},
     "output_type": "execute_result"
    }
   ],
   "source": [
    "result_summary_hapyORbert[:5]"
   ]
  },
  {
   "cell_type": "code",
   "execution_count": 55,
   "metadata": {},
   "outputs": [
    {
     "data": {
      "text/html": [
       "<div>\n",
       "<style scoped>\n",
       "    .dataframe tbody tr th:only-of-type {\n",
       "        vertical-align: middle;\n",
       "    }\n",
       "\n",
       "    .dataframe tbody tr th {\n",
       "        vertical-align: top;\n",
       "    }\n",
       "\n",
       "    .dataframe thead th {\n",
       "        text-align: right;\n",
       "    }\n",
       "</style>\n",
       "<table border=\"1\" class=\"dataframe\">\n",
       "  <thead>\n",
       "    <tr style=\"text-align: right;\">\n",
       "      <th></th>\n",
       "      <th>am</th>\n",
       "      <th>pm</th>\n",
       "      <th>rm</th>\n",
       "      <th>fm</th>\n",
       "      <th>ab</th>\n",
       "      <th>pb</th>\n",
       "      <th>rb</th>\n",
       "      <th>fb</th>\n",
       "      <th>ah</th>\n",
       "      <th>ph</th>\n",
       "      <th>rh</th>\n",
       "      <th>fh</th>\n",
       "    </tr>\n",
       "  </thead>\n",
       "  <tbody>\n",
       "    <tr>\n",
       "      <th>0</th>\n",
       "      <td>0.800667</td>\n",
       "      <td>0.584356</td>\n",
       "      <td>0.931540</td>\n",
       "      <td>0.718190</td>\n",
       "      <td>0.854000</td>\n",
       "      <td>0.676580</td>\n",
       "      <td>0.889976</td>\n",
       "      <td>0.768743</td>\n",
       "      <td>0.815333</td>\n",
       "      <td>0.624528</td>\n",
       "      <td>0.809291</td>\n",
       "      <td>0.705005</td>\n",
       "    </tr>\n",
       "    <tr>\n",
       "      <th>1</th>\n",
       "      <td>0.795333</td>\n",
       "      <td>0.584934</td>\n",
       "      <td>0.938389</td>\n",
       "      <td>0.720655</td>\n",
       "      <td>0.855333</td>\n",
       "      <td>0.686703</td>\n",
       "      <td>0.893365</td>\n",
       "      <td>0.776519</td>\n",
       "      <td>0.806000</td>\n",
       "      <td>0.612737</td>\n",
       "      <td>0.843602</td>\n",
       "      <td>0.709870</td>\n",
       "    </tr>\n",
       "    <tr>\n",
       "      <th>2</th>\n",
       "      <td>0.799333</td>\n",
       "      <td>0.580838</td>\n",
       "      <td>0.948655</td>\n",
       "      <td>0.720520</td>\n",
       "      <td>0.852000</td>\n",
       "      <td>0.675422</td>\n",
       "      <td>0.880196</td>\n",
       "      <td>0.764331</td>\n",
       "      <td>0.798667</td>\n",
       "      <td>0.597450</td>\n",
       "      <td>0.801956</td>\n",
       "      <td>0.684760</td>\n",
       "    </tr>\n",
       "    <tr>\n",
       "      <th>3</th>\n",
       "      <td>0.792000</td>\n",
       "      <td>0.565611</td>\n",
       "      <td>0.939850</td>\n",
       "      <td>0.706215</td>\n",
       "      <td>0.844000</td>\n",
       "      <td>0.654784</td>\n",
       "      <td>0.874687</td>\n",
       "      <td>0.748927</td>\n",
       "      <td>0.800000</td>\n",
       "      <td>0.595010</td>\n",
       "      <td>0.776942</td>\n",
       "      <td>0.673913</td>\n",
       "    </tr>\n",
       "    <tr>\n",
       "      <th>4</th>\n",
       "      <td>0.796667</td>\n",
       "      <td>0.587977</td>\n",
       "      <td>0.943529</td>\n",
       "      <td>0.724481</td>\n",
       "      <td>0.862000</td>\n",
       "      <td>0.699634</td>\n",
       "      <td>0.898824</td>\n",
       "      <td>0.786818</td>\n",
       "      <td>0.803333</td>\n",
       "      <td>0.616487</td>\n",
       "      <td>0.809412</td>\n",
       "      <td>0.699898</td>\n",
       "    </tr>\n",
       "  </tbody>\n",
       "</table>\n",
       "</div>"
      ],
      "text/plain": [
       "         am        pm        rm        fm        ab        pb        rb  \\\n",
       "0  0.800667  0.584356  0.931540  0.718190  0.854000  0.676580  0.889976   \n",
       "1  0.795333  0.584934  0.938389  0.720655  0.855333  0.686703  0.893365   \n",
       "2  0.799333  0.580838  0.948655  0.720520  0.852000  0.675422  0.880196   \n",
       "3  0.792000  0.565611  0.939850  0.706215  0.844000  0.654784  0.874687   \n",
       "4  0.796667  0.587977  0.943529  0.724481  0.862000  0.699634  0.898824   \n",
       "\n",
       "         fb        ah        ph        rh        fh  \n",
       "0  0.768743  0.815333  0.624528  0.809291  0.705005  \n",
       "1  0.776519  0.806000  0.612737  0.843602  0.709870  \n",
       "2  0.764331  0.798667  0.597450  0.801956  0.684760  \n",
       "3  0.748927  0.800000  0.595010  0.776942  0.673913  \n",
       "4  0.786818  0.803333  0.616487  0.809412  0.699898  "
      ]
     },
     "execution_count": 55,
     "metadata": {},
     "output_type": "execute_result"
    }
   ],
   "source": [
    "hapyORbert = pd.DataFrame(result_summary_hapyORbert, columns=[\"am\", \"pm\", \"rm\", \"fm\"])\n",
    "bert = pd.DataFrame(result_summary_bert, columns=[\"ab\", \"pb\", \"rb\", \"fb\"])\n",
    "hapy = pd.DataFrame(result_summary_hapy, columns=[\"ah\", \"ph\", \"rh\", \"fh\"])\n",
    "combined_result = pd.concat([hapyORbert, bert, hapy], axis = 1) \n",
    "combined_result.head()"
   ]
  },
  {
   "cell_type": "code",
   "execution_count": 56,
   "metadata": {},
   "outputs": [
    {
     "data": {
      "text/plain": [
       "0.6776556714011595"
      ]
     },
     "execution_count": 56,
     "metadata": {},
     "output_type": "execute_result"
    }
   ],
   "source": [
    "np.average(combined_result.fh)"
   ]
  },
  {
   "cell_type": "code",
   "execution_count": 58,
   "metadata": {},
   "outputs": [
    {
     "data": {
      "text/plain": [
       "0.049574886697035365"
      ]
     },
     "execution_count": 58,
     "metadata": {},
     "output_type": "execute_result"
    }
   ],
   "source": [
    "np.std(combined_result.fh)"
   ]
  },
  {
   "cell_type": "code",
   "execution_count": 57,
   "metadata": {},
   "outputs": [
    {
     "data": {
      "text/plain": [
       "0.7749142739289332"
      ]
     },
     "execution_count": 57,
     "metadata": {},
     "output_type": "execute_result"
    }
   ],
   "source": [
    "np.average(combined_result.fb)"
   ]
  },
  {
   "cell_type": "code",
   "execution_count": 63,
   "metadata": {},
   "outputs": [
    {
     "name": "stdout",
     "output_type": "stream",
     "text": [
      "0.6776556714011595 0.7749142739289332 0.7121174198734204\n"
     ]
    }
   ],
   "source": [
    "print(np.average(combined_result.fh) , np.average(combined_result.fb), np.average(combined_result.fm))"
   ]
  },
  {
   "cell_type": "code",
   "execution_count": 62,
   "metadata": {},
   "outputs": [
    {
     "name": "stdout",
     "output_type": "stream",
     "text": [
      "0.049574886697035365 0.01222896593573934 0.02177639846778865\n"
     ]
    }
   ],
   "source": [
    "print(np.std(combined_result.fh) , np.std(combined_result.fb), np.std(combined_result.fm))"
   ]
  },
  {
   "cell_type": "code",
   "execution_count": 64,
   "metadata": {},
   "outputs": [
    {
     "name": "stdout",
     "output_type": "stream",
     "text": [
      "0.7988880468031704 0.888129093615743 0.9388387985368273\n"
     ]
    }
   ],
   "source": [
    "print(np.average(combined_result.rh) , np.average(combined_result.rb), np.average(combined_result.rm))"
   ]
  },
  {
   "cell_type": "code",
   "execution_count": 65,
   "metadata": {},
   "outputs": [
    {
     "name": "stdout",
     "output_type": "stream",
     "text": [
      "0.057936867677530084 0.00973319075969664 0.009310331025238951\n"
     ]
    }
   ],
   "source": [
    "print(np.std(combined_result.rh) , np.std(combined_result.rb), np.std(combined_result.rm))"
   ]
  },
  {
   "cell_type": "code",
   "execution_count": 66,
   "metadata": {},
   "outputs": [
    {
     "name": "stdout",
     "output_type": "stream",
     "text": [
      "0.5886595211497362 0.6875221308739211 0.5740559864754873\n"
     ]
    }
   ],
   "source": [
    "print(np.average(combined_result.ph) , np.average(combined_result.pb), np.average(combined_result.pm))"
   ]
  },
  {
   "cell_type": "code",
   "execution_count": 67,
   "metadata": {},
   "outputs": [
    {
     "name": "stdout",
     "output_type": "stream",
     "text": [
      "0.04527565037484016 0.01788585731321254 0.025818642080578404\n"
     ]
    }
   ],
   "source": [
    "print(np.std(combined_result.ph) , np.std(combined_result.pb), np.std(combined_result.pm))"
   ]
  },
  {
   "cell_type": "code",
   "execution_count": 68,
   "metadata": {},
   "outputs": [
    {
     "name": "stdout",
     "output_type": "stream",
     "text": [
      "0.7969466666666666 0.86208 0.79668\n"
     ]
    }
   ],
   "source": [
    "print(np.average(combined_result.ah) , np.average(combined_result.ab), np.average(combined_result.am))"
   ]
  },
  {
   "cell_type": "code",
   "execution_count": 69,
   "metadata": {},
   "outputs": [
    {
     "name": "stdout",
     "output_type": "stream",
     "text": [
      "0.03119033753513346 0.00850687565051549 0.022410509439397704\n"
     ]
    }
   ],
   "source": [
    "print(np.std(combined_result.ah) , np.std(combined_result.ab), np.std(combined_result.am))"
   ]
  },
  {
   "cell_type": "code",
   "execution_count": 50,
   "metadata": {},
   "outputs": [
    {
     "data": {
      "image/png": "[encoded data removed]",
      "text/plain": [
       "<Figure size 432x288 with 1 Axes>"
      ]
     },
     "metadata": {
      "needs_background": "light"
     },
     "output_type": "display_data"
    }
   ],
   "source": [
    "import seaborn as sns\n",
    "import matplotlib.pyplot as plt\n",
    "\n",
    "sns.distplot(combined_result.fb)\n",
    "plt.show()\n",
    "\n"
   ]
  },
  {
   "cell_type": "code",
   "execution_count": 61,
   "metadata": {},
   "outputs": [],
   "source": [
    "combined_result.to_csv(\"/data/SuperMod/full_result_raw/all_summarized.csv\", index = False)"
   ]
  },
  {
   "cell_type": "markdown",
   "metadata": {},
   "source": [
    "## Test pieces for above "
   ]
  },
  {
   "cell_type": "code",
   "execution_count": 11,
   "metadata": {},
   "outputs": [
    {
     "data": {
      "text/html": [
       "<div>\n",
       "<style scoped>\n",
       "    .dataframe tbody tr th:only-of-type {\n",
       "        vertical-align: middle;\n",
       "    }\n",
       "\n",
       "    .dataframe tbody tr th {\n",
       "        vertical-align: top;\n",
       "    }\n",
       "\n",
       "    .dataframe thead th {\n",
       "        text-align: right;\n",
       "    }\n",
       "</style>\n",
       "<table border=\"1\" class=\"dataframe\">\n",
       "  <thead>\n",
       "    <tr style=\"text-align: right;\">\n",
       "      <th></th>\n",
       "      <th>Unnamed: 0</th>\n",
       "      <th>comment_text</th>\n",
       "      <th>toxicity</th>\n",
       "      <th>supermod_inferred_results</th>\n",
       "      <th>supermod</th>\n",
       "    </tr>\n",
       "  </thead>\n",
       "  <tbody>\n",
       "    <tr>\n",
       "      <th>0</th>\n",
       "      <td>2732</td>\n",
       "      <td>== Your (re)appointment == \\n\\n You have both ...</td>\n",
       "      <td>0</td>\n",
       "      <td>0.003531</td>\n",
       "      <td>0</td>\n",
       "    </tr>\n",
       "    <tr>\n",
       "      <th>1</th>\n",
       "      <td>43567</td>\n",
       "      <td>:Thank you for pointing those issues out. They...</td>\n",
       "      <td>0</td>\n",
       "      <td>0.000595</td>\n",
       "      <td>0</td>\n",
       "    </tr>\n",
       "    <tr>\n",
       "      <th>2</th>\n",
       "      <td>42613</td>\n",
       "      <td>== Trackers Task Force ==</td>\n",
       "      <td>0</td>\n",
       "      <td>0.047709</td>\n",
       "      <td>0</td>\n",
       "    </tr>\n",
       "    <tr>\n",
       "      <th>3</th>\n",
       "      <td>52416</td>\n",
       "      <td>== isotope discrimination, atmospheric values,...</td>\n",
       "      <td>0</td>\n",
       "      <td>0.919413</td>\n",
       "      <td>1</td>\n",
       "    </tr>\n",
       "    <tr>\n",
       "      <th>4</th>\n",
       "      <td>45891</td>\n",
       "      <td>, because they're gay</td>\n",
       "      <td>0</td>\n",
       "      <td>0.915953</td>\n",
       "      <td>1</td>\n",
       "    </tr>\n",
       "  </tbody>\n",
       "</table>\n",
       "</div>"
      ],
      "text/plain": [
       "   Unnamed: 0                                       comment_text  toxicity  \\\n",
       "0        2732  == Your (re)appointment == \\n\\n You have both ...         0   \n",
       "1       43567  :Thank you for pointing those issues out. They...         0   \n",
       "2       42613                          == Trackers Task Force ==         0   \n",
       "3       52416  == isotope discrimination, atmospheric values,...         0   \n",
       "4       45891                              , because they're gay         0   \n",
       "\n",
       "   supermod_inferred_results  supermod  \n",
       "0                   0.003531         0  \n",
       "1                   0.000595         0  \n",
       "2                   0.047709         0  \n",
       "3                   0.919413         1  \n",
       "4                   0.915953         1  "
      ]
     },
     "execution_count": 11,
     "metadata": {},
     "output_type": "execute_result"
    }
   ],
   "source": [
    "i = 0\n",
    "input_path = \"/data/SuperMod/testfolds/fold\" + str(i) + \".csv\"\n",
    "result_path_hapy = \"/data/SuperMod/infer_result_fold\" + str(i) + \".pkl\"\n",
    "result_path_bert = \"/data/SuperMod/raw/fold\"  + str(i) + \".csv\"\n",
    "bert_df = pd.read_csv(result_path_bert)\n",
    "bert_df.head()"
   ]
  },
  {
   "cell_type": "code",
   "execution_count": 14,
   "metadata": {},
   "outputs": [
    {
     "data": {
      "text/plain": [
       "array([0.42227   , 0.10188487, 0.56421876, 0.08692576, 0.79050314,\n",
       "       0.2410989 , 0.23324262, 0.96217716, 0.7684657 , 0.10649429],\n",
       "      dtype=float32)"
      ]
     },
     "execution_count": 14,
     "metadata": {},
     "output_type": "execute_result"
    }
   ],
   "source": [
    "with open(result_path_hapy, 'rb') as w:\n",
    "    result = pkl.load(w)\n",
    "result[:10]"
   ]
  },
  {
   "cell_type": "code",
   "execution_count": 22,
   "metadata": {},
   "outputs": [
    {
     "data": {
      "text/html": [
       "<div>\n",
       "<style scoped>\n",
       "    .dataframe tbody tr th:only-of-type {\n",
       "        vertical-align: middle;\n",
       "    }\n",
       "\n",
       "    .dataframe tbody tr th {\n",
       "        vertical-align: top;\n",
       "    }\n",
       "\n",
       "    .dataframe thead th {\n",
       "        text-align: right;\n",
       "    }\n",
       "</style>\n",
       "<table border=\"1\" class=\"dataframe\">\n",
       "  <thead>\n",
       "    <tr style=\"text-align: right;\">\n",
       "      <th></th>\n",
       "      <th>Unnamed: 0</th>\n",
       "      <th>Unnamed: 0.1</th>\n",
       "      <th>comment_text</th>\n",
       "      <th>toxicity</th>\n",
       "    </tr>\n",
       "  </thead>\n",
       "  <tbody>\n",
       "    <tr>\n",
       "      <th>0</th>\n",
       "      <td>2732</td>\n",
       "      <td>6590</td>\n",
       "      <td>== Your (re)appointment == \\n\\n You have both ...</td>\n",
       "      <td>0</td>\n",
       "    </tr>\n",
       "    <tr>\n",
       "      <th>1</th>\n",
       "      <td>43567</td>\n",
       "      <td>104026</td>\n",
       "      <td>:Thank you for pointing those issues out. They...</td>\n",
       "      <td>0</td>\n",
       "    </tr>\n",
       "    <tr>\n",
       "      <th>2</th>\n",
       "      <td>42613</td>\n",
       "      <td>101810</td>\n",
       "      <td>== Trackers Task Force ==</td>\n",
       "      <td>0</td>\n",
       "    </tr>\n",
       "    <tr>\n",
       "      <th>3</th>\n",
       "      <td>52416</td>\n",
       "      <td>125175</td>\n",
       "      <td>== isotope discrimination, atmospheric values,...</td>\n",
       "      <td>0</td>\n",
       "    </tr>\n",
       "    <tr>\n",
       "      <th>4</th>\n",
       "      <td>45891</td>\n",
       "      <td>109648</td>\n",
       "      <td>, because they're gay</td>\n",
       "      <td>0</td>\n",
       "    </tr>\n",
       "  </tbody>\n",
       "</table>\n",
       "</div>"
      ],
      "text/plain": [
       "   Unnamed: 0  Unnamed: 0.1  \\\n",
       "0        2732          6590   \n",
       "1       43567        104026   \n",
       "2       42613        101810   \n",
       "3       52416        125175   \n",
       "4       45891        109648   \n",
       "\n",
       "                                        comment_text  toxicity  \n",
       "0  == Your (re)appointment == \\n\\n You have both ...         0  \n",
       "1  :Thank you for pointing those issues out. They...         0  \n",
       "2                          == Trackers Task Force ==         0  \n",
       "3  == isotope discrimination, atmospheric values,...         0  \n",
       "4                              , because they're gay         0  "
      ]
     },
     "execution_count": 22,
     "metadata": {},
     "output_type": "execute_result"
    }
   ],
   "source": [
    "input_df = pd.read_csv(\"/data/SuperMod/testfolds/fold0.csv\")\n",
    "input_df.head()"
   ]
  },
  {
   "cell_type": "code",
   "execution_count": 21,
   "metadata": {},
   "outputs": [
    {
     "data": {
      "text/html": [
       "<div>\n",
       "<style scoped>\n",
       "    .dataframe tbody tr th:only-of-type {\n",
       "        vertical-align: middle;\n",
       "    }\n",
       "\n",
       "    .dataframe tbody tr th {\n",
       "        vertical-align: top;\n",
       "    }\n",
       "\n",
       "    .dataframe thead th {\n",
       "        text-align: right;\n",
       "    }\n",
       "</style>\n",
       "<table border=\"1\" class=\"dataframe\">\n",
       "  <thead>\n",
       "    <tr style=\"text-align: right;\">\n",
       "      <th></th>\n",
       "      <th>Unnamed: 0</th>\n",
       "      <th>Unnamed: 0.1</th>\n",
       "      <th>comment_text</th>\n",
       "      <th>toxicity</th>\n",
       "    </tr>\n",
       "  </thead>\n",
       "  <tbody>\n",
       "    <tr>\n",
       "      <th>0</th>\n",
       "      <td>62501</td>\n",
       "      <td>149459</td>\n",
       "      <td>\" \\n\\n == Homer's \"\"Official\"\" Age == \\n\\n Acc...</td>\n",
       "      <td>0</td>\n",
       "    </tr>\n",
       "    <tr>\n",
       "      <th>1</th>\n",
       "      <td>33003</td>\n",
       "      <td>78986</td>\n",
       "      <td>== WP:RS == \\n\\n Someone has added a BLOG as a...</td>\n",
       "      <td>0</td>\n",
       "    </tr>\n",
       "    <tr>\n",
       "      <th>2</th>\n",
       "      <td>12172</td>\n",
       "      <td>29233</td>\n",
       "      <td>Being a psychopath I would have to tell you al...</td>\n",
       "      <td>0</td>\n",
       "    </tr>\n",
       "    <tr>\n",
       "      <th>3</th>\n",
       "      <td>5192</td>\n",
       "      <td>12528</td>\n",
       "      <td>DIS NIGGA IS GAY HE KILLED LOTS OF FUQIN PPL T...</td>\n",
       "      <td>1</td>\n",
       "    </tr>\n",
       "    <tr>\n",
       "      <th>4</th>\n",
       "      <td>32511</td>\n",
       "      <td>77820</td>\n",
       "      <td>빨리 차단 해제하라! 그렇지 않으면 범칙금 10만 원이야. 병신아. 차단 빨리 해제하라.</td>\n",
       "      <td>0</td>\n",
       "    </tr>\n",
       "  </tbody>\n",
       "</table>\n",
       "</div>"
      ],
      "text/plain": [
       "   Unnamed: 0  Unnamed: 0.1  \\\n",
       "0       62501        149459   \n",
       "1       33003         78986   \n",
       "2       12172         29233   \n",
       "3        5192         12528   \n",
       "4       32511         77820   \n",
       "\n",
       "                                        comment_text  toxicity  \n",
       "0  \" \\n\\n == Homer's \"\"Official\"\" Age == \\n\\n Acc...         0  \n",
       "1  == WP:RS == \\n\\n Someone has added a BLOG as a...         0  \n",
       "2  Being a psychopath I would have to tell you al...         0  \n",
       "3  DIS NIGGA IS GAY HE KILLED LOTS OF FUQIN PPL T...         1  \n",
       "4  빨리 차단 해제하라! 그렇지 않으면 범칙금 10만 원이야. 병신아. 차단 빨리 해제하라.         0  "
      ]
     },
     "execution_count": 21,
     "metadata": {},
     "output_type": "execute_result"
    }
   ],
   "source": [
    "input_df = pd.read_csv(\"/data/SuperMod/testfolds/fold1.csv\")\n",
    "input_df.head()"
   ]
  },
  {
   "cell_type": "code",
   "execution_count": null,
   "metadata": {},
   "outputs": [],
   "source": [
    "test2 = pd.read_csv(\"/data/SuperMod/testfolds/fold1.csv\")\n",
    "with open('/data/SuperMod/infer_result_fold1.pkl', 'rb') as w:\n",
    "    result2 = pkl.load(w)\n",
    "get_metrics(np.asarray(test1.toxicity), np.asarray(result2))"
   ]
  },
  {
   "cell_type": "code",
   "execution_count": null,
   "metadata": {},
   "outputs": [],
   "source": [
    "input_path = \"/data/SuperMod/testfolds/fold\" + str(i) + \".csv\"\n",
    "result_path = \"/data/SuperMod/infer_result_fold\" + str(i) + \".pkl\""
   ]
  },
  {
   "cell_type": "code",
   "execution_count": 23,
   "metadata": {},
   "outputs": [
    {
     "name": "stdout",
     "output_type": "stream",
     "text": [
      "This bash script knows about /data/SuperMod/testfolds/fold49.csv and /data/SuperMod/infer_result_fold49.pkl\n"
     ]
    }
   ],
   "source": [
    "%%bash -s \"$input_path\" \"$result_path\"\n",
    "echo \"This bash script knows about $1 and $2\""
   ]
  },
  {
   "cell_type": "code",
   "execution_count": 24,
   "metadata": {},
   "outputs": [
    {
     "ename": "SyntaxError",
     "evalue": "invalid syntax (<ipython-input-24-264b95cf9aa7>, line 7)",
     "output_type": "error",
     "traceback": [
      "\u001b[0;36m  File \u001b[0;32m\"<ipython-input-24-264b95cf9aa7>\"\u001b[0;36m, line \u001b[0;32m7\u001b[0m\n\u001b[0;31m    echo \"This bash script knows about $1 and $2\"\u001b[0m\n\u001b[0m                                                ^\u001b[0m\n\u001b[0;31mSyntaxError\u001b[0m\u001b[0;31m:\u001b[0m invalid syntax\n"
     ]
    }
   ],
   "source": [
    "for i in range(50):\n",
    "    \n",
    "    input_path = \"/data/SuperMod/testfolds/fold\" + str(i) + \".csv\"\n",
    "    result_path = \"/data/SuperMod/infer_result_fold\" + str(i) + \".pkl\"\n",
    "    \n",
    "    %%bash -s \"$input_path\" \"$result_path\"\n",
    "    echo \"This bash script knows about $1 and $2\"\n",
    "\n",
    "#     !python inference_ha.py -test_path input_path  -out_path '/data/SuperMod/hapy_state_wiki_enr_imdb_4.pth' \\\n",
    "# -infer_result result_path"
   ]
  },
  {
   "cell_type": "code",
   "execution_count": 7,
   "metadata": {},
   "outputs": [],
   "source": [
    "from module.evaluate import load_dev_labels, get_metrics\n",
    "import pandas as pd\n",
    "import numpy as np\n",
    "import pickle as pkl"
   ]
  },
  {
   "cell_type": "code",
   "execution_count": 8,
   "metadata": {},
   "outputs": [
    {
     "name": "stdout",
     "output_type": "stream",
     "text": [
      "(1500,)\n",
      "(1500,)\n",
      "True Positives per class :  356\n",
      "False Positives per class :  225\n",
      "False Negatives per class :  66\n",
      "Accuracy : 0.8060, Precision : 0.613, Recall : 0.844, F1 : 0.710\n"
     ]
    },
    {
     "data": {
      "text/plain": [
       "(0.806, 0.612736660929432, 0.8436018957345972, 0.7098703888334996)"
      ]
     },
     "execution_count": 8,
     "metadata": {},
     "output_type": "execute_result"
    }
   ],
   "source": [
    "test1 = pd.read_csv(\"/data/SuperMod/testfolds/fold1.csv\")\n",
    "with open('/data/SuperMod/infer_result_fold1.pkl', 'rb') as w:\n",
    "    result2 = pkl.load(w)\n",
    "get_metrics(np.asarray(test1.toxicity), np.asarray(result2))"
   ]
  },
  {
   "cell_type": "code",
   "execution_count": null,
   "metadata": {},
   "outputs": [],
   "source": []
  }
 ],
 "metadata": {
  "kernelspec": {
   "display_name": "Python 3",
   "language": "python",
   "name": "python3"
  },
  "language_info": {
   "codemirror_mode": {
    "name": "ipython",
    "version": 3
   },
   "file_extension": ".py",
   "mimetype": "text/x-python",
   "name": "python",
   "nbconvert_exporter": "python",
   "pygments_lexer": "ipython3",
   "version": "3.6.8"
  }
 },
 "nbformat": 4,
 "nbformat_minor": 2
}
