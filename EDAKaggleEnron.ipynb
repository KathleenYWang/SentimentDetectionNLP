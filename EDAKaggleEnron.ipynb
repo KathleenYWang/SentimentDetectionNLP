{
 "cells": [
  {
   "cell_type": "markdown",
   "metadata": {},
   "source": [
    "## Taking a look at the Enron labeled data"
   ]
  },
  {
   "cell_type": "markdown",
   "metadata": {},
   "source": [
    "code borrowed from :\n",
    "https://github.com/shoreason/enron-topic-modeling/blob/master/enron_lda.ipynb"
   ]
  },
  {
   "cell_type": "code",
   "execution_count": 1,
   "metadata": {},
   "outputs": [],
   "source": [
    "import numpy as np\n",
    "import pandas as pd\n",
    "import vocab as vocabulary\n",
    "import collections\n",
    "import utils\n",
    "import seaborn as sns\n",
    "import matplotlib.pyplot as plt\n",
    "from sklearn.naive_bayes import MultinomialNB\n",
    "from sklearn.metrics import accuracy_score\n",
    "from sklearn.metrics import precision_recall_fscore_support as score\n",
    "from wordcloud import WordCloud ,STOPWORDS\n",
    "from collections import defaultdict"
   ]
  },
  {
   "cell_type": "code",
   "execution_count": 65,
   "metadata": {},
   "outputs": [],
   "source": [
    "import glob\n",
    "import fileinput\n",
    "import shutil\n",
    "import os,sys,inspect\n",
    "import time\n",
    "import markdown\n",
    "import json\n",
    "import requests\n",
    "import warnings\n",
    "import re\n"
   ]
  },
  {
   "cell_type": "code",
   "execution_count": 52,
   "metadata": {},
   "outputs": [],
   "source": [
    "# !pip3 install langdetect\n",
    "from langdetect import detect"
   ]
  },
  {
   "cell_type": "code",
   "execution_count": 3,
   "metadata": {},
   "outputs": [],
   "source": [
    "current_dir = os.path.dirname(os.path.abspath(inspect.getfile(inspect.currentframe())))\n",
    "parent_dir = os.path.dirname(current_dir)\n",
    "sys.path.insert(0, parent_dir)\n",
    "import googleapi"
   ]
  },
  {
   "cell_type": "code",
   "execution_count": 44,
   "metadata": {},
   "outputs": [],
   "source": [
    "PerspectiveAPI = googleapi.GOOGLEAPI"
   ]
  },
  {
   "cell_type": "code",
   "execution_count": 5,
   "metadata": {},
   "outputs": [],
   "source": [
    "datadir = \"/data/SuperMod/emails.csv\""
   ]
  },
  {
   "cell_type": "code",
   "execution_count": 6,
   "metadata": {},
   "outputs": [],
   "source": [
    "enrondata = pd.read_csv(datadir)"
   ]
  },
  {
   "cell_type": "code",
   "execution_count": 7,
   "metadata": {},
   "outputs": [
    {
     "data": {
      "text/html": [
       "<div>\n",
       "<style scoped>\n",
       "    .dataframe tbody tr th:only-of-type {\n",
       "        vertical-align: middle;\n",
       "    }\n",
       "\n",
       "    .dataframe tbody tr th {\n",
       "        vertical-align: top;\n",
       "    }\n",
       "\n",
       "    .dataframe thead th {\n",
       "        text-align: right;\n",
       "    }\n",
       "</style>\n",
       "<table border=\"1\" class=\"dataframe\">\n",
       "  <thead>\n",
       "    <tr style=\"text-align: right;\">\n",
       "      <th></th>\n",
       "      <th>file</th>\n",
       "      <th>message</th>\n",
       "    </tr>\n",
       "  </thead>\n",
       "  <tbody>\n",
       "    <tr>\n",
       "      <th>0</th>\n",
       "      <td>allen-p/_sent_mail/1.</td>\n",
       "      <td>Message-ID: &lt;18782981.1075855378110.JavaMail.e...</td>\n",
       "    </tr>\n",
       "    <tr>\n",
       "      <th>1</th>\n",
       "      <td>allen-p/_sent_mail/10.</td>\n",
       "      <td>Message-ID: &lt;15464986.1075855378456.JavaMail.e...</td>\n",
       "    </tr>\n",
       "    <tr>\n",
       "      <th>2</th>\n",
       "      <td>allen-p/_sent_mail/100.</td>\n",
       "      <td>Message-ID: &lt;24216240.1075855687451.JavaMail.e...</td>\n",
       "    </tr>\n",
       "    <tr>\n",
       "      <th>3</th>\n",
       "      <td>allen-p/_sent_mail/1000.</td>\n",
       "      <td>Message-ID: &lt;13505866.1075863688222.JavaMail.e...</td>\n",
       "    </tr>\n",
       "    <tr>\n",
       "      <th>4</th>\n",
       "      <td>allen-p/_sent_mail/1001.</td>\n",
       "      <td>Message-ID: &lt;30922949.1075863688243.JavaMail.e...</td>\n",
       "    </tr>\n",
       "  </tbody>\n",
       "</table>\n",
       "</div>"
      ],
      "text/plain": [
       "                       file                                            message\n",
       "0     allen-p/_sent_mail/1.  Message-ID: <18782981.1075855378110.JavaMail.e...\n",
       "1    allen-p/_sent_mail/10.  Message-ID: <15464986.1075855378456.JavaMail.e...\n",
       "2   allen-p/_sent_mail/100.  Message-ID: <24216240.1075855687451.JavaMail.e...\n",
       "3  allen-p/_sent_mail/1000.  Message-ID: <13505866.1075863688222.JavaMail.e...\n",
       "4  allen-p/_sent_mail/1001.  Message-ID: <30922949.1075863688243.JavaMail.e..."
      ]
     },
     "execution_count": 7,
     "metadata": {},
     "output_type": "execute_result"
    }
   ],
   "source": [
    "enrondata.head()"
   ]
  },
  {
   "cell_type": "markdown",
   "metadata": {},
   "source": [
    "## Parse email"
   ]
  },
  {
   "cell_type": "code",
   "execution_count": 8,
   "metadata": {},
   "outputs": [],
   "source": [
    "def parse_raw_message(raw_message):\n",
    "    lines = raw_message.split('\\n')\n",
    "    email = {}\n",
    "    message = ''\n",
    "    keys_to_extract = ['from', 'to']\n",
    "    for line in lines:\n",
    "        if ':' not in line:\n",
    "            message += line.strip()\n",
    "            email['body'] = message\n",
    "        else:\n",
    "            pairs = line.split(':')\n",
    "            key = pairs[0].lower()\n",
    "            val = pairs[1].strip()\n",
    "            if key in keys_to_extract:\n",
    "                email[key] = val\n",
    "    return email"
   ]
  },
  {
   "cell_type": "code",
   "execution_count": 9,
   "metadata": {},
   "outputs": [],
   "source": [
    "def parse_into_emails(messages):\n",
    "    emails = [parse_raw_message(message) for message in messages]\n",
    "    return {\n",
    "        'body': map_to_list(emails, 'body'),\n",
    "        'to': map_to_list(emails, 'to'),\n",
    "        'from_': map_to_list(emails, 'from')\n",
    "    }"
   ]
  },
  {
   "cell_type": "code",
   "execution_count": 10,
   "metadata": {},
   "outputs": [],
   "source": [
    "def map_to_list(emails, key):\n",
    "    results = []\n",
    "    for email in emails:\n",
    "        if key not in email:\n",
    "            results.append('')\n",
    "        else:\n",
    "            results.append(email[key])\n",
    "    return results"
   ]
  },
  {
   "cell_type": "code",
   "execution_count": 11,
   "metadata": {},
   "outputs": [
    {
     "name": "stdout",
     "output_type": "stream",
     "text": [
      "                                                body                    from_  \\\n",
      "0                               Here is our forecast  phillip.allen@enron.com   \n",
      "1  Traveling to have a business meeting takes the...  phillip.allen@enron.com   \n",
      "2                     test successful.  way to go!!!  phillip.allen@enron.com   \n",
      "3  Randy,Can you send me a schedule of the salary...  phillip.allen@enron.com   \n",
      "4                                                     phillip.allen@enron.com   \n",
      "\n",
      "                        to  \n",
      "0     tim.belden@enron.com  \n",
      "1  john.lavorato@enron.com  \n",
      "2   leah.arsdall@enron.com  \n",
      "3    randall.gay@enron.com  \n",
      "4     greg.piper@enron.com  \n"
     ]
    }
   ],
   "source": [
    "email_df = pd.DataFrame(parse_into_emails(enrondata.message))\n",
    "print(email_df.head())"
   ]
  },
  {
   "cell_type": "markdown",
   "metadata": {},
   "source": [
    "## Add Perspective score: toxiciy only"
   ]
  },
  {
   "cell_type": "code",
   "execution_count": 29,
   "metadata": {},
   "outputs": [
    {
     "data": {
      "text/plain": [
       "0                                      Here is our forecast\n",
       "1         Traveling to have a business meeting takes the...\n",
       "2                            test successful.  way to go!!!\n",
       "3         Randy,Can you send me a schedule of the salary...\n",
       "4                                                          \n",
       "5         Greg,How about either next Tuesday or Thursday...\n",
       "6         Phillip Allen (pallen@enron.com)Mike Grigsby (...\n",
       "7                                                          \n",
       "8         I don't think these are required by the ISP2. ...\n",
       "9         ---------------------- Forwarded by Phillip K ...\n",
       "10        Mr. Buckner,For delivered gas behind San Diego...\n",
       "11        Lucy,Open them and save in the rentroll folder...\n",
       "12        ---------------------- Forwarded by Phillip K ...\n",
       "13        ---------------------- Forwarded by Phillip K ...\n",
       "14        Dave,Here are the names of the west desk membe...\n",
       "15                          Paula,35 million is finePhillip\n",
       "16        ---------------------- Forwarded by Phillip K ...\n",
       "17        Tim,mike grigsby is having problems with acces...\n",
       "18        ---------------------- Forwarded by Phillip K ...\n",
       "19        ---------------------- Forwarded by Phillip K ...\n",
       "20        Brenda,Please use the second check as the Octo...\n",
       "21        I think Fletch has a good CPA.  I am still doi...\n",
       "22        Brenda,Please use the second check as my Octob...\n",
       "23        ---------------------- Forwarded by Phillip K ...\n",
       "24        Liane,As we discussed yesterday, I am concerne...\n",
       "25        ---------------------- Forwarded by Phillip K ...\n",
       "26        ---------------------- Forwarded by Phillip K ...\n",
       "27        ---------------------- Forwarded by Phillip K ...\n",
       "28        Reagan,Just wanted to give you an update.  I h...\n",
       "29        Nymex expiration is during this time frame.  P...\n",
       "                                ...                        \n",
       "517371    a) I am not completely at liberty to touch all...\n",
       "517372    I am interested in a program for myself.  I am...\n",
       "517373    yes-----Original Message-----This is the first...\n",
       "517374    Its OKJohn Zufferli-----Original Message-----M...\n",
       "517375    you can increase the direct sale to include De...\n",
       "517376    You should talk to Jess about that, she is due...\n",
       "517377    -----Original Message-----John, I understand y...\n",
       "517378    Here is the update list that you requested. Mi...\n",
       "517379    i am waiting on the conference call and no one...\n",
       "517380    -----Original Message-----hey there.  dad told...\n",
       "517381    -----Original Message-----Everything from Ops,...\n",
       "517382    nothing new here, when is your flight? have yo...\n",
       "517383    In addition to a list of software and systems ...\n",
       "517384    Please set up access for the digital certifica...\n",
       "517385    Dece\\tmber 11, 2001-----Original Message----->...\n",
       "517386    -----Original Message-----going great.  Even t...\n",
       "517387    -----Original Message-----John, please check w...\n",
       "517388    Here is the info for the commercial staffJohn ...\n",
       "517389    Enron is willing to perform the operation unde...\n",
       "517390    CAND-MGMT-BAS for all AECO and DAWN BASISCAND-...\n",
       "517391                           -----Original Message-----\n",
       "517392    eric.le@enron.com, grant.oh@enron.com, dean.dr...\n",
       "517393    not yet, rob has been in the court house all d...\n",
       "517394    -----Original Message-----Good to hear your vo...\n",
       "517395    very busy, jess is ok just scared-----Original...\n",
       "517396    This is a trade with OIL-SPEC-HEDGE-NG (John L...\n",
       "517397    Some of my position is with the Alberta Term b...\n",
       "517398    2-----Original Message-----Morning John,I'm st...\n",
       "517399    Analyst\\t\\t\\t\\t\\tRankStephane Brodeur\\t\\t\\t1Ch...\n",
       "517400    i think the YMCA has a class that is for peopl...\n",
       "Name: body, Length: 517401, dtype: object"
      ]
     },
     "execution_count": 29,
     "metadata": {},
     "output_type": "execute_result"
    }
   ],
   "source": [
    "email_df.body"
   ]
  },
  {
   "cell_type": "code",
   "execution_count": 12,
   "metadata": {},
   "outputs": [],
   "source": [
    "# obtained from https://www.kaggle.com/tarunpaparaju/jigsaw-competition-google-perspective-api\n",
    "# allowed test types\n",
    "allowed = [\"TOXICITY\",\n",
    "           \"SEVERE_TOXICITY\",\n",
    "           \"TOXICITY_FAST\",\n",
    "           \"ATTACK_ON_AUTHOR\",\n",
    "           \"ATTACK_ON_COMMENTER\",\n",
    "           \"INCOHERENT\",\n",
    "           \"INFLAMMATORY\",\n",
    "           \"OBSCENE\",\n",
    "           \"OFF_TOPIC\",\n",
    "           \"UNSUBSTANTIAL\",\n",
    "           \"LIKELY_TO_REJECT\"]\n",
    "\n",
    "class Perspective(object):\n",
    "\n",
    "    base_url = \"https://commentanalyzer.googleapis.com/v1alpha1\"\n",
    "\n",
    "    def __init__(self, key):\n",
    "        self.key = key\n",
    "\n",
    "    def score(self, text, tests=[\"TOXICITY\"], context=None, languages=None, do_not_store=False, token=None, text_type=None):\n",
    "        # data validation\n",
    "        # make sure it's a valid test\n",
    "        # TODO: see if an endpoint that has valid types exists\n",
    "        if isinstance(tests, str):\n",
    "            tests = [tests]\n",
    "        if not isinstance(tests, (list, dict)) or tests is None:\n",
    "            raise ValueError(\"Invalid list/dictionary provided for tests\")\n",
    "        if isinstance(tests, list):\n",
    "            new_data = {}\n",
    "            for test in tests:\n",
    "                new_data[test] = {}\n",
    "            tests = new_data\n",
    "        if text_type:\n",
    "            if text_type.lower() == \"html\":\n",
    "                text = remove_html(text)\n",
    "            elif text_type.lower() == \"md\":\n",
    "                text = remove_html(text, md=True)\n",
    "            else:\n",
    "                raise ValueError(\"{0} is not a valid text_type. Valid options are 'html' or 'md'\".format(str(text_type)))\n",
    "\n",
    "        for test in tests.keys():\n",
    "            if test not in allowed:\n",
    "                warnings.warn(\"{0} might not be accepted as a valid test.\".format(str(test)))\n",
    "            for key in tests[test].keys():\n",
    "                if key not in [\"scoreType\", \"scoreThreshhold\"]:\n",
    "                    raise ValueError(\"{0} is not a valid sub-property for {1}\".format(key, test))\n",
    "\n",
    "        # The API will only grade text less than 3k characters long\n",
    "        if len(text) > 3000:\n",
    "            # TODO: allow disassembly/reassembly of >3000char comments\n",
    "            warnings.warn(\"Perspective only allows 3000 character strings. Only the first 3000 characters will be sent for processing\")\n",
    "            text = text[:3000]\n",
    "        new_langs = []\n",
    "        if languages:\n",
    "            for language in languages:\n",
    "                language = language.lower()\n",
    "                if validate_language(language):\n",
    "                    new_langs.append(language)\n",
    "\n",
    "        # packaging data\n",
    "        url = Perspective.base_url + \"/comments:analyze\"\n",
    "        querystring = {\"key\": self.key}\n",
    "        payload_data = {\"comment\": {\"text\": text}, \"requestedAttributes\": {}}\n",
    "        for test in tests.keys():\n",
    "            payload_data[\"requestedAttributes\"][test] = tests[test]\n",
    "        if new_langs != None:\n",
    "            payload_data[\"languages\"] = new_langs\n",
    "        if do_not_store:\n",
    "            payload_data[\"doNotStore\"] = do_not_store\n",
    "        payload = json.dumps(payload_data)\n",
    "        headers = {'content-type': \"application/json\"}\n",
    "        response = requests.post(url,\n",
    "                            data=payload,\n",
    "                            headers=headers,\n",
    "                            params=querystring)\n",
    "        data = response.json()\n",
    "        if \"error\" in data.keys():\n",
    "            raise PerspectiveAPIException(data[\"error\"][\"message\"])\n",
    "        c = Comment(text, [], token)\n",
    "        base = data[\"attributeScores\"]\n",
    "        for test in tests.keys():\n",
    "            score = base[test][\"summaryScore\"][\"value\"]\n",
    "            score_type = base[test][\"summaryScore\"][\"type\"]\n",
    "            a = Attribute(test, [], score, score_type)\n",
    "            for span in base[test][\"spanScores\"]:\n",
    "                beginning = span[\"begin\"]\n",
    "                end = span[\"end\"]\n",
    "                score = span[\"score\"][\"value\"]\n",
    "                score_type = span[\"score\"][\"type\"]\n",
    "                s = Span(beginning, end, score, score_type, c)\n",
    "                a.spans.append(s)\n",
    "            c.attributes.append(a)\n",
    "        return c\n",
    "\n",
    "class Comment(object):\n",
    "    def __init__(self, text, attributes, token):\n",
    "        self.text = text\n",
    "        self.attributes = attributes\n",
    "        self.token = token\n",
    "\n",
    "    def __getitem__(self, key):\n",
    "        if key.upper() not in allowed:\n",
    "            raise ValueError(\"value {0} does not exist\".format(key))\n",
    "        for attr in self.attributes:\n",
    "            if attr.name.lower() == key.lower():\n",
    "                return attr\n",
    "        raise ValueError(\"value {0} not found\".format(key))\n",
    "\n",
    "    def __str__(self):\n",
    "        return self.text\n",
    "\n",
    "    def __repr__(self):\n",
    "        count = 0\n",
    "        num = 0\n",
    "        for attr in self.attributes:\n",
    "            count += attr.score\n",
    "            num += 1\n",
    "        return \"<({0}) {1}>\".format(str(count/num), self.text)\n",
    "\n",
    "    def __iter__(self):\n",
    "        return iter(self.attributes)\n",
    "\n",
    "    def __len__(self):\n",
    "        return len(self.text)\n",
    "\n",
    "class Attribute(object):\n",
    "    def __init__(self, name, spans, score, score_type):\n",
    "        self.name = name\n",
    "        self.spans = spans\n",
    "        self.score = score\n",
    "        self.score_type = score_type\n",
    "\n",
    "    def __getitem__(self, index):\n",
    "        return self.spans[index]\n",
    "\n",
    "    def __iter__(self):\n",
    "        return iter(self.spans)\n",
    "\n",
    "class Span(object):\n",
    "    def __init__(self, begin, end, score, score_type, comment):\n",
    "        self.begin = begin\n",
    "        self.end = end\n",
    "        self.score = score\n",
    "        self.score_type = score_type\n",
    "        self.comment = comment\n",
    "\n",
    "    def __str__(self):\n",
    "        return self.comment.text[self.begin:self.end]\n",
    "\n",
    "    def __repr__(self):\n",
    "        return \"<({0}) {1}>\".format(self.score, self.comment.text[self.begin:self.end])\n",
    "\n",
    "class PerspectiveAPIException(Exception):\n",
    "    pass"
   ]
  },
  {
   "cell_type": "code",
   "execution_count": 45,
   "metadata": {},
   "outputs": [],
   "source": [
    "\n",
    "client = Perspective(PerspectiveAPI)"
   ]
  },
  {
   "cell_type": "code",
   "execution_count": 38,
   "metadata": {},
   "outputs": [],
   "source": [
    "\n",
    "emails = email_df['body']\n"
   ]
  },
  {
   "cell_type": "code",
   "execution_count": 39,
   "metadata": {},
   "outputs": [
    {
     "data": {
      "text/plain": [
       "0                                 Here is our forecast\n",
       "1    Traveling to have a business meeting takes the...\n",
       "2                       test successful.  way to go!!!\n",
       "3    Randy,Can you send me a schedule of the salary...\n",
       "4                                                     \n",
       "Name: body, dtype: object"
      ]
     },
     "execution_count": 39,
     "metadata": {},
     "output_type": "execute_result"
    }
   ],
   "source": [
    "emails[:5]"
   ]
  },
  {
   "cell_type": "code",
   "execution_count": 46,
   "metadata": {},
   "outputs": [
    {
     "name": "stdout",
     "output_type": "stream",
     "text": [
      "                         EXAMPLE WORKING OF PERSPECTIVE API                          \n",
      "                         ----------------------------------                          \n",
      "\n",
      "email :\n",
      "Here is our forecast\n",
      "\n",
      "TOXICITY SCORE : 0.01873601\n",
      "--------------------------------------------------------------------------------------------\n",
      "\n",
      "email :\n",
      "Traveling to have a business meeting takes the fun out of the trip.  Especially if you have to prepare a presentation.  I would suggest holding the business plan meetings here then take a trip without any formal business meetings.  I would even try and get some honest opinions on whether a trip is even desired or necessary.As far as the business meetings, I think it would be more productive to try and stimulate discussions across the different groups about what is working and what is not.  Too often the presenter speaks and the others are quiet just waiting for their turn.   The meetings might be better if held in a round table discussion format.My suggestion for where to go is Austin.  Play golf and rent a ski boat and jet ski's.  Flying somewhere takes too much time.\n",
      "\n",
      "TOXICITY SCORE : 0.0713822\n",
      "--------------------------------------------------------------------------------------------\n",
      "\n",
      "email :\n",
      "test successful.  way to go!!!\n",
      "\n",
      "TOXICITY SCORE : 0.07080242\n",
      "--------------------------------------------------------------------------------------------\n",
      "\n",
      "email :\n",
      "Randy,Can you send me a schedule of the salary and level of everyone in thescheduling group.  Plus your thoughts on any changes that need to be made.(Patti S for example)Phillip\n",
      "\n",
      "TOXICITY SCORE : 0.079820596\n",
      "--------------------------------------------------------------------------------------------\n",
      "\n",
      "email :\n",
      "Greg,How about either next Tuesday or Thursday?Phillip\n",
      "\n",
      "TOXICITY SCORE : 0.07649265\n",
      "--------------------------------------------------------------------------------------------\n",
      "\n",
      "email :\n",
      "Phillip Allen (pallen@enron.com)Mike Grigsby (mike.grigsby@enron.com)Keith Holst (kholst@enron.com)Monique SanchezFrank ErmisJohn LavoratoThank you for your helpPhillip Allen\n",
      "\n",
      "TOXICITY SCORE : 0.39299166\n",
      "--------------------------------------------------------------------------------------------\n",
      "\n",
      "email :\n",
      "I don't think these are required by the ISP2.  static IP address\n",
      "\n",
      "TOXICITY SCORE : 0.11937987\n",
      "--------------------------------------------------------------------------------------------\n",
      "\n",
      "email :\n",
      "---------------------- Forwarded by Phillip K Allen/HOU/ECT on 10/16/2000Phillip,> As discussed  during our phone conversation, In a Parallon 75 microturbine> power generation deal for a national accounts customer, I am developing a> proposal to sell power to customer at fixed or collar/floor price. To do> so I need a corresponding term gas price for same. Microturbine is an> onsite generation product developed by Honeywell to generate electricity> on customer site (degen). using natural gas. In doing so,  I need your> best fixed price forward gas price deal for 1, 3, 5, 7 and 10 years for> annual/seasonal supply to microturbines to generate fixed kWh for> customer. We have the opportunity to sell customer kWh 's using> microturbine or sell them turbines themselves. kWh deal must have limited/> no risk forward gas price to make deal work. Therein comes Sempra energy> gas trading, truly you.>> We are proposing installing 180 - 240 units across a large number of> stores (60-100) in San Diego.> Store number varies because of installation hurdles face at small percent.>> Gas requirement for 180 microturbines 227 - 302 MMcf per year> Gas requirement for 240 microturbines 302 - 403 MMcf per year>> Gas will likely be consumed from May through September, during peak> electric period.> Need detail breakout of commodity and transport cost (firm or> interruptible).>> Should you have additional questions, give me a call.> Let me assure you, this is real deal!!>> Buck Buckner, P.E., MBA> Manager, Business Development and Planning> Big Box Retail Sales> Honeywell Power Systems, Inc.> 8725 Pan American Frwy> Albuquerque, NM 87113> 505-798-6424> 505-798-6050x> 505-220-4129> 888/501-3145>\n",
      "\n",
      "TOXICITY SCORE : 0.09191043\n",
      "--------------------------------------------------------------------------------------------\n",
      "\n"
     ]
    }
   ],
   "source": [
    "toxicity_scores = []\n",
    "\n",
    "\n",
    "start = time.time()\n",
    "print(\"                         EXAMPLE WORKING OF PERSPECTIVE API                          \")\n",
    "print(\"                         ----------------------------------                          \")\n",
    "print(\"\")\n",
    "for i, email in enumerate(emails[:10]):\n",
    "    if email == '':\n",
    "        continue\n",
    "\n",
    "    current = time.time()\n",
    "    time.sleep((i + 1) - (current - start)) # limit API calls to 1 per second\n",
    "    toxicity = client.score(email, tests=[\"TOXICITY\"])\n",
    "\n",
    "    toxicity_scores.append(toxicity[\"TOXICITY\"].score)\n",
    "\n",
    "    if i <= 50:\n",
    "        print(\"email :\\n\" + email)\n",
    "        print(\"\")\n",
    "        print(\"TOXICITY SCORE : \" + str(toxicity[\"TOXICITY\"].score) )\n",
    "\n",
    "        print((\"*********************************************************************\"+\\\n",
    "               \"***********************\").replace('*', '-'))\n",
    "        print(\"\")"
   ]
  },
  {
   "cell_type": "markdown",
   "metadata": {},
   "source": [
    "### add score to all emails"
   ]
  },
  {
   "cell_type": "code",
   "execution_count": 73,
   "metadata": {},
   "outputs": [],
   "source": [
    "def get_perspective_score(email_list):\n",
    "    start = time.time()\n",
    "    toxicity_scores = []\n",
    "    \n",
    "    for i, email in enumerate(email_list):\n",
    "        \n",
    "        if email == '' or not re.search('[a-zA-Z]+', email) or  detect(email) != 'en' :\n",
    "            # Perspective only works with english. Remove empty strings and non English emails\n",
    "            toxicity_scores.append(0)\n",
    "        else:\n",
    "\n",
    "            current = time.time()\n",
    "            time.sleep((i + 1) - (current - start)) # limit API calls to 1 per second\n",
    "            toxicity = client.score(email, tests=[\"TOXICITY\"])\n",
    "\n",
    "            toxicity_scores.append(toxicity[\"TOXICITY\"].score)\n",
    "        print(i)\n",
    "            \n",
    "\n",
    "    return toxicity_scores\n"
   ]
  },
  {
   "cell_type": "code",
   "execution_count": 70,
   "metadata": {},
   "outputs": [
    {
     "name": "stdout",
     "output_type": "stream",
     "text": [
      "None\n"
     ]
    }
   ],
   "source": [
    "print (re.search('[a-zA-Z]+','2000-1969=31'))"
   ]
  },
  {
   "cell_type": "code",
   "execution_count": 64,
   "metadata": {},
   "outputs": [
    {
     "data": {
      "text/plain": [
       "194    Are there behind closed doors discussions bein...\n",
       "195                                         2000-1969=31\n",
       "196    Mary,I spoke to Gary about the foundation work...\n",
       "Name: body, dtype: object"
      ]
     },
     "execution_count": 64,
     "metadata": {},
     "output_type": "execute_result"
    }
   ],
   "source": [
    "emails[194:197]"
   ]
  },
  {
   "cell_type": "code",
   "execution_count": 71,
   "metadata": {},
   "outputs": [],
   "source": [
    "# for i, email in enumerate(emails):\n",
    "#     print(i)\n",
    "#     if email != '':\n",
    "#         detect(email) != 'en'"
   ]
  },
  {
   "cell_type": "code",
   "execution_count": 74,
   "metadata": {},
   "outputs": [
    {
     "name": "stdout",
     "output_type": "stream",
     "text": [
      "0\n",
      "1\n",
      "2\n",
      "3\n",
      "4\n",
      "5\n",
      "6\n",
      "7\n",
      "8\n",
      "9\n",
      "10\n",
      "11\n"
     ]
    },
    {
     "name": "stderr",
     "output_type": "stream",
     "text": [
      "/usr/local/lib/python3.5/dist-packages/ipykernel_launcher.py:53: UserWarning: Perspective only allows 3000 character strings. Only the first 3000 characters will be sent for processing\n"
     ]
    },
    {
     "name": "stdout",
     "output_type": "stream",
     "text": [
      "12\n"
     ]
    },
    {
     "name": "stderr",
     "output_type": "stream",
     "text": [
      "/usr/local/lib/python3.5/dist-packages/ipykernel_launcher.py:53: UserWarning: Perspective only allows 3000 character strings. Only the first 3000 characters will be sent for processing\n"
     ]
    },
    {
     "name": "stdout",
     "output_type": "stream",
     "text": [
      "13\n",
      "14\n",
      "15\n",
      "16\n",
      "17\n",
      "18\n",
      "19\n",
      "20\n",
      "21\n",
      "22\n",
      "23\n",
      "24\n"
     ]
    },
    {
     "name": "stderr",
     "output_type": "stream",
     "text": [
      "/usr/local/lib/python3.5/dist-packages/ipykernel_launcher.py:53: UserWarning: Perspective only allows 3000 character strings. Only the first 3000 characters will be sent for processing\n"
     ]
    },
    {
     "name": "stdout",
     "output_type": "stream",
     "text": [
      "25\n"
     ]
    },
    {
     "name": "stderr",
     "output_type": "stream",
     "text": [
      "/usr/local/lib/python3.5/dist-packages/ipykernel_launcher.py:53: UserWarning: Perspective only allows 3000 character strings. Only the first 3000 characters will be sent for processing\n"
     ]
    },
    {
     "name": "stdout",
     "output_type": "stream",
     "text": [
      "26\n"
     ]
    },
    {
     "name": "stderr",
     "output_type": "stream",
     "text": [
      "/usr/local/lib/python3.5/dist-packages/ipykernel_launcher.py:53: UserWarning: Perspective only allows 3000 character strings. Only the first 3000 characters will be sent for processing\n"
     ]
    },
    {
     "name": "stdout",
     "output_type": "stream",
     "text": [
      "27\n",
      "28\n",
      "29\n",
      "30\n",
      "31\n",
      "32\n",
      "33\n",
      "34\n",
      "35\n",
      "36\n",
      "37\n",
      "38\n",
      "39\n",
      "40\n"
     ]
    },
    {
     "name": "stderr",
     "output_type": "stream",
     "text": [
      "/usr/local/lib/python3.5/dist-packages/ipykernel_launcher.py:53: UserWarning: Perspective only allows 3000 character strings. Only the first 3000 characters will be sent for processing\n"
     ]
    },
    {
     "name": "stdout",
     "output_type": "stream",
     "text": [
      "41\n",
      "42\n",
      "43\n",
      "44\n",
      "45\n",
      "46\n",
      "47\n",
      "48\n",
      "49\n",
      "50\n"
     ]
    },
    {
     "name": "stderr",
     "output_type": "stream",
     "text": [
      "/usr/local/lib/python3.5/dist-packages/ipykernel_launcher.py:53: UserWarning: Perspective only allows 3000 character strings. Only the first 3000 characters will be sent for processing\n"
     ]
    },
    {
     "name": "stdout",
     "output_type": "stream",
     "text": [
      "51\n",
      "52\n",
      "53\n",
      "54\n",
      "55\n",
      "56\n"
     ]
    },
    {
     "name": "stderr",
     "output_type": "stream",
     "text": [
      "/usr/local/lib/python3.5/dist-packages/ipykernel_launcher.py:53: UserWarning: Perspective only allows 3000 character strings. Only the first 3000 characters will be sent for processing\n"
     ]
    },
    {
     "name": "stdout",
     "output_type": "stream",
     "text": [
      "57\n",
      "58\n",
      "59\n",
      "60\n"
     ]
    },
    {
     "name": "stderr",
     "output_type": "stream",
     "text": [
      "/usr/local/lib/python3.5/dist-packages/ipykernel_launcher.py:53: UserWarning: Perspective only allows 3000 character strings. Only the first 3000 characters will be sent for processing\n"
     ]
    },
    {
     "name": "stdout",
     "output_type": "stream",
     "text": [
      "61\n",
      "62\n"
     ]
    },
    {
     "name": "stderr",
     "output_type": "stream",
     "text": [
      "/usr/local/lib/python3.5/dist-packages/ipykernel_launcher.py:53: UserWarning: Perspective only allows 3000 character strings. Only the first 3000 characters will be sent for processing\n"
     ]
    },
    {
     "name": "stdout",
     "output_type": "stream",
     "text": [
      "63\n",
      "64\n",
      "65\n",
      "66\n",
      "67\n",
      "68\n",
      "69\n",
      "70\n",
      "71\n"
     ]
    },
    {
     "name": "stderr",
     "output_type": "stream",
     "text": [
      "/usr/local/lib/python3.5/dist-packages/ipykernel_launcher.py:53: UserWarning: Perspective only allows 3000 character strings. Only the first 3000 characters will be sent for processing\n"
     ]
    },
    {
     "name": "stdout",
     "output_type": "stream",
     "text": [
      "72\n",
      "73\n",
      "74\n",
      "75\n",
      "76\n",
      "77\n",
      "78\n",
      "79\n",
      "80\n",
      "81\n",
      "82\n",
      "83\n",
      "84\n",
      "85\n",
      "86\n",
      "87\n",
      "88\n",
      "89\n",
      "90\n",
      "91\n",
      "92\n",
      "93\n",
      "94\n",
      "95\n",
      "96\n",
      "97\n",
      "98\n",
      "99\n",
      "100\n",
      "101\n",
      "102\n",
      "103\n",
      "104\n",
      "105\n",
      "106\n",
      "107\n",
      "108\n",
      "109\n",
      "110\n",
      "111\n",
      "112\n",
      "113\n",
      "114\n",
      "115\n"
     ]
    },
    {
     "name": "stderr",
     "output_type": "stream",
     "text": [
      "/usr/local/lib/python3.5/dist-packages/ipykernel_launcher.py:53: UserWarning: Perspective only allows 3000 character strings. Only the first 3000 characters will be sent for processing\n"
     ]
    },
    {
     "name": "stdout",
     "output_type": "stream",
     "text": [
      "116\n",
      "117\n",
      "118\n",
      "119\n",
      "120\n",
      "121\n",
      "122\n",
      "123\n",
      "124\n",
      "125\n",
      "126\n",
      "127\n",
      "128\n",
      "129\n",
      "130\n",
      "131\n",
      "132\n",
      "133\n",
      "134\n",
      "135\n",
      "136\n",
      "137\n",
      "138\n",
      "139\n",
      "140\n",
      "141\n",
      "142\n",
      "143\n",
      "144\n",
      "145\n",
      "146\n",
      "147\n",
      "148\n",
      "149\n",
      "150\n",
      "151\n",
      "152\n",
      "153\n",
      "154\n",
      "155\n"
     ]
    },
    {
     "name": "stderr",
     "output_type": "stream",
     "text": [
      "/usr/local/lib/python3.5/dist-packages/ipykernel_launcher.py:53: UserWarning: Perspective only allows 3000 character strings. Only the first 3000 characters will be sent for processing\n"
     ]
    },
    {
     "name": "stdout",
     "output_type": "stream",
     "text": [
      "156\n",
      "157\n",
      "158\n",
      "159\n",
      "160\n",
      "161\n",
      "162\n",
      "163\n",
      "164\n",
      "165\n",
      "166\n",
      "167\n",
      "168\n",
      "169\n",
      "170\n",
      "171\n",
      "172\n",
      "173\n",
      "174\n",
      "175\n",
      "176\n",
      "177\n",
      "178\n",
      "179\n",
      "180\n",
      "181\n",
      "182\n",
      "183\n",
      "184\n",
      "185\n",
      "186\n",
      "187\n",
      "188\n",
      "189\n",
      "190\n",
      "191\n",
      "192\n",
      "193\n",
      "194\n",
      "195\n",
      "196\n",
      "197\n",
      "198\n",
      "199\n",
      "200\n",
      "201\n",
      "202\n",
      "203\n",
      "204\n",
      "205\n",
      "206\n",
      "207\n",
      "208\n",
      "209\n",
      "210\n",
      "211\n",
      "212\n",
      "213\n",
      "214\n",
      "215\n",
      "216\n",
      "217\n",
      "218\n",
      "219\n",
      "220\n",
      "221\n",
      "222\n"
     ]
    },
    {
     "ename": "KeyboardInterrupt",
     "evalue": "",
     "output_type": "error",
     "traceback": [
      "\u001b[0;31m---------------------------------------------------------------------------\u001b[0m",
      "\u001b[0;31mKeyboardInterrupt\u001b[0m                         Traceback (most recent call last)",
      "\u001b[0;32m<ipython-input-74-a0f7e54f361f>\u001b[0m in \u001b[0;36m<module>\u001b[0;34m\u001b[0m\n\u001b[1;32m      1\u001b[0m \u001b[0;34m\u001b[0m\u001b[0m\n\u001b[0;32m----> 2\u001b[0;31m \u001b[0mtoxicity_scores_all\u001b[0m \u001b[0;34m=\u001b[0m \u001b[0mget_perspective_score\u001b[0m\u001b[0;34m(\u001b[0m\u001b[0memails\u001b[0m\u001b[0;34m)\u001b[0m\u001b[0;34m\u001b[0m\u001b[0m\n\u001b[0m",
      "\u001b[0;32m<ipython-input-73-3e9c0408dde1>\u001b[0m in \u001b[0;36mget_perspective_score\u001b[0;34m(email_list)\u001b[0m\n\u001b[1;32m     11\u001b[0m \u001b[0;34m\u001b[0m\u001b[0m\n\u001b[1;32m     12\u001b[0m             \u001b[0mcurrent\u001b[0m \u001b[0;34m=\u001b[0m \u001b[0mtime\u001b[0m\u001b[0;34m.\u001b[0m\u001b[0mtime\u001b[0m\u001b[0;34m(\u001b[0m\u001b[0;34m)\u001b[0m\u001b[0;34m\u001b[0m\u001b[0m\n\u001b[0;32m---> 13\u001b[0;31m             \u001b[0mtime\u001b[0m\u001b[0;34m.\u001b[0m\u001b[0msleep\u001b[0m\u001b[0;34m(\u001b[0m\u001b[0;34m(\u001b[0m\u001b[0mi\u001b[0m \u001b[0;34m+\u001b[0m \u001b[0;36m1\u001b[0m\u001b[0;34m)\u001b[0m \u001b[0;34m-\u001b[0m \u001b[0;34m(\u001b[0m\u001b[0mcurrent\u001b[0m \u001b[0;34m-\u001b[0m \u001b[0mstart\u001b[0m\u001b[0;34m)\u001b[0m\u001b[0;34m)\u001b[0m \u001b[0;31m# limit API calls to 1 per second\u001b[0m\u001b[0;34m\u001b[0m\u001b[0m\n\u001b[0m\u001b[1;32m     14\u001b[0m             \u001b[0mtoxicity\u001b[0m \u001b[0;34m=\u001b[0m \u001b[0mclient\u001b[0m\u001b[0;34m.\u001b[0m\u001b[0mscore\u001b[0m\u001b[0;34m(\u001b[0m\u001b[0memail\u001b[0m\u001b[0;34m,\u001b[0m \u001b[0mtests\u001b[0m\u001b[0;34m=\u001b[0m\u001b[0;34m[\u001b[0m\u001b[0;34m\"TOXICITY\"\u001b[0m\u001b[0;34m]\u001b[0m\u001b[0;34m)\u001b[0m\u001b[0;34m\u001b[0m\u001b[0m\n\u001b[1;32m     15\u001b[0m \u001b[0;34m\u001b[0m\u001b[0m\n",
      "\u001b[0;31mKeyboardInterrupt\u001b[0m: "
     ]
    }
   ],
   "source": [
    "\n",
    "# toxicity_scores_all = get_perspective_score(emails)"
   ]
  },
  {
   "cell_type": "code",
   "execution_count": null,
   "metadata": {},
   "outputs": [],
   "source": [
    "## total count\n",
    "## 517398"
   ]
  },
  {
   "cell_type": "code",
   "execution_count": null,
   "metadata": {},
   "outputs": [],
   "source": []
  },
  {
   "cell_type": "code",
   "execution_count": 41,
   "metadata": {},
   "outputs": [],
   "source": [
    "# print(email_df.iloc[13,0])"
   ]
  },
  {
   "cell_type": "code",
   "execution_count": 42,
   "metadata": {},
   "outputs": [],
   "source": [
    "# print(enrondata.iloc[13,1])"
   ]
  },
  {
   "cell_type": "code",
   "execution_count": 43,
   "metadata": {},
   "outputs": [],
   "source": [
    "# email_df.body.iloc"
   ]
  },
  {
   "cell_type": "code",
   "execution_count": null,
   "metadata": {},
   "outputs": [],
   "source": []
  },
  {
   "cell_type": "code",
   "execution_count": null,
   "metadata": {},
   "outputs": [],
   "source": []
  }
 ],
 "metadata": {
  "kernelspec": {
   "display_name": "Python 3",
   "language": "python",
   "name": "python3"
  },
  "language_info": {
   "codemirror_mode": {
    "name": "ipython",
    "version": 3
   },
   "file_extension": ".py",
   "mimetype": "text/x-python",
   "name": "python",
   "nbconvert_exporter": "python",
   "pygments_lexer": "ipython3",
   "version": "3.5.2"
  }
 },
 "nbformat": 4,
 "nbformat_minor": 2
}
