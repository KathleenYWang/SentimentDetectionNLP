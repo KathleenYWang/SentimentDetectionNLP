{
 "cells": [
  {
   "cell_type": "markdown",
   "metadata": {},
   "source": [
    "## Taking a look at the Enron unlabeled data"
   ]
  },
  {
   "cell_type": "markdown",
   "metadata": {},
   "source": [
    "code borrowed from :\n",
    "https://github.com/shoreason/enron-topic-modeling/blob/master/enron_lda.ipynb"
   ]
  },
  {
   "cell_type": "code",
   "execution_count": 1,
   "metadata": {},
   "outputs": [],
   "source": [
    "import numpy as np\n",
    "import pandas as pd\n",
    "import vocab as vocabulary\n",
    "import collections\n",
    "import utils\n",
    "import seaborn as sns\n",
    "import matplotlib.pyplot as plt\n",
    "from sklearn.naive_bayes import MultinomialNB\n",
    "from sklearn.metrics import accuracy_score\n",
    "from sklearn.metrics import precision_recall_fscore_support as score\n",
    "# from wordcloud import WordCloud ,STOPWORDS\n",
    "from collections import defaultdict"
   ]
  },
  {
   "cell_type": "code",
   "execution_count": null,
   "metadata": {},
   "outputs": [],
   "source": []
  },
  {
   "cell_type": "code",
   "execution_count": 2,
   "metadata": {},
   "outputs": [],
   "source": [
    "import glob\n",
    "import fileinput\n",
    "import shutil\n",
    "import os,sys,inspect\n",
    "import time\n",
    "# import markdown\n",
    "import json\n",
    "import requests\n",
    "import warnings\n",
    "import re\n"
   ]
  },
  {
   "cell_type": "code",
   "execution_count": 3,
   "metadata": {},
   "outputs": [],
   "source": [
    "from __future__ import unicode_literals, print_function\n",
    "from spacy.lang.en import English\n",
    "\n",
    "\n",
    "\n",
    "from bertmodel.pybert.io.data_transformer import DataTransformer\n",
    "from pytorch_pretrained_bert.tokenization import BertTokenizer\n",
    "from bertmodel.pybert.config.basic_config import configs as config"
   ]
  },
  {
   "cell_type": "code",
   "execution_count": 135,
   "metadata": {},
   "outputs": [],
   "source": [
    "# import nltk\n",
    "# nltk.download('punkt')\n",
    "from nltk.tokenize import sent_tokenize"
   ]
  },
  {
   "cell_type": "code",
   "execution_count": 4,
   "metadata": {},
   "outputs": [],
   "source": [
    "# !pip3 install langdetect\n",
    "# from langdetect import detect"
   ]
  },
  {
   "cell_type": "code",
   "execution_count": 5,
   "metadata": {},
   "outputs": [],
   "source": [
    "current_dir = os.path.dirname(os.path.abspath(inspect.getfile(inspect.currentframe())))\n",
    "parent_dir = os.path.dirname(current_dir)\n",
    "sys.path.insert(0, parent_dir)\n",
    "import googleapi"
   ]
  },
  {
   "cell_type": "code",
   "execution_count": 6,
   "metadata": {},
   "outputs": [],
   "source": [
    "# PerspectiveAPI = googleapi.GOOGLEAPI"
   ]
  },
  {
   "cell_type": "code",
   "execution_count": 7,
   "metadata": {},
   "outputs": [],
   "source": [
    "datadir = \"/data/SuperMod/emails.csv\""
   ]
  },
  {
   "cell_type": "code",
   "execution_count": 8,
   "metadata": {},
   "outputs": [],
   "source": [
    "enrondata = pd.read_csv(datadir)"
   ]
  },
  {
   "cell_type": "code",
   "execution_count": 9,
   "metadata": {},
   "outputs": [
    {
     "data": {
      "text/html": [
       "<div>\n",
       "<style scoped>\n",
       "    .dataframe tbody tr th:only-of-type {\n",
       "        vertical-align: middle;\n",
       "    }\n",
       "\n",
       "    .dataframe tbody tr th {\n",
       "        vertical-align: top;\n",
       "    }\n",
       "\n",
       "    .dataframe thead th {\n",
       "        text-align: right;\n",
       "    }\n",
       "</style>\n",
       "<table border=\"1\" class=\"dataframe\">\n",
       "  <thead>\n",
       "    <tr style=\"text-align: right;\">\n",
       "      <th></th>\n",
       "      <th>file</th>\n",
       "      <th>message</th>\n",
       "    </tr>\n",
       "  </thead>\n",
       "  <tbody>\n",
       "    <tr>\n",
       "      <th>0</th>\n",
       "      <td>allen-p/_sent_mail/1.</td>\n",
       "      <td>Message-ID: &lt;18782981.1075855378110.JavaMail.e...</td>\n",
       "    </tr>\n",
       "    <tr>\n",
       "      <th>1</th>\n",
       "      <td>allen-p/_sent_mail/10.</td>\n",
       "      <td>Message-ID: &lt;15464986.1075855378456.JavaMail.e...</td>\n",
       "    </tr>\n",
       "    <tr>\n",
       "      <th>2</th>\n",
       "      <td>allen-p/_sent_mail/100.</td>\n",
       "      <td>Message-ID: &lt;24216240.1075855687451.JavaMail.e...</td>\n",
       "    </tr>\n",
       "    <tr>\n",
       "      <th>3</th>\n",
       "      <td>allen-p/_sent_mail/1000.</td>\n",
       "      <td>Message-ID: &lt;13505866.1075863688222.JavaMail.e...</td>\n",
       "    </tr>\n",
       "    <tr>\n",
       "      <th>4</th>\n",
       "      <td>allen-p/_sent_mail/1001.</td>\n",
       "      <td>Message-ID: &lt;30922949.1075863688243.JavaMail.e...</td>\n",
       "    </tr>\n",
       "  </tbody>\n",
       "</table>\n",
       "</div>"
      ],
      "text/plain": [
       "                       file                                            message\n",
       "0     allen-p/_sent_mail/1.  Message-ID: <18782981.1075855378110.JavaMail.e...\n",
       "1    allen-p/_sent_mail/10.  Message-ID: <15464986.1075855378456.JavaMail.e...\n",
       "2   allen-p/_sent_mail/100.  Message-ID: <24216240.1075855687451.JavaMail.e...\n",
       "3  allen-p/_sent_mail/1000.  Message-ID: <13505866.1075863688222.JavaMail.e...\n",
       "4  allen-p/_sent_mail/1001.  Message-ID: <30922949.1075863688243.JavaMail.e..."
      ]
     },
     "execution_count": 9,
     "metadata": {},
     "output_type": "execute_result"
    }
   ],
   "source": [
    "enrondata.head()"
   ]
  },
  {
   "cell_type": "code",
   "execution_count": null,
   "metadata": {},
   "outputs": [],
   "source": []
  },
  {
   "cell_type": "markdown",
   "metadata": {},
   "source": [
    "## Parse email"
   ]
  },
  {
   "cell_type": "code",
   "execution_count": 10,
   "metadata": {},
   "outputs": [],
   "source": [
    "def parse_raw_message(raw_message):\n",
    "    lines = raw_message.split('\\n')\n",
    "    email = {}\n",
    "    message = ''\n",
    "    keys_to_extract = ['from', 'to']\n",
    "    for line in lines:\n",
    "        if ':' not in line:\n",
    "            message += line.strip()\n",
    "            email['body'] = message\n",
    "        else:\n",
    "            pairs = line.split(':')\n",
    "            key = pairs[0].lower()\n",
    "            val = pairs[1].strip()\n",
    "            if key in keys_to_extract:\n",
    "                email[key] = val\n",
    "    return email"
   ]
  },
  {
   "cell_type": "code",
   "execution_count": 11,
   "metadata": {},
   "outputs": [],
   "source": [
    "def parse_into_emails(messages):\n",
    "    emails = [parse_raw_message(message) for message in messages]\n",
    "    return {\n",
    "        'body': map_to_list(emails, 'body'),\n",
    "        'to': map_to_list(emails, 'to'),\n",
    "        'from_': map_to_list(emails, 'from')\n",
    "    }"
   ]
  },
  {
   "cell_type": "code",
   "execution_count": 12,
   "metadata": {},
   "outputs": [],
   "source": [
    "def map_to_list(emails, key):\n",
    "    results = []\n",
    "    for email in emails:\n",
    "        if key not in email:\n",
    "            results.append('')\n",
    "        else:\n",
    "            results.append(email[key])\n",
    "    return results"
   ]
  },
  {
   "cell_type": "code",
   "execution_count": 13,
   "metadata": {},
   "outputs": [
    {
     "name": "stdout",
     "output_type": "stream",
     "text": [
      "                                                body                       to  \\\n",
      "0                               Here is our forecast     tim.belden@enron.com   \n",
      "1  Traveling to have a business meeting takes the...  john.lavorato@enron.com   \n",
      "2                     test successful.  way to go!!!   leah.arsdall@enron.com   \n",
      "3  Randy,Can you send me a schedule of the salary...    randall.gay@enron.com   \n",
      "4                                                        greg.piper@enron.com   \n",
      "\n",
      "                     from_  \n",
      "0  phillip.allen@enron.com  \n",
      "1  phillip.allen@enron.com  \n",
      "2  phillip.allen@enron.com  \n",
      "3  phillip.allen@enron.com  \n",
      "4  phillip.allen@enron.com  \n"
     ]
    }
   ],
   "source": [
    "email_df = pd.DataFrame(parse_into_emails(enrondata.message))\n",
    "print(email_df.head())"
   ]
  },
  {
   "cell_type": "markdown",
   "metadata": {},
   "source": [
    "## Add Perspective score: toxiciy only"
   ]
  },
  {
   "cell_type": "code",
   "execution_count": 243,
   "metadata": {},
   "outputs": [
    {
     "data": {
      "text/plain": [
       "517401"
      ]
     },
     "execution_count": 243,
     "metadata": {},
     "output_type": "execute_result"
    }
   ],
   "source": [
    "len(email_df)"
   ]
  },
  {
   "cell_type": "code",
   "execution_count": 14,
   "metadata": {},
   "outputs": [
    {
     "data": {
      "text/plain": [
       "0                                      Here is our forecast\n",
       "1         Traveling to have a business meeting takes the...\n",
       "2                            test successful.  way to go!!!\n",
       "3         Randy,Can you send me a schedule of the salary...\n",
       "4                                                          \n",
       "5         Greg,How about either next Tuesday or Thursday...\n",
       "6         Phillip Allen (pallen@enron.com)Mike Grigsby (...\n",
       "7                                                          \n",
       "8         I don't think these are required by the ISP2. ...\n",
       "9         ---------------------- Forwarded by Phillip K ...\n",
       "10        Mr. Buckner,For delivered gas behind San Diego...\n",
       "11        Lucy,Open them and save in the rentroll folder...\n",
       "12        ---------------------- Forwarded by Phillip K ...\n",
       "13        ---------------------- Forwarded by Phillip K ...\n",
       "14        Dave,Here are the names of the west desk membe...\n",
       "15                          Paula,35 million is finePhillip\n",
       "16        ---------------------- Forwarded by Phillip K ...\n",
       "17        Tim,mike grigsby is having problems with acces...\n",
       "18        ---------------------- Forwarded by Phillip K ...\n",
       "19        ---------------------- Forwarded by Phillip K ...\n",
       "20        Brenda,Please use the second check as the Octo...\n",
       "21        I think Fletch has a good CPA.  I am still doi...\n",
       "22        Brenda,Please use the second check as my Octob...\n",
       "23        ---------------------- Forwarded by Phillip K ...\n",
       "24        Liane,As we discussed yesterday, I am concerne...\n",
       "25        ---------------------- Forwarded by Phillip K ...\n",
       "26        ---------------------- Forwarded by Phillip K ...\n",
       "27        ---------------------- Forwarded by Phillip K ...\n",
       "28        Reagan,Just wanted to give you an update.  I h...\n",
       "29        Nymex expiration is during this time frame.  P...\n",
       "                                ...                        \n",
       "517371    a) I am not completely at liberty to touch all...\n",
       "517372    I am interested in a program for myself.  I am...\n",
       "517373    yes-----Original Message-----This is the first...\n",
       "517374    Its OKJohn Zufferli-----Original Message-----M...\n",
       "517375    you can increase the direct sale to include De...\n",
       "517376    You should talk to Jess about that, she is due...\n",
       "517377    -----Original Message-----John, I understand y...\n",
       "517378    Here is the update list that you requested. Mi...\n",
       "517379    i am waiting on the conference call and no one...\n",
       "517380    -----Original Message-----hey there.  dad told...\n",
       "517381    -----Original Message-----Everything from Ops,...\n",
       "517382    nothing new here, when is your flight? have yo...\n",
       "517383    In addition to a list of software and systems ...\n",
       "517384    Please set up access for the digital certifica...\n",
       "517385    Dece\\tmber 11, 2001-----Original Message----->...\n",
       "517386    -----Original Message-----going great.  Even t...\n",
       "517387    -----Original Message-----John, please check w...\n",
       "517388    Here is the info for the commercial staffJohn ...\n",
       "517389    Enron is willing to perform the operation unde...\n",
       "517390    CAND-MGMT-BAS for all AECO and DAWN BASISCAND-...\n",
       "517391                           -----Original Message-----\n",
       "517392    eric.le@enron.com, grant.oh@enron.com, dean.dr...\n",
       "517393    not yet, rob has been in the court house all d...\n",
       "517394    -----Original Message-----Good to hear your vo...\n",
       "517395    very busy, jess is ok just scared-----Original...\n",
       "517396    This is a trade with OIL-SPEC-HEDGE-NG (John L...\n",
       "517397    Some of my position is with the Alberta Term b...\n",
       "517398    2-----Original Message-----Morning John,I'm st...\n",
       "517399    Analyst\\t\\t\\t\\t\\tRankStephane Brodeur\\t\\t\\t1Ch...\n",
       "517400    i think the YMCA has a class that is for peopl...\n",
       "Name: body, Length: 517401, dtype: object"
      ]
     },
     "execution_count": 14,
     "metadata": {},
     "output_type": "execute_result"
    }
   ],
   "source": [
    "email_df.body"
   ]
  },
  {
   "cell_type": "code",
   "execution_count": 236,
   "metadata": {},
   "outputs": [
    {
     "data": {
      "text/html": [
       "<div>\n",
       "<style scoped>\n",
       "    .dataframe tbody tr th:only-of-type {\n",
       "        vertical-align: middle;\n",
       "    }\n",
       "\n",
       "    .dataframe tbody tr th {\n",
       "        vertical-align: top;\n",
       "    }\n",
       "\n",
       "    .dataframe thead th {\n",
       "        text-align: right;\n",
       "    }\n",
       "</style>\n",
       "<table border=\"1\" class=\"dataframe\">\n",
       "  <thead>\n",
       "    <tr style=\"text-align: right;\">\n",
       "      <th></th>\n",
       "      <th>body</th>\n",
       "      <th>to</th>\n",
       "      <th>from_</th>\n",
       "    </tr>\n",
       "  </thead>\n",
       "  <tbody>\n",
       "    <tr>\n",
       "      <th>0</th>\n",
       "      <td>Here is our forecast</td>\n",
       "      <td>tim.belden@enron.com</td>\n",
       "      <td>phillip.allen@enron.com</td>\n",
       "    </tr>\n",
       "    <tr>\n",
       "      <th>1</th>\n",
       "      <td>Traveling to have a business meeting takes the...</td>\n",
       "      <td>john.lavorato@enron.com</td>\n",
       "      <td>phillip.allen@enron.com</td>\n",
       "    </tr>\n",
       "    <tr>\n",
       "      <th>2</th>\n",
       "      <td>test successful.  way to go!!!</td>\n",
       "      <td>leah.arsdall@enron.com</td>\n",
       "      <td>phillip.allen@enron.com</td>\n",
       "    </tr>\n",
       "    <tr>\n",
       "      <th>3</th>\n",
       "      <td>Randy,Can you send me a schedule of the salary...</td>\n",
       "      <td>randall.gay@enron.com</td>\n",
       "      <td>phillip.allen@enron.com</td>\n",
       "    </tr>\n",
       "  </tbody>\n",
       "</table>\n",
       "</div>"
      ],
      "text/plain": [
       "                                                body                       to  \\\n",
       "0                               Here is our forecast     tim.belden@enron.com   \n",
       "1  Traveling to have a business meeting takes the...  john.lavorato@enron.com   \n",
       "2                     test successful.  way to go!!!   leah.arsdall@enron.com   \n",
       "3  Randy,Can you send me a schedule of the salary...    randall.gay@enron.com   \n",
       "\n",
       "                     from_  \n",
       "0  phillip.allen@enron.com  \n",
       "1  phillip.allen@enron.com  \n",
       "2  phillip.allen@enron.com  \n",
       "3  phillip.allen@enron.com  "
      ]
     },
     "execution_count": 236,
     "metadata": {},
     "output_type": "execute_result"
    }
   ],
   "source": [
    "email_df.iloc[0:4,]"
   ]
  },
  {
   "cell_type": "code",
   "execution_count": 242,
   "metadata": {},
   "outputs": [
    {
     "name": "stdout",
     "output_type": "stream",
     "text": [
      "                                                body                       to  \\\n",
      "0                               Here is our forecast     tim.belden@enron.com   \n",
      "1  Traveling to have a business meeting takes the...  john.lavorato@enron.com   \n",
      "2                     test successful.  way to go!!!   leah.arsdall@enron.com   \n",
      "\n",
      "                     from_  \n",
      "0  phillip.allen@enron.com  \n",
      "1  phillip.allen@enron.com  \n",
      "2  phillip.allen@enron.com  \n",
      "end\n",
      "                                                body                      to  \\\n",
      "2                     test successful.  way to go!!!  leah.arsdall@enron.com   \n",
      "3  Randy,Can you send me a schedule of the salary...   randall.gay@enron.com   \n",
      "4                                                       greg.piper@enron.com   \n",
      "\n",
      "                     from_  \n",
      "2  phillip.allen@enron.com  \n",
      "3  phillip.allen@enron.com  \n",
      "4  phillip.allen@enron.com  \n",
      "end\n"
     ]
    }
   ],
   "source": [
    "for i in range(5//3 +1):\n",
    "    start = i * 2\n",
    "    end = min(5, (1+i)*3)\n",
    "    print(email_df.iloc[start:end,])\n",
    "    print(\"end\")\n"
   ]
  },
  {
   "cell_type": "markdown",
   "metadata": {},
   "source": [
    "The following section adds perspective score does not have to run every time"
   ]
  },
  {
   "cell_type": "code",
   "execution_count": 15,
   "metadata": {},
   "outputs": [],
   "source": [
    "# # obtained from https://www.kaggle.com/tarunpaparaju/jigsaw-competition-google-perspective-api\n",
    "# # allowed test types\n",
    "# allowed = [\"TOXICITY\",\n",
    "#            \"SEVERE_TOXICITY\",\n",
    "#            \"TOXICITY_FAST\",\n",
    "#            \"ATTACK_ON_AUTHOR\",\n",
    "#            \"ATTACK_ON_COMMENTER\",\n",
    "#            \"INCOHERENT\",\n",
    "#            \"INFLAMMATORY\",\n",
    "#            \"OBSCENE\",\n",
    "#            \"OFF_TOPIC\",\n",
    "#            \"UNSUBSTANTIAL\",\n",
    "#            \"LIKELY_TO_REJECT\"]\n",
    "\n",
    "# class Perspective(object):\n",
    "\n",
    "#     base_url = \"https://commentanalyzer.googleapis.com/v1alpha1\"\n",
    "\n",
    "#     def __init__(self, key):\n",
    "#         self.key = key\n",
    "\n",
    "#     def score(self, text, tests=[\"TOXICITY\"], context=None, languages=None, do_not_store=False, token=None, text_type=None):\n",
    "#         # data validation\n",
    "#         # make sure it's a valid test\n",
    "#         # TODO: see if an endpoint that has valid types exists\n",
    "#         if isinstance(tests, str):\n",
    "#             tests = [tests]\n",
    "#         if not isinstance(tests, (list, dict)) or tests is None:\n",
    "#             raise ValueError(\"Invalid list/dictionary provided for tests\")\n",
    "#         if isinstance(tests, list):\n",
    "#             new_data = {}\n",
    "#             for test in tests:\n",
    "#                 new_data[test] = {}\n",
    "#             tests = new_data\n",
    "#         if text_type:\n",
    "#             if text_type.lower() == \"html\":\n",
    "#                 text = remove_html(text)\n",
    "#             elif text_type.lower() == \"md\":\n",
    "#                 text = remove_html(text, md=True)\n",
    "#             else:\n",
    "#                 raise ValueError(\"{0} is not a valid text_type. Valid options are 'html' or 'md'\".format(str(text_type)))\n",
    "\n",
    "#         for test in tests.keys():\n",
    "#             if test not in allowed:\n",
    "#                 warnings.warn(\"{0} might not be accepted as a valid test.\".format(str(test)))\n",
    "#             for key in tests[test].keys():\n",
    "#                 if key not in [\"scoreType\", \"scoreThreshhold\"]:\n",
    "#                     raise ValueError(\"{0} is not a valid sub-property for {1}\".format(key, test))\n",
    "\n",
    "#         # The API will only grade text less than 3k characters long\n",
    "#         if len(text) > 3000:\n",
    "#             # TODO: allow disassembly/reassembly of >3000char comments\n",
    "#             warnings.warn(\"Perspective only allows 3000 character strings. Only the first 3000 characters will be sent for processing\")\n",
    "#             text = text[:3000]\n",
    "#         new_langs = []\n",
    "#         if languages:\n",
    "#             for language in languages:\n",
    "#                 language = language.lower()\n",
    "#                 if validate_language(language):\n",
    "#                     new_langs.append(language)\n",
    "\n",
    "#         # packaging data\n",
    "#         url = Perspective.base_url + \"/comments:analyze\"\n",
    "#         querystring = {\"key\": self.key}\n",
    "#         payload_data = {\"comment\": {\"text\": text}, \"requestedAttributes\": {}}\n",
    "#         for test in tests.keys():\n",
    "#             payload_data[\"requestedAttributes\"][test] = tests[test]\n",
    "#         if new_langs != None:\n",
    "#             payload_data[\"languages\"] = new_langs\n",
    "#         if do_not_store:\n",
    "#             payload_data[\"doNotStore\"] = do_not_store\n",
    "#         payload = json.dumps(payload_data)\n",
    "#         headers = {'content-type': \"application/json\"}\n",
    "#         response = requests.post(url,\n",
    "#                             data=payload,\n",
    "#                             headers=headers,\n",
    "#                             params=querystring)\n",
    "#         data = response.json()\n",
    "#         if \"error\" in data.keys():\n",
    "#             raise PerspectiveAPIException(data[\"error\"][\"message\"])\n",
    "#         c = Comment(text, [], token)\n",
    "#         base = data[\"attributeScores\"]\n",
    "#         for test in tests.keys():\n",
    "#             score = base[test][\"summaryScore\"][\"value\"]\n",
    "#             score_type = base[test][\"summaryScore\"][\"type\"]\n",
    "#             a = Attribute(test, [], score, score_type)\n",
    "#             for span in base[test][\"spanScores\"]:\n",
    "#                 beginning = span[\"begin\"]\n",
    "#                 end = span[\"end\"]\n",
    "#                 score = span[\"score\"][\"value\"]\n",
    "#                 score_type = span[\"score\"][\"type\"]\n",
    "#                 s = Span(beginning, end, score, score_type, c)\n",
    "#                 a.spans.append(s)\n",
    "#             c.attributes.append(a)\n",
    "#         return c\n",
    "\n",
    "# class Comment(object):\n",
    "#     def __init__(self, text, attributes, token):\n",
    "#         self.text = text\n",
    "#         self.attributes = attributes\n",
    "#         self.token = token\n",
    "\n",
    "#     def __getitem__(self, key):\n",
    "#         if key.upper() not in allowed:\n",
    "#             raise ValueError(\"value {0} does not exist\".format(key))\n",
    "#         for attr in self.attributes:\n",
    "#             if attr.name.lower() == key.lower():\n",
    "#                 return attr\n",
    "#         raise ValueError(\"value {0} not found\".format(key))\n",
    "\n",
    "#     def __str__(self):\n",
    "#         return self.text\n",
    "\n",
    "#     def __repr__(self):\n",
    "#         count = 0\n",
    "#         num = 0\n",
    "#         for attr in self.attributes:\n",
    "#             count += attr.score\n",
    "#             num += 1\n",
    "#         return \"<({0}) {1}>\".format(str(count/num), self.text)\n",
    "\n",
    "#     def __iter__(self):\n",
    "#         return iter(self.attributes)\n",
    "\n",
    "#     def __len__(self):\n",
    "#         return len(self.text)\n",
    "\n",
    "# class Attribute(object):\n",
    "#     def __init__(self, name, spans, score, score_type):\n",
    "#         self.name = name\n",
    "#         self.spans = spans\n",
    "#         self.score = score\n",
    "#         self.score_type = score_type\n",
    "\n",
    "#     def __getitem__(self, index):\n",
    "#         return self.spans[index]\n",
    "\n",
    "#     def __iter__(self):\n",
    "#         return iter(self.spans)\n",
    "\n",
    "# class Span(object):\n",
    "#     def __init__(self, begin, end, score, score_type, comment):\n",
    "#         self.begin = begin\n",
    "#         self.end = end\n",
    "#         self.score = score\n",
    "#         self.score_type = score_type\n",
    "#         self.comment = comment\n",
    "\n",
    "#     def __str__(self):\n",
    "#         return self.comment.text[self.begin:self.end]\n",
    "\n",
    "#     def __repr__(self):\n",
    "#         return \"<({0}) {1}>\".format(self.score, self.comment.text[self.begin:self.end])\n",
    "\n",
    "# class PerspectiveAPIException(Exception):\n",
    "#     pass"
   ]
  },
  {
   "cell_type": "code",
   "execution_count": 16,
   "metadata": {},
   "outputs": [],
   "source": [
    "\n",
    "# client = Perspective(PerspectiveAPI)"
   ]
  },
  {
   "cell_type": "code",
   "execution_count": 17,
   "metadata": {},
   "outputs": [],
   "source": [
    "\n",
    "# emails = email_df['body']\n"
   ]
  },
  {
   "cell_type": "code",
   "execution_count": 18,
   "metadata": {},
   "outputs": [],
   "source": [
    "# emails[:5]"
   ]
  },
  {
   "cell_type": "code",
   "execution_count": 19,
   "metadata": {},
   "outputs": [],
   "source": [
    "# toxicity_scores = []\n",
    "\n",
    "\n",
    "# start = time.time()\n",
    "# print(\"                         EXAMPLE WORKING OF PERSPECTIVE API                          \")\n",
    "# print(\"                         ----------------------------------                          \")\n",
    "# print(\"\")\n",
    "# for i, email in enumerate(emails[:10]):\n",
    "#     if email == '':\n",
    "#         continue\n",
    "\n",
    "#     current = time.time()\n",
    "#     time.sleep((i + 1) - (current - start)) # limit API calls to 1 per second\n",
    "#     toxicity = client.score(email, tests=[\"TOXICITY\"])\n",
    "\n",
    "#     toxicity_scores.append(toxicity[\"TOXICITY\"].score)\n",
    "\n",
    "#     if i <= 50:\n",
    "#         print(\"email :\\n\" + email)\n",
    "#         print(\"\")\n",
    "#         print(\"TOXICITY SCORE : \" + str(toxicity[\"TOXICITY\"].score) )\n",
    "\n",
    "#         print((\"*********************************************************************\"+\\\n",
    "#                \"***********************\").replace('*', '-'))\n",
    "#         print(\"\")"
   ]
  },
  {
   "cell_type": "markdown",
   "metadata": {},
   "source": [
    "### add score to all emails"
   ]
  },
  {
   "cell_type": "code",
   "execution_count": 20,
   "metadata": {},
   "outputs": [],
   "source": [
    "# def get_perspective_score(email_list):\n",
    "#     start = time.time()\n",
    "#     toxicity_scores = []\n",
    "    \n",
    "#     for i, email in enumerate(email_list):\n",
    "        \n",
    "#         if email == '' or not re.search('[a-zA-Z]+', email) or  detect(email) != 'en' :\n",
    "#             # Perspective only works with english. Remove empty strings and non English emails\n",
    "#             toxicity_scores.append(0)\n",
    "#         else:\n",
    "\n",
    "#             current = time.time()\n",
    "#             time.sleep((i + 1) - (current - start)) # limit API calls to 1 per second\n",
    "#             toxicity = client.score(email, tests=[\"TOXICITY\"])\n",
    "\n",
    "#             toxicity_scores.append(toxicity[\"TOXICITY\"].score)\n",
    "#         print(i)\n",
    "            \n",
    "\n",
    "#     return toxicity_scores\n"
   ]
  },
  {
   "cell_type": "code",
   "execution_count": 21,
   "metadata": {},
   "outputs": [],
   "source": [
    "# print (re.search('[a-zA-Z]+','2000-1969=31'))"
   ]
  },
  {
   "cell_type": "code",
   "execution_count": 22,
   "metadata": {},
   "outputs": [],
   "source": [
    "# emails[194:197]"
   ]
  },
  {
   "cell_type": "code",
   "execution_count": 23,
   "metadata": {},
   "outputs": [],
   "source": [
    "# for i, email in enumerate(emails):\n",
    "#     print(i)\n",
    "#     if email != '':\n",
    "#         detect(email) != 'en'"
   ]
  },
  {
   "cell_type": "code",
   "execution_count": 24,
   "metadata": {},
   "outputs": [],
   "source": [
    "\n",
    "# toxicity_scores_all = get_perspective_score(emails)"
   ]
  },
  {
   "cell_type": "code",
   "execution_count": 25,
   "metadata": {},
   "outputs": [],
   "source": [
    "## total count\n",
    "## 517398"
   ]
  },
  {
   "cell_type": "code",
   "execution_count": null,
   "metadata": {},
   "outputs": [],
   "source": []
  },
  {
   "cell_type": "code",
   "execution_count": 26,
   "metadata": {},
   "outputs": [],
   "source": [
    "# print(email_df.iloc[13,0])"
   ]
  },
  {
   "cell_type": "code",
   "execution_count": 27,
   "metadata": {},
   "outputs": [],
   "source": [
    "# print(enrondata.iloc[13,1])"
   ]
  },
  {
   "cell_type": "code",
   "execution_count": 28,
   "metadata": {},
   "outputs": [],
   "source": [
    "# email_df.body.iloc"
   ]
  },
  {
   "cell_type": "markdown",
   "metadata": {},
   "source": [
    "## Look at length of email, and how many are forwarded"
   ]
  },
  {
   "cell_type": "code",
   "execution_count": 29,
   "metadata": {},
   "outputs": [],
   "source": [
    "email_body = email_df.body"
   ]
  },
  {
   "cell_type": "code",
   "execution_count": 30,
   "metadata": {},
   "outputs": [
    {
     "data": {
      "text/plain": [
       "'yes-----Original Message-----This is the first that I have heard of this.  Something for Mike to look at ?Mark-----Original Message-----'"
      ]
     },
     "execution_count": 30,
     "metadata": {},
     "output_type": "execute_result"
    }
   ],
   "source": [
    "email_body[517373]"
   ]
  },
  {
   "cell_type": "code",
   "execution_count": 31,
   "metadata": {},
   "outputs": [],
   "source": [
    "toxic_pattern = 'i thought we would win.  they suck.  i hate football.'\n",
    "# 'Smug, paranoid, unhappy mother fucker.'"
   ]
  },
  {
   "cell_type": "code",
   "execution_count": 32,
   "metadata": {},
   "outputs": [
    {
     "name": "stdout",
     "output_type": "stream",
     "text": [
      "yeah right.  you probably watched football all day yesterday.  you lovefootball.-----Original Message-----i thought we would win.  they suck.  i hate football.-----Original Message-----did you really think you were going to win?  aren't ya'll pretty bad?  ijust went out sat. night and then went to beaumont sun. b/c it was mygrandmother's birthday.-----Original Message-----everyone was pissed cause we lost.  what did you do this weekend?-----Original Message-----why would you come home that night just b/c they lost?-----Original Message-----it was ok.  we went to the lsu game and lsu lost so we came home thatnight.  what did you do this weekend?-----Original Message-----i didn't get your message until late last night.  what's goingon?didyouhave a good weekend**********************************************************************This e-mail is the property of Enron Corp. and/or its relevantaffiliateandmay contain confidential and privileged material for the sole use oftheintended recipient (s). Any review, use, distribution or disclosurebyothers is strictly prohibited. If you are not the intended recipient(orauthorized to receive for the recipient), please contact the senderorreplyto Enron Corp. at enron.messaging.administration@enron.com and deleteallcopies of the message. This e-mail (and any attachments hereto) arenotintended to be an offer (or an acceptance) and do not create orevidenceabinding and enforceable contract between Enron Corp. (or any of itsaffiliates) and the intended recipient or any other party, and maynotberelied on by anyone as the basis of a contract by estoppel orotherwise.Thank you.**********************************************************************\n",
      "275868\n",
      "i did watch a lot yesterday, but i was tired and slept most of the time.-----Original Message-----yeah right.  you probably watched football all day yesterday.  you lovefootball.-----Original Message-----i thought we would win.  they suck.  i hate football.-----Original Message-----did you really think you were going to win?  aren't ya'll pretty bad?  ijust went out sat. night and then went to beaumont sun. b/c it was mygrandmother's birthday.-----Original Message-----everyone was pissed cause we lost.  what did you do this weekend?-----Original Message-----why would you come home that night just b/c they lost?-----Original Message-----it was ok.  we went to the lsu game and lsu lost so we came home thatnight.  what did you do this weekend?-----Original Message-----i didn't get your message until late last night.  what's goingon?didyouhave a good weekend**********************************************************************This e-mail is the property of Enron Corp. and/or its relevantaffiliateandmay contain confidential and privileged material for the sole use oftheintended recipient (s). Any review, use, distribution or disclosurebyothers is strictly prohibited. If you are not the intended recipient(orauthorized to receive for the recipient), please contact the senderorreplyto Enron Corp. at enron.messaging.administration@enron.com and deleteallcopies of the message. This e-mail (and any attachments hereto) arenotintended to be an offer (or an acceptance) and do not create orevidenceabinding and enforceable contract between Enron Corp. (or any of itsaffiliates) and the intended recipient or any other party, and maynotberelied on by anyone as the basis of a contract by estoppel orotherwise.Thank you.**********************************************************************\n",
      "277244\n",
      "i thought we would win.  they suck.  i hate football.-----Original Message-----did you really think you were going to win?  aren't ya'll pretty bad?  ijust went out sat. night and then went to beaumont sun. b/c it was mygrandmother's birthday.-----Original Message-----everyone was pissed cause we lost.  what did you do this weekend?-----Original Message-----why would you come home that night just b/c they lost?-----Original Message-----it was ok.  we went to the lsu game and lsu lost so we came home thatnight.  what did you do this weekend?-----Original Message-----i didn't get your message until late last night.  what's going on?didyouhave a good weekend**********************************************************************This e-mail is the property of Enron Corp. and/or its relevant affiliateandmay contain confidential and privileged material for the sole use of theintended recipient (s). Any review, use, distribution or disclosure byothers is strictly prohibited. If you are not the intended recipient (orauthorized to receive for the recipient), please contact the sender orreplyto Enron Corp. at enron.messaging.administration@enron.com and deleteallcopies of the message. This e-mail (and any attachments hereto) are notintended to be an offer (or an acceptance) and do not create or evidenceabinding and enforceable contract between Enron Corp. (or any of itsaffiliates) and the intended recipient or any other party, and may notberelied on by anyone as the basis of a contract by estoppel or otherwise.Thank you.**********************************************************************\n",
      "277245\n"
     ]
    }
   ],
   "source": [
    "for ind, email in enumerate (email_body):\n",
    "    if toxic_pattern in email:\n",
    "        print(email)\n",
    "        print(ind)\n"
   ]
  },
  {
   "cell_type": "code",
   "execution_count": 33,
   "metadata": {},
   "outputs": [
    {
     "data": {
      "text/plain": [
       "'Robert, Here are the two messages from \"Jeff Lawson\" and the response I got from Jeff Sprecher at the ICE regarding my complaint. I appreciate your handling this matter.Andy--------- Inline attachment follows ---------HA HA HA YOU STUPID, ARROGANT FUCK__________________________________________________Do You Yahoo!?Buy the perfect holiday gifts at Yahoo! Shopping.--------- Inline attachment follows ---------Fuck you, you piece of shit.  I can\\'t wait to see yougo down with the ship like all the other vermin.Smug, paranoid, unhappy mother fucker.Eat shit.__________________________________________________Do You Yahoo!?Yahoo! GeoCities - quick and easy web site hosting, just $8.95/month.--------- Inline attachment follows ---------Andy,We pulled the log ... found the guy ... and told him to knock it off.Please let me know if there is a repeat performance.Best regards, Jeff'"
      ]
     },
     "execution_count": 33,
     "metadata": {},
     "output_type": "execute_result"
    }
   ],
   "source": [
    "email_body[516592]"
   ]
  },
  {
   "cell_type": "code",
   "execution_count": 34,
   "metadata": {},
   "outputs": [],
   "source": [
    "test_email = email_body[12]"
   ]
  },
  {
   "cell_type": "code",
   "execution_count": 35,
   "metadata": {},
   "outputs": [],
   "source": [
    "test_org_msg = email_body[275868]"
   ]
  },
  {
   "cell_type": "markdown",
   "metadata": {},
   "source": [
    "### In other words, the forwarded messages very likely will also appear in the data\n",
    "So we can't split the forwarded emails into new emails, will create duplicates"
   ]
  },
  {
   "cell_type": "markdown",
   "metadata": {},
   "source": [
    "## Next, we count how many sentences in entire email"
   ]
  },
  {
   "cell_type": "code",
   "execution_count": 36,
   "metadata": {},
   "outputs": [],
   "source": [
    "tokenizer = BertTokenizer(vocab_file=config['pretrained']['bert']['vocab_path'],\n",
    "                          do_lower_case=config['train']['do_lower_case'])"
   ]
  },
  {
   "cell_type": "code",
   "execution_count": 37,
   "metadata": {},
   "outputs": [],
   "source": [
    "nlp = English ()\n",
    "nlp.add_pipe(nlp.create_pipe('sentencizer'))"
   ]
  },
  {
   "cell_type": "code",
   "execution_count": 38,
   "metadata": {},
   "outputs": [],
   "source": [
    "doc = nlp ('I think this would work? what do you think... I hope it . does.')"
   ]
  },
  {
   "cell_type": "code",
   "execution_count": 39,
   "metadata": {},
   "outputs": [
    {
     "name": "stdout",
     "output_type": "stream",
     "text": [
      "3\n"
     ]
    }
   ],
   "source": [
    "print(len(list(doc.sents)))"
   ]
  },
  {
   "cell_type": "code",
   "execution_count": 40,
   "metadata": {},
   "outputs": [
    {
     "name": "stdout",
     "output_type": "stream",
     "text": [
      "I think this would work?\n",
      "0\n",
      "what do you think... I hope it .\n",
      "1\n",
      "does.\n",
      "2\n"
     ]
    }
   ],
   "source": [
    "for i, sent in enumerate(doc.sents):\n",
    "    print(sent.text)\n",
    "    print(i)"
   ]
  },
  {
   "cell_type": "code",
   "execution_count": 170,
   "metadata": {},
   "outputs": [],
   "source": [
    "def break_into_lines_spacy (email):\n",
    "    \n",
    "    nlp = English ()\n",
    "    nlp.add_pipe(nlp.create_pipe('sentencizer'))\n",
    "    try:\n",
    "        doc = nlp (email)\n",
    "        return list(doc.sents)\n",
    "    except:\n",
    "        return []\n"
   ]
  },
  {
   "cell_type": "code",
   "execution_count": 70,
   "metadata": {},
   "outputs": [
    {
     "data": {
      "text/plain": [
       "0                          [(Here, is, our, forecast)]\n",
       "1    [(Traveling, to, have, a, business, meeting, t...\n",
       "2    [(test, successful, .), ( , way, to, go, !, !,...\n",
       "3    [(Randy, ,, Can, you, send, me, a, schedule, o...\n",
       "4                                                   []\n",
       "Name: body, dtype: object"
      ]
     },
     "execution_count": 70,
     "metadata": {},
     "output_type": "execute_result"
    }
   ],
   "source": [
    "email_sentence_cnt = email_body[:5].map(break_into_lines)\n",
    "email_sentence_cnt"
   ]
  },
  {
   "cell_type": "code",
   "execution_count": 71,
   "metadata": {},
   "outputs": [
    {
     "data": {
      "text/plain": [
       "0"
      ]
     },
     "execution_count": 71,
     "metadata": {},
     "output_type": "execute_result"
    }
   ],
   "source": [
    "num_of_lines(num_of_lines(email_body[0]))"
   ]
  },
  {
   "cell_type": "code",
   "execution_count": 77,
   "metadata": {},
   "outputs": [
    {
     "data": {
      "text/plain": [
       "'yeah right.  you probably watched football all day yesterday.  you lovefootball.'"
      ]
     },
     "execution_count": 77,
     "metadata": {},
     "output_type": "execute_result"
    }
   ],
   "source": [
    "email_body[275868].split(\"---------------------- Forwarded by \")[0].split(\"-----Original Message\")[0]"
   ]
  },
  {
   "cell_type": "code",
   "execution_count": 76,
   "metadata": {},
   "outputs": [
    {
     "data": {
      "text/plain": [
       "[yeah right.,\n",
       "  you probably watched football all day yesterday.,\n",
       "  you lovefootball.]"
      ]
     },
     "execution_count": 76,
     "metadata": {},
     "output_type": "execute_result"
    }
   ],
   "source": [
    "num_of_lines(email_body[275868].split(\"---------------------- Forwarded by \")[0].split(\"-----Original Message\")[0])"
   ]
  },
  {
   "cell_type": "code",
   "execution_count": 65,
   "metadata": {},
   "outputs": [
    {
     "data": {
      "text/plain": [
       "0                          [(Here, is, our, forecast)]\n",
       "1    [(Traveling, to, have, a, business, meeting, t...\n",
       "2    [(test, successful, .), ( , way, to, go, !, !,...\n",
       "3    [(Randy, ,, Can, you, send, me, a, schedule, o...\n",
       "4                                                   []\n",
       "Name: body, dtype: object"
      ]
     },
     "execution_count": 65,
     "metadata": {},
     "output_type": "execute_result"
    }
   ],
   "source": [
    "email_sentence_cnt"
   ]
  },
  {
   "cell_type": "code",
   "execution_count": 51,
   "metadata": {},
   "outputs": [
    {
     "data": {
      "text/plain": [
       "42"
      ]
     },
     "execution_count": 51,
     "metadata": {},
     "output_type": "execute_result"
    }
   ],
   "source": [
    "num_of_lines(test_email)"
   ]
  },
  {
   "cell_type": "code",
   "execution_count": 58,
   "metadata": {},
   "outputs": [
    {
     "data": {
      "text/plain": [
       "[---------------------- Forwarded by Phillip K Allen/HOU/ECT on 10/09/2000Richard BurchfieldPhillip,Below is the issues & to do list as we go forward with documenting therequirements for consolidated physical/financial positions and transporttrade capture.,\n",
       " What we need to focus on is the first bullet in Allan's list;the need for a single set of requirements.,\n",
       " Although the meeting with Keith,on Wednesday,  was informative the solution of creating a infinitely dynamicconsolidated position screen, will be extremely difficult and timeconsuming.,\n",
       "  Throughout the meeting on Wednesday, Keith alluded to theinability to get consensus amongst the traders on the presentation of theconsolidated position, so the solution was to make it so that a trader canarrange the position screen to their liking (much like Excel).,\n",
       " What needs tohappen on Monday from 3 - 5 is a effort to design a desired layout for theconsolidated position screen, this is critical.,\n",
       " This does not excludebuilding a capability to create a more flexible position presentation for thefuture, but in order to create a plan that can be measured we need firmrequirements.,\n",
       " Also, to reiterate that the goals of this project is a projectplan on consolidate physical/financial positions and transport trade capture.,\n",
       " The other issues that have been raised will be capture as projects on tothemselves, and will need to be prioritised as efforts outside of thisproject.,\n",
       " I have been involved in most of the meetings and the discussions have beengood.,\n",
       " I believe there has been good communication between the teams, but nowwe need to have focus on the objectives we set out to solve.,\n",
       " Richard---------------------- Forwarded by Richard Burchfield/HOU/ECT on 10/06/2000Allan SeverudeMills/HOU/ECT@ECT, Kenny Ha/HOU/ECT@ECTFrom our initial set of meetings with the traders regarding consolidatedWe don't have a single point of contact from the trading group.,\n",
       "  We've hadthree meetings which brought out very different issues from differenttraders.,\n",
       "  We really need a single point of contact to help drive the traderrequirements and help come to a consensus regarding the requirements.,\n",
       " We're getting hit with a lot of different requests, many of which appear tobe outside the scope of position consolidation.,\n",
       " I think it may be useful to try to formulate a high level project goal tomake it as clear as possible what we're trying to accomplish with thisproject.,\n",
       "  It'll help determine which requests fall under the project scope.,\n",
       " Go through the list of requests to determine which are in scope for thisproject and which fall out of scope.,\n",
       " For those in scope, work to define relative importance (priority) of each andwork with traders to define the exact requirements of each.drill downs.,\n",
       " Use the above to formulate a project plan.,\n",
       " Inclusion of Sitara physical deals into the TDS position manager and dealticker.,\n",
       " Customized rows and columns in the position manager (ad hoc rows/columns thatadd up existing position manager rows/columns).transport, swaps, options, ...Addition of a curve tab to the position manager to show the real-time valuesof all curves on which the desk has a position.,\n",
       " Ability to split the current position grid to allow daily positions to beshown directly above monthly positions.,\n",
       "  Each grouped column in the top gridwould be tied to a grouped column in the bottom grid.,\n",
       " Ability to properly show curve shift for float-for-float deals; determine theGas Daily for monthly index,Physical gas for Nymex,Physical gas for Inside Ferc,Physical gas for Mid market.,\n",
       " Ability for TDS to pull valuation results based on a TDS flag instead ofusing official valuations.,\n",
       " Position and P&L aggregation across all gas desks.,\n",
       " Inclusion of spread options in our systems.,\n",
       "  Ability to handle volatilityskew and correlations.,\n",
       " Ability to revalue all options incrementally throughout the trading day.,\n",
       " Approximate delta changes between valuations using instantaneous gamma or agamma grid.,\n",
       " Valuation of Gas Daily options.,\n",
       " A new position screen for options (months x strike x delta).,\n",
       "  TBD.Inclusion of positions for exotic options currently managed in spreadsheets.,\n",
       " Ability to isolate the position change due to changed deals in the positionmanager.,\n",
       " Ability to view change deal P&L in the TDS deal ticker.,\n",
       "  Show new deal terms,prior deal terms, and net P&L affect of the change.,\n",
       " Eliminate change deals with no economic impact from the TDS deal ticker.,\n",
       " Position drill down in the position manager to isolate the impact ofindividual deals on the position total in a grid cell.,\n",
       " Benchmark positions in TDS.Deployment of TDS in Canada.,\n",
       " Currency and volume uom conversions.,\n",
       " Implicitand explicit position break out issues.-- Allan.transport.,\n",
       "  Hopefully we'll know much better where that part stands at thatpoint.]"
      ]
     },
     "execution_count": 58,
     "metadata": {},
     "output_type": "execute_result"
    }
   ],
   "source": [
    "nlp = English ()\n",
    "nlp.add_pipe(nlp.create_pipe('sentencizer'))\n",
    "doc = nlp (test_email)\n",
    "list(doc.sents)"
   ]
  },
  {
   "cell_type": "code",
   "execution_count": 139,
   "metadata": {},
   "outputs": [
    {
     "data": {
      "text/plain": [
       "['---------------------- Forwarded by Phillip K Allen/HOU/ECT on 10/09/2000Richard BurchfieldPhillip,Below is the issues & to do list as we go forward with documenting therequirements for consolidated physical/financial positions and transporttrade capture.',\n",
       " \"What we need to focus on is the first bullet in Allan's list;the need for a single set of requirements.\",\n",
       " 'Although the meeting with Keith,on Wednesday,  was informative the solution of creating a infinitely dynamicconsolidated position screen, will be extremely difficult and timeconsuming.',\n",
       " 'Throughout the meeting on Wednesday, Keith alluded to theinability to get consensus amongst the traders on the presentation of theconsolidated position, so the solution was to make it so that a trader canarrange the position screen to their liking (much like Excel).',\n",
       " 'What needs tohappen on Monday from 3 - 5 is a effort to design a desired layout for theconsolidated position screen, this is critical.',\n",
       " 'This does not excludebuilding a capability to create a more flexible position presentation for thefuture, but in order to create a plan that can be measured we need firmrequirements.',\n",
       " 'Also, to reiterate that the goals of this project is a projectplan on consolidate physical/financial positions and transport trade capture.The other issues that have been raised will be capture as projects on tothemselves, and will need to be prioritised as efforts outside of thisproject.I have been involved in most of the meetings and the discussions have beengood.',\n",
       " \"I believe there has been good communication between the teams, but nowwe need to have focus on the objectives we set out to solve.Richard---------------------- Forwarded by Richard Burchfield/HOU/ECT on 10/06/2000Allan SeverudeMills/HOU/ECT@ECT, Kenny Ha/HOU/ECT@ECTFrom our initial set of meetings with the traders regarding consolidatedWe don't have a single point of contact from the trading group.\",\n",
       " \"We've hadthree meetings which brought out very different issues from differenttraders.\",\n",
       " \"We really need a single point of contact to help drive the traderrequirements and help come to a consensus regarding the requirements.We're getting hit with a lot of different requests, many of which appear tobe outside the scope of position consolidation.I think it may be useful to try to formulate a high level project goal tomake it as clear as possible what we're trying to accomplish with thisproject.\",\n",
       " \"It'll help determine which requests fall under the project scope.Go through the list of requests to determine which are in scope for thisproject and which fall out of scope.For those in scope, work to define relative importance (priority) of each andwork with traders to define the exact requirements of each.drill downs.Use the above to formulate a project plan.Inclusion of Sitara physical deals into the TDS position manager and dealticker.Customized rows and columns in the position manager (ad hoc rows/columns thatadd up existing position manager rows/columns).transport, swaps, options, ...Addition of a curve tab to the position manager to show the real-time valuesof all curves on which the desk has a position.Ability to split the current position grid to allow daily positions to beshown directly above monthly positions.\",\n",
       " 'Each grouped column in the top gridwould be tied to a grouped column in the bottom grid.Ability to properly show curve shift for float-for-float deals; determine theGas Daily for monthly index,Physical gas for Nymex,Physical gas for Inside Ferc,Physical gas for Mid market.Ability for TDS to pull valuation results based on a TDS flag instead ofusing official valuations.Position and P&L aggregation across all gas desks.Inclusion of spread options in our systems.',\n",
       " 'Ability to handle volatilityskew and correlations.Ability to revalue all options incrementally throughout the trading day.Approximate delta changes between valuations using instantaneous gamma or agamma grid.Valuation of Gas Daily options.A new position screen for options (months x strike x delta).',\n",
       " 'TBD.Inclusion of positions for exotic options currently managed in spreadsheets.Ability to isolate the position change due to changed deals in the positionmanager.Ability to view change deal P&L in the TDS deal ticker.',\n",
       " 'Show new deal terms,prior deal terms, and net P&L affect of the change.Eliminate change deals with no economic impact from the TDS deal ticker.Position drill down in the position manager to isolate the impact ofindividual deals on the position total in a grid cell.Benchmark positions in TDS.Deployment of TDS in Canada.',\n",
       " 'Currency and volume uom conversions.',\n",
       " 'Implicitand explicit position break out issues.-- Allan.transport.',\n",
       " \"Hopefully we'll know much better where that part stands at thatpoint.\"]"
      ]
     },
     "execution_count": 139,
     "metadata": {},
     "output_type": "execute_result"
    }
   ],
   "source": [
    "sent_tokenize(test_email)"
   ]
  },
  {
   "cell_type": "markdown",
   "metadata": {},
   "source": [
    "## The NLTK tokenizer is not as good as spacy.\n",
    "The NLTK tokenizer did not parse out sentences that did not leave space between word and period.\n",
    "\n",
    "### However, space takes such a long time. \n",
    "We are going to use NLTK"
   ]
  },
  {
   "cell_type": "code",
   "execution_count": 169,
   "metadata": {},
   "outputs": [],
   "source": [
    "def break_into_lines_NLTK (email):\n",
    "\n",
    "    try:\n",
    "        doc = sent_tokenize(email)\n",
    "        return doc\n",
    "    except:\n",
    "        return []\n"
   ]
  },
  {
   "cell_type": "code",
   "execution_count": 80,
   "metadata": {},
   "outputs": [
    {
     "data": {
      "text/plain": [
       "''"
      ]
     },
     "execution_count": 80,
     "metadata": {},
     "output_type": "execute_result"
    }
   ],
   "source": [
    "email_body[7]"
   ]
  },
  {
   "cell_type": "code",
   "execution_count": null,
   "metadata": {},
   "outputs": [],
   "source": [
    "# email_body[517374]"
   ]
  },
  {
   "cell_type": "code",
   "execution_count": 129,
   "metadata": {},
   "outputs": [],
   "source": [
    "# test_email"
   ]
  },
  {
   "cell_type": "code",
   "execution_count": 130,
   "metadata": {},
   "outputs": [],
   "source": [
    "# print(tokenizer.tokenize(test_email))"
   ]
  },
  {
   "cell_type": "code",
   "execution_count": 225,
   "metadata": {},
   "outputs": [],
   "source": []
  },
  {
   "cell_type": "code",
   "execution_count": 285,
   "metadata": {},
   "outputs": [
    {
     "name": "stdout",
     "output_type": "stream",
     "text": [
      "110.01591769199968\n"
     ]
    }
   ],
   "source": [
    "import time\n",
    "start = time.process_time()\n",
    "def avg_sent_len_f (sent):\n",
    "    if sent == []:\n",
    "        return 0\n",
    "    else:\n",
    "        return np.mean([len(s) for s in sent])\n",
    "    \n",
    "email_test = email_df[:1000].copy()\n",
    "email_body_test = email_body[:1000]\n",
    "email_sentence = email_body_test.map(break_into_lines)\n",
    "email_forward_cnt = email_body_test.map(lambda x: len(x.split(\"---------------------- Forwarded by \"))-1)\n",
    "email_reply_cnt = email_body_test.map(lambda x: len(x.split(\"-----Original Message\"))-1)\n",
    "new_message_only = email_body_test.map(lambda x: x.split(\"---------------------- Forwarded by \")[0].split(\"-----Original Message\")[0].split(\"--------- Inline attachment follows\")[0])\n",
    "new_message_sentence = new_message_only.map(break_into_lines_spacy)\n",
    "email_sentence_cnt = email_sentence.map(lambda x: len(x))\n",
    "new_message_sentence_cnt = new_message_sentence.map(lambda x: len(x))\n",
    "avg_sent_len = email_sentence.map(avg_sent_len_f)\n",
    "avg_sent_len_newe = new_message_sentence.map(avg_sent_len_f)\n",
    "\n",
    "# email_test[\"email_sentence\"] = email_sentence\n",
    "# email_test[\"email_forward_cnt\"] = email_forward_cnt\n",
    "# email_test[\"email_reply_cnt\"] =  email_reply_cnt\n",
    "# email_test[\"new_message_only\"] =  new_message_only\n",
    "# email_test[\"new_message_sentence\"] = new_message_sentence\n",
    "# email_test[\"email_sentence_cnt\"] =  email_sentence_cnt\n",
    "# email_test[\"new_message_sentence_cnt\"] = new_message_sentence_cnt \n",
    "# email_test[\"avg_sent_len\"] =  avg_sent_len\n",
    "# email_test[\"avg_sent_len_newe\"] = avg_sent_len_newe \n",
    "print(time.process_time() - start)"
   ]
  },
  {
   "cell_type": "code",
   "execution_count": 253,
   "metadata": {},
   "outputs": [
    {
     "data": {
      "text/plain": [
       "['Randy,Can you send me a schedule of the salary and level of everyone in thescheduling group.',\n",
       " 'Plus your thoughts on any changes that need to be made.',\n",
       " '(Patti S for example)Phillip']"
      ]
     },
     "execution_count": 253,
     "metadata": {},
     "output_type": "execute_result"
    }
   ],
   "source": []
  },
  {
   "cell_type": "code",
   "execution_count": 248,
   "metadata": {},
   "outputs": [],
   "source": [
    "np.save(\"/data/SuperMod/avg_sent_len_newe\", avg_sent_len_newe)"
   ]
  },
  {
   "cell_type": "code",
   "execution_count": 250,
   "metadata": {},
   "outputs": [],
   "source": [
    "tryload = np.load(\"/data/SuperMod/avg_sent_len_newe.npy\") "
   ]
  },
  {
   "cell_type": "markdown",
   "metadata": {},
   "source": [
    "#### For spacy it took 27\n",
    "for first 500\n",
    "#### For NLTK it took 0.39\n",
    "for first 500. For 1000 it took 57"
   ]
  },
  {
   "cell_type": "code",
   "execution_count": 124,
   "metadata": {},
   "outputs": [],
   "source": [
    "figureout = email_body[60:70].map(lambda x: x.split(\"---------------------- Forwarded by \")[0].split(\"-----Original Message\")[0].split(\"--------- Inline attachment follows\")[0])"
   ]
  },
  {
   "cell_type": "code",
   "execution_count": 125,
   "metadata": {},
   "outputs": [
    {
     "data": {
      "text/plain": [
       "60    [(Larry, ,, Just, a, note, to, touch, base, on...\n",
       "61                                                   []\n",
       "62                                           [(Ina, ,)]\n",
       "63    [(jay.reitmeyer@enron.com, ,, frank.ermis@enro...\n",
       "64    [(Ina, ,, Can, you, pull, Tori, K., 's, and, M...\n",
       "65                             [(resumes, of, whom, ?)]\n",
       "66                                                   []\n",
       "67                                                   []\n",
       "68                                                   []\n",
       "69    [(Richard, ,, Compare, your, california, produ...\n",
       "Name: body, dtype: object"
      ]
     },
     "execution_count": 125,
     "metadata": {},
     "output_type": "execute_result"
    }
   ],
   "source": [
    "figureout.map(break_into_lines)"
   ]
  },
  {
   "cell_type": "code",
   "execution_count": 126,
   "metadata": {},
   "outputs": [],
   "source": [
    "email_test.to_csv (r'/data/SuperMod/test_email.csv', index = None, header=True)"
   ]
  },
  {
   "cell_type": "markdown",
   "metadata": {},
   "source": [
    "## Plot sentence count distribution for sample set"
   ]
  },
  {
   "cell_type": "code",
   "execution_count": 145,
   "metadata": {},
   "outputs": [
    {
     "data": {
      "text/plain": [
       "<matplotlib.axes._subplots.AxesSubplot at 0x7f84522e1898>"
      ]
     },
     "execution_count": 145,
     "metadata": {},
     "output_type": "execute_result"
    },
    {
     "data": {
      "image/png": "[encoded data removed]",
      "text/plain": [
       "<Figure size 432x288 with 1 Axes>"
      ]
     },
     "metadata": {
      "needs_background": "light"
     },
     "output_type": "display_data"
    }
   ],
   "source": [
    "sns.distplot(email_test.email_sentence_cnt)"
   ]
  },
  {
   "cell_type": "code",
   "execution_count": 146,
   "metadata": {},
   "outputs": [
    {
     "data": {
      "text/plain": [
       "<matplotlib.axes._subplots.AxesSubplot at 0x7f84514db470>"
      ]
     },
     "execution_count": 146,
     "metadata": {},
     "output_type": "execute_result"
    },
    {
     "data": {
      "image/png": "[encoded data removed]",
      "text/plain": [
       "<Figure size 432x288 with 1 Axes>"
      ]
     },
     "metadata": {
      "needs_background": "light"
     },
     "output_type": "display_data"
    }
   ],
   "source": [
    "sns.distplot(email_test.new_message_sentence_cnt)"
   ]
  },
  {
   "cell_type": "code",
   "execution_count": 150,
   "metadata": {},
   "outputs": [
    {
     "data": {
      "text/plain": [
       "<matplotlib.axes._subplots.AxesSubplot at 0x7f8451155208>"
      ]
     },
     "execution_count": 150,
     "metadata": {},
     "output_type": "execute_result"
    },
    {
     "data": {
      "image/png": "[encoded data removed]",
      "text/plain": [
       "<Figure size 432x288 with 1 Axes>"
      ]
     },
     "metadata": {
      "needs_background": "light"
     },
     "output_type": "display_data"
    }
   ],
   "source": [
    "sns.distplot(avg_sent_len)"
   ]
  },
  {
   "cell_type": "code",
   "execution_count": 157,
   "metadata": {},
   "outputs": [
    {
     "name": "stdout",
     "output_type": "stream",
     "text": [
      "0\n",
      "1\n"
     ]
    }
   ],
   "source": [
    "for i in range(1):\n",
    "    print(i)\n",
    "print(51//50)"
   ]
  },
  {
   "cell_type": "code",
   "execution_count": 227,
   "metadata": {},
   "outputs": [],
   "source": [
    "def further_break_long_sentences (email_sent_list):\n",
    "    return_list = []\n",
    "    for ind, sent in enumerate (email_sent_list):\n",
    "        if len(sent.split(\" \")) < 30:\n",
    "            return_list.append(sent)\n",
    "        else:\n",
    "            spacy_list = break_into_lines_spacy(sent)\n",
    "            if len(spacy_list) == 1:\n",
    "                return_list.extend(spacy_list)\n",
    "            else:\n",
    "                return_list.extend(spacy_list)\n",
    "                        \n",
    "    return return_list\n",
    "\n",
    "\n",
    "def break_into_lines(email):\n",
    "    email_sent_list = break_into_lines_NLTK(email)\n",
    "    return further_break_long_sentences(email_sent_list)"
   ]
  },
  {
   "cell_type": "code",
   "execution_count": 223,
   "metadata": {},
   "outputs": [
    {
     "data": {
      "text/plain": [
       "42"
      ]
     },
     "execution_count": 223,
     "metadata": {},
     "output_type": "execute_result"
    }
   ],
   "source": [
    "len(break_into_lines(test_email))"
   ]
  },
  {
   "cell_type": "code",
   "execution_count": null,
   "metadata": {},
   "outputs": [],
   "source": [
    "further_break_long_sentences()"
   ]
  },
  {
   "cell_type": "code",
   "execution_count": 158,
   "metadata": {},
   "outputs": [
    {
     "data": {
      "text/plain": [
       "40"
      ]
     },
     "execution_count": 158,
     "metadata": {},
     "output_type": "execute_result"
    }
   ],
   "source": [
    "max(10, 40)"
   ]
  },
  {
   "cell_type": "code",
   "execution_count": null,
   "metadata": {},
   "outputs": [],
   "source": []
  },
  {
   "cell_type": "code",
   "execution_count": 151,
   "metadata": {},
   "outputs": [
    {
     "data": {
      "text/plain": [
       "<matplotlib.axes._subplots.AxesSubplot at 0x7f845100feb8>"
      ]
     },
     "execution_count": 151,
     "metadata": {},
     "output_type": "execute_result"
    },
    {
     "data": {
      "image/png": "[encoded data removed]",
      "text/plain": [
       "<Figure size 432x288 with 1 Axes>"
      ]
     },
     "metadata": {
      "needs_background": "light"
     },
     "output_type": "display_data"
    }
   ],
   "source": [
    "sns.distplot(avg_sent_len_newe)"
   ]
  },
  {
   "cell_type": "code",
   "execution_count": 147,
   "metadata": {},
   "outputs": [
    {
     "name": "stdout",
     "output_type": "stream",
     "text": [
      "the total number of messages with forward and reply 205\n"
     ]
    }
   ],
   "source": [
    "print(\"the total number of messages with forward and reply\",\\\n",
    "      sum(email_forward_cnt) +  sum(email_reply_cnt))"
   ]
  },
  {
   "cell_type": "code",
   "execution_count": 148,
   "metadata": {},
   "outputs": [
    {
     "name": "stdout",
     "output_type": "stream",
     "text": [
      "the avg number of sentences 4.58\n"
     ]
    }
   ],
   "source": [
    "print(\"the avg number of sentences\", np.mean(email_test.email_sentence_cnt))"
   ]
  },
  {
   "cell_type": "code",
   "execution_count": 152,
   "metadata": {},
   "outputs": [
    {
     "name": "stdout",
     "output_type": "stream",
     "text": [
      "the avg number of sentences 143.01464253973072\n"
     ]
    }
   ],
   "source": [
    "print(\"the avg number of sentences\", np.mean(avg_sent_len))"
   ]
  },
  {
   "cell_type": "code",
   "execution_count": 153,
   "metadata": {},
   "outputs": [
    {
     "name": "stdout",
     "output_type": "stream",
     "text": [
      "the avg number of words 55.688124423125906\n"
     ]
    }
   ],
   "source": [
    "print(\"the avg number of words\", np.mean(avg_sent_len_newe))"
   ]
  },
  {
   "cell_type": "markdown",
   "metadata": {},
   "source": [
    "## Average # of sentence\n",
    "\n",
    "If we look at the entire email, it has about 6 counts.  \n",
    "IF we only look at the new emails, the email lenght is about 3.  \n",
    "Also, for many new sentences, there are no new words  \n",
    "So those emails would lowere the sentence counts  "
   ]
  },
  {
   "cell_type": "markdown",
   "metadata": {},
   "source": [
    "The NLTK parser does not work too well, leaving long sentences."
   ]
  },
  {
   "cell_type": "code",
   "execution_count": 34,
   "metadata": {},
   "outputs": [
    {
     "data": {
      "text/plain": [
       "<_sre.SRE_Match object; span=(0, 32), match='---------------------- Forwarded'>"
      ]
     },
     "execution_count": 34,
     "metadata": {},
     "output_type": "execute_result"
    }
   ],
   "source": [
    "# re.search(forward_pattern, test_email)"
   ]
  },
  {
   "cell_type": "code",
   "execution_count": null,
   "metadata": {},
   "outputs": [],
   "source": [
    "print (re.search('[a-zA-Z]+','2000-1969=31'))"
   ]
  },
  {
   "cell_type": "code",
   "execution_count": 32,
   "metadata": {},
   "outputs": [
    {
     "data": {
      "text/plain": [
       "0                                  Here is our forecast\n",
       "1     Traveling to have a business meeting takes the...\n",
       "2                        test successful.  way to go!!!\n",
       "3     Randy,Can you send me a schedule of the salary...\n",
       "4                                                      \n",
       "5     Greg,How about either next Tuesday or Thursday...\n",
       "6     Phillip Allen (pallen@enron.com)Mike Grigsby (...\n",
       "7                                                      \n",
       "8     I don't think these are required by the ISP2. ...\n",
       "9     ---------------------- Forwarded by Phillip K ...\n",
       "10    Mr. Buckner,For delivered gas behind San Diego...\n",
       "11    Lucy,Open them and save in the rentroll folder...\n",
       "12    ---------------------- Forwarded by Phillip K ...\n",
       "13    ---------------------- Forwarded by Phillip K ...\n",
       "14    Dave,Here are the names of the west desk membe...\n",
       "15                      Paula,35 million is finePhillip\n",
       "16    ---------------------- Forwarded by Phillip K ...\n",
       "17    Tim,mike grigsby is having problems with acces...\n",
       "18    ---------------------- Forwarded by Phillip K ...\n",
       "19    ---------------------- Forwarded by Phillip K ...\n",
       "Name: body, dtype: object"
      ]
     },
     "execution_count": 32,
     "metadata": {},
     "output_type": "execute_result"
    }
   ],
   "source": [
    "\n",
    "email_body[:20]"
   ]
  },
  {
   "cell_type": "code",
   "execution_count": 22,
   "metadata": {},
   "outputs": [
    {
     "data": {
      "text/plain": [
       "\"---------------------- Forwarded by Phillip K Allen/HOU/ECT on 10/03/2000Please respond to <cbpres@austin.rr.com>WestgateEnclosed are demographics on the Westgate site from Investor's Alliance.Investor's Alliance says that these demographics are similar to the packageon San Marcos that you received earlier.If there are any other questions or information requirements, let me know.Then, let me know your interest level in the Westgate project?San MarcosThe property across the street from the Sagewood units in San Marcos is forsale and approved for 134 units.  The land is selling for $2.50 per squarefoot as it is one of only two remaining approved multifamily parcels in WestSan Marcos, which now has a moratorium on development.Several new studies we have looked at show that the rents for our duplexesand for these new units are going to be significantly higher, roughly $1.25per square foot if leased for the entire unit on a 12-month lease and$1.30-$1.40 psf if leased on a 12-month term, but by individual room.  Thisproperty will have the best location for student housing of all newprojects, just as the duplexes do now.If this project is of serious interest to you, please let me know as thereis a very, very short window of opportunity.  The equity requirement is notyet known, but it would be likely to be $300,000 to secure the land.  I willknow more on this question later today.Sincerely,George W. RichardsPresident, Creekside Builders, LLC- winmail.dat\""
      ]
     },
     "execution_count": 22,
     "metadata": {},
     "output_type": "execute_result"
    }
   ],
   "source": [
    "email_body[18]"
   ]
  },
  {
   "cell_type": "code",
   "execution_count": 23,
   "metadata": {},
   "outputs": [
    {
     "data": {
      "text/plain": [
       "'yes-----Original Message-----This is the first that I have heard of this.  Something for Mike to look at ?Mark-----Original Message-----'"
      ]
     },
     "execution_count": 23,
     "metadata": {},
     "output_type": "execute_result"
    }
   ],
   "source": []
  },
  {
   "cell_type": "code",
   "execution_count": 244,
   "metadata": {},
   "outputs": [],
   "source": [
    "\n",
    "sentence_datadir = '/data/SuperMod/full_email.csv'"
   ]
  },
  {
   "cell_type": "code",
   "execution_count": 245,
   "metadata": {},
   "outputs": [],
   "source": [
    "enron_sentdata = pd.read_csv(sentence_datadir)"
   ]
  },
  {
   "cell_type": "code",
   "execution_count": 247,
   "metadata": {},
   "outputs": [
    {
     "data": {
      "text/plain": [
       "147499"
      ]
     },
     "execution_count": 247,
     "metadata": {},
     "output_type": "execute_result"
    }
   ],
   "source": [
    "len(enron_sentdata)"
   ]
  },
  {
   "cell_type": "markdown",
   "metadata": {},
   "source": [
    "## Try importing the new dataset and clean up to be used\n"
   ]
  },
  {
   "cell_type": "code",
   "execution_count": 277,
   "metadata": {},
   "outputs": [],
   "source": [
    "labeled = '/data/SuperMod/df_both_toxic_part_2.xlsx'"
   ]
  },
  {
   "cell_type": "code",
   "execution_count": 290,
   "metadata": {},
   "outputs": [],
   "source": [
    "enron_sentdata = pd.read_excel(labeled)\n"
   ]
  },
  {
   "cell_type": "code",
   "execution_count": 291,
   "metadata": {},
   "outputs": [],
   "source": [
    "enron_sentdata = enron_sentdata.drop(['Unnamed: 0', 'OldID','toxicity_score','toxicity','inferred_results','difference','second_opinion'], axis=1)"
   ]
  },
  {
   "cell_type": "code",
   "execution_count": 296,
   "metadata": {},
   "outputs": [],
   "source": [
    "test_filename = '/data/SuperMod/test_data.txt'\n",
    "# with open(test_filename,'w') as outfile:\n",
    "#     enron_sentdata.to_string(outfile)\n",
    "enron_sentdata.to_csv(test_filename, header=True, index=False, sep='\\t', mode='a')"
   ]
  },
  {
   "cell_type": "code",
   "execution_count": 300,
   "metadata": {},
   "outputs": [],
   "source": [
    "test_filename = '/data/SuperMod/test_data.csv'\n",
    "# with open(test_filename,'w') as outfile:\n",
    "#     enron_sentdata.to_string(outfile)\n",
    "enron_sentdata.to_csv(test_filename, header=True, index=False)"
   ]
  },
  {
   "cell_type": "code",
   "execution_count": 301,
   "metadata": {},
   "outputs": [
    {
     "data": {
      "text/plain": [
       "\"wow, three weeks away from the kids ! brave and lucky man. life is very edgy here waiting for this stupid auction to happen. i don't really know what things will look like after even if we do get a bidder who wants to go foward. stay tuned. have a good time in oz.\\n\\nandy\""
      ]
     },
     "execution_count": 301,
     "metadata": {},
     "output_type": "execute_result"
    }
   ],
   "source": [
    "filesss = pd.read_csv(test_filename)\n",
    "filesss.content[5]"
   ]
  },
  {
   "cell_type": "code",
   "execution_count": 260,
   "metadata": {},
   "outputs": [
    {
     "data": {
      "text/html": [
       "<div>\n",
       "<style scoped>\n",
       "    .dataframe tbody tr th:only-of-type {\n",
       "        vertical-align: middle;\n",
       "    }\n",
       "\n",
       "    .dataframe tbody tr th {\n",
       "        vertical-align: top;\n",
       "    }\n",
       "\n",
       "    .dataframe thead th {\n",
       "        text-align: right;\n",
       "    }\n",
       "</style>\n",
       "<table border=\"1\" class=\"dataframe\">\n",
       "  <thead>\n",
       "    <tr style=\"text-align: right;\">\n",
       "      <th></th>\n",
       "      <th>Unnamed: 0</th>\n",
       "      <th>ID</th>\n",
       "      <th>OldID</th>\n",
       "      <th>content</th>\n",
       "      <th>toxicity_score</th>\n",
       "      <th>toxicity</th>\n",
       "      <th>inferred_results</th>\n",
       "      <th>difference</th>\n",
       "      <th>supermod</th>\n",
       "      <th>second_opinion</th>\n",
       "    </tr>\n",
       "  </thead>\n",
       "  <tbody>\n",
       "    <tr>\n",
       "      <th>0</th>\n",
       "      <td>128446</td>\n",
       "      <td>2_1</td>\n",
       "      <td>128446</td>\n",
       "      <td>---------------------- Forwarded by Dawn C Ken...</td>\n",
       "      <td>0.737657</td>\n",
       "      <td>1</td>\n",
       "      <td>0.000155</td>\n",
       "      <td>0.737502</td>\n",
       "      <td>1</td>\n",
       "      <td>0.0</td>\n",
       "    </tr>\n",
       "    <tr>\n",
       "      <th>1</th>\n",
       "      <td>128483</td>\n",
       "      <td>2_2</td>\n",
       "      <td>128483</td>\n",
       "      <td>is this true?\\n\\n -----Original Message-----\\n...</td>\n",
       "      <td>0.607978</td>\n",
       "      <td>1</td>\n",
       "      <td>0.071331</td>\n",
       "      <td>0.536647</td>\n",
       "      <td>1</td>\n",
       "      <td>0.0</td>\n",
       "    </tr>\n",
       "    <tr>\n",
       "      <th>2</th>\n",
       "      <td>128801</td>\n",
       "      <td>2_3</td>\n",
       "      <td>128801</td>\n",
       "      <td>YOU ARE DUMM</td>\n",
       "      <td>0.835592</td>\n",
       "      <td>1</td>\n",
       "      <td>0.447277</td>\n",
       "      <td>0.388316</td>\n",
       "      <td>1</td>\n",
       "      <td>0.0</td>\n",
       "    </tr>\n",
       "    <tr>\n",
       "      <th>3</th>\n",
       "      <td>129049</td>\n",
       "      <td>2_4</td>\n",
       "      <td>129049</td>\n",
       "      <td>cocksucker\\n\\n________________________________...</td>\n",
       "      <td>0.899864</td>\n",
       "      <td>1</td>\n",
       "      <td>0.993979</td>\n",
       "      <td>-0.094115</td>\n",
       "      <td>1</td>\n",
       "      <td>0.0</td>\n",
       "    </tr>\n",
       "    <tr>\n",
       "      <th>4</th>\n",
       "      <td>129148</td>\n",
       "      <td>2_5</td>\n",
       "      <td>129148</td>\n",
       "      <td>Robert, Here are the two messages from \"Jef...</td>\n",
       "      <td>0.921922</td>\n",
       "      <td>1</td>\n",
       "      <td>0.945573</td>\n",
       "      <td>-0.023651</td>\n",
       "      <td>1</td>\n",
       "      <td>0.0</td>\n",
       "    </tr>\n",
       "    <tr>\n",
       "      <th>5</th>\n",
       "      <td>129162</td>\n",
       "      <td>2_6</td>\n",
       "      <td>129162</td>\n",
       "      <td>wow, three weeks away from the kids ! brave an...</td>\n",
       "      <td>0.651947</td>\n",
       "      <td>1</td>\n",
       "      <td>0.039729</td>\n",
       "      <td>0.612218</td>\n",
       "      <td>0</td>\n",
       "      <td>1.0</td>\n",
       "    </tr>\n",
       "    <tr>\n",
       "      <th>6</th>\n",
       "      <td>129165</td>\n",
       "      <td>2_7</td>\n",
       "      <td>129165</td>\n",
       "      <td>\\ngot this from late friday. have you ever hea...</td>\n",
       "      <td>0.947561</td>\n",
       "      <td>1</td>\n",
       "      <td>0.993283</td>\n",
       "      <td>-0.045723</td>\n",
       "      <td>1</td>\n",
       "      <td>0.0</td>\n",
       "    </tr>\n",
       "    <tr>\n",
       "      <th>7</th>\n",
       "      <td>129216</td>\n",
       "      <td>2_8</td>\n",
       "      <td>129216</td>\n",
       "      <td>\\n\\n -----Original Message-----\\nFrom: \\tJai H...</td>\n",
       "      <td>0.844380</td>\n",
       "      <td>1</td>\n",
       "      <td>0.450718</td>\n",
       "      <td>0.393662</td>\n",
       "      <td>1</td>\n",
       "      <td>0.0</td>\n",
       "    </tr>\n",
       "    <tr>\n",
       "      <th>8</th>\n",
       "      <td>129653</td>\n",
       "      <td>2_9</td>\n",
       "      <td>129653</td>\n",
       "      <td>Let's shoot for Tuesday at 11:45.</td>\n",
       "      <td>0.625494</td>\n",
       "      <td>1</td>\n",
       "      <td>0.000161</td>\n",
       "      <td>0.625334</td>\n",
       "      <td>0</td>\n",
       "      <td>0.0</td>\n",
       "    </tr>\n",
       "    <tr>\n",
       "      <th>9</th>\n",
       "      <td>130100</td>\n",
       "      <td>2_10</td>\n",
       "      <td>130100</td>\n",
       "      <td>Let's shoot for Tuesday at 11:45.</td>\n",
       "      <td>0.625494</td>\n",
       "      <td>1</td>\n",
       "      <td>0.000161</td>\n",
       "      <td>0.625334</td>\n",
       "      <td>0</td>\n",
       "      <td>0.0</td>\n",
       "    </tr>\n",
       "    <tr>\n",
       "      <th>10</th>\n",
       "      <td>130149</td>\n",
       "      <td>2_11</td>\n",
       "      <td>130149</td>\n",
       "      <td>You didnt realize I was such a fucking bigshot...</td>\n",
       "      <td>-1.000000</td>\n",
       "      <td>0</td>\n",
       "      <td>0.831258</td>\n",
       "      <td>-1.831258</td>\n",
       "      <td>1</td>\n",
       "      <td>0.0</td>\n",
       "    </tr>\n",
       "    <tr>\n",
       "      <th>11</th>\n",
       "      <td>130177</td>\n",
       "      <td>2_12</td>\n",
       "      <td>130177</td>\n",
       "      <td>eat shit\\n\\n\\n\\n\\nJohn J Lavorato@ENRON\\n11/18...</td>\n",
       "      <td>-1.000000</td>\n",
       "      <td>0</td>\n",
       "      <td>0.881216</td>\n",
       "      <td>-1.881216</td>\n",
       "      <td>1</td>\n",
       "      <td>0.0</td>\n",
       "    </tr>\n",
       "    <tr>\n",
       "      <th>12</th>\n",
       "      <td>130213</td>\n",
       "      <td>2_13</td>\n",
       "      <td>130213</td>\n",
       "      <td>welcome to the world of electronic market maki...</td>\n",
       "      <td>0.870940</td>\n",
       "      <td>1</td>\n",
       "      <td>0.779525</td>\n",
       "      <td>0.091415</td>\n",
       "      <td>1</td>\n",
       "      <td>0.0</td>\n",
       "    </tr>\n",
       "    <tr>\n",
       "      <th>13</th>\n",
       "      <td>130220</td>\n",
       "      <td>2_14</td>\n",
       "      <td>130220</td>\n",
       "      <td>fuck you\\n\\n\\n\\n\\n&lt;mn49@msn.com&gt; on 04/16/2001...</td>\n",
       "      <td>0.714343</td>\n",
       "      <td>1</td>\n",
       "      <td>0.957809</td>\n",
       "      <td>-0.243466</td>\n",
       "      <td>1</td>\n",
       "      <td>0.0</td>\n",
       "    </tr>\n",
       "    <tr>\n",
       "      <th>14</th>\n",
       "      <td>130221</td>\n",
       "      <td>2_15</td>\n",
       "      <td>130221</td>\n",
       "      <td>fuck you\\n\\n\\n\\n\\n239b3989d@msn.com on 04/14/2...</td>\n",
       "      <td>0.738868</td>\n",
       "      <td>1</td>\n",
       "      <td>0.941268</td>\n",
       "      <td>-0.202400</td>\n",
       "      <td>1</td>\n",
       "      <td>0.0</td>\n",
       "    </tr>\n",
       "    <tr>\n",
       "      <th>15</th>\n",
       "      <td>130222</td>\n",
       "      <td>2_16</td>\n",
       "      <td>130222</td>\n",
       "      <td>fuck you\\n\\n\\n\\n\\ny6qa@msn.com on 04/15/2001 0...</td>\n",
       "      <td>0.766442</td>\n",
       "      <td>1</td>\n",
       "      <td>0.967910</td>\n",
       "      <td>-0.201469</td>\n",
       "      <td>1</td>\n",
       "      <td>0.0</td>\n",
       "    </tr>\n",
       "    <tr>\n",
       "      <th>16</th>\n",
       "      <td>130295</td>\n",
       "      <td>2_17</td>\n",
       "      <td>130295</td>\n",
       "      <td>sorry i've taken so long...just been trying to...</td>\n",
       "      <td>0.903446</td>\n",
       "      <td>1</td>\n",
       "      <td>0.987422</td>\n",
       "      <td>-0.083976</td>\n",
       "      <td>1</td>\n",
       "      <td>0.0</td>\n",
       "    </tr>\n",
       "    <tr>\n",
       "      <th>17</th>\n",
       "      <td>130308</td>\n",
       "      <td>2_18</td>\n",
       "      <td>130308</td>\n",
       "      <td>---------------------- Forwarded by John Arnol...</td>\n",
       "      <td>0.738868</td>\n",
       "      <td>1</td>\n",
       "      <td>0.392666</td>\n",
       "      <td>0.346202</td>\n",
       "      <td>0</td>\n",
       "      <td>0.0</td>\n",
       "    </tr>\n",
       "    <tr>\n",
       "      <th>18</th>\n",
       "      <td>130362</td>\n",
       "      <td>2_19</td>\n",
       "      <td>130362</td>\n",
       "      <td>get lost</td>\n",
       "      <td>-1.000000</td>\n",
       "      <td>0</td>\n",
       "      <td>0.907273</td>\n",
       "      <td>-1.907273</td>\n",
       "      <td>1</td>\n",
       "      <td>0.0</td>\n",
       "    </tr>\n",
       "    <tr>\n",
       "      <th>19</th>\n",
       "      <td>130405</td>\n",
       "      <td>2_20</td>\n",
       "      <td>130405</td>\n",
       "      <td>I'm actually trying to go through all my email...</td>\n",
       "      <td>0.562028</td>\n",
       "      <td>0</td>\n",
       "      <td>0.649343</td>\n",
       "      <td>-0.087315</td>\n",
       "      <td>0</td>\n",
       "      <td>0.0</td>\n",
       "    </tr>\n",
       "    <tr>\n",
       "      <th>20</th>\n",
       "      <td>130606</td>\n",
       "      <td>2_21</td>\n",
       "      <td>130606</td>\n",
       "      <td>piss off you should thank me.  i'll call you l...</td>\n",
       "      <td>0.680319</td>\n",
       "      <td>1</td>\n",
       "      <td>0.810000</td>\n",
       "      <td>-0.129682</td>\n",
       "      <td>0</td>\n",
       "      <td>0.0</td>\n",
       "    </tr>\n",
       "    <tr>\n",
       "      <th>21</th>\n",
       "      <td>130634</td>\n",
       "      <td>2_22</td>\n",
       "      <td>130634</td>\n",
       "      <td>ha!ha! aren't you funny. looking.\\n\\n-----Orig...</td>\n",
       "      <td>-1.000000</td>\n",
       "      <td>0</td>\n",
       "      <td>0.573072</td>\n",
       "      <td>-1.573072</td>\n",
       "      <td>1</td>\n",
       "      <td>0.0</td>\n",
       "    </tr>\n",
       "    <tr>\n",
       "      <th>22</th>\n",
       "      <td>130646</td>\n",
       "      <td>2_23</td>\n",
       "      <td>130646</td>\n",
       "      <td>thanks smart ass.. let me know when this chang...</td>\n",
       "      <td>-1.000000</td>\n",
       "      <td>0</td>\n",
       "      <td>0.518486</td>\n",
       "      <td>-1.518486</td>\n",
       "      <td>0</td>\n",
       "      <td>1.0</td>\n",
       "    </tr>\n",
       "    <tr>\n",
       "      <th>23</th>\n",
       "      <td>130762</td>\n",
       "      <td>2_24</td>\n",
       "      <td>130762</td>\n",
       "      <td>again, asshole.\\n\\n -----Original Message-----...</td>\n",
       "      <td>0.927032</td>\n",
       "      <td>1</td>\n",
       "      <td>0.968397</td>\n",
       "      <td>-0.041365</td>\n",
       "      <td>1</td>\n",
       "      <td>0.0</td>\n",
       "    </tr>\n",
       "    <tr>\n",
       "      <th>24</th>\n",
       "      <td>130786</td>\n",
       "      <td>2_25</td>\n",
       "      <td>130786</td>\n",
       "      <td>This was sent to me from my friend who works a...</td>\n",
       "      <td>0.637914</td>\n",
       "      <td>1</td>\n",
       "      <td>0.002406</td>\n",
       "      <td>0.635507</td>\n",
       "      <td>0</td>\n",
       "      <td>0.0</td>\n",
       "    </tr>\n",
       "    <tr>\n",
       "      <th>25</th>\n",
       "      <td>130944</td>\n",
       "      <td>2_26</td>\n",
       "      <td>130944</td>\n",
       "      <td>fuck you\\n\\n\\n\\n\\n239b3989d@msn.com on 04/14/2...</td>\n",
       "      <td>-1.000000</td>\n",
       "      <td>0</td>\n",
       "      <td>0.941268</td>\n",
       "      <td>-1.941268</td>\n",
       "      <td>1</td>\n",
       "      <td>0.0</td>\n",
       "    </tr>\n",
       "    <tr>\n",
       "      <th>26</th>\n",
       "      <td>131001</td>\n",
       "      <td>2_27</td>\n",
       "      <td>131001</td>\n",
       "      <td>hey stupid:\\ndo you know if jason ever signed ...</td>\n",
       "      <td>-1.000000</td>\n",
       "      <td>0</td>\n",
       "      <td>0.972305</td>\n",
       "      <td>-1.972305</td>\n",
       "      <td>1</td>\n",
       "      <td>0.0</td>\n",
       "    </tr>\n",
       "    <tr>\n",
       "      <th>27</th>\n",
       "      <td>131002</td>\n",
       "      <td>2_28</td>\n",
       "      <td>131002</td>\n",
       "      <td>are you going to blow me off for dinner again ...</td>\n",
       "      <td>-1.000000</td>\n",
       "      <td>0</td>\n",
       "      <td>0.604432</td>\n",
       "      <td>-1.604432</td>\n",
       "      <td>0</td>\n",
       "      <td>0.0</td>\n",
       "    </tr>\n",
       "    <tr>\n",
       "      <th>28</th>\n",
       "      <td>131111</td>\n",
       "      <td>2_29</td>\n",
       "      <td>131111</td>\n",
       "      <td>I think we're sneaking out early to get a beer...</td>\n",
       "      <td>-1.000000</td>\n",
       "      <td>0</td>\n",
       "      <td>0.932444</td>\n",
       "      <td>-1.932444</td>\n",
       "      <td>1</td>\n",
       "      <td>0.0</td>\n",
       "    </tr>\n",
       "    <tr>\n",
       "      <th>29</th>\n",
       "      <td>131149</td>\n",
       "      <td>2_30</td>\n",
       "      <td>131149</td>\n",
       "      <td>I'm actually trying to go through all my email...</td>\n",
       "      <td>0.562028</td>\n",
       "      <td>0</td>\n",
       "      <td>0.649343</td>\n",
       "      <td>-0.087315</td>\n",
       "      <td>0</td>\n",
       "      <td>0.0</td>\n",
       "    </tr>\n",
       "    <tr>\n",
       "      <th>...</th>\n",
       "      <td>...</td>\n",
       "      <td>...</td>\n",
       "      <td>...</td>\n",
       "      <td>...</td>\n",
       "      <td>...</td>\n",
       "      <td>...</td>\n",
       "      <td>...</td>\n",
       "      <td>...</td>\n",
       "      <td>...</td>\n",
       "      <td>...</td>\n",
       "    </tr>\n",
       "    <tr>\n",
       "      <th>776</th>\n",
       "      <td>261434</td>\n",
       "      <td>2_777</td>\n",
       "      <td>261434</td>\n",
       "      <td>i repeat, uou have no offer?\\n\\n\\nTo: Eric Bas...</td>\n",
       "      <td>0.661263</td>\n",
       "      <td>1</td>\n",
       "      <td>0.116616</td>\n",
       "      <td>0.544647</td>\n",
       "      <td>1</td>\n",
       "      <td>0.0</td>\n",
       "    </tr>\n",
       "    <tr>\n",
       "      <th>777</th>\n",
       "      <td>261459</td>\n",
       "      <td>2_778</td>\n",
       "      <td>261459</td>\n",
       "      <td>there have only been 2 (both by matt) is 1,14 ...</td>\n",
       "      <td>0.706307</td>\n",
       "      <td>1</td>\n",
       "      <td>0.167773</td>\n",
       "      <td>0.538534</td>\n",
       "      <td>1</td>\n",
       "      <td>0.0</td>\n",
       "    </tr>\n",
       "    <tr>\n",
       "      <th>778</th>\n",
       "      <td>261470</td>\n",
       "      <td>2_779</td>\n",
       "      <td>261470</td>\n",
       "      <td>looks like classes begin aug 14.\\n\\n\\n\\n\\nTo:...</td>\n",
       "      <td>0.666343</td>\n",
       "      <td>1</td>\n",
       "      <td>0.168539</td>\n",
       "      <td>0.497805</td>\n",
       "      <td>1</td>\n",
       "      <td>0.0</td>\n",
       "    </tr>\n",
       "    <tr>\n",
       "      <th>779</th>\n",
       "      <td>261471</td>\n",
       "      <td>2_780</td>\n",
       "      <td>261471</td>\n",
       "      <td>i'm going to kick your ass at practice just li...</td>\n",
       "      <td>0.766442</td>\n",
       "      <td>1</td>\n",
       "      <td>0.836907</td>\n",
       "      <td>-0.070466</td>\n",
       "      <td>1</td>\n",
       "      <td>0.0</td>\n",
       "    </tr>\n",
       "    <tr>\n",
       "      <th>780</th>\n",
       "      <td>261482</td>\n",
       "      <td>2_781</td>\n",
       "      <td>261482</td>\n",
       "      <td>attitude\\n\\n\\n\\n\\nShanna Husser@ENRON\\n05/25/2...</td>\n",
       "      <td>0.760945</td>\n",
       "      <td>1</td>\n",
       "      <td>0.000567</td>\n",
       "      <td>0.760378</td>\n",
       "      <td>1</td>\n",
       "      <td>0.0</td>\n",
       "    </tr>\n",
       "    <tr>\n",
       "      <th>781</th>\n",
       "      <td>261517</td>\n",
       "      <td>2_782</td>\n",
       "      <td>261517</td>\n",
       "      <td>asshole\\n\\n\\n   \\n\\tEnron North America Corp.\\...</td>\n",
       "      <td>0.901607</td>\n",
       "      <td>1</td>\n",
       "      <td>0.921897</td>\n",
       "      <td>-0.020291</td>\n",
       "      <td>1</td>\n",
       "      <td>0.0</td>\n",
       "    </tr>\n",
       "    <tr>\n",
       "      <th>782</th>\n",
       "      <td>261525</td>\n",
       "      <td>2_783</td>\n",
       "      <td>261525</td>\n",
       "      <td>shut the fuck up!\\n\\n\\n   \\n\\tEnron North Amer...</td>\n",
       "      <td>0.912190</td>\n",
       "      <td>1</td>\n",
       "      <td>0.983774</td>\n",
       "      <td>-0.071584</td>\n",
       "      <td>1</td>\n",
       "      <td>0.0</td>\n",
       "    </tr>\n",
       "    <tr>\n",
       "      <th>783</th>\n",
       "      <td>261529</td>\n",
       "      <td>2_784</td>\n",
       "      <td>261529</td>\n",
       "      <td>What are you talking about?  You sent me some ...</td>\n",
       "      <td>0.836472</td>\n",
       "      <td>1</td>\n",
       "      <td>0.927092</td>\n",
       "      <td>-0.090620</td>\n",
       "      <td>1</td>\n",
       "      <td>0.0</td>\n",
       "    </tr>\n",
       "    <tr>\n",
       "      <th>784</th>\n",
       "      <td>261559</td>\n",
       "      <td>2_785</td>\n",
       "      <td>261559</td>\n",
       "      <td>Do you believe that your RBs suck now?  Do you...</td>\n",
       "      <td>0.877272</td>\n",
       "      <td>1</td>\n",
       "      <td>0.949638</td>\n",
       "      <td>-0.072367</td>\n",
       "      <td>0</td>\n",
       "      <td>0.0</td>\n",
       "    </tr>\n",
       "    <tr>\n",
       "      <th>785</th>\n",
       "      <td>261569</td>\n",
       "      <td>2_786</td>\n",
       "      <td>261569</td>\n",
       "      <td>damn, boy.  you're getting punked out!\\n\\n\\n\\n...</td>\n",
       "      <td>0.906157</td>\n",
       "      <td>1</td>\n",
       "      <td>0.984888</td>\n",
       "      <td>-0.078731</td>\n",
       "      <td>1</td>\n",
       "      <td>0.0</td>\n",
       "    </tr>\n",
       "    <tr>\n",
       "      <th>786</th>\n",
       "      <td>261611</td>\n",
       "      <td>2_787</td>\n",
       "      <td>261611</td>\n",
       "      <td>kiss my ass now bitch!\\n\\n\\n   \\n\\n\\nFrom:  Br...</td>\n",
       "      <td>0.905512</td>\n",
       "      <td>1</td>\n",
       "      <td>0.992139</td>\n",
       "      <td>-0.086627</td>\n",
       "      <td>1</td>\n",
       "      <td>0.0</td>\n",
       "    </tr>\n",
       "    <tr>\n",
       "      <th>787</th>\n",
       "      <td>261615</td>\n",
       "      <td>2_788</td>\n",
       "      <td>261615</td>\n",
       "      <td>You're right. We cheated by trying to screw ev...</td>\n",
       "      <td>0.627757</td>\n",
       "      <td>1</td>\n",
       "      <td>0.071167</td>\n",
       "      <td>0.556590</td>\n",
       "      <td>1</td>\n",
       "      <td>0.0</td>\n",
       "    </tr>\n",
       "    <tr>\n",
       "      <th>788</th>\n",
       "      <td>261631</td>\n",
       "      <td>2_789</td>\n",
       "      <td>261631</td>\n",
       "      <td>you know that all of us (Matt, Chad, and I)are...</td>\n",
       "      <td>0.665536</td>\n",
       "      <td>1</td>\n",
       "      <td>0.910725</td>\n",
       "      <td>-0.245189</td>\n",
       "      <td>1</td>\n",
       "      <td>0.0</td>\n",
       "    </tr>\n",
       "    <tr>\n",
       "      <th>789</th>\n",
       "      <td>261660</td>\n",
       "      <td>2_790</td>\n",
       "      <td>261660</td>\n",
       "      <td>is there a problem with that?\\n\\ni'd be mad to...</td>\n",
       "      <td>0.714343</td>\n",
       "      <td>1</td>\n",
       "      <td>0.460261</td>\n",
       "      <td>0.254082</td>\n",
       "      <td>1</td>\n",
       "      <td>0.0</td>\n",
       "    </tr>\n",
       "    <tr>\n",
       "      <th>790</th>\n",
       "      <td>261669</td>\n",
       "      <td>2_791</td>\n",
       "      <td>261669</td>\n",
       "      <td>What the fuck is up with that?\\n--------------...</td>\n",
       "      <td>0.615840</td>\n",
       "      <td>1</td>\n",
       "      <td>0.901986</td>\n",
       "      <td>-0.286147</td>\n",
       "      <td>1</td>\n",
       "      <td>0.0</td>\n",
       "    </tr>\n",
       "    <tr>\n",
       "      <th>791</th>\n",
       "      <td>261691</td>\n",
       "      <td>2_792</td>\n",
       "      <td>261691</td>\n",
       "      <td>thats fine - just let me know when.  Afternoon...</td>\n",
       "      <td>0.607978</td>\n",
       "      <td>1</td>\n",
       "      <td>0.004781</td>\n",
       "      <td>0.603197</td>\n",
       "      <td>0</td>\n",
       "      <td>0.0</td>\n",
       "    </tr>\n",
       "    <tr>\n",
       "      <th>792</th>\n",
       "      <td>261863</td>\n",
       "      <td>2_793</td>\n",
       "      <td>261863</td>\n",
       "      <td>&gt;Dr. Suess on the Election:\\n&gt;Can we count the...</td>\n",
       "      <td>0.607978</td>\n",
       "      <td>1</td>\n",
       "      <td>0.060692</td>\n",
       "      <td>0.547286</td>\n",
       "      <td>1</td>\n",
       "      <td>0.0</td>\n",
       "    </tr>\n",
       "    <tr>\n",
       "      <th>793</th>\n",
       "      <td>261934</td>\n",
       "      <td>2_794</td>\n",
       "      <td>261934</td>\n",
       "      <td>Damn it all to hell!\\n\\nWhat are you doing wit...</td>\n",
       "      <td>0.417234</td>\n",
       "      <td>0</td>\n",
       "      <td>0.657352</td>\n",
       "      <td>-0.240118</td>\n",
       "      <td>1</td>\n",
       "      <td>0.0</td>\n",
       "    </tr>\n",
       "    <tr>\n",
       "      <th>794</th>\n",
       "      <td>262000</td>\n",
       "      <td>2_795</td>\n",
       "      <td>262000</td>\n",
       "      <td>---------------------- Forwarded by Eric Bass/...</td>\n",
       "      <td>0.826073</td>\n",
       "      <td>1</td>\n",
       "      <td>0.000265</td>\n",
       "      <td>0.825808</td>\n",
       "      <td>1</td>\n",
       "      <td>0.0</td>\n",
       "    </tr>\n",
       "    <tr>\n",
       "      <th>795</th>\n",
       "      <td>262003</td>\n",
       "      <td>2_796</td>\n",
       "      <td>262003</td>\n",
       "      <td>Are we really going to stay at the shithole ho...</td>\n",
       "      <td>0.741443</td>\n",
       "      <td>1</td>\n",
       "      <td>0.038344</td>\n",
       "      <td>0.703098</td>\n",
       "      <td>0</td>\n",
       "      <td>1.0</td>\n",
       "    </tr>\n",
       "    <tr>\n",
       "      <th>796</th>\n",
       "      <td>262016</td>\n",
       "      <td>2_797</td>\n",
       "      <td>262016</td>\n",
       "      <td>http://www.oklahoman.com/cgi-bin/show_article?...</td>\n",
       "      <td>0.879593</td>\n",
       "      <td>1</td>\n",
       "      <td>0.726696</td>\n",
       "      <td>0.152897</td>\n",
       "      <td>1</td>\n",
       "      <td>0.0</td>\n",
       "    </tr>\n",
       "    <tr>\n",
       "      <th>797</th>\n",
       "      <td>262019</td>\n",
       "      <td>2_798</td>\n",
       "      <td>262019</td>\n",
       "      <td>do you want to go beat the crap out of some OU...</td>\n",
       "      <td>0.665536</td>\n",
       "      <td>1</td>\n",
       "      <td>0.234648</td>\n",
       "      <td>0.430888</td>\n",
       "      <td>1</td>\n",
       "      <td>0.0</td>\n",
       "    </tr>\n",
       "    <tr>\n",
       "      <th>798</th>\n",
       "      <td>262034</td>\n",
       "      <td>2_799</td>\n",
       "      <td>262034</td>\n",
       "      <td>Your WRs are terrible - let me help you out</td>\n",
       "      <td>0.811787</td>\n",
       "      <td>1</td>\n",
       "      <td>0.065542</td>\n",
       "      <td>0.746245</td>\n",
       "      <td>1</td>\n",
       "      <td>0.0</td>\n",
       "    </tr>\n",
       "    <tr>\n",
       "      <th>799</th>\n",
       "      <td>262127</td>\n",
       "      <td>2_800</td>\n",
       "      <td>262127</td>\n",
       "      <td>strippers named Kandy Kane = bad . . .\\n\\nRega...</td>\n",
       "      <td>0.617479</td>\n",
       "      <td>1</td>\n",
       "      <td>0.003932</td>\n",
       "      <td>0.613547</td>\n",
       "      <td>1</td>\n",
       "      <td>0.0</td>\n",
       "    </tr>\n",
       "    <tr>\n",
       "      <th>800</th>\n",
       "      <td>262186</td>\n",
       "      <td>2_801</td>\n",
       "      <td>262186</td>\n",
       "      <td>I could have told you that...it's just like an...</td>\n",
       "      <td>0.786840</td>\n",
       "      <td>1</td>\n",
       "      <td>0.822362</td>\n",
       "      <td>-0.035522</td>\n",
       "      <td>1</td>\n",
       "      <td>0.0</td>\n",
       "    </tr>\n",
       "    <tr>\n",
       "      <th>801</th>\n",
       "      <td>262187</td>\n",
       "      <td>2_802</td>\n",
       "      <td>262187</td>\n",
       "      <td>What the fuck is up with that?\\n--------------...</td>\n",
       "      <td>0.615840</td>\n",
       "      <td>1</td>\n",
       "      <td>0.901986</td>\n",
       "      <td>-0.286147</td>\n",
       "      <td>1</td>\n",
       "      <td>0.0</td>\n",
       "    </tr>\n",
       "    <tr>\n",
       "      <th>802</th>\n",
       "      <td>262258</td>\n",
       "      <td>2_803</td>\n",
       "      <td>262258</td>\n",
       "      <td>damn . . .\\nare you going to take that\\n\\n----...</td>\n",
       "      <td>0.600986</td>\n",
       "      <td>1</td>\n",
       "      <td>0.212978</td>\n",
       "      <td>0.388008</td>\n",
       "      <td>1</td>\n",
       "      <td>0.0</td>\n",
       "    </tr>\n",
       "    <tr>\n",
       "      <th>803</th>\n",
       "      <td>262318</td>\n",
       "      <td>2_804</td>\n",
       "      <td>262318</td>\n",
       "      <td>your running backs suck - what do you want for...</td>\n",
       "      <td>0.796025</td>\n",
       "      <td>1</td>\n",
       "      <td>0.973549</td>\n",
       "      <td>-0.177524</td>\n",
       "      <td>1</td>\n",
       "      <td>0.0</td>\n",
       "    </tr>\n",
       "    <tr>\n",
       "      <th>804</th>\n",
       "      <td>262341</td>\n",
       "      <td>2_805</td>\n",
       "      <td>262341</td>\n",
       "      <td>http://www.oklahoman.com/cgi-bin/show_article?...</td>\n",
       "      <td>0.879593</td>\n",
       "      <td>1</td>\n",
       "      <td>0.726696</td>\n",
       "      <td>0.152897</td>\n",
       "      <td>1</td>\n",
       "      <td>0.0</td>\n",
       "    </tr>\n",
       "    <tr>\n",
       "      <th>805</th>\n",
       "      <td>262479</td>\n",
       "      <td>2_806</td>\n",
       "      <td>262479</td>\n",
       "      <td>She's probably fucking wrong!\\n---------------...</td>\n",
       "      <td>0.702157</td>\n",
       "      <td>1</td>\n",
       "      <td>0.901333</td>\n",
       "      <td>-0.199177</td>\n",
       "      <td>1</td>\n",
       "      <td>0.0</td>\n",
       "    </tr>\n",
       "  </tbody>\n",
       "</table>\n",
       "<p>806 rows × 10 columns</p>\n",
       "</div>"
      ],
      "text/plain": [
       "     Unnamed: 0     ID   OldID  \\\n",
       "0        128446    2_1  128446   \n",
       "1        128483    2_2  128483   \n",
       "2        128801    2_3  128801   \n",
       "3        129049    2_4  129049   \n",
       "4        129148    2_5  129148   \n",
       "5        129162    2_6  129162   \n",
       "6        129165    2_7  129165   \n",
       "7        129216    2_8  129216   \n",
       "8        129653    2_9  129653   \n",
       "9        130100   2_10  130100   \n",
       "10       130149   2_11  130149   \n",
       "11       130177   2_12  130177   \n",
       "12       130213   2_13  130213   \n",
       "13       130220   2_14  130220   \n",
       "14       130221   2_15  130221   \n",
       "15       130222   2_16  130222   \n",
       "16       130295   2_17  130295   \n",
       "17       130308   2_18  130308   \n",
       "18       130362   2_19  130362   \n",
       "19       130405   2_20  130405   \n",
       "20       130606   2_21  130606   \n",
       "21       130634   2_22  130634   \n",
       "22       130646   2_23  130646   \n",
       "23       130762   2_24  130762   \n",
       "24       130786   2_25  130786   \n",
       "25       130944   2_26  130944   \n",
       "26       131001   2_27  131001   \n",
       "27       131002   2_28  131002   \n",
       "28       131111   2_29  131111   \n",
       "29       131149   2_30  131149   \n",
       "..          ...    ...     ...   \n",
       "776      261434  2_777  261434   \n",
       "777      261459  2_778  261459   \n",
       "778      261470  2_779  261470   \n",
       "779      261471  2_780  261471   \n",
       "780      261482  2_781  261482   \n",
       "781      261517  2_782  261517   \n",
       "782      261525  2_783  261525   \n",
       "783      261529  2_784  261529   \n",
       "784      261559  2_785  261559   \n",
       "785      261569  2_786  261569   \n",
       "786      261611  2_787  261611   \n",
       "787      261615  2_788  261615   \n",
       "788      261631  2_789  261631   \n",
       "789      261660  2_790  261660   \n",
       "790      261669  2_791  261669   \n",
       "791      261691  2_792  261691   \n",
       "792      261863  2_793  261863   \n",
       "793      261934  2_794  261934   \n",
       "794      262000  2_795  262000   \n",
       "795      262003  2_796  262003   \n",
       "796      262016  2_797  262016   \n",
       "797      262019  2_798  262019   \n",
       "798      262034  2_799  262034   \n",
       "799      262127  2_800  262127   \n",
       "800      262186  2_801  262186   \n",
       "801      262187  2_802  262187   \n",
       "802      262258  2_803  262258   \n",
       "803      262318  2_804  262318   \n",
       "804      262341  2_805  262341   \n",
       "805      262479  2_806  262479   \n",
       "\n",
       "                                               content  toxicity_score  \\\n",
       "0    ---------------------- Forwarded by Dawn C Ken...        0.737657   \n",
       "1    is this true?\\n\\n -----Original Message-----\\n...        0.607978   \n",
       "2                                         YOU ARE DUMM        0.835592   \n",
       "3    cocksucker\\n\\n________________________________...        0.899864   \n",
       "4       Robert, Here are the two messages from \"Jef...        0.921922   \n",
       "5    wow, three weeks away from the kids ! brave an...        0.651947   \n",
       "6    \\ngot this from late friday. have you ever hea...        0.947561   \n",
       "7    \\n\\n -----Original Message-----\\nFrom: \\tJai H...        0.844380   \n",
       "8                  Let's shoot for Tuesday at 11:45.          0.625494   \n",
       "9                  Let's shoot for Tuesday at 11:45.          0.625494   \n",
       "10   You didnt realize I was such a fucking bigshot...       -1.000000   \n",
       "11   eat shit\\n\\n\\n\\n\\nJohn J Lavorato@ENRON\\n11/18...       -1.000000   \n",
       "12   welcome to the world of electronic market maki...        0.870940   \n",
       "13   fuck you\\n\\n\\n\\n\\n<mn49@msn.com> on 04/16/2001...        0.714343   \n",
       "14   fuck you\\n\\n\\n\\n\\n239b3989d@msn.com on 04/14/2...        0.738868   \n",
       "15   fuck you\\n\\n\\n\\n\\ny6qa@msn.com on 04/15/2001 0...        0.766442   \n",
       "16   sorry i've taken so long...just been trying to...        0.903446   \n",
       "17   ---------------------- Forwarded by John Arnol...        0.738868   \n",
       "18                                            get lost       -1.000000   \n",
       "19   I'm actually trying to go through all my email...        0.562028   \n",
       "20   piss off you should thank me.  i'll call you l...        0.680319   \n",
       "21   ha!ha! aren't you funny. looking.\\n\\n-----Orig...       -1.000000   \n",
       "22   thanks smart ass.. let me know when this chang...       -1.000000   \n",
       "23   again, asshole.\\n\\n -----Original Message-----...        0.927032   \n",
       "24   This was sent to me from my friend who works a...        0.637914   \n",
       "25   fuck you\\n\\n\\n\\n\\n239b3989d@msn.com on 04/14/2...       -1.000000   \n",
       "26   hey stupid:\\ndo you know if jason ever signed ...       -1.000000   \n",
       "27   are you going to blow me off for dinner again ...       -1.000000   \n",
       "28   I think we're sneaking out early to get a beer...       -1.000000   \n",
       "29   I'm actually trying to go through all my email...        0.562028   \n",
       "..                                                 ...             ...   \n",
       "776  i repeat, uou have no offer?\\n\\n\\nTo: Eric Bas...        0.661263   \n",
       "777  there have only been 2 (both by matt) is 1,14 ...        0.706307   \n",
       "778   looks like classes begin aug 14.\\n\\n\\n\\n\\nTo:...        0.666343   \n",
       "779  i'm going to kick your ass at practice just li...        0.766442   \n",
       "780  attitude\\n\\n\\n\\n\\nShanna Husser@ENRON\\n05/25/2...        0.760945   \n",
       "781  asshole\\n\\n\\n   \\n\\tEnron North America Corp.\\...        0.901607   \n",
       "782  shut the fuck up!\\n\\n\\n   \\n\\tEnron North Amer...        0.912190   \n",
       "783  What are you talking about?  You sent me some ...        0.836472   \n",
       "784  Do you believe that your RBs suck now?  Do you...        0.877272   \n",
       "785  damn, boy.  you're getting punked out!\\n\\n\\n\\n...        0.906157   \n",
       "786  kiss my ass now bitch!\\n\\n\\n   \\n\\n\\nFrom:  Br...        0.905512   \n",
       "787  You're right. We cheated by trying to screw ev...        0.627757   \n",
       "788  you know that all of us (Matt, Chad, and I)are...        0.665536   \n",
       "789  is there a problem with that?\\n\\ni'd be mad to...        0.714343   \n",
       "790  What the fuck is up with that?\\n--------------...        0.615840   \n",
       "791  thats fine - just let me know when.  Afternoon...        0.607978   \n",
       "792  >Dr. Suess on the Election:\\n>Can we count the...        0.607978   \n",
       "793  Damn it all to hell!\\n\\nWhat are you doing wit...        0.417234   \n",
       "794  ---------------------- Forwarded by Eric Bass/...        0.826073   \n",
       "795  Are we really going to stay at the shithole ho...        0.741443   \n",
       "796  http://www.oklahoman.com/cgi-bin/show_article?...        0.879593   \n",
       "797  do you want to go beat the crap out of some OU...        0.665536   \n",
       "798        Your WRs are terrible - let me help you out        0.811787   \n",
       "799  strippers named Kandy Kane = bad . . .\\n\\nRega...        0.617479   \n",
       "800  I could have told you that...it's just like an...        0.786840   \n",
       "801  What the fuck is up with that?\\n--------------...        0.615840   \n",
       "802  damn . . .\\nare you going to take that\\n\\n----...        0.600986   \n",
       "803  your running backs suck - what do you want for...        0.796025   \n",
       "804  http://www.oklahoman.com/cgi-bin/show_article?...        0.879593   \n",
       "805  She's probably fucking wrong!\\n---------------...        0.702157   \n",
       "\n",
       "     toxicity  inferred_results  difference  supermod  second_opinion  \n",
       "0           1          0.000155    0.737502         1             0.0  \n",
       "1           1          0.071331    0.536647         1             0.0  \n",
       "2           1          0.447277    0.388316         1             0.0  \n",
       "3           1          0.993979   -0.094115         1             0.0  \n",
       "4           1          0.945573   -0.023651         1             0.0  \n",
       "5           1          0.039729    0.612218         0             1.0  \n",
       "6           1          0.993283   -0.045723         1             0.0  \n",
       "7           1          0.450718    0.393662         1             0.0  \n",
       "8           1          0.000161    0.625334         0             0.0  \n",
       "9           1          0.000161    0.625334         0             0.0  \n",
       "10          0          0.831258   -1.831258         1             0.0  \n",
       "11          0          0.881216   -1.881216         1             0.0  \n",
       "12          1          0.779525    0.091415         1             0.0  \n",
       "13          1          0.957809   -0.243466         1             0.0  \n",
       "14          1          0.941268   -0.202400         1             0.0  \n",
       "15          1          0.967910   -0.201469         1             0.0  \n",
       "16          1          0.987422   -0.083976         1             0.0  \n",
       "17          1          0.392666    0.346202         0             0.0  \n",
       "18          0          0.907273   -1.907273         1             0.0  \n",
       "19          0          0.649343   -0.087315         0             0.0  \n",
       "20          1          0.810000   -0.129682         0             0.0  \n",
       "21          0          0.573072   -1.573072         1             0.0  \n",
       "22          0          0.518486   -1.518486         0             1.0  \n",
       "23          1          0.968397   -0.041365         1             0.0  \n",
       "24          1          0.002406    0.635507         0             0.0  \n",
       "25          0          0.941268   -1.941268         1             0.0  \n",
       "26          0          0.972305   -1.972305         1             0.0  \n",
       "27          0          0.604432   -1.604432         0             0.0  \n",
       "28          0          0.932444   -1.932444         1             0.0  \n",
       "29          0          0.649343   -0.087315         0             0.0  \n",
       "..        ...               ...         ...       ...             ...  \n",
       "776         1          0.116616    0.544647         1             0.0  \n",
       "777         1          0.167773    0.538534         1             0.0  \n",
       "778         1          0.168539    0.497805         1             0.0  \n",
       "779         1          0.836907   -0.070466         1             0.0  \n",
       "780         1          0.000567    0.760378         1             0.0  \n",
       "781         1          0.921897   -0.020291         1             0.0  \n",
       "782         1          0.983774   -0.071584         1             0.0  \n",
       "783         1          0.927092   -0.090620         1             0.0  \n",
       "784         1          0.949638   -0.072367         0             0.0  \n",
       "785         1          0.984888   -0.078731         1             0.0  \n",
       "786         1          0.992139   -0.086627         1             0.0  \n",
       "787         1          0.071167    0.556590         1             0.0  \n",
       "788         1          0.910725   -0.245189         1             0.0  \n",
       "789         1          0.460261    0.254082         1             0.0  \n",
       "790         1          0.901986   -0.286147         1             0.0  \n",
       "791         1          0.004781    0.603197         0             0.0  \n",
       "792         1          0.060692    0.547286         1             0.0  \n",
       "793         0          0.657352   -0.240118         1             0.0  \n",
       "794         1          0.000265    0.825808         1             0.0  \n",
       "795         1          0.038344    0.703098         0             1.0  \n",
       "796         1          0.726696    0.152897         1             0.0  \n",
       "797         1          0.234648    0.430888         1             0.0  \n",
       "798         1          0.065542    0.746245         1             0.0  \n",
       "799         1          0.003932    0.613547         1             0.0  \n",
       "800         1          0.822362   -0.035522         1             0.0  \n",
       "801         1          0.901986   -0.286147         1             0.0  \n",
       "802         1          0.212978    0.388008         1             0.0  \n",
       "803         1          0.973549   -0.177524         1             0.0  \n",
       "804         1          0.726696    0.152897         1             0.0  \n",
       "805         1          0.901333   -0.199177         1             0.0  \n",
       "\n",
       "[806 rows x 10 columns]"
      ]
     },
     "execution_count": 260,
     "metadata": {},
     "output_type": "execute_result"
    }
   ],
   "source": [
    "enron_sentdata"
   ]
  },
  {
   "cell_type": "code",
   "execution_count": null,
   "metadata": {},
   "outputs": [],
   "source": []
  }
 ],
 "metadata": {
  "kernelspec": {
   "display_name": "Python 3",
   "language": "python",
   "name": "python3"
  },
  "language_info": {
   "codemirror_mode": {
    "name": "ipython",
    "version": 3
   },
   "file_extension": ".py",
   "mimetype": "text/x-python",
   "name": "python",
   "nbconvert_exporter": "python",
   "pygments_lexer": "ipython3",
   "version": "3.6.8"
  }
 },
 "nbformat": 4,
 "nbformat_minor": 2
}
